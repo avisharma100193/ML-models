{
 "cells": [
  {
   "cell_type": "markdown",
   "id": "4c4e0920",
   "metadata": {},
   "source": [
    "# HecoAnalytics (Mining Clinical Pathways)"
   ]
  },
  {
   "cell_type": "markdown",
   "id": "92e73d77",
   "metadata": {},
   "source": [
    "### STEP-1. Installing and Importing the necessary libraries is the first and most important step before performing any operation with the code."
   ]
  },
  {
   "cell_type": "code",
   "execution_count": 1,
   "id": "01e4c829",
   "metadata": {},
   "outputs": [
    {
     "name": "stdout",
     "output_type": "stream",
     "text": [
      "Requirement already satisfied: mlxtend in /Users/avisharma/opt/anaconda3/lib/python3.9/site-packages (0.21.0)\n",
      "Requirement already satisfied: scikit-learn>=1.0.2 in /Users/avisharma/opt/anaconda3/lib/python3.9/site-packages (from mlxtend) (1.0.2)\n",
      "Requirement already satisfied: scipy>=1.2.1 in /Users/avisharma/opt/anaconda3/lib/python3.9/site-packages (from mlxtend) (1.9.1)\n",
      "Requirement already satisfied: matplotlib>=3.0.0 in /Users/avisharma/opt/anaconda3/lib/python3.9/site-packages (from mlxtend) (3.5.2)\n",
      "Requirement already satisfied: numpy>=1.16.2 in /Users/avisharma/opt/anaconda3/lib/python3.9/site-packages (from mlxtend) (1.21.5)\n",
      "Requirement already satisfied: setuptools in /Users/avisharma/opt/anaconda3/lib/python3.9/site-packages (from mlxtend) (63.4.1)\n",
      "Requirement already satisfied: pandas>=0.24.2 in /Users/avisharma/opt/anaconda3/lib/python3.9/site-packages (from mlxtend) (1.4.4)\n",
      "Requirement already satisfied: joblib>=0.13.2 in /Users/avisharma/opt/anaconda3/lib/python3.9/site-packages (from mlxtend) (1.1.0)\n",
      "Requirement already satisfied: pillow>=6.2.0 in /Users/avisharma/opt/anaconda3/lib/python3.9/site-packages (from matplotlib>=3.0.0->mlxtend) (9.2.0)\n",
      "Requirement already satisfied: cycler>=0.10 in /Users/avisharma/opt/anaconda3/lib/python3.9/site-packages (from matplotlib>=3.0.0->mlxtend) (0.11.0)\n",
      "Requirement already satisfied: packaging>=20.0 in /Users/avisharma/opt/anaconda3/lib/python3.9/site-packages (from matplotlib>=3.0.0->mlxtend) (21.3)\n",
      "Requirement already satisfied: pyparsing>=2.2.1 in /Users/avisharma/opt/anaconda3/lib/python3.9/site-packages (from matplotlib>=3.0.0->mlxtend) (3.0.9)\n",
      "Requirement already satisfied: fonttools>=4.22.0 in /Users/avisharma/opt/anaconda3/lib/python3.9/site-packages (from matplotlib>=3.0.0->mlxtend) (4.25.0)\n",
      "Requirement already satisfied: python-dateutil>=2.7 in /Users/avisharma/opt/anaconda3/lib/python3.9/site-packages (from matplotlib>=3.0.0->mlxtend) (2.8.2)\n",
      "Requirement already satisfied: kiwisolver>=1.0.1 in /Users/avisharma/opt/anaconda3/lib/python3.9/site-packages (from matplotlib>=3.0.0->mlxtend) (1.4.2)\n",
      "Requirement already satisfied: pytz>=2020.1 in /Users/avisharma/opt/anaconda3/lib/python3.9/site-packages (from pandas>=0.24.2->mlxtend) (2022.1)\n",
      "Requirement already satisfied: threadpoolctl>=2.0.0 in /Users/avisharma/opt/anaconda3/lib/python3.9/site-packages (from scikit-learn>=1.0.2->mlxtend) (2.2.0)\n",
      "Requirement already satisfied: six>=1.5 in /Users/avisharma/opt/anaconda3/lib/python3.9/site-packages (from python-dateutil>=2.7->matplotlib>=3.0.0->mlxtend) (1.16.0)\n",
      "Note: you may need to restart the kernel to use updated packages.\n",
      "Requirement already satisfied: apriori in /Users/avisharma/opt/anaconda3/lib/python3.9/site-packages (1.0.0)\n",
      "Note: you may need to restart the kernel to use updated packages.\n",
      "Requirement already satisfied: pandas in /Users/avisharma/opt/anaconda3/lib/python3.9/site-packages (1.4.4)\n",
      "Requirement already satisfied: python-dateutil>=2.8.1 in /Users/avisharma/opt/anaconda3/lib/python3.9/site-packages (from pandas) (2.8.2)\n",
      "Requirement already satisfied: pytz>=2020.1 in /Users/avisharma/opt/anaconda3/lib/python3.9/site-packages (from pandas) (2022.1)\n",
      "Requirement already satisfied: numpy>=1.18.5 in /Users/avisharma/opt/anaconda3/lib/python3.9/site-packages (from pandas) (1.21.5)\n",
      "Requirement already satisfied: six>=1.5 in /Users/avisharma/opt/anaconda3/lib/python3.9/site-packages (from python-dateutil>=2.8.1->pandas) (1.16.0)\n",
      "Note: you may need to restart the kernel to use updated packages.\n",
      "Requirement already satisfied: numpy in /Users/avisharma/opt/anaconda3/lib/python3.9/site-packages (1.21.5)\n",
      "Note: you may need to restart the kernel to use updated packages.\n",
      "Requirement already satisfied: plotly in /Users/avisharma/opt/anaconda3/lib/python3.9/site-packages (5.9.0)\n",
      "Requirement already satisfied: tenacity>=6.2.0 in /Users/avisharma/opt/anaconda3/lib/python3.9/site-packages (from plotly) (8.0.1)\n",
      "Note: you may need to restart the kernel to use updated packages.\n",
      "Requirement already satisfied: networkx in /Users/avisharma/opt/anaconda3/lib/python3.9/site-packages (2.8.4)\n",
      "Note: you may need to restart the kernel to use updated packages.\n",
      "Requirement already satisfied: matplotlib in /Users/avisharma/opt/anaconda3/lib/python3.9/site-packages (3.5.2)\n",
      "Requirement already satisfied: kiwisolver>=1.0.1 in /Users/avisharma/opt/anaconda3/lib/python3.9/site-packages (from matplotlib) (1.4.2)\n",
      "Requirement already satisfied: fonttools>=4.22.0 in /Users/avisharma/opt/anaconda3/lib/python3.9/site-packages (from matplotlib) (4.25.0)\n",
      "Requirement already satisfied: pillow>=6.2.0 in /Users/avisharma/opt/anaconda3/lib/python3.9/site-packages (from matplotlib) (9.2.0)\n",
      "Requirement already satisfied: python-dateutil>=2.7 in /Users/avisharma/opt/anaconda3/lib/python3.9/site-packages (from matplotlib) (2.8.2)\n",
      "Requirement already satisfied: packaging>=20.0 in /Users/avisharma/opt/anaconda3/lib/python3.9/site-packages (from matplotlib) (21.3)\n",
      "Requirement already satisfied: numpy>=1.17 in /Users/avisharma/opt/anaconda3/lib/python3.9/site-packages (from matplotlib) (1.21.5)\n",
      "Requirement already satisfied: pyparsing>=2.2.1 in /Users/avisharma/opt/anaconda3/lib/python3.9/site-packages (from matplotlib) (3.0.9)\n",
      "Requirement already satisfied: cycler>=0.10 in /Users/avisharma/opt/anaconda3/lib/python3.9/site-packages (from matplotlib) (0.11.0)\n",
      "Requirement already satisfied: six>=1.5 in /Users/avisharma/opt/anaconda3/lib/python3.9/site-packages (from python-dateutil>=2.7->matplotlib) (1.16.0)\n",
      "Note: you may need to restart the kernel to use updated packages.\n"
     ]
    },
    {
     "name": "stderr",
     "output_type": "stream",
     "text": [
      "/Users/avisharma/opt/anaconda3/lib/python3.9/site-packages/seaborn/rcmod.py:82: DeprecationWarning: distutils Version classes are deprecated. Use packaging.version instead.\n",
      "  if LooseVersion(mpl.__version__) >= \"3.0\":\n",
      "/Users/avisharma/opt/anaconda3/lib/python3.9/site-packages/setuptools/_distutils/version.py:346: DeprecationWarning: distutils Version classes are deprecated. Use packaging.version instead.\n",
      "  other = LooseVersion(other)\n"
     ]
    }
   ],
   "source": [
    "import numpy as np        #IMPORTING THE ESSENTIAL LIBRARIES\n",
    "import matplotlib.pyplot as plt\n",
    "import pandas as pd\n",
    "\n",
    "%pip install mlxtend   # Installing mlextend library \n",
    "%pip install apriori\n",
    "%pip install pandas\n",
    "%pip install numpy\n",
    "%pip install plotly\n",
    "%pip install networkx\n",
    "%pip install matplotlib\n",
    "from mlxtend.frequent_patterns import apriori, association_rules\n",
    "import seaborn as sns\n",
    "import itertools"
   ]
  },
  {
   "cell_type": "markdown",
   "id": "97a35c77",
   "metadata": {},
   "source": [
    "### STEP-2. Importing the Orignal Data Set  (.CSV file) "
   ]
  },
  {
   "cell_type": "code",
   "execution_count": 2,
   "id": "cf3134ba",
   "metadata": {},
   "outputs": [
    {
     "name": "stderr",
     "output_type": "stream",
     "text": [
      "/var/folders/rx/676xzzxd6sg6hdsntqqqh7780000gn/T/ipykernel_869/512716712.py:4: DtypeWarning: Columns (0) have mixed types. Specify dtype option on import or set low_memory=False.\n",
      "  data = pd.read_csv('MB.csv')\n"
     ]
    },
    {
     "data": {
      "text/html": [
       "<div>\n",
       "<style scoped>\n",
       "    .dataframe tbody tr th:only-of-type {\n",
       "        vertical-align: middle;\n",
       "    }\n",
       "\n",
       "    .dataframe tbody tr th {\n",
       "        vertical-align: top;\n",
       "    }\n",
       "\n",
       "    .dataframe thead th {\n",
       "        text-align: right;\n",
       "    }\n",
       "</style>\n",
       "<table border=\"1\" class=\"dataframe\">\n",
       "  <thead>\n",
       "    <tr style=\"text-align: right;\">\n",
       "      <th></th>\n",
       "      <th>BillNo</th>\n",
       "      <th>Itemname</th>\n",
       "      <th>Quantity</th>\n",
       "      <th>Date</th>\n",
       "      <th>Price</th>\n",
       "      <th>CustomerID</th>\n",
       "      <th>Country</th>\n",
       "    </tr>\n",
       "  </thead>\n",
       "  <tbody>\n",
       "    <tr>\n",
       "      <th>0</th>\n",
       "      <td>536365</td>\n",
       "      <td>WHITE HANGING HEART T-LIGHT HOLDER</td>\n",
       "      <td>6</td>\n",
       "      <td>01/12/2010 08:26</td>\n",
       "      <td>2.55</td>\n",
       "      <td>17850.0</td>\n",
       "      <td>United Kingdom</td>\n",
       "    </tr>\n",
       "    <tr>\n",
       "      <th>1</th>\n",
       "      <td>536365</td>\n",
       "      <td>WHITE METAL LANTERN</td>\n",
       "      <td>6</td>\n",
       "      <td>01/12/2010 08:26</td>\n",
       "      <td>3.39</td>\n",
       "      <td>17850.0</td>\n",
       "      <td>United Kingdom</td>\n",
       "    </tr>\n",
       "    <tr>\n",
       "      <th>2</th>\n",
       "      <td>536365</td>\n",
       "      <td>CREAM CUPID HEARTS COAT HANGER</td>\n",
       "      <td>8</td>\n",
       "      <td>01/12/2010 08:26</td>\n",
       "      <td>2.75</td>\n",
       "      <td>17850.0</td>\n",
       "      <td>United Kingdom</td>\n",
       "    </tr>\n",
       "    <tr>\n",
       "      <th>3</th>\n",
       "      <td>536365</td>\n",
       "      <td>KNITTED UNION FLAG HOT WATER BOTTLE</td>\n",
       "      <td>6</td>\n",
       "      <td>01/12/2010 08:26</td>\n",
       "      <td>3.39</td>\n",
       "      <td>17850.0</td>\n",
       "      <td>United Kingdom</td>\n",
       "    </tr>\n",
       "    <tr>\n",
       "      <th>4</th>\n",
       "      <td>536365</td>\n",
       "      <td>RED WOOLLY HOTTIE WHITE HEART.</td>\n",
       "      <td>6</td>\n",
       "      <td>01/12/2010 08:26</td>\n",
       "      <td>3.39</td>\n",
       "      <td>17850.0</td>\n",
       "      <td>United Kingdom</td>\n",
       "    </tr>\n",
       "  </tbody>\n",
       "</table>\n",
       "</div>"
      ],
      "text/plain": [
       "   BillNo                             Itemname  Quantity              Date  \\\n",
       "0  536365   WHITE HANGING HEART T-LIGHT HOLDER         6  01/12/2010 08:26   \n",
       "1  536365                  WHITE METAL LANTERN         6  01/12/2010 08:26   \n",
       "2  536365       CREAM CUPID HEARTS COAT HANGER         8  01/12/2010 08:26   \n",
       "3  536365  KNITTED UNION FLAG HOT WATER BOTTLE         6  01/12/2010 08:26   \n",
       "4  536365       RED WOOLLY HOTTIE WHITE HEART.         6  01/12/2010 08:26   \n",
       "\n",
       "   Price  CustomerID         Country  \n",
       "0   2.55     17850.0  United Kingdom  \n",
       "1   3.39     17850.0  United Kingdom  \n",
       "2   2.75     17850.0  United Kingdom  \n",
       "3   3.39     17850.0  United Kingdom  \n",
       "4   3.39     17850.0  United Kingdom  "
      ]
     },
     "execution_count": 2,
     "metadata": {},
     "output_type": "execute_result"
    }
   ],
   "source": [
    "##Importing the data set\n",
    "\n",
    "#Assign a variable in which the data will be stored for example here the data will be imported and will be stored in the variable \"data\" and it coould be changed.\n",
    "data = pd.read_csv('MB.csv')\n",
    "data.head() #this code will give you the snapshot of first five observations"
   ]
  },
  {
   "cell_type": "code",
   "execution_count": 3,
   "id": "d7179eec",
   "metadata": {},
   "outputs": [],
   "source": [
    "# data['CustomerID'] = data['CustomerID'].astype(str)"
   ]
  },
  {
   "cell_type": "code",
   "execution_count": 4,
   "id": "0dbc7a7d",
   "metadata": {},
   "outputs": [],
   "source": [
    "# data['Date']=data['Date'].astype(str)"
   ]
  },
  {
   "cell_type": "markdown",
   "id": "77196bf7",
   "metadata": {},
   "source": [
    "Here output represents the snapshot of 5 instances/occurrences from the dataset.\n"
   ]
  },
  {
   "cell_type": "markdown",
   "id": "da7f0338",
   "metadata": {},
   "source": [
    "# Let's get bit familiar with the Association rule mining"
   ]
  },
  {
   "cell_type": "markdown",
   "id": "0daf6ece",
   "metadata": {},
   "source": [
    "Association rule mining using machine learning models to analyze data for patterns or co-occurrence in a database.\n",
    "\n",
    "It simply refers to the relationship between two items and how likely it is that one will be chosen if another item has already been chosen. We can predict how likely it is that I will purchase item B if I purchase item A.\n",
    "\n",
    "The noticeable thing here are 2 words, if and then.\n",
    "\n",
    "An association rule has 2 parts:\n",
    "1.an antecedent (if) and\n",
    "2.a consequent (then)\n",
    "\n",
    "An item found in data is called an antecedent, and an item found in combination with an antecedent is called a consequent. Simply put, it is the association rule for retail stores to better target their customers.\n",
    "If the above rule is a result of a thorough analysis of some data sets, it can be used to not only improve customer service but also improve the company’s revenue. Which is understood as if we have thorough data of how 2 products are bought or how a product is bought with another, we can increase customer reach by giving recommendations and offers.\n",
    "\n",
    "It is obvious that we would need to use some mathematical instruments, called Performance measures, to conduct this analysis:\n",
    "1.Lift\n",
    "2.Support\n",
    "3.Confidence\n",
    "\n",
    "\n",
    "\n",
    "\n",
    "\n"
   ]
  },
  {
   "cell_type": "markdown",
   "id": "14bf4691",
   "metadata": {},
   "source": [
    "# Theoritical Overview of Apriori Algorithm"
   ]
  },
  {
   "cell_type": "markdown",
   "id": "8dbc18d2",
   "metadata": {},
   "source": [
    "The Apriori algorithm is a machine learning algorithm that can be used to mine frequent itemsets and relevant association rules. It operates on the principle that \"all non-empty subsets of a frequent itemset must be frequent.\" \n",
    "\n",
    "The above-mentioned performance measures, support, confidence, and lift, are used to define the association's rules. The algorithm reduces the number of candidates considered by only exploring the itemsets with more support than the minimum support count.\n",
    "\n",
    "Now that we have a theoretical understanding of the Apriori algorithm, let us try to implement it on real-world datasets using Python. \n",
    "In the next section, we will use the apriori algorithm to mine a dataset of grocery store transactions for pairwise association rules. The confidence threshold is 0.5 (min confidence), and the min count (or the number of items that appear at least \"min count\" times) is 1."
   ]
  },
  {
   "cell_type": "markdown",
   "id": "15688786",
   "metadata": {},
   "source": [
    "### STEP-3. Final Implementation of Apriori Algorithm on the Data Set"
   ]
  },
  {
   "cell_type": "markdown",
   "id": "3b1e38ad",
   "metadata": {},
   "source": [
    "Run the following code first, and when the output appears, enter the values for which you want to apply the algorithm."
   ]
  },
  {
   "cell_type": "code",
   "execution_count": 5,
   "id": "230a9103",
   "metadata": {},
   "outputs": [
    {
     "name": "stdout",
     "output_type": "stream",
     "text": [
      "Enter choice- Date or Country or CustomerID\n",
      "Country\n"
     ]
    }
   ],
   "source": [
    "print(\"Enter choice- Date or Country or CustomerID\")   # Inputting user choice.Care should be taken to input words exactly as printed\n",
    "y=input()                                            # Eg. Date or Country or CustomerID.This is the way the choice should be entered"
   ]
  },
  {
   "cell_type": "code",
   "execution_count": 6,
   "id": "9688525a",
   "metadata": {},
   "outputs": [
    {
     "name": "stdout",
     "output_type": "stream",
     "text": [
      "United Kingdom\n",
      "Itemname\n",
      "*Boombox Ipod Classic           1\n",
      "*USB Office Mirror Ball         1\n",
      "10 COLOUR SPACEBOY PEN          1\n",
      "12 COLOURED PARTY BALLOONS      1\n",
      "12 DAISY PEGS IN WOOD BOX       1\n",
      "                               ..\n",
      "wrongly marked carton 22804     0\n",
      "wrongly marked. 23343 in box    0\n",
      "wrongly sold (22719) barcode    1\n",
      "wrongly sold as sets            0\n",
      "wrongly sold sets               0\n",
      "Name: United Kingdom, Length: 4185, dtype: int64\n"
     ]
    }
   ],
   "source": [
    "if y == 'Country':    # Grouping if choice is 'Country'\n",
    "    country_input = input()  # Inputting specific country\n",
    "    basket = data.groupby([\"Country\", \"Itemname\"])[\"Quantity\"].sum().unstack().reset_index().fillna(0).set_index(\"Country\")\n",
    "\n",
    "     #One-hot Encoding \n",
    "    def one_hot_encoding(x):\n",
    "        if x <= 0:\n",
    "            return 0\n",
    "        if x >= 1:\n",
    "            return 1\n",
    "    basket = basket.applymap(one_hot_encoding)\n",
    "    print(basket.loc[country_input])\n",
    "elif y == 'Date':    # Grouping if choice is 'Date'\n",
    "    date_input=input()  # Inputting specific Date in format DD/MM/YYYY HH:MM WHERE HH:MM is the time\n",
    "    basket = data.groupby([\"Date\", \"Itemname\"])[\"Quantity\"].sum().unstack().reset_index().fillna(0).set_index(\"Date\")\n",
    "    print(basket.loc[date_input])\n",
    "elif y == 'CustomerID':  # Grouping if choice is 'CustomerID'\n",
    "    custid_input=input()   # Inputting specific CustomerID \n",
    "    basket = data.groupby([\"CustomerID\", \"Itemname\"])[\"Quantity\"].sum().unstack().reset_index().fillna(0).set_index(\"CustomerID\")\n",
    "    print(basket.loc[custid_input])\n",
    "else:\n",
    "    print(\"Wrong Choice\")    # Printing 'wrong choice' if user entered anything apart from the choices specified\n"
   ]
  },
  {
   "cell_type": "code",
   "execution_count": 10,
   "id": "e8499afe",
   "metadata": {},
   "outputs": [
    {
     "name": "stderr",
     "output_type": "stream",
     "text": [
      "/Users/avisharma/opt/anaconda3/lib/python3.9/site-packages/mlxtend/frequent_patterns/fpcommon.py:111: DeprecationWarning: DataFrames with non-bool types result in worse computationalperformance and their support might be discontinued in the future.Please use a DataFrame with bool type\n",
      "  warnings.warn(\n"
     ]
    },
    {
     "data": {
      "text/html": [
       "<div>\n",
       "<style scoped>\n",
       "    .dataframe tbody tr th:only-of-type {\n",
       "        vertical-align: middle;\n",
       "    }\n",
       "\n",
       "    .dataframe tbody tr th {\n",
       "        vertical-align: top;\n",
       "    }\n",
       "\n",
       "    .dataframe thead th {\n",
       "        text-align: right;\n",
       "    }\n",
       "</style>\n",
       "<table border=\"1\" class=\"dataframe\">\n",
       "  <thead>\n",
       "    <tr style=\"text-align: right;\">\n",
       "      <th></th>\n",
       "      <th>support</th>\n",
       "      <th>itemsets</th>\n",
       "    </tr>\n",
       "  </thead>\n",
       "  <tbody>\n",
       "    <tr>\n",
       "      <th>0</th>\n",
       "      <td>0.666667</td>\n",
       "      <td>(BAKING SET 9 PIECE RETROSPOT)</td>\n",
       "    </tr>\n",
       "    <tr>\n",
       "      <th>1</th>\n",
       "      <td>0.566667</td>\n",
       "      <td>(BAKING SET SPACEBOY DESIGN)</td>\n",
       "    </tr>\n",
       "    <tr>\n",
       "      <th>2</th>\n",
       "      <td>0.533333</td>\n",
       "      <td>(CHILDRENS CUTLERY CIRCUS PARADE)</td>\n",
       "    </tr>\n",
       "    <tr>\n",
       "      <th>3</th>\n",
       "      <td>0.600000</td>\n",
       "      <td>(CHILDRENS CUTLERY DOLLY GIRL)</td>\n",
       "    </tr>\n",
       "    <tr>\n",
       "      <th>4</th>\n",
       "      <td>0.500000</td>\n",
       "      <td>(CHILDRENS CUTLERY POLKADOT BLUE)</td>\n",
       "    </tr>\n",
       "    <tr>\n",
       "      <th>...</th>\n",
       "      <td>...</td>\n",
       "      <td>...</td>\n",
       "    </tr>\n",
       "    <tr>\n",
       "      <th>453</th>\n",
       "      <td>0.500000</td>\n",
       "      <td>(CHILDRENS CUTLERY DOLLY GIRL, CHILDRENS CUTLE...</td>\n",
       "    </tr>\n",
       "    <tr>\n",
       "      <th>454</th>\n",
       "      <td>0.500000</td>\n",
       "      <td>(RED RETROSPOT MINI CASES, CHILDRENS CUTLERY P...</td>\n",
       "    </tr>\n",
       "    <tr>\n",
       "      <th>455</th>\n",
       "      <td>0.500000</td>\n",
       "      <td>(CHILDRENS CUTLERY DOLLY GIRL, CHILDRENS CUTLE...</td>\n",
       "    </tr>\n",
       "    <tr>\n",
       "      <th>456</th>\n",
       "      <td>0.500000</td>\n",
       "      <td>(CHILDRENS CUTLERY DOLLY GIRL, CHILDRENS CUTLE...</td>\n",
       "    </tr>\n",
       "    <tr>\n",
       "      <th>457</th>\n",
       "      <td>0.500000</td>\n",
       "      <td>(JUMBO BAG RED RETROSPOT, PLASTERS IN TIN SPAC...</td>\n",
       "    </tr>\n",
       "  </tbody>\n",
       "</table>\n",
       "<p>458 rows × 2 columns</p>\n",
       "</div>"
      ],
      "text/plain": [
       "      support                                           itemsets\n",
       "0    0.666667                     (BAKING SET 9 PIECE RETROSPOT)\n",
       "1    0.566667                       (BAKING SET SPACEBOY DESIGN)\n",
       "2    0.533333                  (CHILDRENS CUTLERY CIRCUS PARADE)\n",
       "3    0.600000                     (CHILDRENS CUTLERY DOLLY GIRL)\n",
       "4    0.500000                  (CHILDRENS CUTLERY POLKADOT BLUE)\n",
       "..        ...                                                ...\n",
       "453  0.500000  (CHILDRENS CUTLERY DOLLY GIRL, CHILDRENS CUTLE...\n",
       "454  0.500000  (RED RETROSPOT MINI CASES, CHILDRENS CUTLERY P...\n",
       "455  0.500000  (CHILDRENS CUTLERY DOLLY GIRL, CHILDRENS CUTLE...\n",
       "456  0.500000  (CHILDRENS CUTLERY DOLLY GIRL, CHILDRENS CUTLE...\n",
       "457  0.500000  (JUMBO BAG RED RETROSPOT, PLASTERS IN TIN SPAC...\n",
       "\n",
       "[458 rows x 2 columns]"
      ]
     },
     "execution_count": 10,
     "metadata": {},
     "output_type": "execute_result"
    }
   ],
   "source": [
    "#import apriori\n",
    "# Selecting itemsets which have frequently been bought\n",
    "frequent_itemsets = apriori(basket,use_colnames=True)\n",
    "frequent_itemsets\n"
   ]
  },
  {
   "cell_type": "markdown",
   "id": "ca20ab0b",
   "metadata": {},
   "source": [
    "In applying apriori algorithm, we are able to define the frequent data that we wanted by giving the support value. \n",
    "As you can see that there are 458 transaction that is consider as a frequently bought items. \n",
    "It is shown in the picture that \"BAKING SET 9 PIECE RETROSPOT\" is the most frequently bought items with the support value of 0.666667."
   ]
  },
  {
   "cell_type": "markdown",
   "id": "aba28f29",
   "metadata": {},
   "source": [
    "After applying the apriori algorithm and finding the frequently bought item, it is now the time for us to apply the association rules. \n",
    "From association rules, we could extract information and even discover knowledge about which items that is more effective to be sold together. That is the whole point of this project. Here’s how I did it."
   ]
  },
  {
   "cell_type": "code",
   "execution_count": 34,
   "id": "6635b39b",
   "metadata": {},
   "outputs": [
    {
     "data": {
      "text/html": [
       "<div>\n",
       "<style scoped>\n",
       "    .dataframe tbody tr th:only-of-type {\n",
       "        vertical-align: middle;\n",
       "    }\n",
       "\n",
       "    .dataframe tbody tr th {\n",
       "        vertical-align: top;\n",
       "    }\n",
       "\n",
       "    .dataframe thead th {\n",
       "        text-align: right;\n",
       "    }\n",
       "</style>\n",
       "<table border=\"1\" class=\"dataframe\">\n",
       "  <thead>\n",
       "    <tr style=\"text-align: right;\">\n",
       "      <th></th>\n",
       "      <th>antecedents</th>\n",
       "      <th>consequents</th>\n",
       "      <th>antecedent support</th>\n",
       "      <th>consequent support</th>\n",
       "      <th>support</th>\n",
       "      <th>confidence</th>\n",
       "      <th>lift</th>\n",
       "      <th>leverage</th>\n",
       "      <th>conviction</th>\n",
       "    </tr>\n",
       "  </thead>\n",
       "  <tbody>\n",
       "    <tr>\n",
       "      <th>0</th>\n",
       "      <td>(CHILDRENS CUTLERY POLKADOT BLUE)</td>\n",
       "      <td>(CHILDRENS CUTLERY DOLLY GIRL, PACK OF 72 RETR...</td>\n",
       "      <td>0.500000</td>\n",
       "      <td>0.500000</td>\n",
       "      <td>0.500000</td>\n",
       "      <td>1.000000</td>\n",
       "      <td>2.000000</td>\n",
       "      <td>0.250000</td>\n",
       "      <td>inf</td>\n",
       "    </tr>\n",
       "    <tr>\n",
       "      <th>1</th>\n",
       "      <td>(PLASTERS IN TIN SPACEBOY, JUMBO BAG RED RETRO...</td>\n",
       "      <td>(CHILDRENS CUTLERY POLKADOT PINK, PACK OF 72 R...</td>\n",
       "      <td>0.500000</td>\n",
       "      <td>0.500000</td>\n",
       "      <td>0.500000</td>\n",
       "      <td>1.000000</td>\n",
       "      <td>2.000000</td>\n",
       "      <td>0.250000</td>\n",
       "      <td>inf</td>\n",
       "    </tr>\n",
       "    <tr>\n",
       "      <th>2</th>\n",
       "      <td>(JAM MAKING SET PRINTED, CHILDRENS CUTLERY POL...</td>\n",
       "      <td>(JUMBO BAG RED RETROSPOT, PACK OF 72 RETROSPOT...</td>\n",
       "      <td>0.500000</td>\n",
       "      <td>0.500000</td>\n",
       "      <td>0.500000</td>\n",
       "      <td>1.000000</td>\n",
       "      <td>2.000000</td>\n",
       "      <td>0.250000</td>\n",
       "      <td>inf</td>\n",
       "    </tr>\n",
       "    <tr>\n",
       "      <th>3</th>\n",
       "      <td>(CHILDRENS CUTLERY POLKADOT PINK, PLASTERS IN ...</td>\n",
       "      <td>(PLASTERS IN TIN CIRCUS PARADE, PACK OF 72 RET...</td>\n",
       "      <td>0.500000</td>\n",
       "      <td>0.500000</td>\n",
       "      <td>0.500000</td>\n",
       "      <td>1.000000</td>\n",
       "      <td>2.000000</td>\n",
       "      <td>0.250000</td>\n",
       "      <td>inf</td>\n",
       "    </tr>\n",
       "    <tr>\n",
       "      <th>4</th>\n",
       "      <td>(JUMBO BAG RED RETROSPOT, PACK OF 72 RETROSPOT...</td>\n",
       "      <td>(JAM MAKING SET PRINTED, CHILDRENS CUTLERY POL...</td>\n",
       "      <td>0.500000</td>\n",
       "      <td>0.500000</td>\n",
       "      <td>0.500000</td>\n",
       "      <td>1.000000</td>\n",
       "      <td>2.000000</td>\n",
       "      <td>0.250000</td>\n",
       "      <td>inf</td>\n",
       "    </tr>\n",
       "    <tr>\n",
       "      <th>...</th>\n",
       "      <td>...</td>\n",
       "      <td>...</td>\n",
       "      <td>...</td>\n",
       "      <td>...</td>\n",
       "      <td>...</td>\n",
       "      <td>...</td>\n",
       "      <td>...</td>\n",
       "      <td>...</td>\n",
       "      <td>...</td>\n",
       "    </tr>\n",
       "    <tr>\n",
       "      <th>2161</th>\n",
       "      <td>(SET OF 3 CAKE TINS PANTRY DESIGN)</td>\n",
       "      <td>(REGENCY CAKESTAND 3 TIER)</td>\n",
       "      <td>0.566667</td>\n",
       "      <td>0.833333</td>\n",
       "      <td>0.500000</td>\n",
       "      <td>0.882353</td>\n",
       "      <td>1.058824</td>\n",
       "      <td>0.027778</td>\n",
       "      <td>1.416667</td>\n",
       "    </tr>\n",
       "    <tr>\n",
       "      <th>2162</th>\n",
       "      <td>(REGENCY CAKESTAND 3 TIER)</td>\n",
       "      <td>(JAM MAKING SET PRINTED)</td>\n",
       "      <td>0.833333</td>\n",
       "      <td>0.633333</td>\n",
       "      <td>0.533333</td>\n",
       "      <td>0.640000</td>\n",
       "      <td>1.010526</td>\n",
       "      <td>0.005556</td>\n",
       "      <td>1.018519</td>\n",
       "    </tr>\n",
       "    <tr>\n",
       "      <th>2163</th>\n",
       "      <td>(PLASTERS IN TIN WOODLAND ANIMALS)</td>\n",
       "      <td>(REGENCY CAKESTAND 3 TIER)</td>\n",
       "      <td>0.633333</td>\n",
       "      <td>0.833333</td>\n",
       "      <td>0.533333</td>\n",
       "      <td>0.842105</td>\n",
       "      <td>1.010526</td>\n",
       "      <td>0.005556</td>\n",
       "      <td>1.055556</td>\n",
       "    </tr>\n",
       "    <tr>\n",
       "      <th>2164</th>\n",
       "      <td>(JAM MAKING SET PRINTED)</td>\n",
       "      <td>(REGENCY CAKESTAND 3 TIER)</td>\n",
       "      <td>0.633333</td>\n",
       "      <td>0.833333</td>\n",
       "      <td>0.533333</td>\n",
       "      <td>0.842105</td>\n",
       "      <td>1.010526</td>\n",
       "      <td>0.005556</td>\n",
       "      <td>1.055556</td>\n",
       "    </tr>\n",
       "    <tr>\n",
       "      <th>2165</th>\n",
       "      <td>(REGENCY CAKESTAND 3 TIER)</td>\n",
       "      <td>(PLASTERS IN TIN WOODLAND ANIMALS)</td>\n",
       "      <td>0.833333</td>\n",
       "      <td>0.633333</td>\n",
       "      <td>0.533333</td>\n",
       "      <td>0.640000</td>\n",
       "      <td>1.010526</td>\n",
       "      <td>0.005556</td>\n",
       "      <td>1.018519</td>\n",
       "    </tr>\n",
       "  </tbody>\n",
       "</table>\n",
       "<p>2166 rows × 9 columns</p>\n",
       "</div>"
      ],
      "text/plain": [
       "                                            antecedents  \\\n",
       "0                     (CHILDRENS CUTLERY POLKADOT BLUE)   \n",
       "1     (PLASTERS IN TIN SPACEBOY, JUMBO BAG RED RETRO...   \n",
       "2     (JAM MAKING SET PRINTED, CHILDRENS CUTLERY POL...   \n",
       "3     (CHILDRENS CUTLERY POLKADOT PINK, PLASTERS IN ...   \n",
       "4     (JUMBO BAG RED RETROSPOT, PACK OF 72 RETROSPOT...   \n",
       "...                                                 ...   \n",
       "2161                 (SET OF 3 CAKE TINS PANTRY DESIGN)   \n",
       "2162                         (REGENCY CAKESTAND 3 TIER)   \n",
       "2163                 (PLASTERS IN TIN WOODLAND ANIMALS)   \n",
       "2164                           (JAM MAKING SET PRINTED)   \n",
       "2165                         (REGENCY CAKESTAND 3 TIER)   \n",
       "\n",
       "                                            consequents  antecedent support  \\\n",
       "0     (CHILDRENS CUTLERY DOLLY GIRL, PACK OF 72 RETR...            0.500000   \n",
       "1     (CHILDRENS CUTLERY POLKADOT PINK, PACK OF 72 R...            0.500000   \n",
       "2     (JUMBO BAG RED RETROSPOT, PACK OF 72 RETROSPOT...            0.500000   \n",
       "3     (PLASTERS IN TIN CIRCUS PARADE, PACK OF 72 RET...            0.500000   \n",
       "4     (JAM MAKING SET PRINTED, CHILDRENS CUTLERY POL...            0.500000   \n",
       "...                                                 ...                 ...   \n",
       "2161                         (REGENCY CAKESTAND 3 TIER)            0.566667   \n",
       "2162                           (JAM MAKING SET PRINTED)            0.833333   \n",
       "2163                         (REGENCY CAKESTAND 3 TIER)            0.633333   \n",
       "2164                         (REGENCY CAKESTAND 3 TIER)            0.633333   \n",
       "2165                 (PLASTERS IN TIN WOODLAND ANIMALS)            0.833333   \n",
       "\n",
       "      consequent support   support  confidence      lift  leverage  conviction  \n",
       "0               0.500000  0.500000    1.000000  2.000000  0.250000         inf  \n",
       "1               0.500000  0.500000    1.000000  2.000000  0.250000         inf  \n",
       "2               0.500000  0.500000    1.000000  2.000000  0.250000         inf  \n",
       "3               0.500000  0.500000    1.000000  2.000000  0.250000         inf  \n",
       "4               0.500000  0.500000    1.000000  2.000000  0.250000         inf  \n",
       "...                  ...       ...         ...       ...       ...         ...  \n",
       "2161            0.833333  0.500000    0.882353  1.058824  0.027778    1.416667  \n",
       "2162            0.633333  0.533333    0.640000  1.010526  0.005556    1.018519  \n",
       "2163            0.833333  0.533333    0.842105  1.010526  0.005556    1.055556  \n",
       "2164            0.833333  0.533333    0.842105  1.010526  0.005556    1.055556  \n",
       "2165            0.633333  0.533333    0.640000  1.010526  0.005556    1.018519  \n",
       "\n",
       "[2166 rows x 9 columns]"
      ]
     },
     "execution_count": 34,
     "metadata": {},
     "output_type": "execute_result"
    }
   ],
   "source": [
    "# association rules\n",
    "rules = association_rules(frequent_itemsets, metric=\"lift\", min_threshold=1)\n",
    "rules = rules.sort_values(\"lift\", ascending = False).reset_index(drop=True)\n",
    "#Collecting the inferred rules in a dataframe\n",
    "rules"
   ]
  },
  {
   "cell_type": "markdown",
   "id": "724600d2",
   "metadata": {},
   "source": [
    "From the association_rules results above, we could see that (CHILDRENS CUTLERY POLKADOT PINK, CHILDRENS CU...) AND (REGENCY CAKESTAND 3 TIER, CHILDRENS CUTLERY C...) are the items that has the highest association each other since these two items has the highest “lift” value. \n",
    "\n",
    "The higher the lift value, the higher the association between the items willl. If the lift value is more than 1, it is enough for us to say that those two items are associated each other. \n",
    "\n",
    "The lift of 2 means that the likelihood of buying (CHILDRENS CUTLERY POLKADOT PINK, CHILDRENS CU...) AND (REGENCY CAKESTAND 3 TIER, CHILDRENS CUTLERY C...) together is 2 times more than the likelihood of just buying (REGENCY CAKESTAND 3 TIER, CHILDRENS CUTLERY C...). The support of 0.5 means that they appear in transactions together in about 50% of all transactions.\n",
    "\n"
   ]
  },
  {
   "cell_type": "code",
   "execution_count": 35,
   "id": "a803419d",
   "metadata": {},
   "outputs": [
    {
     "data": {
      "text/html": [
       "<div>\n",
       "<style scoped>\n",
       "    .dataframe tbody tr th:only-of-type {\n",
       "        vertical-align: middle;\n",
       "    }\n",
       "\n",
       "    .dataframe tbody tr th {\n",
       "        vertical-align: top;\n",
       "    }\n",
       "\n",
       "    .dataframe thead th {\n",
       "        text-align: right;\n",
       "    }\n",
       "</style>\n",
       "<table border=\"1\" class=\"dataframe\">\n",
       "  <thead>\n",
       "    <tr style=\"text-align: right;\">\n",
       "      <th></th>\n",
       "      <th>antecedents</th>\n",
       "      <th>consequents</th>\n",
       "    </tr>\n",
       "  </thead>\n",
       "  <tbody>\n",
       "    <tr>\n",
       "      <th>0</th>\n",
       "      <td>(CHILDRENS CUTLERY POLKADOT BLUE)</td>\n",
       "      <td>(CHILDRENS CUTLERY DOLLY GIRL, PACK OF 72 RETR...</td>\n",
       "    </tr>\n",
       "    <tr>\n",
       "      <th>13</th>\n",
       "      <td>(CHILDRENS CUTLERY POLKADOT BLUE)</td>\n",
       "      <td>(CHILDRENS CUTLERY DOLLY GIRL, REGENCY CAKESTA...</td>\n",
       "    </tr>\n",
       "    <tr>\n",
       "      <th>1</th>\n",
       "      <td>(PLASTERS IN TIN SPACEBOY, JUMBO BAG RED RETRO...</td>\n",
       "      <td>(CHILDRENS CUTLERY POLKADOT PINK, PACK OF 72 R...</td>\n",
       "    </tr>\n",
       "    <tr>\n",
       "      <th>23</th>\n",
       "      <td>(CHILDRENS CUTLERY DOLLY GIRL, REGENCY CAKESTA...</td>\n",
       "      <td>(CHILDRENS CUTLERY POLKADOT BLUE, CHILDRENS CU...</td>\n",
       "    </tr>\n",
       "    <tr>\n",
       "      <th>22</th>\n",
       "      <td>(CHILDRENS CUTLERY DOLLY GIRL, PACK OF 72 RETR...</td>\n",
       "      <td>(CHILDRENS CUTLERY POLKADOT BLUE)</td>\n",
       "    </tr>\n",
       "    <tr>\n",
       "      <th>...</th>\n",
       "      <td>...</td>\n",
       "      <td>...</td>\n",
       "    </tr>\n",
       "    <tr>\n",
       "      <th>2157</th>\n",
       "      <td>(REGENCY CAKESTAND 3 TIER)</td>\n",
       "      <td>(SET OF TEA COFFEE SUGAR TINS PANTRY)</td>\n",
       "    </tr>\n",
       "    <tr>\n",
       "      <th>2162</th>\n",
       "      <td>(REGENCY CAKESTAND 3 TIER)</td>\n",
       "      <td>(JAM MAKING SET PRINTED)</td>\n",
       "    </tr>\n",
       "    <tr>\n",
       "      <th>2163</th>\n",
       "      <td>(PLASTERS IN TIN WOODLAND ANIMALS)</td>\n",
       "      <td>(REGENCY CAKESTAND 3 TIER)</td>\n",
       "    </tr>\n",
       "    <tr>\n",
       "      <th>2164</th>\n",
       "      <td>(JAM MAKING SET PRINTED)</td>\n",
       "      <td>(REGENCY CAKESTAND 3 TIER)</td>\n",
       "    </tr>\n",
       "    <tr>\n",
       "      <th>2165</th>\n",
       "      <td>(REGENCY CAKESTAND 3 TIER)</td>\n",
       "      <td>(PLASTERS IN TIN WOODLAND ANIMALS)</td>\n",
       "    </tr>\n",
       "  </tbody>\n",
       "</table>\n",
       "<p>2166 rows × 2 columns</p>\n",
       "</div>"
      ],
      "text/plain": [
       "                                            antecedents  \\\n",
       "0                     (CHILDRENS CUTLERY POLKADOT BLUE)   \n",
       "13                    (CHILDRENS CUTLERY POLKADOT BLUE)   \n",
       "1     (PLASTERS IN TIN SPACEBOY, JUMBO BAG RED RETRO...   \n",
       "23    (CHILDRENS CUTLERY DOLLY GIRL, REGENCY CAKESTA...   \n",
       "22    (CHILDRENS CUTLERY DOLLY GIRL, PACK OF 72 RETR...   \n",
       "...                                                 ...   \n",
       "2157                         (REGENCY CAKESTAND 3 TIER)   \n",
       "2162                         (REGENCY CAKESTAND 3 TIER)   \n",
       "2163                 (PLASTERS IN TIN WOODLAND ANIMALS)   \n",
       "2164                           (JAM MAKING SET PRINTED)   \n",
       "2165                         (REGENCY CAKESTAND 3 TIER)   \n",
       "\n",
       "                                            consequents  \n",
       "0     (CHILDRENS CUTLERY DOLLY GIRL, PACK OF 72 RETR...  \n",
       "13    (CHILDRENS CUTLERY DOLLY GIRL, REGENCY CAKESTA...  \n",
       "1     (CHILDRENS CUTLERY POLKADOT PINK, PACK OF 72 R...  \n",
       "23    (CHILDRENS CUTLERY POLKADOT BLUE, CHILDRENS CU...  \n",
       "22                    (CHILDRENS CUTLERY POLKADOT BLUE)  \n",
       "...                                                 ...  \n",
       "2157              (SET OF TEA COFFEE SUGAR TINS PANTRY)  \n",
       "2162                           (JAM MAKING SET PRINTED)  \n",
       "2163                         (REGENCY CAKESTAND 3 TIER)  \n",
       "2164                         (REGENCY CAKESTAND 3 TIER)  \n",
       "2165                 (PLASTERS IN TIN WOODLAND ANIMALS)  \n",
       "\n",
       "[2166 rows x 2 columns]"
      ]
     },
     "execution_count": 35,
     "metadata": {},
     "output_type": "execute_result"
    }
   ],
   "source": [
    "# Final output including antecedents and consequents\n",
    "rules_new = association_rules(frequent_itemsets, metric=\"lift\", min_threshold=1)\n",
    "rules_new = rules.sort_values(\"lift\", ascending = False)   # Sorting values according to the lift in descending order\n",
    "rules_new = rules_new[['antecedents', 'consequents']]\n",
    "rules_new"
   ]
  },
  {
   "cell_type": "markdown",
   "id": "044a508d",
   "metadata": {},
   "source": [
    "next is the CSV file containing all the sequences or association rules"
   ]
  },
  {
   "cell_type": "code",
   "execution_count": 36,
   "id": "a609c427",
   "metadata": {},
   "outputs": [],
   "source": [
    "#get all the sequences(pathways) in CSV file \n",
    "\n",
    "# importing the module\n",
    "import pandas as pd\n",
    "import numpy as np\n",
    "  \n",
    "#create a csv file\n",
    "rules_new.to_csv(\"pathways.csv\", index=True, header=True, index_label = \"Location in Actual Dataset\")\n",
    "# The pathways csv file will get stored at th same location where the input csv file is stored"
   ]
  },
  {
   "cell_type": "code",
   "execution_count": 37,
   "id": "450d90ab",
   "metadata": {},
   "outputs": [],
   "source": [
    "data1 = pd.read_csv('pathways.csv')   # Reading the data from the csv file just created"
   ]
  },
  {
   "cell_type": "code",
   "execution_count": 38,
   "id": "2b51bd25",
   "metadata": {},
   "outputs": [
    {
     "data": {
      "text/html": [
       "<div>\n",
       "<style scoped>\n",
       "    .dataframe tbody tr th:only-of-type {\n",
       "        vertical-align: middle;\n",
       "    }\n",
       "\n",
       "    .dataframe tbody tr th {\n",
       "        vertical-align: top;\n",
       "    }\n",
       "\n",
       "    .dataframe thead th {\n",
       "        text-align: right;\n",
       "    }\n",
       "</style>\n",
       "<table border=\"1\" class=\"dataframe\">\n",
       "  <thead>\n",
       "    <tr style=\"text-align: right;\">\n",
       "      <th></th>\n",
       "      <th>Location in Actual Dataset</th>\n",
       "      <th>antecedents</th>\n",
       "      <th>consequents</th>\n",
       "    </tr>\n",
       "  </thead>\n",
       "  <tbody>\n",
       "    <tr>\n",
       "      <th>0</th>\n",
       "      <td>0</td>\n",
       "      <td>frozenset({'CHILDRENS CUTLERY POLKADOT BLUE'})</td>\n",
       "      <td>frozenset({'CHILDRENS CUTLERY DOLLY GIRL', 'PA...</td>\n",
       "    </tr>\n",
       "    <tr>\n",
       "      <th>1</th>\n",
       "      <td>13</td>\n",
       "      <td>frozenset({'CHILDRENS CUTLERY POLKADOT BLUE'})</td>\n",
       "      <td>frozenset({'CHILDRENS CUTLERY DOLLY GIRL', 'RE...</td>\n",
       "    </tr>\n",
       "    <tr>\n",
       "      <th>2</th>\n",
       "      <td>1</td>\n",
       "      <td>frozenset({'PLASTERS IN TIN SPACEBOY', 'JUMBO ...</td>\n",
       "      <td>frozenset({'CHILDRENS CUTLERY POLKADOT PINK', ...</td>\n",
       "    </tr>\n",
       "    <tr>\n",
       "      <th>3</th>\n",
       "      <td>23</td>\n",
       "      <td>frozenset({'CHILDRENS CUTLERY DOLLY GIRL', 'RE...</td>\n",
       "      <td>frozenset({'CHILDRENS CUTLERY POLKADOT BLUE', ...</td>\n",
       "    </tr>\n",
       "    <tr>\n",
       "      <th>4</th>\n",
       "      <td>22</td>\n",
       "      <td>frozenset({'CHILDRENS CUTLERY DOLLY GIRL', 'PA...</td>\n",
       "      <td>frozenset({'CHILDRENS CUTLERY POLKADOT BLUE'})</td>\n",
       "    </tr>\n",
       "    <tr>\n",
       "      <th>...</th>\n",
       "      <td>...</td>\n",
       "      <td>...</td>\n",
       "      <td>...</td>\n",
       "    </tr>\n",
       "    <tr>\n",
       "      <th>2161</th>\n",
       "      <td>2157</td>\n",
       "      <td>frozenset({'REGENCY CAKESTAND 3 TIER'})</td>\n",
       "      <td>frozenset({'SET OF TEA COFFEE SUGAR TINS PANTR...</td>\n",
       "    </tr>\n",
       "    <tr>\n",
       "      <th>2162</th>\n",
       "      <td>2162</td>\n",
       "      <td>frozenset({'REGENCY CAKESTAND 3 TIER'})</td>\n",
       "      <td>frozenset({'JAM MAKING SET PRINTED'})</td>\n",
       "    </tr>\n",
       "    <tr>\n",
       "      <th>2163</th>\n",
       "      <td>2163</td>\n",
       "      <td>frozenset({'PLASTERS IN TIN WOODLAND ANIMALS'})</td>\n",
       "      <td>frozenset({'REGENCY CAKESTAND 3 TIER'})</td>\n",
       "    </tr>\n",
       "    <tr>\n",
       "      <th>2164</th>\n",
       "      <td>2164</td>\n",
       "      <td>frozenset({'JAM MAKING SET PRINTED'})</td>\n",
       "      <td>frozenset({'REGENCY CAKESTAND 3 TIER'})</td>\n",
       "    </tr>\n",
       "    <tr>\n",
       "      <th>2165</th>\n",
       "      <td>2165</td>\n",
       "      <td>frozenset({'REGENCY CAKESTAND 3 TIER'})</td>\n",
       "      <td>frozenset({'PLASTERS IN TIN WOODLAND ANIMALS'})</td>\n",
       "    </tr>\n",
       "  </tbody>\n",
       "</table>\n",
       "<p>2166 rows × 3 columns</p>\n",
       "</div>"
      ],
      "text/plain": [
       "      Location in Actual Dataset  \\\n",
       "0                              0   \n",
       "1                             13   \n",
       "2                              1   \n",
       "3                             23   \n",
       "4                             22   \n",
       "...                          ...   \n",
       "2161                        2157   \n",
       "2162                        2162   \n",
       "2163                        2163   \n",
       "2164                        2164   \n",
       "2165                        2165   \n",
       "\n",
       "                                            antecedents  \\\n",
       "0        frozenset({'CHILDRENS CUTLERY POLKADOT BLUE'})   \n",
       "1        frozenset({'CHILDRENS CUTLERY POLKADOT BLUE'})   \n",
       "2     frozenset({'PLASTERS IN TIN SPACEBOY', 'JUMBO ...   \n",
       "3     frozenset({'CHILDRENS CUTLERY DOLLY GIRL', 'RE...   \n",
       "4     frozenset({'CHILDRENS CUTLERY DOLLY GIRL', 'PA...   \n",
       "...                                                 ...   \n",
       "2161            frozenset({'REGENCY CAKESTAND 3 TIER'})   \n",
       "2162            frozenset({'REGENCY CAKESTAND 3 TIER'})   \n",
       "2163    frozenset({'PLASTERS IN TIN WOODLAND ANIMALS'})   \n",
       "2164              frozenset({'JAM MAKING SET PRINTED'})   \n",
       "2165            frozenset({'REGENCY CAKESTAND 3 TIER'})   \n",
       "\n",
       "                                            consequents  \n",
       "0     frozenset({'CHILDRENS CUTLERY DOLLY GIRL', 'PA...  \n",
       "1     frozenset({'CHILDRENS CUTLERY DOLLY GIRL', 'RE...  \n",
       "2     frozenset({'CHILDRENS CUTLERY POLKADOT PINK', ...  \n",
       "3     frozenset({'CHILDRENS CUTLERY POLKADOT BLUE', ...  \n",
       "4        frozenset({'CHILDRENS CUTLERY POLKADOT BLUE'})  \n",
       "...                                                 ...  \n",
       "2161  frozenset({'SET OF TEA COFFEE SUGAR TINS PANTR...  \n",
       "2162              frozenset({'JAM MAKING SET PRINTED'})  \n",
       "2163            frozenset({'REGENCY CAKESTAND 3 TIER'})  \n",
       "2164            frozenset({'REGENCY CAKESTAND 3 TIER'})  \n",
       "2165    frozenset({'PLASTERS IN TIN WOODLAND ANIMALS'})  \n",
       "\n",
       "[2166 rows x 3 columns]"
      ]
     },
     "execution_count": 38,
     "metadata": {},
     "output_type": "execute_result"
    }
   ],
   "source": [
    "data1   # Printing the dataframe"
   ]
  },
  {
   "cell_type": "markdown",
   "id": "a3ac22c9",
   "metadata": {},
   "source": [
    " Although the sequence is generated but the appraoch is to create another column so as to depict,if a sequence shown under antecedent column is performed,the corresponding sequence under consequents column will be also performed."
   ]
  },
  {
   "cell_type": "code",
   "execution_count": 39,
   "id": "49fd14d7",
   "metadata": {},
   "outputs": [],
   "source": [
    "df = pd.DataFrame(data=data1) # Creating a dataframe so as to perform concatenation"
   ]
  },
  {
   "cell_type": "code",
   "execution_count": 40,
   "id": "83632a62",
   "metadata": {},
   "outputs": [],
   "source": [
    "df[\"rep\"]=df[\"antecedents\"]+df[\"consequents\"]  # Creating another column having both the antecedents as well as consequents for getting the whole sequence"
   ]
  },
  {
   "cell_type": "code",
   "execution_count": 41,
   "id": "5e31cbca",
   "metadata": {},
   "outputs": [
    {
     "data": {
      "text/plain": [
       "0       frozenset({'CHILDRENS CUTLERY POLKADOT BLUE'})...\n",
       "1       frozenset({'CHILDRENS CUTLERY POLKADOT BLUE'})...\n",
       "2       frozenset({'PLASTERS IN TIN SPACEBOY', 'JUMBO ...\n",
       "3       frozenset({'CHILDRENS CUTLERY DOLLY GIRL', 'RE...\n",
       "4       frozenset({'CHILDRENS CUTLERY DOLLY GIRL', 'PA...\n",
       "                              ...                        \n",
       "2161    frozenset({'REGENCY CAKESTAND 3 TIER'})frozens...\n",
       "2162    frozenset({'REGENCY CAKESTAND 3 TIER'})frozens...\n",
       "2163    frozenset({'PLASTERS IN TIN WOODLAND ANIMALS'}...\n",
       "2164    frozenset({'JAM MAKING SET PRINTED'})frozenset...\n",
       "2165    frozenset({'REGENCY CAKESTAND 3 TIER'})frozens...\n",
       "Name: rep, Length: 2166, dtype: object"
      ]
     },
     "execution_count": 41,
     "metadata": {},
     "output_type": "execute_result"
    }
   ],
   "source": [
    "df[\"rep\"]  # Printing the column created"
   ]
  },
  {
   "cell_type": "code",
   "execution_count": 42,
   "id": "a0dcfcf1",
   "metadata": {},
   "outputs": [],
   "source": [
    "new_df = df[\"antecedents\"]   # Storing the antecedents in new_df"
   ]
  },
  {
   "cell_type": "code",
   "execution_count": 43,
   "id": "48f8501e",
   "metadata": {},
   "outputs": [
    {
     "data": {
      "text/plain": [
       "0          frozenset({'CHILDRENS CUTLERY POLKADOT BLUE'})\n",
       "1          frozenset({'CHILDRENS CUTLERY POLKADOT BLUE'})\n",
       "2       frozenset({'PLASTERS IN TIN SPACEBOY', 'JUMBO ...\n",
       "3       frozenset({'CHILDRENS CUTLERY DOLLY GIRL', 'RE...\n",
       "4       frozenset({'CHILDRENS CUTLERY DOLLY GIRL', 'PA...\n",
       "                              ...                        \n",
       "2161              frozenset({'REGENCY CAKESTAND 3 TIER'})\n",
       "2162              frozenset({'REGENCY CAKESTAND 3 TIER'})\n",
       "2163      frozenset({'PLASTERS IN TIN WOODLAND ANIMALS'})\n",
       "2164                frozenset({'JAM MAKING SET PRINTED'})\n",
       "2165              frozenset({'REGENCY CAKESTAND 3 TIER'})\n",
       "Name: antecedents, Length: 2166, dtype: object"
      ]
     },
     "execution_count": 43,
     "metadata": {},
     "output_type": "execute_result"
    }
   ],
   "source": [
    "new_df"
   ]
  },
  {
   "cell_type": "code",
   "execution_count": 44,
   "id": "46af6b3f",
   "metadata": {},
   "outputs": [
    {
     "data": {
      "text/plain": [
       "0       False\n",
       "1        True\n",
       "2       False\n",
       "3       False\n",
       "4       False\n",
       "        ...  \n",
       "2161     True\n",
       "2162     True\n",
       "2163     True\n",
       "2164     True\n",
       "2165     True\n",
       "Name: antecedents, Length: 2166, dtype: bool"
      ]
     },
     "execution_count": 44,
     "metadata": {},
     "output_type": "execute_result"
    }
   ],
   "source": [
    "new_df.duplicated()    # Seeing if there are some duplicates in the antecedents"
   ]
  },
  {
   "cell_type": "code",
   "execution_count": 45,
   "id": "75049397",
   "metadata": {},
   "outputs": [
    {
     "name": "stdout",
     "output_type": "stream",
     "text": [
      "antecedents\n",
      "frozenset({'REGENCY CAKESTAND 3 TIER'})                                                                             131\n",
      "frozenset({'PACK OF 72 RETROSPOT CAKE CASES'})                                                                      115\n",
      "frozenset({'BAKING SET 9 PIECE RETROSPOT'})                                                                          97\n",
      "frozenset({'CHILDRENS CUTLERY POLKADOT PINK'})                                                                       94\n",
      "frozenset({'CHILDRENS CUTLERY DOLLY GIRL'})                                                                          61\n",
      "                                                                                                                   ... \n",
      "frozenset({'PLASTERS IN TIN SPACEBOY', 'SET OF 3 REGENCY CAKE TINS'})                                                 1\n",
      "frozenset({'JAM MAKING SET PRINTED', 'PLASTERS IN TIN WOODLAND ANIMALS'})                                             1\n",
      "frozenset({'PLASTERS IN TIN VINTAGE PAISLEY', 'PLASTERS IN TIN WOODLAND ANIMALS', 'JUMBO BAG WOODLAND ANIMALS'})      1\n",
      "frozenset({'JAM MAKING SET PRINTED', 'JUMBO BAG WOODLAND ANIMALS'})                                                   1\n",
      "frozenset({'VINTAGE HEADS AND TAILS CARD GAME'})                                                                      1\n",
      "Length: 332, dtype: int64\n",
      "131\n"
     ]
    }
   ],
   "source": [
    "# Sorting the antecedents based on highest number of duplicate values or items bought frequently\n",
    "dups_color = df.pivot_table(columns=['antecedents'], aggfunc='size').sort_values(ascending=False)\n",
    "print (dups_color)\n",
    "max_items=dups_color.max()\n",
    "print(max_items)\n"
   ]
  },
  {
   "cell_type": "markdown",
   "id": "da87878e",
   "metadata": {},
   "source": [
    "Here,the above output shows that 'REGENCY CAKESTAND 3 TIER' had the maximum repetition or it had been bought the maximum number of times followed by 'PACK OF 72 RETROSPOT CAKE CASES' and same in case of consequents as well."
   ]
  },
  {
   "cell_type": "code",
   "execution_count": 46,
   "id": "898951cb",
   "metadata": {},
   "outputs": [],
   "source": [
    "new_df1 = df[\"consequents\"]   # Storing consequents "
   ]
  },
  {
   "cell_type": "code",
   "execution_count": 47,
   "id": "af099c34",
   "metadata": {},
   "outputs": [
    {
     "data": {
      "text/plain": [
       "0       False\n",
       "1       False\n",
       "2       False\n",
       "3       False\n",
       "4       False\n",
       "        ...  \n",
       "2161     True\n",
       "2162     True\n",
       "2163     True\n",
       "2164     True\n",
       "2165     True\n",
       "Name: consequents, Length: 2166, dtype: bool"
      ]
     },
     "execution_count": 47,
     "metadata": {},
     "output_type": "execute_result"
    }
   ],
   "source": [
    "new_df1.duplicated()  # Checking which consequents are duplicate or repeating"
   ]
  },
  {
   "cell_type": "code",
   "execution_count": 48,
   "id": "156926b9",
   "metadata": {},
   "outputs": [
    {
     "name": "stdout",
     "output_type": "stream",
     "text": [
      "consequents\n",
      "frozenset({'REGENCY CAKESTAND 3 TIER'})                                                                             131\n",
      "frozenset({'PACK OF 72 RETROSPOT CAKE CASES'})                                                                      115\n",
      "frozenset({'BAKING SET 9 PIECE RETROSPOT'})                                                                          97\n",
      "frozenset({'CHILDRENS CUTLERY POLKADOT PINK'})                                                                       94\n",
      "frozenset({'CHILDRENS CUTLERY DOLLY GIRL'})                                                                          61\n",
      "                                                                                                                   ... \n",
      "frozenset({'PLASTERS IN TIN SPACEBOY', 'SET OF 3 REGENCY CAKE TINS'})                                                 1\n",
      "frozenset({'JAM MAKING SET PRINTED', 'PLASTERS IN TIN WOODLAND ANIMALS'})                                             1\n",
      "frozenset({'PLASTERS IN TIN VINTAGE PAISLEY', 'PLASTERS IN TIN WOODLAND ANIMALS', 'JUMBO BAG WOODLAND ANIMALS'})      1\n",
      "frozenset({'JAM MAKING SET PRINTED', 'JUMBO BAG WOODLAND ANIMALS'})                                                   1\n",
      "frozenset({'VINTAGE HEADS AND TAILS CARD GAME'})                                                                      1\n",
      "Length: 332, dtype: int64\n",
      "131\n"
     ]
    }
   ],
   "source": [
    "# Sorting based on consequents based on the highest number of items bought\n",
    "dups_color1 = df.pivot_table(columns=['consequents'], aggfunc='size').sort_values(ascending=False)\n",
    "print (dups_color1)\n",
    "max_items1=dups_color1.max()\n",
    "print(max_items1)"
   ]
  },
  {
   "cell_type": "code",
   "execution_count": 50,
   "id": "4081c779",
   "metadata": {},
   "outputs": [
    {
     "name": "stdout",
     "output_type": "stream",
     "text": [
      "Requirement already satisfied: matplotlib in /Users/avisharma/opt/anaconda3/lib/python3.9/site-packages (3.5.2)\n",
      "Requirement already satisfied: numpy>=1.17 in /Users/avisharma/opt/anaconda3/lib/python3.9/site-packages (from matplotlib) (1.21.5)\n",
      "Requirement already satisfied: cycler>=0.10 in /Users/avisharma/opt/anaconda3/lib/python3.9/site-packages (from matplotlib) (0.11.0)\n",
      "Requirement already satisfied: packaging>=20.0 in /Users/avisharma/opt/anaconda3/lib/python3.9/site-packages (from matplotlib) (21.3)\n",
      "Requirement already satisfied: python-dateutil>=2.7 in /Users/avisharma/opt/anaconda3/lib/python3.9/site-packages (from matplotlib) (2.8.2)\n",
      "Requirement already satisfied: pyparsing>=2.2.1 in /Users/avisharma/opt/anaconda3/lib/python3.9/site-packages (from matplotlib) (3.0.9)\n",
      "Requirement already satisfied: fonttools>=4.22.0 in /Users/avisharma/opt/anaconda3/lib/python3.9/site-packages (from matplotlib) (4.25.0)\n",
      "Requirement already satisfied: kiwisolver>=1.0.1 in /Users/avisharma/opt/anaconda3/lib/python3.9/site-packages (from matplotlib) (1.4.2)\n",
      "Requirement already satisfied: pillow>=6.2.0 in /Users/avisharma/opt/anaconda3/lib/python3.9/site-packages (from matplotlib) (9.2.0)\n",
      "Requirement already satisfied: six>=1.5 in /Users/avisharma/opt/anaconda3/lib/python3.9/site-packages (from python-dateutil>=2.7->matplotlib) (1.16.0)\n",
      "Note: you may need to restart the kernel to use updated packages.\n"
     ]
    }
   ],
   "source": [
    "pip install matplotlib"
   ]
  },
  {
   "cell_type": "code",
   "execution_count": 52,
   "id": "9f589f0c",
   "metadata": {},
   "outputs": [
    {
     "data": {
      "image/png": "[encoded data removed]",
      "text/plain": [
       "<Figure size 640x480 with 1 Axes>"
      ]
     },
     "metadata": {},
     "output_type": "display_data"
    }
   ],
   "source": [
    "import matplotlib.pyplot as plt\n",
    "\n",
    "\n",
    "plt.bar(max_items1,dups_color1)\n",
    "plt.title('title name')\n",
    "plt.xlabel('x_axis name')\n",
    "plt.ylabel('y_axis name')\n",
    "plt.show()"
   ]
  },
  {
   "cell_type": "code",
   "execution_count": null,
   "id": "bb8d07b8",
   "metadata": {},
   "outputs": [],
   "source": []
  }
 ],
 "metadata": {
  "kernelspec": {
   "display_name": "Python 3 (ipykernel)",
   "language": "python",
   "name": "python3"
  },
  "language_info": {
   "codemirror_mode": {
    "name": "ipython",
    "version": 3
   },
   "file_extension": ".py",
   "mimetype": "text/x-python",
   "name": "python",
   "nbconvert_exporter": "python",
   "pygments_lexer": "ipython3",
   "version": "3.9.13"
  }
 },
 "nbformat": 4,
 "nbformat_minor": 5
}
