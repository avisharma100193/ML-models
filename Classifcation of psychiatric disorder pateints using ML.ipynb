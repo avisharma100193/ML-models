{
 "cells": [
  {
   "cell_type": "code",
   "execution_count": null,
   "id": "94d4e2b3",
   "metadata": {},
   "outputs": [],
   "source": [
    "import pandas as pd                                                  # importing pandas library\n",
    "import numpy as np                                                   # importing numpy library \n",
    "import missingno as msno                                             # importing missingno for finding the missing values\n",
    "from sklearn.preprocessing import LabelEncoder                       # Importing labelEncoder for encoding\n",
    "from sklearn.model_selection import train_test_split                 # Importing train_test_split for splitting dataset\n",
    "from sklearn.preprocessing import MinMaxScaler                       # Importing for normalisation\n",
    "from sklearn.neighbors import KNeighborsClassifier                   # Importing Modelling libraries\n",
    "from sklearn.ensemble import RandomForestClassifier\n",
    "from sklearn.model_selection import RepeatedStratifiedKFold          # Importing for k-fold cross validation\n",
    "import matplotlib.pyplot as plt\n",
    "import warnings\n",
    "warnings.filterwarnings(\"ignore\")"
   ]
  },
  {
   "cell_type": "code",
   "execution_count": null,
   "id": "dc41e9ee",
   "metadata": {},
   "outputs": [],
   "source": [
    "df = pd.read_csv('EEG_machinelearing_data.csv')     # Reading the Dataset and storing into a Dataframe named 'df'\n",
    "df"
   ]
  },
  {
   "cell_type": "markdown",
   "id": "1be75c44",
   "metadata": {},
   "source": [
    "### Data cleaning as a part of data preparation"
   ]
  },
  {
   "cell_type": "code",
   "execution_count": null,
   "id": "3f9dcb7e",
   "metadata": {
    "scrolled": true
   },
   "outputs": [],
   "source": [
    "df.isnull()                                   # finding the values in the columns where there are missing values"
   ]
  },
  {
   "cell_type": "code",
   "execution_count": null,
   "id": "5a53ad82",
   "metadata": {},
   "outputs": [],
   "source": [
    "msno.matrix(df)             # Plotting the graph in order to visualise the missing values"
   ]
  },
  {
   "cell_type": "code",
   "execution_count": null,
   "id": "86a140ec",
   "metadata": {},
   "outputs": [],
   "source": [
    "percent_missing = df.isnull().sum() * 100 / len(df)                        # Finding the percentage of missing values so that if the percentage of missing value is greater than #10% so the column can be dropped.len() is used to find the length of the dataframe \n",
    "missing_value_df = pd.DataFrame({'column_name': df.columns,\n",
    "                                 'percent_missing': percent_missing})         "
   ]
  },
  {
   "cell_type": "markdown",
   "id": "7a63eec1",
   "metadata": {},
   "source": [
    "if percent_missing > 0.00:\n",
    "    print(missing_value_df)"
   ]
  },
  {
   "cell_type": "code",
   "execution_count": null,
   "id": "892d3d63",
   "metadata": {},
   "outputs": [],
   "source": [
    "missing_value_df                                       # printing the missing value percentage in the respective columns"
   ]
  },
  {
   "cell_type": "code",
   "execution_count": null,
   "id": "af70028d",
   "metadata": {},
   "outputs": [],
   "source": [
    "df.fillna(df.median().round(1), inplace=True)     # filling missing numerical values with median\n",
    "print(df)"
   ]
  },
  {
   "cell_type": "code",
   "execution_count": null,
   "id": "d299ce0a",
   "metadata": {},
   "outputs": [],
   "source": [
    "df.isnull()                                 # checking if all numerical values have been replaced or not"
   ]
  },
  {
   "cell_type": "code",
   "execution_count": null,
   "id": "6f95737f",
   "metadata": {},
   "outputs": [],
   "source": [
    "percent_missing = df.isnull().sum() * 100 / len(df)                      \n",
    "missing_value_df = pd.DataFrame({'column_name': df.columns,                 \n",
    "                                 'percent_missing': percent_missing})   # 0 missing values percentage means that all missing numerical values have been filled \n",
    "                                                                         "
   ]
  },
  {
   "cell_type": "code",
   "execution_count": null,
   "id": "b0a8294a",
   "metadata": {},
   "outputs": [],
   "source": [
    "missing_value_df"
   ]
  },
  {
   "cell_type": "code",
   "execution_count": null,
   "id": "712add89",
   "metadata": {},
   "outputs": [],
   "source": [
    "df.dropna(how = 'all', inplace = True)   # for dropping any columns having NaN but since there are no columns "
   ]
  },
  {
   "cell_type": "code",
   "execution_count": null,
   "id": "31a24c9b",
   "metadata": {},
   "outputs": [],
   "source": [
    "column_with_nan = df.columns[df.isna().any()]   # Using this to check if there are any NaN values in the column"
   ]
  },
  {
   "cell_type": "code",
   "execution_count": null,
   "id": "e019171c",
   "metadata": {},
   "outputs": [],
   "source": [
    "# Using For loop to access each columns with NaN value\n",
    "for column in column_with_nan:\n",
    "    # Using .mean() in order to calculate the percentage of the NaN Values in the columns\n",
    "    # It also drops the columns if the percentage of NaN values in the rows is more than 45% just to be safe in order to get rid of remaining NaN\n",
    "    df = df.loc[:, df.isna().mean() <= 0.65]"
   ]
  },
  {
   "cell_type": "code",
   "execution_count": null,
   "id": "9cd0f940",
   "metadata": {},
   "outputs": [],
   "source": [
    "# Using this in order to check if there are any duplicated rows in the dataframe\n",
    "df.duplicated()"
   ]
  },
  {
   "cell_type": "code",
   "execution_count": null,
   "id": "2ca42e40",
   "metadata": {},
   "outputs": [],
   "source": [
    "df  # printing the dataframe 'df' to see if there are any duplicated rows and as shown in the output,there are no duplicated rows "
   ]
  },
  {
   "cell_type": "code",
   "execution_count": null,
   "id": "4b30e19e",
   "metadata": {},
   "outputs": [],
   "source": [
    "# dropping columns which are unnecessary\n",
    "df1=df.drop(['specific.disorder'],axis=1)  # specific disorders column is dropped as classification will be done based on main disorders\n"
   ]
  },
  {
   "cell_type": "code",
   "execution_count": null,
   "id": "337ef151",
   "metadata": {},
   "outputs": [],
   "source": [
    "df2=df1.drop(['no.'], axis=1)   # Index number columns are dropped as they don't affect the classification of psychiatric disorders"
   ]
  },
  {
   "cell_type": "code",
   "execution_count": null,
   "id": "1be01d03",
   "metadata": {},
   "outputs": [],
   "source": [
    "df3=df2.drop(['eeg.date'], axis=1)  # date on which eeg reading is taken also is dropped as it doesn't add any significance to the classification"
   ]
  },
  {
   "cell_type": "code",
   "execution_count": null,
   "id": "fb4c84ac",
   "metadata": {},
   "outputs": [],
   "source": [
    "# Dropping other columns which are irrelevant as sex,IQ,age,education have no impact on the classification of psychiatric disorders based on EEG readings\n",
    "df4=df3.drop(['sex'],axis=1)\n",
    "df5=df4.drop(['IQ'],axis=1)\n",
    "df6=df5.drop(['age'],axis=1)\n",
    "df7=df6.drop(['education'],axis=1)\n"
   ]
  },
  {
   "cell_type": "code",
   "execution_count": null,
   "id": "ff64fae5",
   "metadata": {},
   "outputs": [],
   "source": [
    "df7  # Dsiplaying the new dataframe after dropping columns "
   ]
  },
  {
   "cell_type": "code",
   "execution_count": null,
   "id": "94e8b8b5",
   "metadata": {},
   "outputs": [],
   "source": [
    "df8 = df7.drop_duplicates()  # Earlier duplicated rows were seaarched to be dropped and now duplicate columns were searched to be dropped\n",
    "df8\n",
    "# Since columns which were not logically inconsistent were dropped and now it is just disorder and EEG readings so there is no need for further dropping columns which are logically inconsistent"
   ]
  },
  {
   "cell_type": "code",
   "execution_count": null,
   "id": "6c492c29",
   "metadata": {},
   "outputs": [],
   "source": [
    "df8"
   ]
  },
  {
   "cell_type": "code",
   "execution_count": null,
   "id": "38476080",
   "metadata": {},
   "outputs": [],
   "source": [
    "print(df8['disorder'].unique())    # using unique() to see the unique values in 'disorder' column\n"
   ]
  },
  {
   "cell_type": "code",
   "execution_count": null,
   "id": "45f8873a",
   "metadata": {
    "scrolled": true
   },
   "outputs": [],
   "source": [
    "# # Exploratory data analysis used to discover trends, patterns, or to check assumptions with the help of statistical summary and graphical representations\n",
    "\n",
    "df8.describe()    # For descriptive statistics\n"
   ]
  },
  {
   "cell_type": "code",
   "execution_count": null,
   "id": "d939884b",
   "metadata": {},
   "outputs": [],
   "source": [
    "df8.median() # calculating the median of the dataframe"
   ]
  },
  {
   "cell_type": "code",
   "execution_count": null,
   "id": "71e41b97",
   "metadata": {},
   "outputs": [],
   "source": [
    "df8['disorder'].mode()  # calculating the mode of the dataframe"
   ]
  },
  {
   "cell_type": "code",
   "execution_count": null,
   "id": "eda28930",
   "metadata": {},
   "outputs": [],
   "source": [
    "# Splits into Numeric Data\n",
    "numeric_data = df8.select_dtypes(include=[np.number])\n",
    "# Splits into Categorical Data\n",
    "categorical_data = df8.select_dtypes(exclude=[np.number])\n"
   ]
  },
  {
   "cell_type": "code",
   "execution_count": null,
   "id": "62739678",
   "metadata": {},
   "outputs": [],
   "source": [
    "# Storing the name of the numeric data column into a separate list\n",
    "numeric_cols = numeric_data.columns.values\n",
    "\n",
    "# Storing the name of the categorical data column into a separate list\n",
    "categorical_cols = categorical_data.columns.values"
   ]
  },
  {
   "cell_type": "code",
   "execution_count": null,
   "id": "cc5e33d7",
   "metadata": {},
   "outputs": [],
   "source": [
    "# Printing the column names of the numeric data\n",
    "print(numeric_cols)"
   ]
  },
  {
   "cell_type": "code",
   "execution_count": null,
   "id": "a83b9446",
   "metadata": {},
   "outputs": [],
   "source": [
    "# Printing the column names of the categorical data\n",
    "print(categorical_cols)"
   ]
  },
  {
   "cell_type": "code",
   "execution_count": null,
   "id": "6d6843b5",
   "metadata": {},
   "outputs": [],
   "source": [
    "df8['disorder']"
   ]
  },
  {
   "cell_type": "code",
   "execution_count": null,
   "id": "8b6bbecb",
   "metadata": {},
   "outputs": [],
   "source": [
    "numeric_cols\n"
   ]
  },
  {
   "cell_type": "markdown",
   "id": "5fd8008e",
   "metadata": {},
   "source": [
    "### visual representation of data (histograms,Q-Q plots and boxplots)"
   ]
  },
  {
   "cell_type": "code",
   "execution_count": null,
   "id": "f5aa64a4",
   "metadata": {
    "scrolled": true
   },
   "outputs": [],
   "source": [
    "\n",
    "for x in numeric_cols[:]:\n",
    "    fig, ax = plt.subplots(1,1)\n",
    "    ax.hist(numeric_data[x])                        # creating histograms in order to check the spread of the data\n",
    "    ax.set_title(\"Histogram of \"+x)\n",
    "    ax.set_xlabel(x+\" feature value\")\n",
    "    ax.set_ylabel(\"Frequency\")\n",
    "    plt.show()"
   ]
  },
  {
   "cell_type": "code",
   "execution_count": null,
   "id": "3c7c3a01",
   "metadata": {},
   "outputs": [],
   "source": [
    "print(df8.columns.tolist())           # Converting columns into list for getting all variables at one place to be used in q-q plots plotting and further"
   ]
  },
  {
   "cell_type": "code",
   "execution_count": null,
   "id": "9f5fa0e0",
   "metadata": {
    "scrolled": true
   },
   "outputs": [],
   "source": [
    "# plotting Q-Q plots for all the variables\n",
    "import statsmodels.api as sm\n",
    "arr3=['AB.A.delta.a.FP1', 'AB.A.delta.b.FP2', 'AB.A.delta.c.F7', 'AB.A.delta.d.F3', 'AB.A.delta.e.Fz', 'AB.A.delta.f.F4', 'AB.A.delta.g.F8', 'AB.A.delta.h.T3', 'AB.A.delta.i.C3', 'AB.A.delta.j.Cz', 'AB.A.delta.k.C4', 'AB.A.delta.l.T4', 'AB.A.delta.m.T5', 'AB.A.delta.n.P3', 'AB.A.delta.o.Pz', 'AB.A.delta.p.P4', 'AB.A.delta.q.T6', 'AB.A.delta.r.O1', 'AB.A.delta.s.O2', 'AB.B.theta.a.FP1', 'AB.B.theta.b.FP2', 'AB.B.theta.c.F7', 'AB.B.theta.d.F3', 'AB.B.theta.e.Fz', 'AB.B.theta.f.F4', 'AB.B.theta.g.F8', 'AB.B.theta.h.T3', 'AB.B.theta.i.C3', 'AB.B.theta.j.Cz', 'AB.B.theta.k.C4', 'AB.B.theta.l.T4', 'AB.B.theta.m.T5', 'AB.B.theta.n.P3', 'AB.B.theta.o.Pz', 'AB.B.theta.p.P4', 'AB.B.theta.q.T6', 'AB.B.theta.r.O1', 'AB.B.theta.s.O2', 'AB.C.alpha.a.FP1', 'AB.C.alpha.b.FP2', 'AB.C.alpha.c.F7', 'AB.C.alpha.d.F3', 'AB.C.alpha.e.Fz', 'AB.C.alpha.f.F4', 'AB.C.alpha.g.F8', 'AB.C.alpha.h.T3', 'AB.C.alpha.i.C3', 'AB.C.alpha.j.Cz', 'AB.C.alpha.k.C4', 'AB.C.alpha.l.T4', 'AB.C.alpha.m.T5', 'AB.C.alpha.n.P3', 'AB.C.alpha.o.Pz', 'AB.C.alpha.p.P4', 'AB.C.alpha.q.T6', 'AB.C.alpha.r.O1', 'AB.C.alpha.s.O2', 'AB.D.beta.a.FP1', 'AB.D.beta.b.FP2', 'AB.D.beta.c.F7', 'AB.D.beta.d.F3', 'AB.D.beta.e.Fz', 'AB.D.beta.f.F4', 'AB.D.beta.g.F8', 'AB.D.beta.h.T3', 'AB.D.beta.i.C3', 'AB.D.beta.j.Cz', 'AB.D.beta.k.C4', 'AB.D.beta.l.T4', 'AB.D.beta.m.T5', 'AB.D.beta.n.P3', 'AB.D.beta.o.Pz', 'AB.D.beta.p.P4', 'AB.D.beta.q.T6', 'AB.D.beta.r.O1', 'AB.D.beta.s.O2', 'AB.E.highbeta.a.FP1', 'AB.E.highbeta.b.FP2', 'AB.E.highbeta.c.F7', 'AB.E.highbeta.d.F3', 'AB.E.highbeta.e.Fz', 'AB.E.highbeta.f.F4', 'AB.E.highbeta.g.F8', 'AB.E.highbeta.h.T3', 'AB.E.highbeta.i.C3', 'AB.E.highbeta.j.Cz', 'AB.E.highbeta.k.C4', 'AB.E.highbeta.l.T4', 'AB.E.highbeta.m.T5', 'AB.E.highbeta.n.P3', 'AB.E.highbeta.o.Pz', 'AB.E.highbeta.p.P4', 'AB.E.highbeta.q.T6', 'AB.E.highbeta.r.O1', 'AB.E.highbeta.s.O2', 'AB.F.gamma.a.FP1', 'AB.F.gamma.b.FP2', 'AB.F.gamma.c.F7', 'AB.F.gamma.d.F3', 'AB.F.gamma.e.Fz', 'AB.F.gamma.f.F4', 'AB.F.gamma.g.F8', 'AB.F.gamma.h.T3', 'AB.F.gamma.i.C3', 'AB.F.gamma.j.Cz', 'AB.F.gamma.k.C4', 'AB.F.gamma.l.T4', 'AB.F.gamma.m.T5', 'AB.F.gamma.n.P3', 'AB.F.gamma.o.Pz', 'AB.F.gamma.p.P4', 'AB.F.gamma.q.T6', 'AB.F.gamma.r.O1', 'AB.F.gamma.s.O2', 'COH.A.delta.a.FP1.b.FP2', 'COH.A.delta.a.FP1.c.F7', 'COH.A.delta.a.FP1.d.F3', 'COH.A.delta.a.FP1.e.Fz', 'COH.A.delta.a.FP1.f.F4', 'COH.A.delta.a.FP1.g.F8', 'COH.A.delta.a.FP1.h.T3', 'COH.A.delta.a.FP1.i.C3', 'COH.A.delta.a.FP1.j.Cz', 'COH.A.delta.a.FP1.k.C4', 'COH.A.delta.a.FP1.l.T4', 'COH.A.delta.a.FP1.m.T5', 'COH.A.delta.a.FP1.n.P3', 'COH.A.delta.a.FP1.o.Pz', 'COH.A.delta.a.FP1.p.P4', 'COH.A.delta.a.FP1.q.T6', 'COH.A.delta.a.FP1.r.O1', 'COH.A.delta.a.FP1.s.O2', 'COH.A.delta.b.FP2.c.F7', 'COH.A.delta.b.FP2.d.F3', 'COH.A.delta.b.FP2.e.Fz', 'COH.A.delta.b.FP2.f.F4', 'COH.A.delta.b.FP2.g.F8', 'COH.A.delta.b.FP2.h.T3', 'COH.A.delta.b.FP2.i.C3', 'COH.A.delta.b.FP2.j.Cz', 'COH.A.delta.b.FP2.k.C4', 'COH.A.delta.b.FP2.l.T4', 'COH.A.delta.b.FP2.m.T5', 'COH.A.delta.b.FP2.n.P3', 'COH.A.delta.b.FP2.o.Pz', 'COH.A.delta.b.FP2.p.P4', 'COH.A.delta.b.FP2.q.T6', 'COH.A.delta.b.FP2.r.O1', 'COH.A.delta.b.FP2.s.O2', 'COH.A.delta.c.F7.d.F3', 'COH.A.delta.c.F7.e.Fz', 'COH.A.delta.c.F7.f.F4', 'COH.A.delta.c.F7.g.F8', 'COH.A.delta.c.F7.h.T3', 'COH.A.delta.c.F7.i.C3', 'COH.A.delta.c.F7.j.Cz', 'COH.A.delta.c.F7.k.C4', 'COH.A.delta.c.F7.l.T4', 'COH.A.delta.c.F7.m.T5', 'COH.A.delta.c.F7.n.P3', 'COH.A.delta.c.F7.o.Pz', 'COH.A.delta.c.F7.p.P4', 'COH.A.delta.c.F7.q.T6', 'COH.A.delta.c.F7.r.O1', 'COH.A.delta.c.F7.s.O2', 'COH.A.delta.d.F3.e.Fz', 'COH.A.delta.d.F3.f.F4', 'COH.A.delta.d.F3.g.F8', 'COH.A.delta.d.F3.h.T3', 'COH.A.delta.d.F3.i.C3', 'COH.A.delta.d.F3.j.Cz', 'COH.A.delta.d.F3.k.C4', 'COH.A.delta.d.F3.l.T4', 'COH.A.delta.d.F3.m.T5', 'COH.A.delta.d.F3.n.P3', 'COH.A.delta.d.F3.o.Pz', 'COH.A.delta.d.F3.p.P4', 'COH.A.delta.d.F3.q.T6', 'COH.A.delta.d.F3.r.O1', 'COH.A.delta.d.F3.s.O2', 'COH.A.delta.e.Fz.f.F4', 'COH.A.delta.e.Fz.g.F8', 'COH.A.delta.e.Fz.h.T3', 'COH.A.delta.e.Fz.i.C3', 'COH.A.delta.e.Fz.j.Cz', 'COH.A.delta.e.Fz.k.C4', 'COH.A.delta.e.Fz.l.T4', 'COH.A.delta.e.Fz.m.T5', 'COH.A.delta.e.Fz.n.P3', 'COH.A.delta.e.Fz.o.Pz', 'COH.A.delta.e.Fz.p.P4', 'COH.A.delta.e.Fz.q.T6', 'COH.A.delta.e.Fz.r.O1', 'COH.A.delta.e.Fz.s.O2', 'COH.A.delta.f.F4.g.F8', 'COH.A.delta.f.F4.h.T3', 'COH.A.delta.f.F4.i.C3', 'COH.A.delta.f.F4.j.Cz', 'COH.A.delta.f.F4.k.C4', 'COH.A.delta.f.F4.l.T4', 'COH.A.delta.f.F4.m.T5', 'COH.A.delta.f.F4.n.P3', 'COH.A.delta.f.F4.o.Pz', 'COH.A.delta.f.F4.p.P4', 'COH.A.delta.f.F4.q.T6', 'COH.A.delta.f.F4.r.O1', 'COH.A.delta.f.F4.s.O2', 'COH.A.delta.g.F8.h.T3', 'COH.A.delta.g.F8.i.C3', 'COH.A.delta.g.F8.j.Cz', 'COH.A.delta.g.F8.k.C4', 'COH.A.delta.g.F8.l.T4', 'COH.A.delta.g.F8.m.T5', 'COH.A.delta.g.F8.n.P3', 'COH.A.delta.g.F8.o.Pz', 'COH.A.delta.g.F8.p.P4', 'COH.A.delta.g.F8.q.T6', 'COH.A.delta.g.F8.r.O1', 'COH.A.delta.g.F8.s.O2', 'COH.A.delta.h.T3.i.C3', 'COH.A.delta.h.T3.j.Cz', 'COH.A.delta.h.T3.k.C4', 'COH.A.delta.h.T3.l.T4', 'COH.A.delta.h.T3.m.T5', 'COH.A.delta.h.T3.n.P3', 'COH.A.delta.h.T3.o.Pz', 'COH.A.delta.h.T3.p.P4', 'COH.A.delta.h.T3.q.T6', 'COH.A.delta.h.T3.r.O1', 'COH.A.delta.h.T3.s.O2', 'COH.A.delta.i.C3.j.Cz', 'COH.A.delta.i.C3.k.C4', 'COH.A.delta.i.C3.l.T4', 'COH.A.delta.i.C3.m.T5', 'COH.A.delta.i.C3.n.P3', 'COH.A.delta.i.C3.o.Pz', 'COH.A.delta.i.C3.p.P4', 'COH.A.delta.i.C3.q.T6', 'COH.A.delta.i.C3.r.O1', 'COH.A.delta.i.C3.s.O2', 'COH.A.delta.j.Cz.k.C4', 'COH.A.delta.j.Cz.l.T4', 'COH.A.delta.j.Cz.m.T5', 'COH.A.delta.j.Cz.n.P3', 'COH.A.delta.j.Cz.o.Pz', 'COH.A.delta.j.Cz.p.P4', 'COH.A.delta.j.Cz.q.T6', 'COH.A.delta.j.Cz.r.O1', 'COH.A.delta.j.Cz.s.O2', 'COH.A.delta.k.C4.l.T4', 'COH.A.delta.k.C4.m.T5', 'COH.A.delta.k.C4.n.P3', 'COH.A.delta.k.C4.o.Pz', 'COH.A.delta.k.C4.p.P4', 'COH.A.delta.k.C4.q.T6', 'COH.A.delta.k.C4.r.O1', 'COH.A.delta.k.C4.s.O2', 'COH.A.delta.l.T4.m.T5', 'COH.A.delta.l.T4.n.P3', 'COH.A.delta.l.T4.o.Pz', 'COH.A.delta.l.T4.p.P4', 'COH.A.delta.l.T4.q.T6', 'COH.A.delta.l.T4.r.O1', 'COH.A.delta.l.T4.s.O2', 'COH.A.delta.m.T5.n.P3', 'COH.A.delta.m.T5.o.Pz', 'COH.A.delta.m.T5.p.P4', 'COH.A.delta.m.T5.q.T6', 'COH.A.delta.m.T5.r.O1', 'COH.A.delta.m.T5.s.O2', 'COH.A.delta.n.P3.o.Pz', 'COH.A.delta.n.P3.p.P4', 'COH.A.delta.n.P3.q.T6', 'COH.A.delta.n.P3.r.O1', 'COH.A.delta.n.P3.s.O2', 'COH.A.delta.o.Pz.p.P4', 'COH.A.delta.o.Pz.q.T6', 'COH.A.delta.o.Pz.r.O1', 'COH.A.delta.o.Pz.s.O2', 'COH.A.delta.p.P4.q.T6', 'COH.A.delta.p.P4.r.O1', 'COH.A.delta.p.P4.s.O2', 'COH.A.delta.q.T6.r.O1', 'COH.A.delta.q.T6.s.O2', 'COH.A.delta.r.O1.s.O2', 'COH.B.theta.a.FP1.b.FP2', 'COH.B.theta.a.FP1.c.F7', 'COH.B.theta.a.FP1.d.F3', 'COH.B.theta.a.FP1.e.Fz', 'COH.B.theta.a.FP1.f.F4', 'COH.B.theta.a.FP1.g.F8', 'COH.B.theta.a.FP1.h.T3', 'COH.B.theta.a.FP1.i.C3', 'COH.B.theta.a.FP1.j.Cz', 'COH.B.theta.a.FP1.k.C4', 'COH.B.theta.a.FP1.l.T4', 'COH.B.theta.a.FP1.m.T5', 'COH.B.theta.a.FP1.n.P3', 'COH.B.theta.a.FP1.o.Pz', 'COH.B.theta.a.FP1.p.P4', 'COH.B.theta.a.FP1.q.T6', 'COH.B.theta.a.FP1.r.O1', 'COH.B.theta.a.FP1.s.O2', 'COH.B.theta.b.FP2.c.F7', 'COH.B.theta.b.FP2.d.F3', 'COH.B.theta.b.FP2.e.Fz', 'COH.B.theta.b.FP2.f.F4', 'COH.B.theta.b.FP2.g.F8', 'COH.B.theta.b.FP2.h.T3', 'COH.B.theta.b.FP2.i.C3', 'COH.B.theta.b.FP2.j.Cz', 'COH.B.theta.b.FP2.k.C4', 'COH.B.theta.b.FP2.l.T4', 'COH.B.theta.b.FP2.m.T5', 'COH.B.theta.b.FP2.n.P3', 'COH.B.theta.b.FP2.o.Pz', 'COH.B.theta.b.FP2.p.P4', 'COH.B.theta.b.FP2.q.T6', 'COH.B.theta.b.FP2.r.O1', 'COH.B.theta.b.FP2.s.O2', 'COH.B.theta.c.F7.d.F3', 'COH.B.theta.c.F7.e.Fz', 'COH.B.theta.c.F7.f.F4', 'COH.B.theta.c.F7.g.F8', 'COH.B.theta.c.F7.h.T3', 'COH.B.theta.c.F7.i.C3', 'COH.B.theta.c.F7.j.Cz', 'COH.B.theta.c.F7.k.C4', 'COH.B.theta.c.F7.l.T4', 'COH.B.theta.c.F7.m.T5', 'COH.B.theta.c.F7.n.P3', 'COH.B.theta.c.F7.o.Pz', 'COH.B.theta.c.F7.p.P4', 'COH.B.theta.c.F7.q.T6', 'COH.B.theta.c.F7.r.O1', 'COH.B.theta.c.F7.s.O2', 'COH.B.theta.d.F3.e.Fz', 'COH.B.theta.d.F3.f.F4', 'COH.B.theta.d.F3.g.F8', 'COH.B.theta.d.F3.h.T3', 'COH.B.theta.d.F3.i.C3', 'COH.B.theta.d.F3.j.Cz', 'COH.B.theta.d.F3.k.C4', 'COH.B.theta.d.F3.l.T4', 'COH.B.theta.d.F3.m.T5', 'COH.B.theta.d.F3.n.P3', 'COH.B.theta.d.F3.o.Pz', 'COH.B.theta.d.F3.p.P4', 'COH.B.theta.d.F3.q.T6', 'COH.B.theta.d.F3.r.O1', 'COH.B.theta.d.F3.s.O2', 'COH.B.theta.e.Fz.f.F4', 'COH.B.theta.e.Fz.g.F8', 'COH.B.theta.e.Fz.h.T3', 'COH.B.theta.e.Fz.i.C3', 'COH.B.theta.e.Fz.j.Cz', 'COH.B.theta.e.Fz.k.C4', 'COH.B.theta.e.Fz.l.T4', 'COH.B.theta.e.Fz.m.T5', 'COH.B.theta.e.Fz.n.P3', 'COH.B.theta.e.Fz.o.Pz', 'COH.B.theta.e.Fz.p.P4', 'COH.B.theta.e.Fz.q.T6', 'COH.B.theta.e.Fz.r.O1', 'COH.B.theta.e.Fz.s.O2', 'COH.B.theta.f.F4.g.F8', 'COH.B.theta.f.F4.h.T3', 'COH.B.theta.f.F4.i.C3', 'COH.B.theta.f.F4.j.Cz', 'COH.B.theta.f.F4.k.C4', 'COH.B.theta.f.F4.l.T4', 'COH.B.theta.f.F4.m.T5', 'COH.B.theta.f.F4.n.P3', 'COH.B.theta.f.F4.o.Pz', 'COH.B.theta.f.F4.p.P4', 'COH.B.theta.f.F4.q.T6', 'COH.B.theta.f.F4.r.O1', 'COH.B.theta.f.F4.s.O2', 'COH.B.theta.g.F8.h.T3', 'COH.B.theta.g.F8.i.C3', 'COH.B.theta.g.F8.j.Cz', 'COH.B.theta.g.F8.k.C4', 'COH.B.theta.g.F8.l.T4', 'COH.B.theta.g.F8.m.T5', 'COH.B.theta.g.F8.n.P3', 'COH.B.theta.g.F8.o.Pz', 'COH.B.theta.g.F8.p.P4', 'COH.B.theta.g.F8.q.T6', 'COH.B.theta.g.F8.r.O1', 'COH.B.theta.g.F8.s.O2', 'COH.B.theta.h.T3.i.C3', 'COH.B.theta.h.T3.j.Cz', 'COH.B.theta.h.T3.k.C4', 'COH.B.theta.h.T3.l.T4', 'COH.B.theta.h.T3.m.T5', 'COH.B.theta.h.T3.n.P3', 'COH.B.theta.h.T3.o.Pz', 'COH.B.theta.h.T3.p.P4', 'COH.B.theta.h.T3.q.T6', 'COH.B.theta.h.T3.r.O1', 'COH.B.theta.h.T3.s.O2', 'COH.B.theta.i.C3.j.Cz', 'COH.B.theta.i.C3.k.C4', 'COH.B.theta.i.C3.l.T4', 'COH.B.theta.i.C3.m.T5', 'COH.B.theta.i.C3.n.P3', 'COH.B.theta.i.C3.o.Pz', 'COH.B.theta.i.C3.p.P4', 'COH.B.theta.i.C3.q.T6', 'COH.B.theta.i.C3.r.O1', 'COH.B.theta.i.C3.s.O2', 'COH.B.theta.j.Cz.k.C4', 'COH.B.theta.j.Cz.l.T4', 'COH.B.theta.j.Cz.m.T5', 'COH.B.theta.j.Cz.n.P3', 'COH.B.theta.j.Cz.o.Pz', 'COH.B.theta.j.Cz.p.P4', 'COH.B.theta.j.Cz.q.T6', 'COH.B.theta.j.Cz.r.O1', 'COH.B.theta.j.Cz.s.O2', 'COH.B.theta.k.C4.l.T4', 'COH.B.theta.k.C4.m.T5', 'COH.B.theta.k.C4.n.P3', 'COH.B.theta.k.C4.o.Pz', 'COH.B.theta.k.C4.p.P4', 'COH.B.theta.k.C4.q.T6', 'COH.B.theta.k.C4.r.O1', 'COH.B.theta.k.C4.s.O2', 'COH.B.theta.l.T4.m.T5', 'COH.B.theta.l.T4.n.P3', 'COH.B.theta.l.T4.o.Pz', 'COH.B.theta.l.T4.p.P4', 'COH.B.theta.l.T4.q.T6', 'COH.B.theta.l.T4.r.O1', 'COH.B.theta.l.T4.s.O2', 'COH.B.theta.m.T5.n.P3', 'COH.B.theta.m.T5.o.Pz', 'COH.B.theta.m.T5.p.P4', 'COH.B.theta.m.T5.q.T6', 'COH.B.theta.m.T5.r.O1', 'COH.B.theta.m.T5.s.O2', 'COH.B.theta.n.P3.o.Pz', 'COH.B.theta.n.P3.p.P4', 'COH.B.theta.n.P3.q.T6', 'COH.B.theta.n.P3.r.O1', 'COH.B.theta.n.P3.s.O2', 'COH.B.theta.o.Pz.p.P4', 'COH.B.theta.o.Pz.q.T6', 'COH.B.theta.o.Pz.r.O1', 'COH.B.theta.o.Pz.s.O2', 'COH.B.theta.p.P4.q.T6', 'COH.B.theta.p.P4.r.O1', 'COH.B.theta.p.P4.s.O2', 'COH.B.theta.q.T6.r.O1', 'COH.B.theta.q.T6.s.O2', 'COH.B.theta.r.O1.s.O2', 'COH.C.alpha.a.FP1.b.FP2', 'COH.C.alpha.a.FP1.c.F7', 'COH.C.alpha.a.FP1.d.F3', 'COH.C.alpha.a.FP1.e.Fz', 'COH.C.alpha.a.FP1.f.F4', 'COH.C.alpha.a.FP1.g.F8', 'COH.C.alpha.a.FP1.h.T3', 'COH.C.alpha.a.FP1.i.C3', 'COH.C.alpha.a.FP1.j.Cz', 'COH.C.alpha.a.FP1.k.C4', 'COH.C.alpha.a.FP1.l.T4', 'COH.C.alpha.a.FP1.m.T5', 'COH.C.alpha.a.FP1.n.P3', 'COH.C.alpha.a.FP1.o.Pz', 'COH.C.alpha.a.FP1.p.P4', 'COH.C.alpha.a.FP1.q.T6', 'COH.C.alpha.a.FP1.r.O1', 'COH.C.alpha.a.FP1.s.O2', 'COH.C.alpha.b.FP2.c.F7', 'COH.C.alpha.b.FP2.d.F3', 'COH.C.alpha.b.FP2.e.Fz', 'COH.C.alpha.b.FP2.f.F4', 'COH.C.alpha.b.FP2.g.F8', 'COH.C.alpha.b.FP2.h.T3', 'COH.C.alpha.b.FP2.i.C3', 'COH.C.alpha.b.FP2.j.Cz', 'COH.C.alpha.b.FP2.k.C4', 'COH.C.alpha.b.FP2.l.T4', 'COH.C.alpha.b.FP2.m.T5', 'COH.C.alpha.b.FP2.n.P3', 'COH.C.alpha.b.FP2.o.Pz', 'COH.C.alpha.b.FP2.p.P4', 'COH.C.alpha.b.FP2.q.T6', 'COH.C.alpha.b.FP2.r.O1', 'COH.C.alpha.b.FP2.s.O2', 'COH.C.alpha.c.F7.d.F3', 'COH.C.alpha.c.F7.e.Fz', 'COH.C.alpha.c.F7.f.F4', 'COH.C.alpha.c.F7.g.F8', 'COH.C.alpha.c.F7.h.T3', 'COH.C.alpha.c.F7.i.C3', 'COH.C.alpha.c.F7.j.Cz', 'COH.C.alpha.c.F7.k.C4', 'COH.C.alpha.c.F7.l.T4', 'COH.C.alpha.c.F7.m.T5', 'COH.C.alpha.c.F7.n.P3', 'COH.C.alpha.c.F7.o.Pz', 'COH.C.alpha.c.F7.p.P4', 'COH.C.alpha.c.F7.q.T6', 'COH.C.alpha.c.F7.r.O1', 'COH.C.alpha.c.F7.s.O2', 'COH.C.alpha.d.F3.e.Fz', 'COH.C.alpha.d.F3.f.F4', 'COH.C.alpha.d.F3.g.F8', 'COH.C.alpha.d.F3.h.T3', 'COH.C.alpha.d.F3.i.C3', 'COH.C.alpha.d.F3.j.Cz', 'COH.C.alpha.d.F3.k.C4', 'COH.C.alpha.d.F3.l.T4', 'COH.C.alpha.d.F3.m.T5', 'COH.C.alpha.d.F3.n.P3', 'COH.C.alpha.d.F3.o.Pz', 'COH.C.alpha.d.F3.p.P4', 'COH.C.alpha.d.F3.q.T6', 'COH.C.alpha.d.F3.r.O1', 'COH.C.alpha.d.F3.s.O2', 'COH.C.alpha.e.Fz.f.F4', 'COH.C.alpha.e.Fz.g.F8', 'COH.C.alpha.e.Fz.h.T3', 'COH.C.alpha.e.Fz.i.C3', 'COH.C.alpha.e.Fz.j.Cz', 'COH.C.alpha.e.Fz.k.C4', 'COH.C.alpha.e.Fz.l.T4', 'COH.C.alpha.e.Fz.m.T5', 'COH.C.alpha.e.Fz.n.P3', 'COH.C.alpha.e.Fz.o.Pz', 'COH.C.alpha.e.Fz.p.P4', 'COH.C.alpha.e.Fz.q.T6', 'COH.C.alpha.e.Fz.r.O1', 'COH.C.alpha.e.Fz.s.O2', 'COH.C.alpha.f.F4.g.F8', 'COH.C.alpha.f.F4.h.T3', 'COH.C.alpha.f.F4.i.C3', 'COH.C.alpha.f.F4.j.Cz', 'COH.C.alpha.f.F4.k.C4', 'COH.C.alpha.f.F4.l.T4', 'COH.C.alpha.f.F4.m.T5', 'COH.C.alpha.f.F4.n.P3', 'COH.C.alpha.f.F4.o.Pz', 'COH.C.alpha.f.F4.p.P4', 'COH.C.alpha.f.F4.q.T6', 'COH.C.alpha.f.F4.r.O1', 'COH.C.alpha.f.F4.s.O2', 'COH.C.alpha.g.F8.h.T3', 'COH.C.alpha.g.F8.i.C3', 'COH.C.alpha.g.F8.j.Cz', 'COH.C.alpha.g.F8.k.C4', 'COH.C.alpha.g.F8.l.T4', 'COH.C.alpha.g.F8.m.T5', 'COH.C.alpha.g.F8.n.P3', 'COH.C.alpha.g.F8.o.Pz', 'COH.C.alpha.g.F8.p.P4', 'COH.C.alpha.g.F8.q.T6', 'COH.C.alpha.g.F8.r.O1', 'COH.C.alpha.g.F8.s.O2', 'COH.C.alpha.h.T3.i.C3', 'COH.C.alpha.h.T3.j.Cz', 'COH.C.alpha.h.T3.k.C4', 'COH.C.alpha.h.T3.l.T4', 'COH.C.alpha.h.T3.m.T5', 'COH.C.alpha.h.T3.n.P3', 'COH.C.alpha.h.T3.o.Pz', 'COH.C.alpha.h.T3.p.P4', 'COH.C.alpha.h.T3.q.T6', 'COH.C.alpha.h.T3.r.O1', 'COH.C.alpha.h.T3.s.O2', 'COH.C.alpha.i.C3.j.Cz', 'COH.C.alpha.i.C3.k.C4', 'COH.C.alpha.i.C3.l.T4', 'COH.C.alpha.i.C3.m.T5', 'COH.C.alpha.i.C3.n.P3', 'COH.C.alpha.i.C3.o.Pz', 'COH.C.alpha.i.C3.p.P4', 'COH.C.alpha.i.C3.q.T6', 'COH.C.alpha.i.C3.r.O1', 'COH.C.alpha.i.C3.s.O2', 'COH.C.alpha.j.Cz.k.C4', 'COH.C.alpha.j.Cz.l.T4', 'COH.C.alpha.j.Cz.m.T5', 'COH.C.alpha.j.Cz.n.P3', 'COH.C.alpha.j.Cz.o.Pz', 'COH.C.alpha.j.Cz.p.P4', 'COH.C.alpha.j.Cz.q.T6', 'COH.C.alpha.j.Cz.r.O1', 'COH.C.alpha.j.Cz.s.O2', 'COH.C.alpha.k.C4.l.T4', 'COH.C.alpha.k.C4.m.T5', 'COH.C.alpha.k.C4.n.P3', 'COH.C.alpha.k.C4.o.Pz', 'COH.C.alpha.k.C4.p.P4', 'COH.C.alpha.k.C4.q.T6', 'COH.C.alpha.k.C4.r.O1', 'COH.C.alpha.k.C4.s.O2', 'COH.C.alpha.l.T4.m.T5', 'COH.C.alpha.l.T4.n.P3', 'COH.C.alpha.l.T4.o.Pz', 'COH.C.alpha.l.T4.p.P4', 'COH.C.alpha.l.T4.q.T6', 'COH.C.alpha.l.T4.r.O1', 'COH.C.alpha.l.T4.s.O2', 'COH.C.alpha.m.T5.n.P3', 'COH.C.alpha.m.T5.o.Pz', 'COH.C.alpha.m.T5.p.P4', 'COH.C.alpha.m.T5.q.T6', 'COH.C.alpha.m.T5.r.O1', 'COH.C.alpha.m.T5.s.O2', 'COH.C.alpha.n.P3.o.Pz', 'COH.C.alpha.n.P3.p.P4', 'COH.C.alpha.n.P3.q.T6', 'COH.C.alpha.n.P3.r.O1', 'COH.C.alpha.n.P3.s.O2', 'COH.C.alpha.o.Pz.p.P4', 'COH.C.alpha.o.Pz.q.T6', 'COH.C.alpha.o.Pz.r.O1', 'COH.C.alpha.o.Pz.s.O2', 'COH.C.alpha.p.P4.q.T6', 'COH.C.alpha.p.P4.r.O1', 'COH.C.alpha.p.P4.s.O2', 'COH.C.alpha.q.T6.r.O1', 'COH.C.alpha.q.T6.s.O2', 'COH.C.alpha.r.O1.s.O2', 'COH.D.beta.a.FP1.b.FP2', 'COH.D.beta.a.FP1.c.F7', 'COH.D.beta.a.FP1.d.F3', 'COH.D.beta.a.FP1.e.Fz', 'COH.D.beta.a.FP1.f.F4', 'COH.D.beta.a.FP1.g.F8', 'COH.D.beta.a.FP1.h.T3', 'COH.D.beta.a.FP1.i.C3', 'COH.D.beta.a.FP1.j.Cz', 'COH.D.beta.a.FP1.k.C4', 'COH.D.beta.a.FP1.l.T4', 'COH.D.beta.a.FP1.m.T5', 'COH.D.beta.a.FP1.n.P3', 'COH.D.beta.a.FP1.o.Pz', 'COH.D.beta.a.FP1.p.P4', 'COH.D.beta.a.FP1.q.T6', 'COH.D.beta.a.FP1.r.O1', 'COH.D.beta.a.FP1.s.O2', 'COH.D.beta.b.FP2.c.F7', 'COH.D.beta.b.FP2.d.F3', 'COH.D.beta.b.FP2.e.Fz', 'COH.D.beta.b.FP2.f.F4', 'COH.D.beta.b.FP2.g.F8', 'COH.D.beta.b.FP2.h.T3', 'COH.D.beta.b.FP2.i.C3', 'COH.D.beta.b.FP2.j.Cz', 'COH.D.beta.b.FP2.k.C4', 'COH.D.beta.b.FP2.l.T4', 'COH.D.beta.b.FP2.m.T5', 'COH.D.beta.b.FP2.n.P3', 'COH.D.beta.b.FP2.o.Pz', 'COH.D.beta.b.FP2.p.P4', 'COH.D.beta.b.FP2.q.T6', 'COH.D.beta.b.FP2.r.O1', 'COH.D.beta.b.FP2.s.O2', 'COH.D.beta.c.F7.d.F3', 'COH.D.beta.c.F7.e.Fz', 'COH.D.beta.c.F7.f.F4', 'COH.D.beta.c.F7.g.F8', 'COH.D.beta.c.F7.h.T3', 'COH.D.beta.c.F7.i.C3', 'COH.D.beta.c.F7.j.Cz', 'COH.D.beta.c.F7.k.C4', 'COH.D.beta.c.F7.l.T4', 'COH.D.beta.c.F7.m.T5', 'COH.D.beta.c.F7.n.P3', 'COH.D.beta.c.F7.o.Pz', 'COH.D.beta.c.F7.p.P4', 'COH.D.beta.c.F7.q.T6', 'COH.D.beta.c.F7.r.O1', 'COH.D.beta.c.F7.s.O2', 'COH.D.beta.d.F3.e.Fz', 'COH.D.beta.d.F3.f.F4', 'COH.D.beta.d.F3.g.F8', 'COH.D.beta.d.F3.h.T3', 'COH.D.beta.d.F3.i.C3', 'COH.D.beta.d.F3.j.Cz', 'COH.D.beta.d.F3.k.C4', 'COH.D.beta.d.F3.l.T4', 'COH.D.beta.d.F3.m.T5', 'COH.D.beta.d.F3.n.P3', 'COH.D.beta.d.F3.o.Pz', 'COH.D.beta.d.F3.p.P4', 'COH.D.beta.d.F3.q.T6', 'COH.D.beta.d.F3.r.O1', 'COH.D.beta.d.F3.s.O2', 'COH.D.beta.e.Fz.f.F4', 'COH.D.beta.e.Fz.g.F8', 'COH.D.beta.e.Fz.h.T3', 'COH.D.beta.e.Fz.i.C3', 'COH.D.beta.e.Fz.j.Cz', 'COH.D.beta.e.Fz.k.C4', 'COH.D.beta.e.Fz.l.T4', 'COH.D.beta.e.Fz.m.T5', 'COH.D.beta.e.Fz.n.P3', 'COH.D.beta.e.Fz.o.Pz', 'COH.D.beta.e.Fz.p.P4', 'COH.D.beta.e.Fz.q.T6', 'COH.D.beta.e.Fz.r.O1', 'COH.D.beta.e.Fz.s.O2', 'COH.D.beta.f.F4.g.F8', 'COH.D.beta.f.F4.h.T3', 'COH.D.beta.f.F4.i.C3', 'COH.D.beta.f.F4.j.Cz', 'COH.D.beta.f.F4.k.C4', 'COH.D.beta.f.F4.l.T4', 'COH.D.beta.f.F4.m.T5', 'COH.D.beta.f.F4.n.P3', 'COH.D.beta.f.F4.o.Pz', 'COH.D.beta.f.F4.p.P4', 'COH.D.beta.f.F4.q.T6', 'COH.D.beta.f.F4.r.O1', 'COH.D.beta.f.F4.s.O2', 'COH.D.beta.g.F8.h.T3', 'COH.D.beta.g.F8.i.C3', 'COH.D.beta.g.F8.j.Cz', 'COH.D.beta.g.F8.k.C4', 'COH.D.beta.g.F8.l.T4', 'COH.D.beta.g.F8.m.T5', 'COH.D.beta.g.F8.n.P3', 'COH.D.beta.g.F8.o.Pz', 'COH.D.beta.g.F8.p.P4', 'COH.D.beta.g.F8.q.T6', 'COH.D.beta.g.F8.r.O1', 'COH.D.beta.g.F8.s.O2', 'COH.D.beta.h.T3.i.C3', 'COH.D.beta.h.T3.j.Cz', 'COH.D.beta.h.T3.k.C4', 'COH.D.beta.h.T3.l.T4', 'COH.D.beta.h.T3.m.T5', 'COH.D.beta.h.T3.n.P3', 'COH.D.beta.h.T3.o.Pz', 'COH.D.beta.h.T3.p.P4', 'COH.D.beta.h.T3.q.T6', 'COH.D.beta.h.T3.r.O1', 'COH.D.beta.h.T3.s.O2', 'COH.D.beta.i.C3.j.Cz', 'COH.D.beta.i.C3.k.C4', 'COH.D.beta.i.C3.l.T4', 'COH.D.beta.i.C3.m.T5', 'COH.D.beta.i.C3.n.P3', 'COH.D.beta.i.C3.o.Pz', 'COH.D.beta.i.C3.p.P4', 'COH.D.beta.i.C3.q.T6', 'COH.D.beta.i.C3.r.O1', 'COH.D.beta.i.C3.s.O2', 'COH.D.beta.j.Cz.k.C4', 'COH.D.beta.j.Cz.l.T4', 'COH.D.beta.j.Cz.m.T5', 'COH.D.beta.j.Cz.n.P3', 'COH.D.beta.j.Cz.o.Pz', 'COH.D.beta.j.Cz.p.P4', 'COH.D.beta.j.Cz.q.T6', 'COH.D.beta.j.Cz.r.O1', 'COH.D.beta.j.Cz.s.O2', 'COH.D.beta.k.C4.l.T4', 'COH.D.beta.k.C4.m.T5', 'COH.D.beta.k.C4.n.P3', 'COH.D.beta.k.C4.o.Pz', 'COH.D.beta.k.C4.p.P4', 'COH.D.beta.k.C4.q.T6', 'COH.D.beta.k.C4.r.O1', 'COH.D.beta.k.C4.s.O2', 'COH.D.beta.l.T4.m.T5', 'COH.D.beta.l.T4.n.P3', 'COH.D.beta.l.T4.o.Pz', 'COH.D.beta.l.T4.p.P4', 'COH.D.beta.l.T4.q.T6', 'COH.D.beta.l.T4.r.O1', 'COH.D.beta.l.T4.s.O2', 'COH.D.beta.m.T5.n.P3', 'COH.D.beta.m.T5.o.Pz', 'COH.D.beta.m.T5.p.P4', 'COH.D.beta.m.T5.q.T6', 'COH.D.beta.m.T5.r.O1', 'COH.D.beta.m.T5.s.O2', 'COH.D.beta.n.P3.o.Pz', 'COH.D.beta.n.P3.p.P4', 'COH.D.beta.n.P3.q.T6', 'COH.D.beta.n.P3.r.O1', 'COH.D.beta.n.P3.s.O2', 'COH.D.beta.o.Pz.p.P4', 'COH.D.beta.o.Pz.q.T6', 'COH.D.beta.o.Pz.r.O1', 'COH.D.beta.o.Pz.s.O2', 'COH.D.beta.p.P4.q.T6', 'COH.D.beta.p.P4.r.O1', 'COH.D.beta.p.P4.s.O2', 'COH.D.beta.q.T6.r.O1', 'COH.D.beta.q.T6.s.O2', 'COH.D.beta.r.O1.s.O2', 'COH.E.highbeta.a.FP1.b.FP2', 'COH.E.highbeta.a.FP1.c.F7', 'COH.E.highbeta.a.FP1.d.F3', 'COH.E.highbeta.a.FP1.e.Fz', 'COH.E.highbeta.a.FP1.f.F4', 'COH.E.highbeta.a.FP1.g.F8', 'COH.E.highbeta.a.FP1.h.T3', 'COH.E.highbeta.a.FP1.i.C3', 'COH.E.highbeta.a.FP1.j.Cz', 'COH.E.highbeta.a.FP1.k.C4', 'COH.E.highbeta.a.FP1.l.T4', 'COH.E.highbeta.a.FP1.m.T5', 'COH.E.highbeta.a.FP1.n.P3', 'COH.E.highbeta.a.FP1.o.Pz', 'COH.E.highbeta.a.FP1.p.P4', 'COH.E.highbeta.a.FP1.q.T6', 'COH.E.highbeta.a.FP1.r.O1', 'COH.E.highbeta.a.FP1.s.O2', 'COH.E.highbeta.b.FP2.c.F7', 'COH.E.highbeta.b.FP2.d.F3', 'COH.E.highbeta.b.FP2.e.Fz', 'COH.E.highbeta.b.FP2.f.F4', 'COH.E.highbeta.b.FP2.g.F8', 'COH.E.highbeta.b.FP2.h.T3', 'COH.E.highbeta.b.FP2.i.C3', 'COH.E.highbeta.b.FP2.j.Cz', 'COH.E.highbeta.b.FP2.k.C4', 'COH.E.highbeta.b.FP2.l.T4', 'COH.E.highbeta.b.FP2.m.T5', 'COH.E.highbeta.b.FP2.n.P3', 'COH.E.highbeta.b.FP2.o.Pz', 'COH.E.highbeta.b.FP2.p.P4', 'COH.E.highbeta.b.FP2.q.T6', 'COH.E.highbeta.b.FP2.r.O1', 'COH.E.highbeta.b.FP2.s.O2', 'COH.E.highbeta.c.F7.d.F3', 'COH.E.highbeta.c.F7.e.Fz', 'COH.E.highbeta.c.F7.f.F4', 'COH.E.highbeta.c.F7.g.F8', 'COH.E.highbeta.c.F7.h.T3', 'COH.E.highbeta.c.F7.i.C3', 'COH.E.highbeta.c.F7.j.Cz', 'COH.E.highbeta.c.F7.k.C4', 'COH.E.highbeta.c.F7.l.T4', 'COH.E.highbeta.c.F7.m.T5', 'COH.E.highbeta.c.F7.n.P3', 'COH.E.highbeta.c.F7.o.Pz', 'COH.E.highbeta.c.F7.p.P4', 'COH.E.highbeta.c.F7.q.T6', 'COH.E.highbeta.c.F7.r.O1', 'COH.E.highbeta.c.F7.s.O2', 'COH.E.highbeta.d.F3.e.Fz', 'COH.E.highbeta.d.F3.f.F4', 'COH.E.highbeta.d.F3.g.F8', 'COH.E.highbeta.d.F3.h.T3', 'COH.E.highbeta.d.F3.i.C3', 'COH.E.highbeta.d.F3.j.Cz', 'COH.E.highbeta.d.F3.k.C4', 'COH.E.highbeta.d.F3.l.T4', 'COH.E.highbeta.d.F3.m.T5', 'COH.E.highbeta.d.F3.n.P3', 'COH.E.highbeta.d.F3.o.Pz', 'COH.E.highbeta.d.F3.p.P4', 'COH.E.highbeta.d.F3.q.T6', 'COH.E.highbeta.d.F3.r.O1', 'COH.E.highbeta.d.F3.s.O2', 'COH.E.highbeta.e.Fz.f.F4', 'COH.E.highbeta.e.Fz.g.F8', 'COH.E.highbeta.e.Fz.h.T3', 'COH.E.highbeta.e.Fz.i.C3', 'COH.E.highbeta.e.Fz.j.Cz', 'COH.E.highbeta.e.Fz.k.C4', 'COH.E.highbeta.e.Fz.l.T4', 'COH.E.highbeta.e.Fz.m.T5', 'COH.E.highbeta.e.Fz.n.P3', 'COH.E.highbeta.e.Fz.o.Pz', 'COH.E.highbeta.e.Fz.p.P4', 'COH.E.highbeta.e.Fz.q.T6', 'COH.E.highbeta.e.Fz.r.O1', 'COH.E.highbeta.e.Fz.s.O2', 'COH.E.highbeta.f.F4.g.F8', 'COH.E.highbeta.f.F4.h.T3', 'COH.E.highbeta.f.F4.i.C3', 'COH.E.highbeta.f.F4.j.Cz', 'COH.E.highbeta.f.F4.k.C4', 'COH.E.highbeta.f.F4.l.T4', 'COH.E.highbeta.f.F4.m.T5', 'COH.E.highbeta.f.F4.n.P3', 'COH.E.highbeta.f.F4.o.Pz', 'COH.E.highbeta.f.F4.p.P4', 'COH.E.highbeta.f.F4.q.T6', 'COH.E.highbeta.f.F4.r.O1', 'COH.E.highbeta.f.F4.s.O2', 'COH.E.highbeta.g.F8.h.T3', 'COH.E.highbeta.g.F8.i.C3', 'COH.E.highbeta.g.F8.j.Cz', 'COH.E.highbeta.g.F8.k.C4', 'COH.E.highbeta.g.F8.l.T4', 'COH.E.highbeta.g.F8.m.T5', 'COH.E.highbeta.g.F8.n.P3', 'COH.E.highbeta.g.F8.o.Pz', 'COH.E.highbeta.g.F8.p.P4', 'COH.E.highbeta.g.F8.q.T6', 'COH.E.highbeta.g.F8.r.O1', 'COH.E.highbeta.g.F8.s.O2', 'COH.E.highbeta.h.T3.i.C3', 'COH.E.highbeta.h.T3.j.Cz', 'COH.E.highbeta.h.T3.k.C4', 'COH.E.highbeta.h.T3.l.T4', 'COH.E.highbeta.h.T3.m.T5', 'COH.E.highbeta.h.T3.n.P3', 'COH.E.highbeta.h.T3.o.Pz', 'COH.E.highbeta.h.T3.p.P4', 'COH.E.highbeta.h.T3.q.T6', 'COH.E.highbeta.h.T3.r.O1', 'COH.E.highbeta.h.T3.s.O2', 'COH.E.highbeta.i.C3.j.Cz', 'COH.E.highbeta.i.C3.k.C4', 'COH.E.highbeta.i.C3.l.T4', 'COH.E.highbeta.i.C3.m.T5', 'COH.E.highbeta.i.C3.n.P3', 'COH.E.highbeta.i.C3.o.Pz', 'COH.E.highbeta.i.C3.p.P4', 'COH.E.highbeta.i.C3.q.T6', 'COH.E.highbeta.i.C3.r.O1', 'COH.E.highbeta.i.C3.s.O2', 'COH.E.highbeta.j.Cz.k.C4', 'COH.E.highbeta.j.Cz.l.T4', 'COH.E.highbeta.j.Cz.m.T5', 'COH.E.highbeta.j.Cz.n.P3', 'COH.E.highbeta.j.Cz.o.Pz', 'COH.E.highbeta.j.Cz.p.P4', 'COH.E.highbeta.j.Cz.q.T6', 'COH.E.highbeta.j.Cz.r.O1', 'COH.E.highbeta.j.Cz.s.O2', 'COH.E.highbeta.k.C4.l.T4', 'COH.E.highbeta.k.C4.m.T5', 'COH.E.highbeta.k.C4.n.P3', 'COH.E.highbeta.k.C4.o.Pz', 'COH.E.highbeta.k.C4.p.P4', 'COH.E.highbeta.k.C4.q.T6', 'COH.E.highbeta.k.C4.r.O1', 'COH.E.highbeta.k.C4.s.O2', 'COH.E.highbeta.l.T4.m.T5', 'COH.E.highbeta.l.T4.n.P3', 'COH.E.highbeta.l.T4.o.Pz', 'COH.E.highbeta.l.T4.p.P4', 'COH.E.highbeta.l.T4.q.T6', 'COH.E.highbeta.l.T4.r.O1', 'COH.E.highbeta.l.T4.s.O2', 'COH.E.highbeta.m.T5.n.P3', 'COH.E.highbeta.m.T5.o.Pz', 'COH.E.highbeta.m.T5.p.P4', 'COH.E.highbeta.m.T5.q.T6', 'COH.E.highbeta.m.T5.r.O1', 'COH.E.highbeta.m.T5.s.O2', 'COH.E.highbeta.n.P3.o.Pz', 'COH.E.highbeta.n.P3.p.P4', 'COH.E.highbeta.n.P3.q.T6', 'COH.E.highbeta.n.P3.r.O1', 'COH.E.highbeta.n.P3.s.O2', 'COH.E.highbeta.o.Pz.p.P4', 'COH.E.highbeta.o.Pz.q.T6', 'COH.E.highbeta.o.Pz.r.O1', 'COH.E.highbeta.o.Pz.s.O2', 'COH.E.highbeta.p.P4.q.T6', 'COH.E.highbeta.p.P4.r.O1', 'COH.E.highbeta.p.P4.s.O2', 'COH.E.highbeta.q.T6.r.O1', 'COH.E.highbeta.q.T6.s.O2', 'COH.E.highbeta.r.O1.s.O2', 'COH.F.gamma.a.FP1.b.FP2', 'COH.F.gamma.a.FP1.c.F7', 'COH.F.gamma.a.FP1.d.F3', 'COH.F.gamma.a.FP1.e.Fz', 'COH.F.gamma.a.FP1.f.F4', 'COH.F.gamma.a.FP1.g.F8', 'COH.F.gamma.a.FP1.h.T3', 'COH.F.gamma.a.FP1.i.C3', 'COH.F.gamma.a.FP1.j.Cz', 'COH.F.gamma.a.FP1.k.C4', 'COH.F.gamma.a.FP1.l.T4', 'COH.F.gamma.a.FP1.m.T5', 'COH.F.gamma.a.FP1.n.P3', 'COH.F.gamma.a.FP1.o.Pz', 'COH.F.gamma.a.FP1.p.P4', 'COH.F.gamma.a.FP1.q.T6', 'COH.F.gamma.a.FP1.r.O1', 'COH.F.gamma.a.FP1.s.O2', 'COH.F.gamma.b.FP2.c.F7', 'COH.F.gamma.b.FP2.d.F3', 'COH.F.gamma.b.FP2.e.Fz', 'COH.F.gamma.b.FP2.f.F4', 'COH.F.gamma.b.FP2.g.F8', 'COH.F.gamma.b.FP2.h.T3', 'COH.F.gamma.b.FP2.i.C3', 'COH.F.gamma.b.FP2.j.Cz', 'COH.F.gamma.b.FP2.k.C4', 'COH.F.gamma.b.FP2.l.T4', 'COH.F.gamma.b.FP2.m.T5', 'COH.F.gamma.b.FP2.n.P3', 'COH.F.gamma.b.FP2.o.Pz', 'COH.F.gamma.b.FP2.p.P4', 'COH.F.gamma.b.FP2.q.T6', 'COH.F.gamma.b.FP2.r.O1', 'COH.F.gamma.b.FP2.s.O2', 'COH.F.gamma.c.F7.d.F3', 'COH.F.gamma.c.F7.e.Fz', 'COH.F.gamma.c.F7.f.F4', 'COH.F.gamma.c.F7.g.F8', 'COH.F.gamma.c.F7.h.T3', 'COH.F.gamma.c.F7.i.C3', 'COH.F.gamma.c.F7.j.Cz', 'COH.F.gamma.c.F7.k.C4', 'COH.F.gamma.c.F7.l.T4', 'COH.F.gamma.c.F7.m.T5', 'COH.F.gamma.c.F7.n.P3', 'COH.F.gamma.c.F7.o.Pz', 'COH.F.gamma.c.F7.p.P4', 'COH.F.gamma.c.F7.q.T6', 'COH.F.gamma.c.F7.r.O1', 'COH.F.gamma.c.F7.s.O2', 'COH.F.gamma.d.F3.e.Fz', 'COH.F.gamma.d.F3.f.F4', 'COH.F.gamma.d.F3.g.F8', 'COH.F.gamma.d.F3.h.T3', 'COH.F.gamma.d.F3.i.C3', 'COH.F.gamma.d.F3.j.Cz', 'COH.F.gamma.d.F3.k.C4', 'COH.F.gamma.d.F3.l.T4', 'COH.F.gamma.d.F3.m.T5', 'COH.F.gamma.d.F3.n.P3', 'COH.F.gamma.d.F3.o.Pz', 'COH.F.gamma.d.F3.p.P4', 'COH.F.gamma.d.F3.q.T6', 'COH.F.gamma.d.F3.r.O1', 'COH.F.gamma.d.F3.s.O2', 'COH.F.gamma.e.Fz.f.F4', 'COH.F.gamma.e.Fz.g.F8', 'COH.F.gamma.e.Fz.h.T3', 'COH.F.gamma.e.Fz.i.C3', 'COH.F.gamma.e.Fz.j.Cz', 'COH.F.gamma.e.Fz.k.C4', 'COH.F.gamma.e.Fz.l.T4', 'COH.F.gamma.e.Fz.m.T5', 'COH.F.gamma.e.Fz.n.P3', 'COH.F.gamma.e.Fz.o.Pz', 'COH.F.gamma.e.Fz.p.P4', 'COH.F.gamma.e.Fz.q.T6', 'COH.F.gamma.e.Fz.r.O1', 'COH.F.gamma.e.Fz.s.O2', 'COH.F.gamma.f.F4.g.F8', 'COH.F.gamma.f.F4.h.T3', 'COH.F.gamma.f.F4.i.C3', 'COH.F.gamma.f.F4.j.Cz', 'COH.F.gamma.f.F4.k.C4', 'COH.F.gamma.f.F4.l.T4', 'COH.F.gamma.f.F4.m.T5', 'COH.F.gamma.f.F4.n.P3', 'COH.F.gamma.f.F4.o.Pz', 'COH.F.gamma.f.F4.p.P4', 'COH.F.gamma.f.F4.q.T6', 'COH.F.gamma.f.F4.r.O1', 'COH.F.gamma.f.F4.s.O2', 'COH.F.gamma.g.F8.h.T3', 'COH.F.gamma.g.F8.i.C3', 'COH.F.gamma.g.F8.j.Cz', 'COH.F.gamma.g.F8.k.C4', 'COH.F.gamma.g.F8.l.T4', 'COH.F.gamma.g.F8.m.T5', 'COH.F.gamma.g.F8.n.P3', 'COH.F.gamma.g.F8.o.Pz', 'COH.F.gamma.g.F8.p.P4', 'COH.F.gamma.g.F8.q.T6', 'COH.F.gamma.g.F8.r.O1', 'COH.F.gamma.g.F8.s.O2', 'COH.F.gamma.h.T3.i.C3', 'COH.F.gamma.h.T3.j.Cz', 'COH.F.gamma.h.T3.k.C4', 'COH.F.gamma.h.T3.l.T4', 'COH.F.gamma.h.T3.m.T5', 'COH.F.gamma.h.T3.n.P3', 'COH.F.gamma.h.T3.o.Pz', 'COH.F.gamma.h.T3.p.P4', 'COH.F.gamma.h.T3.q.T6', 'COH.F.gamma.h.T3.r.O1', 'COH.F.gamma.h.T3.s.O2', 'COH.F.gamma.i.C3.j.Cz', 'COH.F.gamma.i.C3.k.C4', 'COH.F.gamma.i.C3.l.T4', 'COH.F.gamma.i.C3.m.T5', 'COH.F.gamma.i.C3.n.P3', 'COH.F.gamma.i.C3.o.Pz', 'COH.F.gamma.i.C3.p.P4', 'COH.F.gamma.i.C3.q.T6', 'COH.F.gamma.i.C3.r.O1', 'COH.F.gamma.i.C3.s.O2', 'COH.F.gamma.j.Cz.k.C4', 'COH.F.gamma.j.Cz.l.T4', 'COH.F.gamma.j.Cz.m.T5', 'COH.F.gamma.j.Cz.n.P3', 'COH.F.gamma.j.Cz.o.Pz', 'COH.F.gamma.j.Cz.p.P4', 'COH.F.gamma.j.Cz.q.T6', 'COH.F.gamma.j.Cz.r.O1', 'COH.F.gamma.j.Cz.s.O2', 'COH.F.gamma.k.C4.l.T4', 'COH.F.gamma.k.C4.m.T5', 'COH.F.gamma.k.C4.n.P3', 'COH.F.gamma.k.C4.o.Pz', 'COH.F.gamma.k.C4.p.P4', 'COH.F.gamma.k.C4.q.T6', 'COH.F.gamma.k.C4.r.O1', 'COH.F.gamma.k.C4.s.O2', 'COH.F.gamma.l.T4.m.T5', 'COH.F.gamma.l.T4.n.P3', 'COH.F.gamma.l.T4.o.Pz', 'COH.F.gamma.l.T4.p.P4', 'COH.F.gamma.l.T4.q.T6', 'COH.F.gamma.l.T4.r.O1', 'COH.F.gamma.l.T4.s.O2', 'COH.F.gamma.m.T5.n.P3', 'COH.F.gamma.m.T5.o.Pz', 'COH.F.gamma.m.T5.p.P4', 'COH.F.gamma.m.T5.q.T6', 'COH.F.gamma.m.T5.r.O1', 'COH.F.gamma.m.T5.s.O2', 'COH.F.gamma.n.P3.o.Pz', 'COH.F.gamma.n.P3.p.P4', 'COH.F.gamma.n.P3.q.T6', 'COH.F.gamma.n.P3.r.O1', 'COH.F.gamma.n.P3.s.O2', 'COH.F.gamma.o.Pz.p.P4', 'COH.F.gamma.o.Pz.q.T6', 'COH.F.gamma.o.Pz.r.O1', 'COH.F.gamma.o.Pz.s.O2', 'COH.F.gamma.p.P4.q.T6', 'COH.F.gamma.p.P4.r.O1', 'COH.F.gamma.p.P4.s.O2', 'COH.F.gamma.q.T6.r.O1', 'COH.F.gamma.q.T6.s.O2', 'COH.F.gamma.r.O1.s.O2']\n",
    "for i in arr3:\n",
    "     fig=sm.qqplot(numeric_data[i],line='45',xlabel=\"Theoretical \"+i,ylabel=i+\" feature value in the dataset\") \n",
    "     plt.show()"
   ]
  },
  {
   "cell_type": "code",
   "execution_count": null,
   "id": "34d7fdf1",
   "metadata": {
    "scrolled": true
   },
   "outputs": [],
   "source": [
    "# Plotting boxplots as a part of graphical reprsentation of data\n",
    "\n",
    "arr2=['AB.A.delta.a.FP1', 'AB.A.delta.b.FP2', 'AB.A.delta.c.F7', 'AB.A.delta.d.F3', 'AB.A.delta.e.Fz', 'AB.A.delta.f.F4', 'AB.A.delta.g.F8', 'AB.A.delta.h.T3', 'AB.A.delta.i.C3', 'AB.A.delta.j.Cz', 'AB.A.delta.k.C4', 'AB.A.delta.l.T4', 'AB.A.delta.m.T5', 'AB.A.delta.n.P3', 'AB.A.delta.o.Pz', 'AB.A.delta.p.P4', 'AB.A.delta.q.T6', 'AB.A.delta.r.O1', 'AB.A.delta.s.O2', 'AB.B.theta.a.FP1', 'AB.B.theta.b.FP2', 'AB.B.theta.c.F7', 'AB.B.theta.d.F3', 'AB.B.theta.e.Fz', 'AB.B.theta.f.F4', 'AB.B.theta.g.F8', 'AB.B.theta.h.T3', 'AB.B.theta.i.C3', 'AB.B.theta.j.Cz', 'AB.B.theta.k.C4', 'AB.B.theta.l.T4', 'AB.B.theta.m.T5', 'AB.B.theta.n.P3', 'AB.B.theta.o.Pz', 'AB.B.theta.p.P4', 'AB.B.theta.q.T6', 'AB.B.theta.r.O1', 'AB.B.theta.s.O2', 'AB.C.alpha.a.FP1', 'AB.C.alpha.b.FP2', 'AB.C.alpha.c.F7', 'AB.C.alpha.d.F3', 'AB.C.alpha.e.Fz', 'AB.C.alpha.f.F4', 'AB.C.alpha.g.F8', 'AB.C.alpha.h.T3', 'AB.C.alpha.i.C3', 'AB.C.alpha.j.Cz', 'AB.C.alpha.k.C4', 'AB.C.alpha.l.T4', 'AB.C.alpha.m.T5', 'AB.C.alpha.n.P3', 'AB.C.alpha.o.Pz', 'AB.C.alpha.p.P4', 'AB.C.alpha.q.T6', 'AB.C.alpha.r.O1', 'AB.C.alpha.s.O2', 'AB.D.beta.a.FP1', 'AB.D.beta.b.FP2', 'AB.D.beta.c.F7', 'AB.D.beta.d.F3', 'AB.D.beta.e.Fz', 'AB.D.beta.f.F4', 'AB.D.beta.g.F8', 'AB.D.beta.h.T3', 'AB.D.beta.i.C3', 'AB.D.beta.j.Cz', 'AB.D.beta.k.C4', 'AB.D.beta.l.T4', 'AB.D.beta.m.T5', 'AB.D.beta.n.P3', 'AB.D.beta.o.Pz', 'AB.D.beta.p.P4', 'AB.D.beta.q.T6', 'AB.D.beta.r.O1', 'AB.D.beta.s.O2', 'AB.E.highbeta.a.FP1', 'AB.E.highbeta.b.FP2', 'AB.E.highbeta.c.F7', 'AB.E.highbeta.d.F3', 'AB.E.highbeta.e.Fz', 'AB.E.highbeta.f.F4', 'AB.E.highbeta.g.F8', 'AB.E.highbeta.h.T3', 'AB.E.highbeta.i.C3', 'AB.E.highbeta.j.Cz', 'AB.E.highbeta.k.C4', 'AB.E.highbeta.l.T4', 'AB.E.highbeta.m.T5', 'AB.E.highbeta.n.P3', 'AB.E.highbeta.o.Pz', 'AB.E.highbeta.p.P4', 'AB.E.highbeta.q.T6', 'AB.E.highbeta.r.O1', 'AB.E.highbeta.s.O2', 'AB.F.gamma.a.FP1', 'AB.F.gamma.b.FP2', 'AB.F.gamma.c.F7', 'AB.F.gamma.d.F3', 'AB.F.gamma.e.Fz', 'AB.F.gamma.f.F4', 'AB.F.gamma.g.F8', 'AB.F.gamma.h.T3', 'AB.F.gamma.i.C3', 'AB.F.gamma.j.Cz', 'AB.F.gamma.k.C4', 'AB.F.gamma.l.T4', 'AB.F.gamma.m.T5', 'AB.F.gamma.n.P3', 'AB.F.gamma.o.Pz', 'AB.F.gamma.p.P4', 'AB.F.gamma.q.T6', 'AB.F.gamma.r.O1', 'AB.F.gamma.s.O2', 'COH.A.delta.a.FP1.b.FP2', 'COH.A.delta.a.FP1.c.F7', 'COH.A.delta.a.FP1.d.F3', 'COH.A.delta.a.FP1.e.Fz', 'COH.A.delta.a.FP1.f.F4', 'COH.A.delta.a.FP1.g.F8', 'COH.A.delta.a.FP1.h.T3', 'COH.A.delta.a.FP1.i.C3', 'COH.A.delta.a.FP1.j.Cz', 'COH.A.delta.a.FP1.k.C4', 'COH.A.delta.a.FP1.l.T4', 'COH.A.delta.a.FP1.m.T5', 'COH.A.delta.a.FP1.n.P3', 'COH.A.delta.a.FP1.o.Pz', 'COH.A.delta.a.FP1.p.P4', 'COH.A.delta.a.FP1.q.T6', 'COH.A.delta.a.FP1.r.O1', 'COH.A.delta.a.FP1.s.O2', 'COH.A.delta.b.FP2.c.F7', 'COH.A.delta.b.FP2.d.F3', 'COH.A.delta.b.FP2.e.Fz', 'COH.A.delta.b.FP2.f.F4', 'COH.A.delta.b.FP2.g.F8', 'COH.A.delta.b.FP2.h.T3', 'COH.A.delta.b.FP2.i.C3', 'COH.A.delta.b.FP2.j.Cz', 'COH.A.delta.b.FP2.k.C4', 'COH.A.delta.b.FP2.l.T4', 'COH.A.delta.b.FP2.m.T5', 'COH.A.delta.b.FP2.n.P3', 'COH.A.delta.b.FP2.o.Pz', 'COH.A.delta.b.FP2.p.P4', 'COH.A.delta.b.FP2.q.T6', 'COH.A.delta.b.FP2.r.O1', 'COH.A.delta.b.FP2.s.O2', 'COH.A.delta.c.F7.d.F3', 'COH.A.delta.c.F7.e.Fz', 'COH.A.delta.c.F7.f.F4', 'COH.A.delta.c.F7.g.F8', 'COH.A.delta.c.F7.h.T3', 'COH.A.delta.c.F7.i.C3', 'COH.A.delta.c.F7.j.Cz', 'COH.A.delta.c.F7.k.C4', 'COH.A.delta.c.F7.l.T4', 'COH.A.delta.c.F7.m.T5', 'COH.A.delta.c.F7.n.P3', 'COH.A.delta.c.F7.o.Pz', 'COH.A.delta.c.F7.p.P4', 'COH.A.delta.c.F7.q.T6', 'COH.A.delta.c.F7.r.O1', 'COH.A.delta.c.F7.s.O2', 'COH.A.delta.d.F3.e.Fz', 'COH.A.delta.d.F3.f.F4', 'COH.A.delta.d.F3.g.F8', 'COH.A.delta.d.F3.h.T3', 'COH.A.delta.d.F3.i.C3', 'COH.A.delta.d.F3.j.Cz', 'COH.A.delta.d.F3.k.C4', 'COH.A.delta.d.F3.l.T4', 'COH.A.delta.d.F3.m.T5', 'COH.A.delta.d.F3.n.P3', 'COH.A.delta.d.F3.o.Pz', 'COH.A.delta.d.F3.p.P4', 'COH.A.delta.d.F3.q.T6', 'COH.A.delta.d.F3.r.O1', 'COH.A.delta.d.F3.s.O2', 'COH.A.delta.e.Fz.f.F4', 'COH.A.delta.e.Fz.g.F8', 'COH.A.delta.e.Fz.h.T3', 'COH.A.delta.e.Fz.i.C3', 'COH.A.delta.e.Fz.j.Cz', 'COH.A.delta.e.Fz.k.C4', 'COH.A.delta.e.Fz.l.T4', 'COH.A.delta.e.Fz.m.T5', 'COH.A.delta.e.Fz.n.P3', 'COH.A.delta.e.Fz.o.Pz', 'COH.A.delta.e.Fz.p.P4', 'COH.A.delta.e.Fz.q.T6', 'COH.A.delta.e.Fz.r.O1', 'COH.A.delta.e.Fz.s.O2', 'COH.A.delta.f.F4.g.F8', 'COH.A.delta.f.F4.h.T3', 'COH.A.delta.f.F4.i.C3', 'COH.A.delta.f.F4.j.Cz', 'COH.A.delta.f.F4.k.C4', 'COH.A.delta.f.F4.l.T4', 'COH.A.delta.f.F4.m.T5', 'COH.A.delta.f.F4.n.P3', 'COH.A.delta.f.F4.o.Pz', 'COH.A.delta.f.F4.p.P4', 'COH.A.delta.f.F4.q.T6', 'COH.A.delta.f.F4.r.O1', 'COH.A.delta.f.F4.s.O2', 'COH.A.delta.g.F8.h.T3', 'COH.A.delta.g.F8.i.C3', 'COH.A.delta.g.F8.j.Cz', 'COH.A.delta.g.F8.k.C4', 'COH.A.delta.g.F8.l.T4', 'COH.A.delta.g.F8.m.T5', 'COH.A.delta.g.F8.n.P3', 'COH.A.delta.g.F8.o.Pz', 'COH.A.delta.g.F8.p.P4', 'COH.A.delta.g.F8.q.T6', 'COH.A.delta.g.F8.r.O1', 'COH.A.delta.g.F8.s.O2', 'COH.A.delta.h.T3.i.C3', 'COH.A.delta.h.T3.j.Cz', 'COH.A.delta.h.T3.k.C4', 'COH.A.delta.h.T3.l.T4', 'COH.A.delta.h.T3.m.T5', 'COH.A.delta.h.T3.n.P3', 'COH.A.delta.h.T3.o.Pz', 'COH.A.delta.h.T3.p.P4', 'COH.A.delta.h.T3.q.T6', 'COH.A.delta.h.T3.r.O1', 'COH.A.delta.h.T3.s.O2', 'COH.A.delta.i.C3.j.Cz', 'COH.A.delta.i.C3.k.C4', 'COH.A.delta.i.C3.l.T4', 'COH.A.delta.i.C3.m.T5', 'COH.A.delta.i.C3.n.P3', 'COH.A.delta.i.C3.o.Pz', 'COH.A.delta.i.C3.p.P4', 'COH.A.delta.i.C3.q.T6', 'COH.A.delta.i.C3.r.O1', 'COH.A.delta.i.C3.s.O2', 'COH.A.delta.j.Cz.k.C4', 'COH.A.delta.j.Cz.l.T4', 'COH.A.delta.j.Cz.m.T5', 'COH.A.delta.j.Cz.n.P3', 'COH.A.delta.j.Cz.o.Pz', 'COH.A.delta.j.Cz.p.P4', 'COH.A.delta.j.Cz.q.T6', 'COH.A.delta.j.Cz.r.O1', 'COH.A.delta.j.Cz.s.O2', 'COH.A.delta.k.C4.l.T4', 'COH.A.delta.k.C4.m.T5', 'COH.A.delta.k.C4.n.P3', 'COH.A.delta.k.C4.o.Pz', 'COH.A.delta.k.C4.p.P4', 'COH.A.delta.k.C4.q.T6', 'COH.A.delta.k.C4.r.O1', 'COH.A.delta.k.C4.s.O2', 'COH.A.delta.l.T4.m.T5', 'COH.A.delta.l.T4.n.P3', 'COH.A.delta.l.T4.o.Pz', 'COH.A.delta.l.T4.p.P4', 'COH.A.delta.l.T4.q.T6', 'COH.A.delta.l.T4.r.O1', 'COH.A.delta.l.T4.s.O2', 'COH.A.delta.m.T5.n.P3', 'COH.A.delta.m.T5.o.Pz', 'COH.A.delta.m.T5.p.P4', 'COH.A.delta.m.T5.q.T6', 'COH.A.delta.m.T5.r.O1', 'COH.A.delta.m.T5.s.O2', 'COH.A.delta.n.P3.o.Pz', 'COH.A.delta.n.P3.p.P4', 'COH.A.delta.n.P3.q.T6', 'COH.A.delta.n.P3.r.O1', 'COH.A.delta.n.P3.s.O2', 'COH.A.delta.o.Pz.p.P4', 'COH.A.delta.o.Pz.q.T6', 'COH.A.delta.o.Pz.r.O1', 'COH.A.delta.o.Pz.s.O2', 'COH.A.delta.p.P4.q.T6', 'COH.A.delta.p.P4.r.O1', 'COH.A.delta.p.P4.s.O2', 'COH.A.delta.q.T6.r.O1', 'COH.A.delta.q.T6.s.O2', 'COH.A.delta.r.O1.s.O2', 'COH.B.theta.a.FP1.b.FP2', 'COH.B.theta.a.FP1.c.F7', 'COH.B.theta.a.FP1.d.F3', 'COH.B.theta.a.FP1.e.Fz', 'COH.B.theta.a.FP1.f.F4', 'COH.B.theta.a.FP1.g.F8', 'COH.B.theta.a.FP1.h.T3', 'COH.B.theta.a.FP1.i.C3', 'COH.B.theta.a.FP1.j.Cz', 'COH.B.theta.a.FP1.k.C4', 'COH.B.theta.a.FP1.l.T4', 'COH.B.theta.a.FP1.m.T5', 'COH.B.theta.a.FP1.n.P3', 'COH.B.theta.a.FP1.o.Pz', 'COH.B.theta.a.FP1.p.P4', 'COH.B.theta.a.FP1.q.T6', 'COH.B.theta.a.FP1.r.O1', 'COH.B.theta.a.FP1.s.O2', 'COH.B.theta.b.FP2.c.F7', 'COH.B.theta.b.FP2.d.F3', 'COH.B.theta.b.FP2.e.Fz', 'COH.B.theta.b.FP2.f.F4', 'COH.B.theta.b.FP2.g.F8', 'COH.B.theta.b.FP2.h.T3', 'COH.B.theta.b.FP2.i.C3', 'COH.B.theta.b.FP2.j.Cz', 'COH.B.theta.b.FP2.k.C4', 'COH.B.theta.b.FP2.l.T4', 'COH.B.theta.b.FP2.m.T5', 'COH.B.theta.b.FP2.n.P3', 'COH.B.theta.b.FP2.o.Pz', 'COH.B.theta.b.FP2.p.P4', 'COH.B.theta.b.FP2.q.T6', 'COH.B.theta.b.FP2.r.O1', 'COH.B.theta.b.FP2.s.O2', 'COH.B.theta.c.F7.d.F3', 'COH.B.theta.c.F7.e.Fz', 'COH.B.theta.c.F7.f.F4', 'COH.B.theta.c.F7.g.F8', 'COH.B.theta.c.F7.h.T3', 'COH.B.theta.c.F7.i.C3', 'COH.B.theta.c.F7.j.Cz', 'COH.B.theta.c.F7.k.C4', 'COH.B.theta.c.F7.l.T4', 'COH.B.theta.c.F7.m.T5', 'COH.B.theta.c.F7.n.P3', 'COH.B.theta.c.F7.o.Pz', 'COH.B.theta.c.F7.p.P4', 'COH.B.theta.c.F7.q.T6', 'COH.B.theta.c.F7.r.O1', 'COH.B.theta.c.F7.s.O2', 'COH.B.theta.d.F3.e.Fz', 'COH.B.theta.d.F3.f.F4', 'COH.B.theta.d.F3.g.F8', 'COH.B.theta.d.F3.h.T3', 'COH.B.theta.d.F3.i.C3', 'COH.B.theta.d.F3.j.Cz', 'COH.B.theta.d.F3.k.C4', 'COH.B.theta.d.F3.l.T4', 'COH.B.theta.d.F3.m.T5', 'COH.B.theta.d.F3.n.P3', 'COH.B.theta.d.F3.o.Pz', 'COH.B.theta.d.F3.p.P4', 'COH.B.theta.d.F3.q.T6', 'COH.B.theta.d.F3.r.O1', 'COH.B.theta.d.F3.s.O2', 'COH.B.theta.e.Fz.f.F4', 'COH.B.theta.e.Fz.g.F8', 'COH.B.theta.e.Fz.h.T3', 'COH.B.theta.e.Fz.i.C3', 'COH.B.theta.e.Fz.j.Cz', 'COH.B.theta.e.Fz.k.C4', 'COH.B.theta.e.Fz.l.T4', 'COH.B.theta.e.Fz.m.T5', 'COH.B.theta.e.Fz.n.P3', 'COH.B.theta.e.Fz.o.Pz', 'COH.B.theta.e.Fz.p.P4', 'COH.B.theta.e.Fz.q.T6', 'COH.B.theta.e.Fz.r.O1', 'COH.B.theta.e.Fz.s.O2', 'COH.B.theta.f.F4.g.F8', 'COH.B.theta.f.F4.h.T3', 'COH.B.theta.f.F4.i.C3', 'COH.B.theta.f.F4.j.Cz', 'COH.B.theta.f.F4.k.C4', 'COH.B.theta.f.F4.l.T4', 'COH.B.theta.f.F4.m.T5', 'COH.B.theta.f.F4.n.P3', 'COH.B.theta.f.F4.o.Pz', 'COH.B.theta.f.F4.p.P4', 'COH.B.theta.f.F4.q.T6', 'COH.B.theta.f.F4.r.O1', 'COH.B.theta.f.F4.s.O2', 'COH.B.theta.g.F8.h.T3', 'COH.B.theta.g.F8.i.C3', 'COH.B.theta.g.F8.j.Cz', 'COH.B.theta.g.F8.k.C4', 'COH.B.theta.g.F8.l.T4', 'COH.B.theta.g.F8.m.T5', 'COH.B.theta.g.F8.n.P3', 'COH.B.theta.g.F8.o.Pz', 'COH.B.theta.g.F8.p.P4', 'COH.B.theta.g.F8.q.T6', 'COH.B.theta.g.F8.r.O1', 'COH.B.theta.g.F8.s.O2', 'COH.B.theta.h.T3.i.C3', 'COH.B.theta.h.T3.j.Cz', 'COH.B.theta.h.T3.k.C4', 'COH.B.theta.h.T3.l.T4', 'COH.B.theta.h.T3.m.T5', 'COH.B.theta.h.T3.n.P3', 'COH.B.theta.h.T3.o.Pz', 'COH.B.theta.h.T3.p.P4', 'COH.B.theta.h.T3.q.T6', 'COH.B.theta.h.T3.r.O1', 'COH.B.theta.h.T3.s.O2', 'COH.B.theta.i.C3.j.Cz', 'COH.B.theta.i.C3.k.C4', 'COH.B.theta.i.C3.l.T4', 'COH.B.theta.i.C3.m.T5', 'COH.B.theta.i.C3.n.P3', 'COH.B.theta.i.C3.o.Pz', 'COH.B.theta.i.C3.p.P4', 'COH.B.theta.i.C3.q.T6', 'COH.B.theta.i.C3.r.O1', 'COH.B.theta.i.C3.s.O2', 'COH.B.theta.j.Cz.k.C4', 'COH.B.theta.j.Cz.l.T4', 'COH.B.theta.j.Cz.m.T5', 'COH.B.theta.j.Cz.n.P3', 'COH.B.theta.j.Cz.o.Pz', 'COH.B.theta.j.Cz.p.P4', 'COH.B.theta.j.Cz.q.T6', 'COH.B.theta.j.Cz.r.O1', 'COH.B.theta.j.Cz.s.O2', 'COH.B.theta.k.C4.l.T4', 'COH.B.theta.k.C4.m.T5', 'COH.B.theta.k.C4.n.P3', 'COH.B.theta.k.C4.o.Pz', 'COH.B.theta.k.C4.p.P4', 'COH.B.theta.k.C4.q.T6', 'COH.B.theta.k.C4.r.O1', 'COH.B.theta.k.C4.s.O2', 'COH.B.theta.l.T4.m.T5', 'COH.B.theta.l.T4.n.P3', 'COH.B.theta.l.T4.o.Pz', 'COH.B.theta.l.T4.p.P4', 'COH.B.theta.l.T4.q.T6', 'COH.B.theta.l.T4.r.O1', 'COH.B.theta.l.T4.s.O2', 'COH.B.theta.m.T5.n.P3', 'COH.B.theta.m.T5.o.Pz', 'COH.B.theta.m.T5.p.P4', 'COH.B.theta.m.T5.q.T6', 'COH.B.theta.m.T5.r.O1', 'COH.B.theta.m.T5.s.O2', 'COH.B.theta.n.P3.o.Pz', 'COH.B.theta.n.P3.p.P4', 'COH.B.theta.n.P3.q.T6', 'COH.B.theta.n.P3.r.O1', 'COH.B.theta.n.P3.s.O2', 'COH.B.theta.o.Pz.p.P4', 'COH.B.theta.o.Pz.q.T6', 'COH.B.theta.o.Pz.r.O1', 'COH.B.theta.o.Pz.s.O2', 'COH.B.theta.p.P4.q.T6', 'COH.B.theta.p.P4.r.O1', 'COH.B.theta.p.P4.s.O2', 'COH.B.theta.q.T6.r.O1', 'COH.B.theta.q.T6.s.O2', 'COH.B.theta.r.O1.s.O2', 'COH.C.alpha.a.FP1.b.FP2', 'COH.C.alpha.a.FP1.c.F7', 'COH.C.alpha.a.FP1.d.F3', 'COH.C.alpha.a.FP1.e.Fz', 'COH.C.alpha.a.FP1.f.F4', 'COH.C.alpha.a.FP1.g.F8', 'COH.C.alpha.a.FP1.h.T3', 'COH.C.alpha.a.FP1.i.C3', 'COH.C.alpha.a.FP1.j.Cz', 'COH.C.alpha.a.FP1.k.C4', 'COH.C.alpha.a.FP1.l.T4', 'COH.C.alpha.a.FP1.m.T5', 'COH.C.alpha.a.FP1.n.P3', 'COH.C.alpha.a.FP1.o.Pz', 'COH.C.alpha.a.FP1.p.P4', 'COH.C.alpha.a.FP1.q.T6', 'COH.C.alpha.a.FP1.r.O1', 'COH.C.alpha.a.FP1.s.O2', 'COH.C.alpha.b.FP2.c.F7', 'COH.C.alpha.b.FP2.d.F3', 'COH.C.alpha.b.FP2.e.Fz', 'COH.C.alpha.b.FP2.f.F4', 'COH.C.alpha.b.FP2.g.F8', 'COH.C.alpha.b.FP2.h.T3', 'COH.C.alpha.b.FP2.i.C3', 'COH.C.alpha.b.FP2.j.Cz', 'COH.C.alpha.b.FP2.k.C4', 'COH.C.alpha.b.FP2.l.T4', 'COH.C.alpha.b.FP2.m.T5', 'COH.C.alpha.b.FP2.n.P3', 'COH.C.alpha.b.FP2.o.Pz', 'COH.C.alpha.b.FP2.p.P4', 'COH.C.alpha.b.FP2.q.T6', 'COH.C.alpha.b.FP2.r.O1', 'COH.C.alpha.b.FP2.s.O2', 'COH.C.alpha.c.F7.d.F3', 'COH.C.alpha.c.F7.e.Fz', 'COH.C.alpha.c.F7.f.F4', 'COH.C.alpha.c.F7.g.F8', 'COH.C.alpha.c.F7.h.T3', 'COH.C.alpha.c.F7.i.C3', 'COH.C.alpha.c.F7.j.Cz', 'COH.C.alpha.c.F7.k.C4', 'COH.C.alpha.c.F7.l.T4', 'COH.C.alpha.c.F7.m.T5', 'COH.C.alpha.c.F7.n.P3', 'COH.C.alpha.c.F7.o.Pz', 'COH.C.alpha.c.F7.p.P4', 'COH.C.alpha.c.F7.q.T6', 'COH.C.alpha.c.F7.r.O1', 'COH.C.alpha.c.F7.s.O2', 'COH.C.alpha.d.F3.e.Fz', 'COH.C.alpha.d.F3.f.F4', 'COH.C.alpha.d.F3.g.F8', 'COH.C.alpha.d.F3.h.T3', 'COH.C.alpha.d.F3.i.C3', 'COH.C.alpha.d.F3.j.Cz', 'COH.C.alpha.d.F3.k.C4', 'COH.C.alpha.d.F3.l.T4', 'COH.C.alpha.d.F3.m.T5', 'COH.C.alpha.d.F3.n.P3', 'COH.C.alpha.d.F3.o.Pz', 'COH.C.alpha.d.F3.p.P4', 'COH.C.alpha.d.F3.q.T6', 'COH.C.alpha.d.F3.r.O1', 'COH.C.alpha.d.F3.s.O2', 'COH.C.alpha.e.Fz.f.F4', 'COH.C.alpha.e.Fz.g.F8', 'COH.C.alpha.e.Fz.h.T3', 'COH.C.alpha.e.Fz.i.C3', 'COH.C.alpha.e.Fz.j.Cz', 'COH.C.alpha.e.Fz.k.C4', 'COH.C.alpha.e.Fz.l.T4', 'COH.C.alpha.e.Fz.m.T5', 'COH.C.alpha.e.Fz.n.P3', 'COH.C.alpha.e.Fz.o.Pz', 'COH.C.alpha.e.Fz.p.P4', 'COH.C.alpha.e.Fz.q.T6', 'COH.C.alpha.e.Fz.r.O1', 'COH.C.alpha.e.Fz.s.O2', 'COH.C.alpha.f.F4.g.F8', 'COH.C.alpha.f.F4.h.T3', 'COH.C.alpha.f.F4.i.C3', 'COH.C.alpha.f.F4.j.Cz', 'COH.C.alpha.f.F4.k.C4', 'COH.C.alpha.f.F4.l.T4', 'COH.C.alpha.f.F4.m.T5', 'COH.C.alpha.f.F4.n.P3', 'COH.C.alpha.f.F4.o.Pz', 'COH.C.alpha.f.F4.p.P4', 'COH.C.alpha.f.F4.q.T6', 'COH.C.alpha.f.F4.r.O1', 'COH.C.alpha.f.F4.s.O2', 'COH.C.alpha.g.F8.h.T3', 'COH.C.alpha.g.F8.i.C3', 'COH.C.alpha.g.F8.j.Cz', 'COH.C.alpha.g.F8.k.C4', 'COH.C.alpha.g.F8.l.T4', 'COH.C.alpha.g.F8.m.T5', 'COH.C.alpha.g.F8.n.P3', 'COH.C.alpha.g.F8.o.Pz', 'COH.C.alpha.g.F8.p.P4', 'COH.C.alpha.g.F8.q.T6', 'COH.C.alpha.g.F8.r.O1', 'COH.C.alpha.g.F8.s.O2', 'COH.C.alpha.h.T3.i.C3', 'COH.C.alpha.h.T3.j.Cz', 'COH.C.alpha.h.T3.k.C4', 'COH.C.alpha.h.T3.l.T4', 'COH.C.alpha.h.T3.m.T5', 'COH.C.alpha.h.T3.n.P3', 'COH.C.alpha.h.T3.o.Pz', 'COH.C.alpha.h.T3.p.P4', 'COH.C.alpha.h.T3.q.T6', 'COH.C.alpha.h.T3.r.O1', 'COH.C.alpha.h.T3.s.O2', 'COH.C.alpha.i.C3.j.Cz', 'COH.C.alpha.i.C3.k.C4', 'COH.C.alpha.i.C3.l.T4', 'COH.C.alpha.i.C3.m.T5', 'COH.C.alpha.i.C3.n.P3', 'COH.C.alpha.i.C3.o.Pz', 'COH.C.alpha.i.C3.p.P4', 'COH.C.alpha.i.C3.q.T6', 'COH.C.alpha.i.C3.r.O1', 'COH.C.alpha.i.C3.s.O2', 'COH.C.alpha.j.Cz.k.C4', 'COH.C.alpha.j.Cz.l.T4', 'COH.C.alpha.j.Cz.m.T5', 'COH.C.alpha.j.Cz.n.P3', 'COH.C.alpha.j.Cz.o.Pz', 'COH.C.alpha.j.Cz.p.P4', 'COH.C.alpha.j.Cz.q.T6', 'COH.C.alpha.j.Cz.r.O1', 'COH.C.alpha.j.Cz.s.O2', 'COH.C.alpha.k.C4.l.T4', 'COH.C.alpha.k.C4.m.T5', 'COH.C.alpha.k.C4.n.P3', 'COH.C.alpha.k.C4.o.Pz', 'COH.C.alpha.k.C4.p.P4', 'COH.C.alpha.k.C4.q.T6', 'COH.C.alpha.k.C4.r.O1', 'COH.C.alpha.k.C4.s.O2', 'COH.C.alpha.l.T4.m.T5', 'COH.C.alpha.l.T4.n.P3', 'COH.C.alpha.l.T4.o.Pz', 'COH.C.alpha.l.T4.p.P4', 'COH.C.alpha.l.T4.q.T6', 'COH.C.alpha.l.T4.r.O1', 'COH.C.alpha.l.T4.s.O2', 'COH.C.alpha.m.T5.n.P3', 'COH.C.alpha.m.T5.o.Pz', 'COH.C.alpha.m.T5.p.P4', 'COH.C.alpha.m.T5.q.T6', 'COH.C.alpha.m.T5.r.O1', 'COH.C.alpha.m.T5.s.O2', 'COH.C.alpha.n.P3.o.Pz', 'COH.C.alpha.n.P3.p.P4', 'COH.C.alpha.n.P3.q.T6', 'COH.C.alpha.n.P3.r.O1', 'COH.C.alpha.n.P3.s.O2', 'COH.C.alpha.o.Pz.p.P4', 'COH.C.alpha.o.Pz.q.T6', 'COH.C.alpha.o.Pz.r.O1', 'COH.C.alpha.o.Pz.s.O2', 'COH.C.alpha.p.P4.q.T6', 'COH.C.alpha.p.P4.r.O1', 'COH.C.alpha.p.P4.s.O2', 'COH.C.alpha.q.T6.r.O1', 'COH.C.alpha.q.T6.s.O2', 'COH.C.alpha.r.O1.s.O2', 'COH.D.beta.a.FP1.b.FP2', 'COH.D.beta.a.FP1.c.F7', 'COH.D.beta.a.FP1.d.F3', 'COH.D.beta.a.FP1.e.Fz', 'COH.D.beta.a.FP1.f.F4', 'COH.D.beta.a.FP1.g.F8', 'COH.D.beta.a.FP1.h.T3', 'COH.D.beta.a.FP1.i.C3', 'COH.D.beta.a.FP1.j.Cz', 'COH.D.beta.a.FP1.k.C4', 'COH.D.beta.a.FP1.l.T4', 'COH.D.beta.a.FP1.m.T5', 'COH.D.beta.a.FP1.n.P3', 'COH.D.beta.a.FP1.o.Pz', 'COH.D.beta.a.FP1.p.P4', 'COH.D.beta.a.FP1.q.T6', 'COH.D.beta.a.FP1.r.O1', 'COH.D.beta.a.FP1.s.O2', 'COH.D.beta.b.FP2.c.F7', 'COH.D.beta.b.FP2.d.F3', 'COH.D.beta.b.FP2.e.Fz', 'COH.D.beta.b.FP2.f.F4', 'COH.D.beta.b.FP2.g.F8', 'COH.D.beta.b.FP2.h.T3', 'COH.D.beta.b.FP2.i.C3', 'COH.D.beta.b.FP2.j.Cz', 'COH.D.beta.b.FP2.k.C4', 'COH.D.beta.b.FP2.l.T4', 'COH.D.beta.b.FP2.m.T5', 'COH.D.beta.b.FP2.n.P3', 'COH.D.beta.b.FP2.o.Pz', 'COH.D.beta.b.FP2.p.P4', 'COH.D.beta.b.FP2.q.T6', 'COH.D.beta.b.FP2.r.O1', 'COH.D.beta.b.FP2.s.O2', 'COH.D.beta.c.F7.d.F3', 'COH.D.beta.c.F7.e.Fz', 'COH.D.beta.c.F7.f.F4', 'COH.D.beta.c.F7.g.F8', 'COH.D.beta.c.F7.h.T3', 'COH.D.beta.c.F7.i.C3', 'COH.D.beta.c.F7.j.Cz', 'COH.D.beta.c.F7.k.C4', 'COH.D.beta.c.F7.l.T4', 'COH.D.beta.c.F7.m.T5', 'COH.D.beta.c.F7.n.P3', 'COH.D.beta.c.F7.o.Pz', 'COH.D.beta.c.F7.p.P4', 'COH.D.beta.c.F7.q.T6', 'COH.D.beta.c.F7.r.O1', 'COH.D.beta.c.F7.s.O2', 'COH.D.beta.d.F3.e.Fz', 'COH.D.beta.d.F3.f.F4', 'COH.D.beta.d.F3.g.F8', 'COH.D.beta.d.F3.h.T3', 'COH.D.beta.d.F3.i.C3', 'COH.D.beta.d.F3.j.Cz', 'COH.D.beta.d.F3.k.C4', 'COH.D.beta.d.F3.l.T4', 'COH.D.beta.d.F3.m.T5', 'COH.D.beta.d.F3.n.P3', 'COH.D.beta.d.F3.o.Pz', 'COH.D.beta.d.F3.p.P4', 'COH.D.beta.d.F3.q.T6', 'COH.D.beta.d.F3.r.O1', 'COH.D.beta.d.F3.s.O2', 'COH.D.beta.e.Fz.f.F4', 'COH.D.beta.e.Fz.g.F8', 'COH.D.beta.e.Fz.h.T3', 'COH.D.beta.e.Fz.i.C3', 'COH.D.beta.e.Fz.j.Cz', 'COH.D.beta.e.Fz.k.C4', 'COH.D.beta.e.Fz.l.T4', 'COH.D.beta.e.Fz.m.T5', 'COH.D.beta.e.Fz.n.P3', 'COH.D.beta.e.Fz.o.Pz', 'COH.D.beta.e.Fz.p.P4', 'COH.D.beta.e.Fz.q.T6', 'COH.D.beta.e.Fz.r.O1', 'COH.D.beta.e.Fz.s.O2', 'COH.D.beta.f.F4.g.F8', 'COH.D.beta.f.F4.h.T3', 'COH.D.beta.f.F4.i.C3', 'COH.D.beta.f.F4.j.Cz', 'COH.D.beta.f.F4.k.C4', 'COH.D.beta.f.F4.l.T4', 'COH.D.beta.f.F4.m.T5', 'COH.D.beta.f.F4.n.P3', 'COH.D.beta.f.F4.o.Pz', 'COH.D.beta.f.F4.p.P4', 'COH.D.beta.f.F4.q.T6', 'COH.D.beta.f.F4.r.O1', 'COH.D.beta.f.F4.s.O2', 'COH.D.beta.g.F8.h.T3', 'COH.D.beta.g.F8.i.C3', 'COH.D.beta.g.F8.j.Cz', 'COH.D.beta.g.F8.k.C4', 'COH.D.beta.g.F8.l.T4', 'COH.D.beta.g.F8.m.T5', 'COH.D.beta.g.F8.n.P3', 'COH.D.beta.g.F8.o.Pz', 'COH.D.beta.g.F8.p.P4', 'COH.D.beta.g.F8.q.T6', 'COH.D.beta.g.F8.r.O1', 'COH.D.beta.g.F8.s.O2', 'COH.D.beta.h.T3.i.C3', 'COH.D.beta.h.T3.j.Cz', 'COH.D.beta.h.T3.k.C4', 'COH.D.beta.h.T3.l.T4', 'COH.D.beta.h.T3.m.T5', 'COH.D.beta.h.T3.n.P3', 'COH.D.beta.h.T3.o.Pz', 'COH.D.beta.h.T3.p.P4', 'COH.D.beta.h.T3.q.T6', 'COH.D.beta.h.T3.r.O1', 'COH.D.beta.h.T3.s.O2', 'COH.D.beta.i.C3.j.Cz', 'COH.D.beta.i.C3.k.C4', 'COH.D.beta.i.C3.l.T4', 'COH.D.beta.i.C3.m.T5', 'COH.D.beta.i.C3.n.P3', 'COH.D.beta.i.C3.o.Pz', 'COH.D.beta.i.C3.p.P4', 'COH.D.beta.i.C3.q.T6', 'COH.D.beta.i.C3.r.O1', 'COH.D.beta.i.C3.s.O2', 'COH.D.beta.j.Cz.k.C4', 'COH.D.beta.j.Cz.l.T4', 'COH.D.beta.j.Cz.m.T5', 'COH.D.beta.j.Cz.n.P3', 'COH.D.beta.j.Cz.o.Pz', 'COH.D.beta.j.Cz.p.P4', 'COH.D.beta.j.Cz.q.T6', 'COH.D.beta.j.Cz.r.O1', 'COH.D.beta.j.Cz.s.O2', 'COH.D.beta.k.C4.l.T4', 'COH.D.beta.k.C4.m.T5', 'COH.D.beta.k.C4.n.P3', 'COH.D.beta.k.C4.o.Pz', 'COH.D.beta.k.C4.p.P4', 'COH.D.beta.k.C4.q.T6', 'COH.D.beta.k.C4.r.O1', 'COH.D.beta.k.C4.s.O2', 'COH.D.beta.l.T4.m.T5', 'COH.D.beta.l.T4.n.P3', 'COH.D.beta.l.T4.o.Pz', 'COH.D.beta.l.T4.p.P4', 'COH.D.beta.l.T4.q.T6', 'COH.D.beta.l.T4.r.O1', 'COH.D.beta.l.T4.s.O2', 'COH.D.beta.m.T5.n.P3', 'COH.D.beta.m.T5.o.Pz', 'COH.D.beta.m.T5.p.P4', 'COH.D.beta.m.T5.q.T6', 'COH.D.beta.m.T5.r.O1', 'COH.D.beta.m.T5.s.O2', 'COH.D.beta.n.P3.o.Pz', 'COH.D.beta.n.P3.p.P4', 'COH.D.beta.n.P3.q.T6', 'COH.D.beta.n.P3.r.O1', 'COH.D.beta.n.P3.s.O2', 'COH.D.beta.o.Pz.p.P4', 'COH.D.beta.o.Pz.q.T6', 'COH.D.beta.o.Pz.r.O1', 'COH.D.beta.o.Pz.s.O2', 'COH.D.beta.p.P4.q.T6', 'COH.D.beta.p.P4.r.O1', 'COH.D.beta.p.P4.s.O2', 'COH.D.beta.q.T6.r.O1', 'COH.D.beta.q.T6.s.O2', 'COH.D.beta.r.O1.s.O2', 'COH.E.highbeta.a.FP1.b.FP2', 'COH.E.highbeta.a.FP1.c.F7', 'COH.E.highbeta.a.FP1.d.F3', 'COH.E.highbeta.a.FP1.e.Fz', 'COH.E.highbeta.a.FP1.f.F4', 'COH.E.highbeta.a.FP1.g.F8', 'COH.E.highbeta.a.FP1.h.T3', 'COH.E.highbeta.a.FP1.i.C3', 'COH.E.highbeta.a.FP1.j.Cz', 'COH.E.highbeta.a.FP1.k.C4', 'COH.E.highbeta.a.FP1.l.T4', 'COH.E.highbeta.a.FP1.m.T5', 'COH.E.highbeta.a.FP1.n.P3', 'COH.E.highbeta.a.FP1.o.Pz', 'COH.E.highbeta.a.FP1.p.P4', 'COH.E.highbeta.a.FP1.q.T6', 'COH.E.highbeta.a.FP1.r.O1', 'COH.E.highbeta.a.FP1.s.O2', 'COH.E.highbeta.b.FP2.c.F7', 'COH.E.highbeta.b.FP2.d.F3', 'COH.E.highbeta.b.FP2.e.Fz', 'COH.E.highbeta.b.FP2.f.F4', 'COH.E.highbeta.b.FP2.g.F8', 'COH.E.highbeta.b.FP2.h.T3', 'COH.E.highbeta.b.FP2.i.C3', 'COH.E.highbeta.b.FP2.j.Cz', 'COH.E.highbeta.b.FP2.k.C4', 'COH.E.highbeta.b.FP2.l.T4', 'COH.E.highbeta.b.FP2.m.T5', 'COH.E.highbeta.b.FP2.n.P3', 'COH.E.highbeta.b.FP2.o.Pz', 'COH.E.highbeta.b.FP2.p.P4', 'COH.E.highbeta.b.FP2.q.T6', 'COH.E.highbeta.b.FP2.r.O1', 'COH.E.highbeta.b.FP2.s.O2', 'COH.E.highbeta.c.F7.d.F3', 'COH.E.highbeta.c.F7.e.Fz', 'COH.E.highbeta.c.F7.f.F4', 'COH.E.highbeta.c.F7.g.F8', 'COH.E.highbeta.c.F7.h.T3', 'COH.E.highbeta.c.F7.i.C3', 'COH.E.highbeta.c.F7.j.Cz', 'COH.E.highbeta.c.F7.k.C4', 'COH.E.highbeta.c.F7.l.T4', 'COH.E.highbeta.c.F7.m.T5', 'COH.E.highbeta.c.F7.n.P3', 'COH.E.highbeta.c.F7.o.Pz', 'COH.E.highbeta.c.F7.p.P4', 'COH.E.highbeta.c.F7.q.T6', 'COH.E.highbeta.c.F7.r.O1', 'COH.E.highbeta.c.F7.s.O2', 'COH.E.highbeta.d.F3.e.Fz', 'COH.E.highbeta.d.F3.f.F4', 'COH.E.highbeta.d.F3.g.F8', 'COH.E.highbeta.d.F3.h.T3', 'COH.E.highbeta.d.F3.i.C3', 'COH.E.highbeta.d.F3.j.Cz', 'COH.E.highbeta.d.F3.k.C4', 'COH.E.highbeta.d.F3.l.T4', 'COH.E.highbeta.d.F3.m.T5', 'COH.E.highbeta.d.F3.n.P3', 'COH.E.highbeta.d.F3.o.Pz', 'COH.E.highbeta.d.F3.p.P4', 'COH.E.highbeta.d.F3.q.T6', 'COH.E.highbeta.d.F3.r.O1', 'COH.E.highbeta.d.F3.s.O2', 'COH.E.highbeta.e.Fz.f.F4', 'COH.E.highbeta.e.Fz.g.F8', 'COH.E.highbeta.e.Fz.h.T3', 'COH.E.highbeta.e.Fz.i.C3', 'COH.E.highbeta.e.Fz.j.Cz', 'COH.E.highbeta.e.Fz.k.C4', 'COH.E.highbeta.e.Fz.l.T4', 'COH.E.highbeta.e.Fz.m.T5', 'COH.E.highbeta.e.Fz.n.P3', 'COH.E.highbeta.e.Fz.o.Pz', 'COH.E.highbeta.e.Fz.p.P4', 'COH.E.highbeta.e.Fz.q.T6', 'COH.E.highbeta.e.Fz.r.O1', 'COH.E.highbeta.e.Fz.s.O2', 'COH.E.highbeta.f.F4.g.F8', 'COH.E.highbeta.f.F4.h.T3', 'COH.E.highbeta.f.F4.i.C3', 'COH.E.highbeta.f.F4.j.Cz', 'COH.E.highbeta.f.F4.k.C4', 'COH.E.highbeta.f.F4.l.T4', 'COH.E.highbeta.f.F4.m.T5', 'COH.E.highbeta.f.F4.n.P3', 'COH.E.highbeta.f.F4.o.Pz', 'COH.E.highbeta.f.F4.p.P4', 'COH.E.highbeta.f.F4.q.T6', 'COH.E.highbeta.f.F4.r.O1', 'COH.E.highbeta.f.F4.s.O2', 'COH.E.highbeta.g.F8.h.T3', 'COH.E.highbeta.g.F8.i.C3', 'COH.E.highbeta.g.F8.j.Cz', 'COH.E.highbeta.g.F8.k.C4', 'COH.E.highbeta.g.F8.l.T4', 'COH.E.highbeta.g.F8.m.T5', 'COH.E.highbeta.g.F8.n.P3', 'COH.E.highbeta.g.F8.o.Pz', 'COH.E.highbeta.g.F8.p.P4', 'COH.E.highbeta.g.F8.q.T6', 'COH.E.highbeta.g.F8.r.O1', 'COH.E.highbeta.g.F8.s.O2', 'COH.E.highbeta.h.T3.i.C3', 'COH.E.highbeta.h.T3.j.Cz', 'COH.E.highbeta.h.T3.k.C4', 'COH.E.highbeta.h.T3.l.T4', 'COH.E.highbeta.h.T3.m.T5', 'COH.E.highbeta.h.T3.n.P3', 'COH.E.highbeta.h.T3.o.Pz', 'COH.E.highbeta.h.T3.p.P4', 'COH.E.highbeta.h.T3.q.T6', 'COH.E.highbeta.h.T3.r.O1', 'COH.E.highbeta.h.T3.s.O2', 'COH.E.highbeta.i.C3.j.Cz', 'COH.E.highbeta.i.C3.k.C4', 'COH.E.highbeta.i.C3.l.T4', 'COH.E.highbeta.i.C3.m.T5', 'COH.E.highbeta.i.C3.n.P3', 'COH.E.highbeta.i.C3.o.Pz', 'COH.E.highbeta.i.C3.p.P4', 'COH.E.highbeta.i.C3.q.T6', 'COH.E.highbeta.i.C3.r.O1', 'COH.E.highbeta.i.C3.s.O2', 'COH.E.highbeta.j.Cz.k.C4', 'COH.E.highbeta.j.Cz.l.T4', 'COH.E.highbeta.j.Cz.m.T5', 'COH.E.highbeta.j.Cz.n.P3', 'COH.E.highbeta.j.Cz.o.Pz', 'COH.E.highbeta.j.Cz.p.P4', 'COH.E.highbeta.j.Cz.q.T6', 'COH.E.highbeta.j.Cz.r.O1', 'COH.E.highbeta.j.Cz.s.O2', 'COH.E.highbeta.k.C4.l.T4', 'COH.E.highbeta.k.C4.m.T5', 'COH.E.highbeta.k.C4.n.P3', 'COH.E.highbeta.k.C4.o.Pz', 'COH.E.highbeta.k.C4.p.P4', 'COH.E.highbeta.k.C4.q.T6', 'COH.E.highbeta.k.C4.r.O1', 'COH.E.highbeta.k.C4.s.O2', 'COH.E.highbeta.l.T4.m.T5', 'COH.E.highbeta.l.T4.n.P3', 'COH.E.highbeta.l.T4.o.Pz', 'COH.E.highbeta.l.T4.p.P4', 'COH.E.highbeta.l.T4.q.T6', 'COH.E.highbeta.l.T4.r.O1', 'COH.E.highbeta.l.T4.s.O2', 'COH.E.highbeta.m.T5.n.P3', 'COH.E.highbeta.m.T5.o.Pz', 'COH.E.highbeta.m.T5.p.P4', 'COH.E.highbeta.m.T5.q.T6', 'COH.E.highbeta.m.T5.r.O1', 'COH.E.highbeta.m.T5.s.O2', 'COH.E.highbeta.n.P3.o.Pz', 'COH.E.highbeta.n.P3.p.P4', 'COH.E.highbeta.n.P3.q.T6', 'COH.E.highbeta.n.P3.r.O1', 'COH.E.highbeta.n.P3.s.O2', 'COH.E.highbeta.o.Pz.p.P4', 'COH.E.highbeta.o.Pz.q.T6', 'COH.E.highbeta.o.Pz.r.O1', 'COH.E.highbeta.o.Pz.s.O2', 'COH.E.highbeta.p.P4.q.T6', 'COH.E.highbeta.p.P4.r.O1', 'COH.E.highbeta.p.P4.s.O2', 'COH.E.highbeta.q.T6.r.O1', 'COH.E.highbeta.q.T6.s.O2', 'COH.E.highbeta.r.O1.s.O2', 'COH.F.gamma.a.FP1.b.FP2', 'COH.F.gamma.a.FP1.c.F7', 'COH.F.gamma.a.FP1.d.F3', 'COH.F.gamma.a.FP1.e.Fz', 'COH.F.gamma.a.FP1.f.F4', 'COH.F.gamma.a.FP1.g.F8', 'COH.F.gamma.a.FP1.h.T3', 'COH.F.gamma.a.FP1.i.C3', 'COH.F.gamma.a.FP1.j.Cz', 'COH.F.gamma.a.FP1.k.C4', 'COH.F.gamma.a.FP1.l.T4', 'COH.F.gamma.a.FP1.m.T5', 'COH.F.gamma.a.FP1.n.P3', 'COH.F.gamma.a.FP1.o.Pz', 'COH.F.gamma.a.FP1.p.P4', 'COH.F.gamma.a.FP1.q.T6', 'COH.F.gamma.a.FP1.r.O1', 'COH.F.gamma.a.FP1.s.O2', 'COH.F.gamma.b.FP2.c.F7', 'COH.F.gamma.b.FP2.d.F3', 'COH.F.gamma.b.FP2.e.Fz', 'COH.F.gamma.b.FP2.f.F4', 'COH.F.gamma.b.FP2.g.F8', 'COH.F.gamma.b.FP2.h.T3', 'COH.F.gamma.b.FP2.i.C3', 'COH.F.gamma.b.FP2.j.Cz', 'COH.F.gamma.b.FP2.k.C4', 'COH.F.gamma.b.FP2.l.T4', 'COH.F.gamma.b.FP2.m.T5', 'COH.F.gamma.b.FP2.n.P3', 'COH.F.gamma.b.FP2.o.Pz', 'COH.F.gamma.b.FP2.p.P4', 'COH.F.gamma.b.FP2.q.T6', 'COH.F.gamma.b.FP2.r.O1', 'COH.F.gamma.b.FP2.s.O2', 'COH.F.gamma.c.F7.d.F3', 'COH.F.gamma.c.F7.e.Fz', 'COH.F.gamma.c.F7.f.F4', 'COH.F.gamma.c.F7.g.F8', 'COH.F.gamma.c.F7.h.T3', 'COH.F.gamma.c.F7.i.C3', 'COH.F.gamma.c.F7.j.Cz', 'COH.F.gamma.c.F7.k.C4', 'COH.F.gamma.c.F7.l.T4', 'COH.F.gamma.c.F7.m.T5', 'COH.F.gamma.c.F7.n.P3', 'COH.F.gamma.c.F7.o.Pz', 'COH.F.gamma.c.F7.p.P4', 'COH.F.gamma.c.F7.q.T6', 'COH.F.gamma.c.F7.r.O1', 'COH.F.gamma.c.F7.s.O2', 'COH.F.gamma.d.F3.e.Fz', 'COH.F.gamma.d.F3.f.F4', 'COH.F.gamma.d.F3.g.F8', 'COH.F.gamma.d.F3.h.T3', 'COH.F.gamma.d.F3.i.C3', 'COH.F.gamma.d.F3.j.Cz', 'COH.F.gamma.d.F3.k.C4', 'COH.F.gamma.d.F3.l.T4', 'COH.F.gamma.d.F3.m.T5', 'COH.F.gamma.d.F3.n.P3', 'COH.F.gamma.d.F3.o.Pz', 'COH.F.gamma.d.F3.p.P4', 'COH.F.gamma.d.F3.q.T6', 'COH.F.gamma.d.F3.r.O1', 'COH.F.gamma.d.F3.s.O2', 'COH.F.gamma.e.Fz.f.F4', 'COH.F.gamma.e.Fz.g.F8', 'COH.F.gamma.e.Fz.h.T3', 'COH.F.gamma.e.Fz.i.C3', 'COH.F.gamma.e.Fz.j.Cz', 'COH.F.gamma.e.Fz.k.C4', 'COH.F.gamma.e.Fz.l.T4', 'COH.F.gamma.e.Fz.m.T5', 'COH.F.gamma.e.Fz.n.P3', 'COH.F.gamma.e.Fz.o.Pz', 'COH.F.gamma.e.Fz.p.P4', 'COH.F.gamma.e.Fz.q.T6', 'COH.F.gamma.e.Fz.r.O1', 'COH.F.gamma.e.Fz.s.O2', 'COH.F.gamma.f.F4.g.F8', 'COH.F.gamma.f.F4.h.T3', 'COH.F.gamma.f.F4.i.C3', 'COH.F.gamma.f.F4.j.Cz', 'COH.F.gamma.f.F4.k.C4', 'COH.F.gamma.f.F4.l.T4', 'COH.F.gamma.f.F4.m.T5', 'COH.F.gamma.f.F4.n.P3', 'COH.F.gamma.f.F4.o.Pz', 'COH.F.gamma.f.F4.p.P4', 'COH.F.gamma.f.F4.q.T6', 'COH.F.gamma.f.F4.r.O1', 'COH.F.gamma.f.F4.s.O2', 'COH.F.gamma.g.F8.h.T3', 'COH.F.gamma.g.F8.i.C3', 'COH.F.gamma.g.F8.j.Cz', 'COH.F.gamma.g.F8.k.C4', 'COH.F.gamma.g.F8.l.T4', 'COH.F.gamma.g.F8.m.T5', 'COH.F.gamma.g.F8.n.P3', 'COH.F.gamma.g.F8.o.Pz', 'COH.F.gamma.g.F8.p.P4', 'COH.F.gamma.g.F8.q.T6', 'COH.F.gamma.g.F8.r.O1', 'COH.F.gamma.g.F8.s.O2', 'COH.F.gamma.h.T3.i.C3', 'COH.F.gamma.h.T3.j.Cz', 'COH.F.gamma.h.T3.k.C4', 'COH.F.gamma.h.T3.l.T4', 'COH.F.gamma.h.T3.m.T5', 'COH.F.gamma.h.T3.n.P3', 'COH.F.gamma.h.T3.o.Pz', 'COH.F.gamma.h.T3.p.P4', 'COH.F.gamma.h.T3.q.T6', 'COH.F.gamma.h.T3.r.O1', 'COH.F.gamma.h.T3.s.O2', 'COH.F.gamma.i.C3.j.Cz', 'COH.F.gamma.i.C3.k.C4', 'COH.F.gamma.i.C3.l.T4', 'COH.F.gamma.i.C3.m.T5', 'COH.F.gamma.i.C3.n.P3', 'COH.F.gamma.i.C3.o.Pz', 'COH.F.gamma.i.C3.p.P4', 'COH.F.gamma.i.C3.q.T6', 'COH.F.gamma.i.C3.r.O1', 'COH.F.gamma.i.C3.s.O2', 'COH.F.gamma.j.Cz.k.C4', 'COH.F.gamma.j.Cz.l.T4', 'COH.F.gamma.j.Cz.m.T5', 'COH.F.gamma.j.Cz.n.P3', 'COH.F.gamma.j.Cz.o.Pz', 'COH.F.gamma.j.Cz.p.P4', 'COH.F.gamma.j.Cz.q.T6', 'COH.F.gamma.j.Cz.r.O1', 'COH.F.gamma.j.Cz.s.O2', 'COH.F.gamma.k.C4.l.T4', 'COH.F.gamma.k.C4.m.T5', 'COH.F.gamma.k.C4.n.P3', 'COH.F.gamma.k.C4.o.Pz', 'COH.F.gamma.k.C4.p.P4', 'COH.F.gamma.k.C4.q.T6', 'COH.F.gamma.k.C4.r.O1', 'COH.F.gamma.k.C4.s.O2', 'COH.F.gamma.l.T4.m.T5', 'COH.F.gamma.l.T4.n.P3', 'COH.F.gamma.l.T4.o.Pz', 'COH.F.gamma.l.T4.p.P4', 'COH.F.gamma.l.T4.q.T6', 'COH.F.gamma.l.T4.r.O1', 'COH.F.gamma.l.T4.s.O2', 'COH.F.gamma.m.T5.n.P3', 'COH.F.gamma.m.T5.o.Pz', 'COH.F.gamma.m.T5.p.P4', 'COH.F.gamma.m.T5.q.T6', 'COH.F.gamma.m.T5.r.O1', 'COH.F.gamma.m.T5.s.O2', 'COH.F.gamma.n.P3.o.Pz', 'COH.F.gamma.n.P3.p.P4', 'COH.F.gamma.n.P3.q.T6', 'COH.F.gamma.n.P3.r.O1', 'COH.F.gamma.n.P3.s.O2', 'COH.F.gamma.o.Pz.p.P4', 'COH.F.gamma.o.Pz.q.T6', 'COH.F.gamma.o.Pz.r.O1', 'COH.F.gamma.o.Pz.s.O2', 'COH.F.gamma.p.P4.q.T6', 'COH.F.gamma.p.P4.r.O1', 'COH.F.gamma.p.P4.s.O2', 'COH.F.gamma.q.T6.r.O1', 'COH.F.gamma.q.T6.s.O2', 'COH.F.gamma.r.O1.s.O2']\n",
    "for i in arr2:\n",
    "    cat_1 = df8[df8['disorder']=='Addictive disorder'][i]\n",
    "    cat_2 = df8[df8['disorder']=='Trauma and stress related disorder'][i]\n",
    "    cat_3 = df8[df8['disorder']=='Mood disorder'][i]\n",
    "    cat_4 = df8[df8['disorder']=='Healthy control'][i]\n",
    "    cat_5 = df8[df8['disorder']=='Obsessive compulsive disorder'][i]\n",
    "    cat_6 = df8[df8['disorder']=='Schizophrenia'][i]\n",
    "    cat_7 = df8[df8['disorder']=='Anxiety disorder'][i]\n",
    "    fig = plt.figure()\n",
    "    ax = fig.add_subplot(111)\n",
    "    ax.set_title(\"Boxplot of \"+i)\n",
    "    ax.boxplot([cat_1,cat_2,cat_3,cat_4,cat_5,cat_6,cat_7], labels=['Addictive', 'Trauma', 'Mood', 'Healthy', 'OCD', 'Schizo', 'Anxiety'])\n",
    "    ax.set_ylabel(i+\" variable values\")\n",
    "    "
   ]
  },
  {
   "cell_type": "markdown",
   "id": "7cd683c7",
   "metadata": {},
   "source": [
    "### Detection and treatment of outliers"
   ]
  },
  {
   "cell_type": "code",
   "execution_count": null,
   "id": "0a881b68",
   "metadata": {},
   "outputs": [],
   "source": [
    "#Detection and treatment of outliers using the percentile function as it is evident in the boxplot that there are outliers present in the dataset\n",
    "\n",
    "for x in numeric_cols:\n",
    "    q75,q25=np.percentile(df8.loc[:,x],[75,25])  # calculating the value of Q1 and Q3\n",
    "    intr_qr=q75-q25\n",
    "    max=q75+(1.5*intr_qr)\n",
    "    min=q25-(1.5*intr_qr)\n",
    "    median = df8.loc[df[x]<min, x].median()        \n",
    "    df8.loc[df8[x]> max, x] = np.nan\n",
    "    df8.fillna(median,inplace=True)          # Replacing outliers with median\n",
    "   "
   ]
  },
  {
   "cell_type": "code",
   "execution_count": null,
   "id": "06e12ece",
   "metadata": {},
   "outputs": [],
   "source": [
    "df8.isnull().sum()   # Checking the sum of null values or missing values"
   ]
  },
  {
   "cell_type": "code",
   "execution_count": null,
   "id": "29f2ad05",
   "metadata": {},
   "outputs": [],
   "source": [
    "# dropping the null values using pandas.dataframe.dropna() function if any\n",
    "\n",
    "df8=df8.dropna(axis=0)"
   ]
  },
  {
   "cell_type": "code",
   "execution_count": null,
   "id": "d388f206",
   "metadata": {},
   "outputs": [],
   "source": [
    "df8.isnull().sum() # Now again checking the sum of null values to validate that all the outliers have been imputed and there is no null values"
   ]
  },
  {
   "cell_type": "code",
   "execution_count": null,
   "id": "4ca8f2de",
   "metadata": {},
   "outputs": [],
   "source": [
    "df8      # Displaying the dataframe after imputing outliers with median"
   ]
  },
  {
   "cell_type": "code",
   "execution_count": null,
   "id": "add6a471",
   "metadata": {
    "scrolled": true
   },
   "outputs": [],
   "source": [
    "# Again plotting the boxplot to see if the situation of outliers is better or not\n",
    "arr2=['AB.A.delta.a.FP1', 'AB.A.delta.b.FP2', 'AB.A.delta.c.F7', 'AB.A.delta.d.F3', 'AB.A.delta.e.Fz', 'AB.A.delta.f.F4', 'AB.A.delta.g.F8', 'AB.A.delta.h.T3', 'AB.A.delta.i.C3', 'AB.A.delta.j.Cz', 'AB.A.delta.k.C4', 'AB.A.delta.l.T4', 'AB.A.delta.m.T5', 'AB.A.delta.n.P3', 'AB.A.delta.o.Pz', 'AB.A.delta.p.P4', 'AB.A.delta.q.T6', 'AB.A.delta.r.O1', 'AB.A.delta.s.O2', 'AB.B.theta.a.FP1', 'AB.B.theta.b.FP2', 'AB.B.theta.c.F7', 'AB.B.theta.d.F3', 'AB.B.theta.e.Fz', 'AB.B.theta.f.F4', 'AB.B.theta.g.F8', 'AB.B.theta.h.T3', 'AB.B.theta.i.C3', 'AB.B.theta.j.Cz', 'AB.B.theta.k.C4', 'AB.B.theta.l.T4', 'AB.B.theta.m.T5', 'AB.B.theta.n.P3', 'AB.B.theta.o.Pz', 'AB.B.theta.p.P4', 'AB.B.theta.q.T6', 'AB.B.theta.r.O1', 'AB.B.theta.s.O2', 'AB.C.alpha.a.FP1', 'AB.C.alpha.b.FP2', 'AB.C.alpha.c.F7', 'AB.C.alpha.d.F3', 'AB.C.alpha.e.Fz', 'AB.C.alpha.f.F4', 'AB.C.alpha.g.F8', 'AB.C.alpha.h.T3', 'AB.C.alpha.i.C3', 'AB.C.alpha.j.Cz', 'AB.C.alpha.k.C4', 'AB.C.alpha.l.T4', 'AB.C.alpha.m.T5', 'AB.C.alpha.n.P3', 'AB.C.alpha.o.Pz', 'AB.C.alpha.p.P4', 'AB.C.alpha.q.T6', 'AB.C.alpha.r.O1', 'AB.C.alpha.s.O2', 'AB.D.beta.a.FP1', 'AB.D.beta.b.FP2', 'AB.D.beta.c.F7', 'AB.D.beta.d.F3', 'AB.D.beta.e.Fz', 'AB.D.beta.f.F4', 'AB.D.beta.g.F8', 'AB.D.beta.h.T3', 'AB.D.beta.i.C3', 'AB.D.beta.j.Cz', 'AB.D.beta.k.C4', 'AB.D.beta.l.T4', 'AB.D.beta.m.T5', 'AB.D.beta.n.P3', 'AB.D.beta.o.Pz', 'AB.D.beta.p.P4', 'AB.D.beta.q.T6', 'AB.D.beta.r.O1', 'AB.D.beta.s.O2', 'AB.E.highbeta.a.FP1', 'AB.E.highbeta.b.FP2', 'AB.E.highbeta.c.F7', 'AB.E.highbeta.d.F3', 'AB.E.highbeta.e.Fz', 'AB.E.highbeta.f.F4', 'AB.E.highbeta.g.F8', 'AB.E.highbeta.h.T3', 'AB.E.highbeta.i.C3', 'AB.E.highbeta.j.Cz', 'AB.E.highbeta.k.C4', 'AB.E.highbeta.l.T4', 'AB.E.highbeta.m.T5', 'AB.E.highbeta.n.P3', 'AB.E.highbeta.o.Pz', 'AB.E.highbeta.p.P4', 'AB.E.highbeta.q.T6', 'AB.E.highbeta.r.O1', 'AB.E.highbeta.s.O2', 'AB.F.gamma.a.FP1', 'AB.F.gamma.b.FP2', 'AB.F.gamma.c.F7', 'AB.F.gamma.d.F3', 'AB.F.gamma.e.Fz', 'AB.F.gamma.f.F4', 'AB.F.gamma.g.F8', 'AB.F.gamma.h.T3', 'AB.F.gamma.i.C3', 'AB.F.gamma.j.Cz', 'AB.F.gamma.k.C4', 'AB.F.gamma.l.T4', 'AB.F.gamma.m.T5', 'AB.F.gamma.n.P3', 'AB.F.gamma.o.Pz', 'AB.F.gamma.p.P4', 'AB.F.gamma.q.T6', 'AB.F.gamma.r.O1', 'AB.F.gamma.s.O2', 'COH.A.delta.a.FP1.b.FP2', 'COH.A.delta.a.FP1.c.F7', 'COH.A.delta.a.FP1.d.F3', 'COH.A.delta.a.FP1.e.Fz', 'COH.A.delta.a.FP1.f.F4', 'COH.A.delta.a.FP1.g.F8', 'COH.A.delta.a.FP1.h.T3', 'COH.A.delta.a.FP1.i.C3', 'COH.A.delta.a.FP1.j.Cz', 'COH.A.delta.a.FP1.k.C4', 'COH.A.delta.a.FP1.l.T4', 'COH.A.delta.a.FP1.m.T5', 'COH.A.delta.a.FP1.n.P3', 'COH.A.delta.a.FP1.o.Pz', 'COH.A.delta.a.FP1.p.P4', 'COH.A.delta.a.FP1.q.T6', 'COH.A.delta.a.FP1.r.O1', 'COH.A.delta.a.FP1.s.O2', 'COH.A.delta.b.FP2.c.F7', 'COH.A.delta.b.FP2.d.F3', 'COH.A.delta.b.FP2.e.Fz', 'COH.A.delta.b.FP2.f.F4', 'COH.A.delta.b.FP2.g.F8', 'COH.A.delta.b.FP2.h.T3', 'COH.A.delta.b.FP2.i.C3', 'COH.A.delta.b.FP2.j.Cz', 'COH.A.delta.b.FP2.k.C4', 'COH.A.delta.b.FP2.l.T4', 'COH.A.delta.b.FP2.m.T5', 'COH.A.delta.b.FP2.n.P3', 'COH.A.delta.b.FP2.o.Pz', 'COH.A.delta.b.FP2.p.P4', 'COH.A.delta.b.FP2.q.T6', 'COH.A.delta.b.FP2.r.O1', 'COH.A.delta.b.FP2.s.O2', 'COH.A.delta.c.F7.d.F3', 'COH.A.delta.c.F7.e.Fz', 'COH.A.delta.c.F7.f.F4', 'COH.A.delta.c.F7.g.F8', 'COH.A.delta.c.F7.h.T3', 'COH.A.delta.c.F7.i.C3', 'COH.A.delta.c.F7.j.Cz', 'COH.A.delta.c.F7.k.C4', 'COH.A.delta.c.F7.l.T4', 'COH.A.delta.c.F7.m.T5', 'COH.A.delta.c.F7.n.P3', 'COH.A.delta.c.F7.o.Pz', 'COH.A.delta.c.F7.p.P4', 'COH.A.delta.c.F7.q.T6', 'COH.A.delta.c.F7.r.O1', 'COH.A.delta.c.F7.s.O2', 'COH.A.delta.d.F3.e.Fz', 'COH.A.delta.d.F3.f.F4', 'COH.A.delta.d.F3.g.F8', 'COH.A.delta.d.F3.h.T3', 'COH.A.delta.d.F3.i.C3', 'COH.A.delta.d.F3.j.Cz', 'COH.A.delta.d.F3.k.C4', 'COH.A.delta.d.F3.l.T4', 'COH.A.delta.d.F3.m.T5', 'COH.A.delta.d.F3.n.P3', 'COH.A.delta.d.F3.o.Pz', 'COH.A.delta.d.F3.p.P4', 'COH.A.delta.d.F3.q.T6', 'COH.A.delta.d.F3.r.O1', 'COH.A.delta.d.F3.s.O2', 'COH.A.delta.e.Fz.f.F4', 'COH.A.delta.e.Fz.g.F8', 'COH.A.delta.e.Fz.h.T3', 'COH.A.delta.e.Fz.i.C3', 'COH.A.delta.e.Fz.j.Cz', 'COH.A.delta.e.Fz.k.C4', 'COH.A.delta.e.Fz.l.T4', 'COH.A.delta.e.Fz.m.T5', 'COH.A.delta.e.Fz.n.P3', 'COH.A.delta.e.Fz.o.Pz', 'COH.A.delta.e.Fz.p.P4', 'COH.A.delta.e.Fz.q.T6', 'COH.A.delta.e.Fz.r.O1', 'COH.A.delta.e.Fz.s.O2', 'COH.A.delta.f.F4.g.F8', 'COH.A.delta.f.F4.h.T3', 'COH.A.delta.f.F4.i.C3', 'COH.A.delta.f.F4.j.Cz', 'COH.A.delta.f.F4.k.C4', 'COH.A.delta.f.F4.l.T4', 'COH.A.delta.f.F4.m.T5', 'COH.A.delta.f.F4.n.P3', 'COH.A.delta.f.F4.o.Pz', 'COH.A.delta.f.F4.p.P4', 'COH.A.delta.f.F4.q.T6', 'COH.A.delta.f.F4.r.O1', 'COH.A.delta.f.F4.s.O2', 'COH.A.delta.g.F8.h.T3', 'COH.A.delta.g.F8.i.C3', 'COH.A.delta.g.F8.j.Cz', 'COH.A.delta.g.F8.k.C4', 'COH.A.delta.g.F8.l.T4', 'COH.A.delta.g.F8.m.T5', 'COH.A.delta.g.F8.n.P3', 'COH.A.delta.g.F8.o.Pz', 'COH.A.delta.g.F8.p.P4', 'COH.A.delta.g.F8.q.T6', 'COH.A.delta.g.F8.r.O1', 'COH.A.delta.g.F8.s.O2', 'COH.A.delta.h.T3.i.C3', 'COH.A.delta.h.T3.j.Cz', 'COH.A.delta.h.T3.k.C4', 'COH.A.delta.h.T3.l.T4', 'COH.A.delta.h.T3.m.T5', 'COH.A.delta.h.T3.n.P3', 'COH.A.delta.h.T3.o.Pz', 'COH.A.delta.h.T3.p.P4', 'COH.A.delta.h.T3.q.T6', 'COH.A.delta.h.T3.r.O1', 'COH.A.delta.h.T3.s.O2', 'COH.A.delta.i.C3.j.Cz', 'COH.A.delta.i.C3.k.C4', 'COH.A.delta.i.C3.l.T4', 'COH.A.delta.i.C3.m.T5', 'COH.A.delta.i.C3.n.P3', 'COH.A.delta.i.C3.o.Pz', 'COH.A.delta.i.C3.p.P4', 'COH.A.delta.i.C3.q.T6', 'COH.A.delta.i.C3.r.O1', 'COH.A.delta.i.C3.s.O2', 'COH.A.delta.j.Cz.k.C4', 'COH.A.delta.j.Cz.l.T4', 'COH.A.delta.j.Cz.m.T5', 'COH.A.delta.j.Cz.n.P3', 'COH.A.delta.j.Cz.o.Pz', 'COH.A.delta.j.Cz.p.P4', 'COH.A.delta.j.Cz.q.T6', 'COH.A.delta.j.Cz.r.O1', 'COH.A.delta.j.Cz.s.O2', 'COH.A.delta.k.C4.l.T4', 'COH.A.delta.k.C4.m.T5', 'COH.A.delta.k.C4.n.P3', 'COH.A.delta.k.C4.o.Pz', 'COH.A.delta.k.C4.p.P4', 'COH.A.delta.k.C4.q.T6', 'COH.A.delta.k.C4.r.O1', 'COH.A.delta.k.C4.s.O2', 'COH.A.delta.l.T4.m.T5', 'COH.A.delta.l.T4.n.P3', 'COH.A.delta.l.T4.o.Pz', 'COH.A.delta.l.T4.p.P4', 'COH.A.delta.l.T4.q.T6', 'COH.A.delta.l.T4.r.O1', 'COH.A.delta.l.T4.s.O2', 'COH.A.delta.m.T5.n.P3', 'COH.A.delta.m.T5.o.Pz', 'COH.A.delta.m.T5.p.P4', 'COH.A.delta.m.T5.q.T6', 'COH.A.delta.m.T5.r.O1', 'COH.A.delta.m.T5.s.O2', 'COH.A.delta.n.P3.o.Pz', 'COH.A.delta.n.P3.p.P4', 'COH.A.delta.n.P3.q.T6', 'COH.A.delta.n.P3.r.O1', 'COH.A.delta.n.P3.s.O2', 'COH.A.delta.o.Pz.p.P4', 'COH.A.delta.o.Pz.q.T6', 'COH.A.delta.o.Pz.r.O1', 'COH.A.delta.o.Pz.s.O2', 'COH.A.delta.p.P4.q.T6', 'COH.A.delta.p.P4.r.O1', 'COH.A.delta.p.P4.s.O2', 'COH.A.delta.q.T6.r.O1', 'COH.A.delta.q.T6.s.O2', 'COH.A.delta.r.O1.s.O2', 'COH.B.theta.a.FP1.b.FP2', 'COH.B.theta.a.FP1.c.F7', 'COH.B.theta.a.FP1.d.F3', 'COH.B.theta.a.FP1.e.Fz', 'COH.B.theta.a.FP1.f.F4', 'COH.B.theta.a.FP1.g.F8', 'COH.B.theta.a.FP1.h.T3', 'COH.B.theta.a.FP1.i.C3', 'COH.B.theta.a.FP1.j.Cz', 'COH.B.theta.a.FP1.k.C4', 'COH.B.theta.a.FP1.l.T4', 'COH.B.theta.a.FP1.m.T5', 'COH.B.theta.a.FP1.n.P3', 'COH.B.theta.a.FP1.o.Pz', 'COH.B.theta.a.FP1.p.P4', 'COH.B.theta.a.FP1.q.T6', 'COH.B.theta.a.FP1.r.O1', 'COH.B.theta.a.FP1.s.O2', 'COH.B.theta.b.FP2.c.F7', 'COH.B.theta.b.FP2.d.F3', 'COH.B.theta.b.FP2.e.Fz', 'COH.B.theta.b.FP2.f.F4', 'COH.B.theta.b.FP2.g.F8', 'COH.B.theta.b.FP2.h.T3', 'COH.B.theta.b.FP2.i.C3', 'COH.B.theta.b.FP2.j.Cz', 'COH.B.theta.b.FP2.k.C4', 'COH.B.theta.b.FP2.l.T4', 'COH.B.theta.b.FP2.m.T5', 'COH.B.theta.b.FP2.n.P3', 'COH.B.theta.b.FP2.o.Pz', 'COH.B.theta.b.FP2.p.P4', 'COH.B.theta.b.FP2.q.T6', 'COH.B.theta.b.FP2.r.O1', 'COH.B.theta.b.FP2.s.O2', 'COH.B.theta.c.F7.d.F3', 'COH.B.theta.c.F7.e.Fz', 'COH.B.theta.c.F7.f.F4', 'COH.B.theta.c.F7.g.F8', 'COH.B.theta.c.F7.h.T3', 'COH.B.theta.c.F7.i.C3', 'COH.B.theta.c.F7.j.Cz', 'COH.B.theta.c.F7.k.C4', 'COH.B.theta.c.F7.l.T4', 'COH.B.theta.c.F7.m.T5', 'COH.B.theta.c.F7.n.P3', 'COH.B.theta.c.F7.o.Pz', 'COH.B.theta.c.F7.p.P4', 'COH.B.theta.c.F7.q.T6', 'COH.B.theta.c.F7.r.O1', 'COH.B.theta.c.F7.s.O2', 'COH.B.theta.d.F3.e.Fz', 'COH.B.theta.d.F3.f.F4', 'COH.B.theta.d.F3.g.F8', 'COH.B.theta.d.F3.h.T3', 'COH.B.theta.d.F3.i.C3', 'COH.B.theta.d.F3.j.Cz', 'COH.B.theta.d.F3.k.C4', 'COH.B.theta.d.F3.l.T4', 'COH.B.theta.d.F3.m.T5', 'COH.B.theta.d.F3.n.P3', 'COH.B.theta.d.F3.o.Pz', 'COH.B.theta.d.F3.p.P4', 'COH.B.theta.d.F3.q.T6', 'COH.B.theta.d.F3.r.O1', 'COH.B.theta.d.F3.s.O2', 'COH.B.theta.e.Fz.f.F4', 'COH.B.theta.e.Fz.g.F8', 'COH.B.theta.e.Fz.h.T3', 'COH.B.theta.e.Fz.i.C3', 'COH.B.theta.e.Fz.j.Cz', 'COH.B.theta.e.Fz.k.C4', 'COH.B.theta.e.Fz.l.T4', 'COH.B.theta.e.Fz.m.T5', 'COH.B.theta.e.Fz.n.P3', 'COH.B.theta.e.Fz.o.Pz', 'COH.B.theta.e.Fz.p.P4', 'COH.B.theta.e.Fz.q.T6', 'COH.B.theta.e.Fz.r.O1', 'COH.B.theta.e.Fz.s.O2', 'COH.B.theta.f.F4.g.F8', 'COH.B.theta.f.F4.h.T3', 'COH.B.theta.f.F4.i.C3', 'COH.B.theta.f.F4.j.Cz', 'COH.B.theta.f.F4.k.C4', 'COH.B.theta.f.F4.l.T4', 'COH.B.theta.f.F4.m.T5', 'COH.B.theta.f.F4.n.P3', 'COH.B.theta.f.F4.o.Pz', 'COH.B.theta.f.F4.p.P4', 'COH.B.theta.f.F4.q.T6', 'COH.B.theta.f.F4.r.O1', 'COH.B.theta.f.F4.s.O2', 'COH.B.theta.g.F8.h.T3', 'COH.B.theta.g.F8.i.C3', 'COH.B.theta.g.F8.j.Cz', 'COH.B.theta.g.F8.k.C4', 'COH.B.theta.g.F8.l.T4', 'COH.B.theta.g.F8.m.T5', 'COH.B.theta.g.F8.n.P3', 'COH.B.theta.g.F8.o.Pz', 'COH.B.theta.g.F8.p.P4', 'COH.B.theta.g.F8.q.T6', 'COH.B.theta.g.F8.r.O1', 'COH.B.theta.g.F8.s.O2', 'COH.B.theta.h.T3.i.C3', 'COH.B.theta.h.T3.j.Cz', 'COH.B.theta.h.T3.k.C4', 'COH.B.theta.h.T3.l.T4', 'COH.B.theta.h.T3.m.T5', 'COH.B.theta.h.T3.n.P3', 'COH.B.theta.h.T3.o.Pz', 'COH.B.theta.h.T3.p.P4', 'COH.B.theta.h.T3.q.T6', 'COH.B.theta.h.T3.r.O1', 'COH.B.theta.h.T3.s.O2', 'COH.B.theta.i.C3.j.Cz', 'COH.B.theta.i.C3.k.C4', 'COH.B.theta.i.C3.l.T4', 'COH.B.theta.i.C3.m.T5', 'COH.B.theta.i.C3.n.P3', 'COH.B.theta.i.C3.o.Pz', 'COH.B.theta.i.C3.p.P4', 'COH.B.theta.i.C3.q.T6', 'COH.B.theta.i.C3.r.O1', 'COH.B.theta.i.C3.s.O2', 'COH.B.theta.j.Cz.k.C4', 'COH.B.theta.j.Cz.l.T4', 'COH.B.theta.j.Cz.m.T5', 'COH.B.theta.j.Cz.n.P3', 'COH.B.theta.j.Cz.o.Pz', 'COH.B.theta.j.Cz.p.P4', 'COH.B.theta.j.Cz.q.T6', 'COH.B.theta.j.Cz.r.O1', 'COH.B.theta.j.Cz.s.O2', 'COH.B.theta.k.C4.l.T4', 'COH.B.theta.k.C4.m.T5', 'COH.B.theta.k.C4.n.P3', 'COH.B.theta.k.C4.o.Pz', 'COH.B.theta.k.C4.p.P4', 'COH.B.theta.k.C4.q.T6', 'COH.B.theta.k.C4.r.O1', 'COH.B.theta.k.C4.s.O2', 'COH.B.theta.l.T4.m.T5', 'COH.B.theta.l.T4.n.P3', 'COH.B.theta.l.T4.o.Pz', 'COH.B.theta.l.T4.p.P4', 'COH.B.theta.l.T4.q.T6', 'COH.B.theta.l.T4.r.O1', 'COH.B.theta.l.T4.s.O2', 'COH.B.theta.m.T5.n.P3', 'COH.B.theta.m.T5.o.Pz', 'COH.B.theta.m.T5.p.P4', 'COH.B.theta.m.T5.q.T6', 'COH.B.theta.m.T5.r.O1', 'COH.B.theta.m.T5.s.O2', 'COH.B.theta.n.P3.o.Pz', 'COH.B.theta.n.P3.p.P4', 'COH.B.theta.n.P3.q.T6', 'COH.B.theta.n.P3.r.O1', 'COH.B.theta.n.P3.s.O2', 'COH.B.theta.o.Pz.p.P4', 'COH.B.theta.o.Pz.q.T6', 'COH.B.theta.o.Pz.r.O1', 'COH.B.theta.o.Pz.s.O2', 'COH.B.theta.p.P4.q.T6', 'COH.B.theta.p.P4.r.O1', 'COH.B.theta.p.P4.s.O2', 'COH.B.theta.q.T6.r.O1', 'COH.B.theta.q.T6.s.O2', 'COH.B.theta.r.O1.s.O2', 'COH.C.alpha.a.FP1.b.FP2', 'COH.C.alpha.a.FP1.c.F7', 'COH.C.alpha.a.FP1.d.F3', 'COH.C.alpha.a.FP1.e.Fz', 'COH.C.alpha.a.FP1.f.F4', 'COH.C.alpha.a.FP1.g.F8', 'COH.C.alpha.a.FP1.h.T3', 'COH.C.alpha.a.FP1.i.C3', 'COH.C.alpha.a.FP1.j.Cz', 'COH.C.alpha.a.FP1.k.C4', 'COH.C.alpha.a.FP1.l.T4', 'COH.C.alpha.a.FP1.m.T5', 'COH.C.alpha.a.FP1.n.P3', 'COH.C.alpha.a.FP1.o.Pz', 'COH.C.alpha.a.FP1.p.P4', 'COH.C.alpha.a.FP1.q.T6', 'COH.C.alpha.a.FP1.r.O1', 'COH.C.alpha.a.FP1.s.O2', 'COH.C.alpha.b.FP2.c.F7', 'COH.C.alpha.b.FP2.d.F3', 'COH.C.alpha.b.FP2.e.Fz', 'COH.C.alpha.b.FP2.f.F4', 'COH.C.alpha.b.FP2.g.F8', 'COH.C.alpha.b.FP2.h.T3', 'COH.C.alpha.b.FP2.i.C3', 'COH.C.alpha.b.FP2.j.Cz', 'COH.C.alpha.b.FP2.k.C4', 'COH.C.alpha.b.FP2.l.T4', 'COH.C.alpha.b.FP2.m.T5', 'COH.C.alpha.b.FP2.n.P3', 'COH.C.alpha.b.FP2.o.Pz', 'COH.C.alpha.b.FP2.p.P4', 'COH.C.alpha.b.FP2.q.T6', 'COH.C.alpha.b.FP2.r.O1', 'COH.C.alpha.b.FP2.s.O2', 'COH.C.alpha.c.F7.d.F3', 'COH.C.alpha.c.F7.e.Fz', 'COH.C.alpha.c.F7.f.F4', 'COH.C.alpha.c.F7.g.F8', 'COH.C.alpha.c.F7.h.T3', 'COH.C.alpha.c.F7.i.C3', 'COH.C.alpha.c.F7.j.Cz', 'COH.C.alpha.c.F7.k.C4', 'COH.C.alpha.c.F7.l.T4', 'COH.C.alpha.c.F7.m.T5', 'COH.C.alpha.c.F7.n.P3', 'COH.C.alpha.c.F7.o.Pz', 'COH.C.alpha.c.F7.p.P4', 'COH.C.alpha.c.F7.q.T6', 'COH.C.alpha.c.F7.r.O1', 'COH.C.alpha.c.F7.s.O2', 'COH.C.alpha.d.F3.e.Fz', 'COH.C.alpha.d.F3.f.F4', 'COH.C.alpha.d.F3.g.F8', 'COH.C.alpha.d.F3.h.T3', 'COH.C.alpha.d.F3.i.C3', 'COH.C.alpha.d.F3.j.Cz', 'COH.C.alpha.d.F3.k.C4', 'COH.C.alpha.d.F3.l.T4', 'COH.C.alpha.d.F3.m.T5', 'COH.C.alpha.d.F3.n.P3', 'COH.C.alpha.d.F3.o.Pz', 'COH.C.alpha.d.F3.p.P4', 'COH.C.alpha.d.F3.q.T6', 'COH.C.alpha.d.F3.r.O1', 'COH.C.alpha.d.F3.s.O2', 'COH.C.alpha.e.Fz.f.F4', 'COH.C.alpha.e.Fz.g.F8', 'COH.C.alpha.e.Fz.h.T3', 'COH.C.alpha.e.Fz.i.C3', 'COH.C.alpha.e.Fz.j.Cz', 'COH.C.alpha.e.Fz.k.C4', 'COH.C.alpha.e.Fz.l.T4', 'COH.C.alpha.e.Fz.m.T5', 'COH.C.alpha.e.Fz.n.P3', 'COH.C.alpha.e.Fz.o.Pz', 'COH.C.alpha.e.Fz.p.P4', 'COH.C.alpha.e.Fz.q.T6', 'COH.C.alpha.e.Fz.r.O1', 'COH.C.alpha.e.Fz.s.O2', 'COH.C.alpha.f.F4.g.F8', 'COH.C.alpha.f.F4.h.T3', 'COH.C.alpha.f.F4.i.C3', 'COH.C.alpha.f.F4.j.Cz', 'COH.C.alpha.f.F4.k.C4', 'COH.C.alpha.f.F4.l.T4', 'COH.C.alpha.f.F4.m.T5', 'COH.C.alpha.f.F4.n.P3', 'COH.C.alpha.f.F4.o.Pz', 'COH.C.alpha.f.F4.p.P4', 'COH.C.alpha.f.F4.q.T6', 'COH.C.alpha.f.F4.r.O1', 'COH.C.alpha.f.F4.s.O2', 'COH.C.alpha.g.F8.h.T3', 'COH.C.alpha.g.F8.i.C3', 'COH.C.alpha.g.F8.j.Cz', 'COH.C.alpha.g.F8.k.C4', 'COH.C.alpha.g.F8.l.T4', 'COH.C.alpha.g.F8.m.T5', 'COH.C.alpha.g.F8.n.P3', 'COH.C.alpha.g.F8.o.Pz', 'COH.C.alpha.g.F8.p.P4', 'COH.C.alpha.g.F8.q.T6', 'COH.C.alpha.g.F8.r.O1', 'COH.C.alpha.g.F8.s.O2', 'COH.C.alpha.h.T3.i.C3', 'COH.C.alpha.h.T3.j.Cz', 'COH.C.alpha.h.T3.k.C4', 'COH.C.alpha.h.T3.l.T4', 'COH.C.alpha.h.T3.m.T5', 'COH.C.alpha.h.T3.n.P3', 'COH.C.alpha.h.T3.o.Pz', 'COH.C.alpha.h.T3.p.P4', 'COH.C.alpha.h.T3.q.T6', 'COH.C.alpha.h.T3.r.O1', 'COH.C.alpha.h.T3.s.O2', 'COH.C.alpha.i.C3.j.Cz', 'COH.C.alpha.i.C3.k.C4', 'COH.C.alpha.i.C3.l.T4', 'COH.C.alpha.i.C3.m.T5', 'COH.C.alpha.i.C3.n.P3', 'COH.C.alpha.i.C3.o.Pz', 'COH.C.alpha.i.C3.p.P4', 'COH.C.alpha.i.C3.q.T6', 'COH.C.alpha.i.C3.r.O1', 'COH.C.alpha.i.C3.s.O2', 'COH.C.alpha.j.Cz.k.C4', 'COH.C.alpha.j.Cz.l.T4', 'COH.C.alpha.j.Cz.m.T5', 'COH.C.alpha.j.Cz.n.P3', 'COH.C.alpha.j.Cz.o.Pz', 'COH.C.alpha.j.Cz.p.P4', 'COH.C.alpha.j.Cz.q.T6', 'COH.C.alpha.j.Cz.r.O1', 'COH.C.alpha.j.Cz.s.O2', 'COH.C.alpha.k.C4.l.T4', 'COH.C.alpha.k.C4.m.T5', 'COH.C.alpha.k.C4.n.P3', 'COH.C.alpha.k.C4.o.Pz', 'COH.C.alpha.k.C4.p.P4', 'COH.C.alpha.k.C4.q.T6', 'COH.C.alpha.k.C4.r.O1', 'COH.C.alpha.k.C4.s.O2', 'COH.C.alpha.l.T4.m.T5', 'COH.C.alpha.l.T4.n.P3', 'COH.C.alpha.l.T4.o.Pz', 'COH.C.alpha.l.T4.p.P4', 'COH.C.alpha.l.T4.q.T6', 'COH.C.alpha.l.T4.r.O1', 'COH.C.alpha.l.T4.s.O2', 'COH.C.alpha.m.T5.n.P3', 'COH.C.alpha.m.T5.o.Pz', 'COH.C.alpha.m.T5.p.P4', 'COH.C.alpha.m.T5.q.T6', 'COH.C.alpha.m.T5.r.O1', 'COH.C.alpha.m.T5.s.O2', 'COH.C.alpha.n.P3.o.Pz', 'COH.C.alpha.n.P3.p.P4', 'COH.C.alpha.n.P3.q.T6', 'COH.C.alpha.n.P3.r.O1', 'COH.C.alpha.n.P3.s.O2', 'COH.C.alpha.o.Pz.p.P4', 'COH.C.alpha.o.Pz.q.T6', 'COH.C.alpha.o.Pz.r.O1', 'COH.C.alpha.o.Pz.s.O2', 'COH.C.alpha.p.P4.q.T6', 'COH.C.alpha.p.P4.r.O1', 'COH.C.alpha.p.P4.s.O2', 'COH.C.alpha.q.T6.r.O1', 'COH.C.alpha.q.T6.s.O2', 'COH.C.alpha.r.O1.s.O2', 'COH.D.beta.a.FP1.b.FP2', 'COH.D.beta.a.FP1.c.F7', 'COH.D.beta.a.FP1.d.F3', 'COH.D.beta.a.FP1.e.Fz', 'COH.D.beta.a.FP1.f.F4', 'COH.D.beta.a.FP1.g.F8', 'COH.D.beta.a.FP1.h.T3', 'COH.D.beta.a.FP1.i.C3', 'COH.D.beta.a.FP1.j.Cz', 'COH.D.beta.a.FP1.k.C4', 'COH.D.beta.a.FP1.l.T4', 'COH.D.beta.a.FP1.m.T5', 'COH.D.beta.a.FP1.n.P3', 'COH.D.beta.a.FP1.o.Pz', 'COH.D.beta.a.FP1.p.P4', 'COH.D.beta.a.FP1.q.T6', 'COH.D.beta.a.FP1.r.O1', 'COH.D.beta.a.FP1.s.O2', 'COH.D.beta.b.FP2.c.F7', 'COH.D.beta.b.FP2.d.F3', 'COH.D.beta.b.FP2.e.Fz', 'COH.D.beta.b.FP2.f.F4', 'COH.D.beta.b.FP2.g.F8', 'COH.D.beta.b.FP2.h.T3', 'COH.D.beta.b.FP2.i.C3', 'COH.D.beta.b.FP2.j.Cz', 'COH.D.beta.b.FP2.k.C4', 'COH.D.beta.b.FP2.l.T4', 'COH.D.beta.b.FP2.m.T5', 'COH.D.beta.b.FP2.n.P3', 'COH.D.beta.b.FP2.o.Pz', 'COH.D.beta.b.FP2.p.P4', 'COH.D.beta.b.FP2.q.T6', 'COH.D.beta.b.FP2.r.O1', 'COH.D.beta.b.FP2.s.O2', 'COH.D.beta.c.F7.d.F3', 'COH.D.beta.c.F7.e.Fz', 'COH.D.beta.c.F7.f.F4', 'COH.D.beta.c.F7.g.F8', 'COH.D.beta.c.F7.h.T3', 'COH.D.beta.c.F7.i.C3', 'COH.D.beta.c.F7.j.Cz', 'COH.D.beta.c.F7.k.C4', 'COH.D.beta.c.F7.l.T4', 'COH.D.beta.c.F7.m.T5', 'COH.D.beta.c.F7.n.P3', 'COH.D.beta.c.F7.o.Pz', 'COH.D.beta.c.F7.p.P4', 'COH.D.beta.c.F7.q.T6', 'COH.D.beta.c.F7.r.O1', 'COH.D.beta.c.F7.s.O2', 'COH.D.beta.d.F3.e.Fz', 'COH.D.beta.d.F3.f.F4', 'COH.D.beta.d.F3.g.F8', 'COH.D.beta.d.F3.h.T3', 'COH.D.beta.d.F3.i.C3', 'COH.D.beta.d.F3.j.Cz', 'COH.D.beta.d.F3.k.C4', 'COH.D.beta.d.F3.l.T4', 'COH.D.beta.d.F3.m.T5', 'COH.D.beta.d.F3.n.P3', 'COH.D.beta.d.F3.o.Pz', 'COH.D.beta.d.F3.p.P4', 'COH.D.beta.d.F3.q.T6', 'COH.D.beta.d.F3.r.O1', 'COH.D.beta.d.F3.s.O2', 'COH.D.beta.e.Fz.f.F4', 'COH.D.beta.e.Fz.g.F8', 'COH.D.beta.e.Fz.h.T3', 'COH.D.beta.e.Fz.i.C3', 'COH.D.beta.e.Fz.j.Cz', 'COH.D.beta.e.Fz.k.C4', 'COH.D.beta.e.Fz.l.T4', 'COH.D.beta.e.Fz.m.T5', 'COH.D.beta.e.Fz.n.P3', 'COH.D.beta.e.Fz.o.Pz', 'COH.D.beta.e.Fz.p.P4', 'COH.D.beta.e.Fz.q.T6', 'COH.D.beta.e.Fz.r.O1', 'COH.D.beta.e.Fz.s.O2', 'COH.D.beta.f.F4.g.F8', 'COH.D.beta.f.F4.h.T3', 'COH.D.beta.f.F4.i.C3', 'COH.D.beta.f.F4.j.Cz', 'COH.D.beta.f.F4.k.C4', 'COH.D.beta.f.F4.l.T4', 'COH.D.beta.f.F4.m.T5', 'COH.D.beta.f.F4.n.P3', 'COH.D.beta.f.F4.o.Pz', 'COH.D.beta.f.F4.p.P4', 'COH.D.beta.f.F4.q.T6', 'COH.D.beta.f.F4.r.O1', 'COH.D.beta.f.F4.s.O2', 'COH.D.beta.g.F8.h.T3', 'COH.D.beta.g.F8.i.C3', 'COH.D.beta.g.F8.j.Cz', 'COH.D.beta.g.F8.k.C4', 'COH.D.beta.g.F8.l.T4', 'COH.D.beta.g.F8.m.T5', 'COH.D.beta.g.F8.n.P3', 'COH.D.beta.g.F8.o.Pz', 'COH.D.beta.g.F8.p.P4', 'COH.D.beta.g.F8.q.T6', 'COH.D.beta.g.F8.r.O1', 'COH.D.beta.g.F8.s.O2', 'COH.D.beta.h.T3.i.C3', 'COH.D.beta.h.T3.j.Cz', 'COH.D.beta.h.T3.k.C4', 'COH.D.beta.h.T3.l.T4', 'COH.D.beta.h.T3.m.T5', 'COH.D.beta.h.T3.n.P3', 'COH.D.beta.h.T3.o.Pz', 'COH.D.beta.h.T3.p.P4', 'COH.D.beta.h.T3.q.T6', 'COH.D.beta.h.T3.r.O1', 'COH.D.beta.h.T3.s.O2', 'COH.D.beta.i.C3.j.Cz', 'COH.D.beta.i.C3.k.C4', 'COH.D.beta.i.C3.l.T4', 'COH.D.beta.i.C3.m.T5', 'COH.D.beta.i.C3.n.P3', 'COH.D.beta.i.C3.o.Pz', 'COH.D.beta.i.C3.p.P4', 'COH.D.beta.i.C3.q.T6', 'COH.D.beta.i.C3.r.O1', 'COH.D.beta.i.C3.s.O2', 'COH.D.beta.j.Cz.k.C4', 'COH.D.beta.j.Cz.l.T4', 'COH.D.beta.j.Cz.m.T5', 'COH.D.beta.j.Cz.n.P3', 'COH.D.beta.j.Cz.o.Pz', 'COH.D.beta.j.Cz.p.P4', 'COH.D.beta.j.Cz.q.T6', 'COH.D.beta.j.Cz.r.O1', 'COH.D.beta.j.Cz.s.O2', 'COH.D.beta.k.C4.l.T4', 'COH.D.beta.k.C4.m.T5', 'COH.D.beta.k.C4.n.P3', 'COH.D.beta.k.C4.o.Pz', 'COH.D.beta.k.C4.p.P4', 'COH.D.beta.k.C4.q.T6', 'COH.D.beta.k.C4.r.O1', 'COH.D.beta.k.C4.s.O2', 'COH.D.beta.l.T4.m.T5', 'COH.D.beta.l.T4.n.P3', 'COH.D.beta.l.T4.o.Pz', 'COH.D.beta.l.T4.p.P4', 'COH.D.beta.l.T4.q.T6', 'COH.D.beta.l.T4.r.O1', 'COH.D.beta.l.T4.s.O2', 'COH.D.beta.m.T5.n.P3', 'COH.D.beta.m.T5.o.Pz', 'COH.D.beta.m.T5.p.P4', 'COH.D.beta.m.T5.q.T6', 'COH.D.beta.m.T5.r.O1', 'COH.D.beta.m.T5.s.O2', 'COH.D.beta.n.P3.o.Pz', 'COH.D.beta.n.P3.p.P4', 'COH.D.beta.n.P3.q.T6', 'COH.D.beta.n.P3.r.O1', 'COH.D.beta.n.P3.s.O2', 'COH.D.beta.o.Pz.p.P4', 'COH.D.beta.o.Pz.q.T6', 'COH.D.beta.o.Pz.r.O1', 'COH.D.beta.o.Pz.s.O2', 'COH.D.beta.p.P4.q.T6', 'COH.D.beta.p.P4.r.O1', 'COH.D.beta.p.P4.s.O2', 'COH.D.beta.q.T6.r.O1', 'COH.D.beta.q.T6.s.O2', 'COH.D.beta.r.O1.s.O2', 'COH.E.highbeta.a.FP1.b.FP2', 'COH.E.highbeta.a.FP1.c.F7', 'COH.E.highbeta.a.FP1.d.F3', 'COH.E.highbeta.a.FP1.e.Fz', 'COH.E.highbeta.a.FP1.f.F4', 'COH.E.highbeta.a.FP1.g.F8', 'COH.E.highbeta.a.FP1.h.T3', 'COH.E.highbeta.a.FP1.i.C3', 'COH.E.highbeta.a.FP1.j.Cz', 'COH.E.highbeta.a.FP1.k.C4', 'COH.E.highbeta.a.FP1.l.T4', 'COH.E.highbeta.a.FP1.m.T5', 'COH.E.highbeta.a.FP1.n.P3', 'COH.E.highbeta.a.FP1.o.Pz', 'COH.E.highbeta.a.FP1.p.P4', 'COH.E.highbeta.a.FP1.q.T6', 'COH.E.highbeta.a.FP1.r.O1', 'COH.E.highbeta.a.FP1.s.O2', 'COH.E.highbeta.b.FP2.c.F7', 'COH.E.highbeta.b.FP2.d.F3', 'COH.E.highbeta.b.FP2.e.Fz', 'COH.E.highbeta.b.FP2.f.F4', 'COH.E.highbeta.b.FP2.g.F8', 'COH.E.highbeta.b.FP2.h.T3', 'COH.E.highbeta.b.FP2.i.C3', 'COH.E.highbeta.b.FP2.j.Cz', 'COH.E.highbeta.b.FP2.k.C4', 'COH.E.highbeta.b.FP2.l.T4', 'COH.E.highbeta.b.FP2.m.T5', 'COH.E.highbeta.b.FP2.n.P3', 'COH.E.highbeta.b.FP2.o.Pz', 'COH.E.highbeta.b.FP2.p.P4', 'COH.E.highbeta.b.FP2.q.T6', 'COH.E.highbeta.b.FP2.r.O1', 'COH.E.highbeta.b.FP2.s.O2', 'COH.E.highbeta.c.F7.d.F3', 'COH.E.highbeta.c.F7.e.Fz', 'COH.E.highbeta.c.F7.f.F4', 'COH.E.highbeta.c.F7.g.F8', 'COH.E.highbeta.c.F7.h.T3', 'COH.E.highbeta.c.F7.i.C3', 'COH.E.highbeta.c.F7.j.Cz', 'COH.E.highbeta.c.F7.k.C4', 'COH.E.highbeta.c.F7.l.T4', 'COH.E.highbeta.c.F7.m.T5', 'COH.E.highbeta.c.F7.n.P3', 'COH.E.highbeta.c.F7.o.Pz', 'COH.E.highbeta.c.F7.p.P4', 'COH.E.highbeta.c.F7.q.T6', 'COH.E.highbeta.c.F7.r.O1', 'COH.E.highbeta.c.F7.s.O2', 'COH.E.highbeta.d.F3.e.Fz', 'COH.E.highbeta.d.F3.f.F4', 'COH.E.highbeta.d.F3.g.F8', 'COH.E.highbeta.d.F3.h.T3', 'COH.E.highbeta.d.F3.i.C3', 'COH.E.highbeta.d.F3.j.Cz', 'COH.E.highbeta.d.F3.k.C4', 'COH.E.highbeta.d.F3.l.T4', 'COH.E.highbeta.d.F3.m.T5', 'COH.E.highbeta.d.F3.n.P3', 'COH.E.highbeta.d.F3.o.Pz', 'COH.E.highbeta.d.F3.p.P4', 'COH.E.highbeta.d.F3.q.T6', 'COH.E.highbeta.d.F3.r.O1', 'COH.E.highbeta.d.F3.s.O2', 'COH.E.highbeta.e.Fz.f.F4', 'COH.E.highbeta.e.Fz.g.F8', 'COH.E.highbeta.e.Fz.h.T3', 'COH.E.highbeta.e.Fz.i.C3', 'COH.E.highbeta.e.Fz.j.Cz', 'COH.E.highbeta.e.Fz.k.C4', 'COH.E.highbeta.e.Fz.l.T4', 'COH.E.highbeta.e.Fz.m.T5', 'COH.E.highbeta.e.Fz.n.P3', 'COH.E.highbeta.e.Fz.o.Pz', 'COH.E.highbeta.e.Fz.p.P4', 'COH.E.highbeta.e.Fz.q.T6', 'COH.E.highbeta.e.Fz.r.O1', 'COH.E.highbeta.e.Fz.s.O2', 'COH.E.highbeta.f.F4.g.F8', 'COH.E.highbeta.f.F4.h.T3', 'COH.E.highbeta.f.F4.i.C3', 'COH.E.highbeta.f.F4.j.Cz', 'COH.E.highbeta.f.F4.k.C4', 'COH.E.highbeta.f.F4.l.T4', 'COH.E.highbeta.f.F4.m.T5', 'COH.E.highbeta.f.F4.n.P3', 'COH.E.highbeta.f.F4.o.Pz', 'COH.E.highbeta.f.F4.p.P4', 'COH.E.highbeta.f.F4.q.T6', 'COH.E.highbeta.f.F4.r.O1', 'COH.E.highbeta.f.F4.s.O2', 'COH.E.highbeta.g.F8.h.T3', 'COH.E.highbeta.g.F8.i.C3', 'COH.E.highbeta.g.F8.j.Cz', 'COH.E.highbeta.g.F8.k.C4', 'COH.E.highbeta.g.F8.l.T4', 'COH.E.highbeta.g.F8.m.T5', 'COH.E.highbeta.g.F8.n.P3', 'COH.E.highbeta.g.F8.o.Pz', 'COH.E.highbeta.g.F8.p.P4', 'COH.E.highbeta.g.F8.q.T6', 'COH.E.highbeta.g.F8.r.O1', 'COH.E.highbeta.g.F8.s.O2', 'COH.E.highbeta.h.T3.i.C3', 'COH.E.highbeta.h.T3.j.Cz', 'COH.E.highbeta.h.T3.k.C4', 'COH.E.highbeta.h.T3.l.T4', 'COH.E.highbeta.h.T3.m.T5', 'COH.E.highbeta.h.T3.n.P3', 'COH.E.highbeta.h.T3.o.Pz', 'COH.E.highbeta.h.T3.p.P4', 'COH.E.highbeta.h.T3.q.T6', 'COH.E.highbeta.h.T3.r.O1', 'COH.E.highbeta.h.T3.s.O2', 'COH.E.highbeta.i.C3.j.Cz', 'COH.E.highbeta.i.C3.k.C4', 'COH.E.highbeta.i.C3.l.T4', 'COH.E.highbeta.i.C3.m.T5', 'COH.E.highbeta.i.C3.n.P3', 'COH.E.highbeta.i.C3.o.Pz', 'COH.E.highbeta.i.C3.p.P4', 'COH.E.highbeta.i.C3.q.T6', 'COH.E.highbeta.i.C3.r.O1', 'COH.E.highbeta.i.C3.s.O2', 'COH.E.highbeta.j.Cz.k.C4', 'COH.E.highbeta.j.Cz.l.T4', 'COH.E.highbeta.j.Cz.m.T5', 'COH.E.highbeta.j.Cz.n.P3', 'COH.E.highbeta.j.Cz.o.Pz', 'COH.E.highbeta.j.Cz.p.P4', 'COH.E.highbeta.j.Cz.q.T6', 'COH.E.highbeta.j.Cz.r.O1', 'COH.E.highbeta.j.Cz.s.O2', 'COH.E.highbeta.k.C4.l.T4', 'COH.E.highbeta.k.C4.m.T5', 'COH.E.highbeta.k.C4.n.P3', 'COH.E.highbeta.k.C4.o.Pz', 'COH.E.highbeta.k.C4.p.P4', 'COH.E.highbeta.k.C4.q.T6', 'COH.E.highbeta.k.C4.r.O1', 'COH.E.highbeta.k.C4.s.O2', 'COH.E.highbeta.l.T4.m.T5', 'COH.E.highbeta.l.T4.n.P3', 'COH.E.highbeta.l.T4.o.Pz', 'COH.E.highbeta.l.T4.p.P4', 'COH.E.highbeta.l.T4.q.T6', 'COH.E.highbeta.l.T4.r.O1', 'COH.E.highbeta.l.T4.s.O2', 'COH.E.highbeta.m.T5.n.P3', 'COH.E.highbeta.m.T5.o.Pz', 'COH.E.highbeta.m.T5.p.P4', 'COH.E.highbeta.m.T5.q.T6', 'COH.E.highbeta.m.T5.r.O1', 'COH.E.highbeta.m.T5.s.O2', 'COH.E.highbeta.n.P3.o.Pz', 'COH.E.highbeta.n.P3.p.P4', 'COH.E.highbeta.n.P3.q.T6', 'COH.E.highbeta.n.P3.r.O1', 'COH.E.highbeta.n.P3.s.O2', 'COH.E.highbeta.o.Pz.p.P4', 'COH.E.highbeta.o.Pz.q.T6', 'COH.E.highbeta.o.Pz.r.O1', 'COH.E.highbeta.o.Pz.s.O2', 'COH.E.highbeta.p.P4.q.T6', 'COH.E.highbeta.p.P4.r.O1', 'COH.E.highbeta.p.P4.s.O2', 'COH.E.highbeta.q.T6.r.O1', 'COH.E.highbeta.q.T6.s.O2', 'COH.E.highbeta.r.O1.s.O2', 'COH.F.gamma.a.FP1.b.FP2', 'COH.F.gamma.a.FP1.c.F7', 'COH.F.gamma.a.FP1.d.F3', 'COH.F.gamma.a.FP1.e.Fz', 'COH.F.gamma.a.FP1.f.F4', 'COH.F.gamma.a.FP1.g.F8', 'COH.F.gamma.a.FP1.h.T3', 'COH.F.gamma.a.FP1.i.C3', 'COH.F.gamma.a.FP1.j.Cz', 'COH.F.gamma.a.FP1.k.C4', 'COH.F.gamma.a.FP1.l.T4', 'COH.F.gamma.a.FP1.m.T5', 'COH.F.gamma.a.FP1.n.P3', 'COH.F.gamma.a.FP1.o.Pz', 'COH.F.gamma.a.FP1.p.P4', 'COH.F.gamma.a.FP1.q.T6', 'COH.F.gamma.a.FP1.r.O1', 'COH.F.gamma.a.FP1.s.O2', 'COH.F.gamma.b.FP2.c.F7', 'COH.F.gamma.b.FP2.d.F3', 'COH.F.gamma.b.FP2.e.Fz', 'COH.F.gamma.b.FP2.f.F4', 'COH.F.gamma.b.FP2.g.F8', 'COH.F.gamma.b.FP2.h.T3', 'COH.F.gamma.b.FP2.i.C3', 'COH.F.gamma.b.FP2.j.Cz', 'COH.F.gamma.b.FP2.k.C4', 'COH.F.gamma.b.FP2.l.T4', 'COH.F.gamma.b.FP2.m.T5', 'COH.F.gamma.b.FP2.n.P3', 'COH.F.gamma.b.FP2.o.Pz', 'COH.F.gamma.b.FP2.p.P4', 'COH.F.gamma.b.FP2.q.T6', 'COH.F.gamma.b.FP2.r.O1', 'COH.F.gamma.b.FP2.s.O2', 'COH.F.gamma.c.F7.d.F3', 'COH.F.gamma.c.F7.e.Fz', 'COH.F.gamma.c.F7.f.F4', 'COH.F.gamma.c.F7.g.F8', 'COH.F.gamma.c.F7.h.T3', 'COH.F.gamma.c.F7.i.C3', 'COH.F.gamma.c.F7.j.Cz', 'COH.F.gamma.c.F7.k.C4', 'COH.F.gamma.c.F7.l.T4', 'COH.F.gamma.c.F7.m.T5', 'COH.F.gamma.c.F7.n.P3', 'COH.F.gamma.c.F7.o.Pz', 'COH.F.gamma.c.F7.p.P4', 'COH.F.gamma.c.F7.q.T6', 'COH.F.gamma.c.F7.r.O1', 'COH.F.gamma.c.F7.s.O2', 'COH.F.gamma.d.F3.e.Fz', 'COH.F.gamma.d.F3.f.F4', 'COH.F.gamma.d.F3.g.F8', 'COH.F.gamma.d.F3.h.T3', 'COH.F.gamma.d.F3.i.C3', 'COH.F.gamma.d.F3.j.Cz', 'COH.F.gamma.d.F3.k.C4', 'COH.F.gamma.d.F3.l.T4', 'COH.F.gamma.d.F3.m.T5', 'COH.F.gamma.d.F3.n.P3', 'COH.F.gamma.d.F3.o.Pz', 'COH.F.gamma.d.F3.p.P4', 'COH.F.gamma.d.F3.q.T6', 'COH.F.gamma.d.F3.r.O1', 'COH.F.gamma.d.F3.s.O2', 'COH.F.gamma.e.Fz.f.F4', 'COH.F.gamma.e.Fz.g.F8', 'COH.F.gamma.e.Fz.h.T3', 'COH.F.gamma.e.Fz.i.C3', 'COH.F.gamma.e.Fz.j.Cz', 'COH.F.gamma.e.Fz.k.C4', 'COH.F.gamma.e.Fz.l.T4', 'COH.F.gamma.e.Fz.m.T5', 'COH.F.gamma.e.Fz.n.P3', 'COH.F.gamma.e.Fz.o.Pz', 'COH.F.gamma.e.Fz.p.P4', 'COH.F.gamma.e.Fz.q.T6', 'COH.F.gamma.e.Fz.r.O1', 'COH.F.gamma.e.Fz.s.O2', 'COH.F.gamma.f.F4.g.F8', 'COH.F.gamma.f.F4.h.T3', 'COH.F.gamma.f.F4.i.C3', 'COH.F.gamma.f.F4.j.Cz', 'COH.F.gamma.f.F4.k.C4', 'COH.F.gamma.f.F4.l.T4', 'COH.F.gamma.f.F4.m.T5', 'COH.F.gamma.f.F4.n.P3', 'COH.F.gamma.f.F4.o.Pz', 'COH.F.gamma.f.F4.p.P4', 'COH.F.gamma.f.F4.q.T6', 'COH.F.gamma.f.F4.r.O1', 'COH.F.gamma.f.F4.s.O2', 'COH.F.gamma.g.F8.h.T3', 'COH.F.gamma.g.F8.i.C3', 'COH.F.gamma.g.F8.j.Cz', 'COH.F.gamma.g.F8.k.C4', 'COH.F.gamma.g.F8.l.T4', 'COH.F.gamma.g.F8.m.T5', 'COH.F.gamma.g.F8.n.P3', 'COH.F.gamma.g.F8.o.Pz', 'COH.F.gamma.g.F8.p.P4', 'COH.F.gamma.g.F8.q.T6', 'COH.F.gamma.g.F8.r.O1', 'COH.F.gamma.g.F8.s.O2', 'COH.F.gamma.h.T3.i.C3', 'COH.F.gamma.h.T3.j.Cz', 'COH.F.gamma.h.T3.k.C4', 'COH.F.gamma.h.T3.l.T4', 'COH.F.gamma.h.T3.m.T5', 'COH.F.gamma.h.T3.n.P3', 'COH.F.gamma.h.T3.o.Pz', 'COH.F.gamma.h.T3.p.P4', 'COH.F.gamma.h.T3.q.T6', 'COH.F.gamma.h.T3.r.O1', 'COH.F.gamma.h.T3.s.O2', 'COH.F.gamma.i.C3.j.Cz', 'COH.F.gamma.i.C3.k.C4', 'COH.F.gamma.i.C3.l.T4', 'COH.F.gamma.i.C3.m.T5', 'COH.F.gamma.i.C3.n.P3', 'COH.F.gamma.i.C3.o.Pz', 'COH.F.gamma.i.C3.p.P4', 'COH.F.gamma.i.C3.q.T6', 'COH.F.gamma.i.C3.r.O1', 'COH.F.gamma.i.C3.s.O2', 'COH.F.gamma.j.Cz.k.C4', 'COH.F.gamma.j.Cz.l.T4', 'COH.F.gamma.j.Cz.m.T5', 'COH.F.gamma.j.Cz.n.P3', 'COH.F.gamma.j.Cz.o.Pz', 'COH.F.gamma.j.Cz.p.P4', 'COH.F.gamma.j.Cz.q.T6', 'COH.F.gamma.j.Cz.r.O1', 'COH.F.gamma.j.Cz.s.O2', 'COH.F.gamma.k.C4.l.T4', 'COH.F.gamma.k.C4.m.T5', 'COH.F.gamma.k.C4.n.P3', 'COH.F.gamma.k.C4.o.Pz', 'COH.F.gamma.k.C4.p.P4', 'COH.F.gamma.k.C4.q.T6', 'COH.F.gamma.k.C4.r.O1', 'COH.F.gamma.k.C4.s.O2', 'COH.F.gamma.l.T4.m.T5', 'COH.F.gamma.l.T4.n.P3', 'COH.F.gamma.l.T4.o.Pz', 'COH.F.gamma.l.T4.p.P4', 'COH.F.gamma.l.T4.q.T6', 'COH.F.gamma.l.T4.r.O1', 'COH.F.gamma.l.T4.s.O2', 'COH.F.gamma.m.T5.n.P3', 'COH.F.gamma.m.T5.o.Pz', 'COH.F.gamma.m.T5.p.P4', 'COH.F.gamma.m.T5.q.T6', 'COH.F.gamma.m.T5.r.O1', 'COH.F.gamma.m.T5.s.O2', 'COH.F.gamma.n.P3.o.Pz', 'COH.F.gamma.n.P3.p.P4', 'COH.F.gamma.n.P3.q.T6', 'COH.F.gamma.n.P3.r.O1', 'COH.F.gamma.n.P3.s.O2', 'COH.F.gamma.o.Pz.p.P4', 'COH.F.gamma.o.Pz.q.T6', 'COH.F.gamma.o.Pz.r.O1', 'COH.F.gamma.o.Pz.s.O2', 'COH.F.gamma.p.P4.q.T6', 'COH.F.gamma.p.P4.r.O1', 'COH.F.gamma.p.P4.s.O2', 'COH.F.gamma.q.T6.r.O1', 'COH.F.gamma.q.T6.s.O2', 'COH.F.gamma.r.O1.s.O2']\n",
    "for i in arr2:\n",
    "    cat_1 = df8[df8['disorder']=='Addictive disorder'][i]\n",
    "    cat_2 = df8[df8['disorder']=='Trauma and stress related disorder'][i]\n",
    "    cat_3 = df8[df8['disorder']=='Mood disorder'][i]\n",
    "    cat_4 = df8[df8['disorder']=='Healthy control'][i]\n",
    "    cat_5 = df8[df8['disorder']=='Obsessive compulsive disorder'][i]\n",
    "    cat_6 = df8[df8['disorder']=='Schizophrenia'][i]\n",
    "    cat_7 = df8[df8['disorder']=='Anxiety disorder'][i]\n",
    "    fig = plt.figure()\n",
    "    ax = fig.add_subplot(111)\n",
    "    ax.set_title(\"Boxplot of \"+i)\n",
    "    ax.boxplot([cat_1,cat_2,cat_3,cat_4,cat_5,cat_6,cat_7], labels=['Addictive', 'Trauma', 'Mood', 'Healthy', 'OCD', 'Schizo', 'Anxiety'])\n",
    "    ax.set_ylabel(i+\" variable values\")"
   ]
  },
  {
   "cell_type": "code",
   "execution_count": null,
   "id": "f41889a0",
   "metadata": {},
   "outputs": [],
   "source": [
    "# Splits into Numeric Data\n",
    "numeric_data1 = df8.select_dtypes(include=[np.number])"
   ]
  },
  {
   "cell_type": "code",
   "execution_count": null,
   "id": "8e143195",
   "metadata": {
    "scrolled": true
   },
   "outputs": [],
   "source": [
    "# again plotting Q-Q plots for all the variables\n",
    "import statsmodels.api as sm\n",
    "arr3=['AB.A.delta.a.FP1', 'AB.A.delta.b.FP2', 'AB.A.delta.c.F7', 'AB.A.delta.d.F3', 'AB.A.delta.e.Fz', 'AB.A.delta.f.F4', 'AB.A.delta.g.F8', 'AB.A.delta.h.T3', 'AB.A.delta.i.C3', 'AB.A.delta.j.Cz', 'AB.A.delta.k.C4', 'AB.A.delta.l.T4', 'AB.A.delta.m.T5', 'AB.A.delta.n.P3', 'AB.A.delta.o.Pz', 'AB.A.delta.p.P4', 'AB.A.delta.q.T6', 'AB.A.delta.r.O1', 'AB.A.delta.s.O2', 'AB.B.theta.a.FP1', 'AB.B.theta.b.FP2', 'AB.B.theta.c.F7', 'AB.B.theta.d.F3', 'AB.B.theta.e.Fz', 'AB.B.theta.f.F4', 'AB.B.theta.g.F8', 'AB.B.theta.h.T3', 'AB.B.theta.i.C3', 'AB.B.theta.j.Cz', 'AB.B.theta.k.C4', 'AB.B.theta.l.T4', 'AB.B.theta.m.T5', 'AB.B.theta.n.P3', 'AB.B.theta.o.Pz', 'AB.B.theta.p.P4', 'AB.B.theta.q.T6', 'AB.B.theta.r.O1', 'AB.B.theta.s.O2', 'AB.C.alpha.a.FP1', 'AB.C.alpha.b.FP2', 'AB.C.alpha.c.F7', 'AB.C.alpha.d.F3', 'AB.C.alpha.e.Fz', 'AB.C.alpha.f.F4', 'AB.C.alpha.g.F8', 'AB.C.alpha.h.T3', 'AB.C.alpha.i.C3', 'AB.C.alpha.j.Cz', 'AB.C.alpha.k.C4', 'AB.C.alpha.l.T4', 'AB.C.alpha.m.T5', 'AB.C.alpha.n.P3', 'AB.C.alpha.o.Pz', 'AB.C.alpha.p.P4', 'AB.C.alpha.q.T6', 'AB.C.alpha.r.O1', 'AB.C.alpha.s.O2', 'AB.D.beta.a.FP1', 'AB.D.beta.b.FP2', 'AB.D.beta.c.F7', 'AB.D.beta.d.F3', 'AB.D.beta.e.Fz', 'AB.D.beta.f.F4', 'AB.D.beta.g.F8', 'AB.D.beta.h.T3', 'AB.D.beta.i.C3', 'AB.D.beta.j.Cz', 'AB.D.beta.k.C4', 'AB.D.beta.l.T4', 'AB.D.beta.m.T5', 'AB.D.beta.n.P3', 'AB.D.beta.o.Pz', 'AB.D.beta.p.P4', 'AB.D.beta.q.T6', 'AB.D.beta.r.O1', 'AB.D.beta.s.O2', 'AB.E.highbeta.a.FP1', 'AB.E.highbeta.b.FP2', 'AB.E.highbeta.c.F7', 'AB.E.highbeta.d.F3', 'AB.E.highbeta.e.Fz', 'AB.E.highbeta.f.F4', 'AB.E.highbeta.g.F8', 'AB.E.highbeta.h.T3', 'AB.E.highbeta.i.C3', 'AB.E.highbeta.j.Cz', 'AB.E.highbeta.k.C4', 'AB.E.highbeta.l.T4', 'AB.E.highbeta.m.T5', 'AB.E.highbeta.n.P3', 'AB.E.highbeta.o.Pz', 'AB.E.highbeta.p.P4', 'AB.E.highbeta.q.T6', 'AB.E.highbeta.r.O1', 'AB.E.highbeta.s.O2', 'AB.F.gamma.a.FP1', 'AB.F.gamma.b.FP2', 'AB.F.gamma.c.F7', 'AB.F.gamma.d.F3', 'AB.F.gamma.e.Fz', 'AB.F.gamma.f.F4', 'AB.F.gamma.g.F8', 'AB.F.gamma.h.T3', 'AB.F.gamma.i.C3', 'AB.F.gamma.j.Cz', 'AB.F.gamma.k.C4', 'AB.F.gamma.l.T4', 'AB.F.gamma.m.T5', 'AB.F.gamma.n.P3', 'AB.F.gamma.o.Pz', 'AB.F.gamma.p.P4', 'AB.F.gamma.q.T6', 'AB.F.gamma.r.O1', 'AB.F.gamma.s.O2', 'COH.A.delta.a.FP1.b.FP2', 'COH.A.delta.a.FP1.c.F7', 'COH.A.delta.a.FP1.d.F3', 'COH.A.delta.a.FP1.e.Fz', 'COH.A.delta.a.FP1.f.F4', 'COH.A.delta.a.FP1.g.F8', 'COH.A.delta.a.FP1.h.T3', 'COH.A.delta.a.FP1.i.C3', 'COH.A.delta.a.FP1.j.Cz', 'COH.A.delta.a.FP1.k.C4', 'COH.A.delta.a.FP1.l.T4', 'COH.A.delta.a.FP1.m.T5', 'COH.A.delta.a.FP1.n.P3', 'COH.A.delta.a.FP1.o.Pz', 'COH.A.delta.a.FP1.p.P4', 'COH.A.delta.a.FP1.q.T6', 'COH.A.delta.a.FP1.r.O1', 'COH.A.delta.a.FP1.s.O2', 'COH.A.delta.b.FP2.c.F7', 'COH.A.delta.b.FP2.d.F3', 'COH.A.delta.b.FP2.e.Fz', 'COH.A.delta.b.FP2.f.F4', 'COH.A.delta.b.FP2.g.F8', 'COH.A.delta.b.FP2.h.T3', 'COH.A.delta.b.FP2.i.C3', 'COH.A.delta.b.FP2.j.Cz', 'COH.A.delta.b.FP2.k.C4', 'COH.A.delta.b.FP2.l.T4', 'COH.A.delta.b.FP2.m.T5', 'COH.A.delta.b.FP2.n.P3', 'COH.A.delta.b.FP2.o.Pz', 'COH.A.delta.b.FP2.p.P4', 'COH.A.delta.b.FP2.q.T6', 'COH.A.delta.b.FP2.r.O1', 'COH.A.delta.b.FP2.s.O2', 'COH.A.delta.c.F7.d.F3', 'COH.A.delta.c.F7.e.Fz', 'COH.A.delta.c.F7.f.F4', 'COH.A.delta.c.F7.g.F8', 'COH.A.delta.c.F7.h.T3', 'COH.A.delta.c.F7.i.C3', 'COH.A.delta.c.F7.j.Cz', 'COH.A.delta.c.F7.k.C4', 'COH.A.delta.c.F7.l.T4', 'COH.A.delta.c.F7.m.T5', 'COH.A.delta.c.F7.n.P3', 'COH.A.delta.c.F7.o.Pz', 'COH.A.delta.c.F7.p.P4', 'COH.A.delta.c.F7.q.T6', 'COH.A.delta.c.F7.r.O1', 'COH.A.delta.c.F7.s.O2', 'COH.A.delta.d.F3.e.Fz', 'COH.A.delta.d.F3.f.F4', 'COH.A.delta.d.F3.g.F8', 'COH.A.delta.d.F3.h.T3', 'COH.A.delta.d.F3.i.C3', 'COH.A.delta.d.F3.j.Cz', 'COH.A.delta.d.F3.k.C4', 'COH.A.delta.d.F3.l.T4', 'COH.A.delta.d.F3.m.T5', 'COH.A.delta.d.F3.n.P3', 'COH.A.delta.d.F3.o.Pz', 'COH.A.delta.d.F3.p.P4', 'COH.A.delta.d.F3.q.T6', 'COH.A.delta.d.F3.r.O1', 'COH.A.delta.d.F3.s.O2', 'COH.A.delta.e.Fz.f.F4', 'COH.A.delta.e.Fz.g.F8', 'COH.A.delta.e.Fz.h.T3', 'COH.A.delta.e.Fz.i.C3', 'COH.A.delta.e.Fz.j.Cz', 'COH.A.delta.e.Fz.k.C4', 'COH.A.delta.e.Fz.l.T4', 'COH.A.delta.e.Fz.m.T5', 'COH.A.delta.e.Fz.n.P3', 'COH.A.delta.e.Fz.o.Pz', 'COH.A.delta.e.Fz.p.P4', 'COH.A.delta.e.Fz.q.T6', 'COH.A.delta.e.Fz.r.O1', 'COH.A.delta.e.Fz.s.O2', 'COH.A.delta.f.F4.g.F8', 'COH.A.delta.f.F4.h.T3', 'COH.A.delta.f.F4.i.C3', 'COH.A.delta.f.F4.j.Cz', 'COH.A.delta.f.F4.k.C4', 'COH.A.delta.f.F4.l.T4', 'COH.A.delta.f.F4.m.T5', 'COH.A.delta.f.F4.n.P3', 'COH.A.delta.f.F4.o.Pz', 'COH.A.delta.f.F4.p.P4', 'COH.A.delta.f.F4.q.T6', 'COH.A.delta.f.F4.r.O1', 'COH.A.delta.f.F4.s.O2', 'COH.A.delta.g.F8.h.T3', 'COH.A.delta.g.F8.i.C3', 'COH.A.delta.g.F8.j.Cz', 'COH.A.delta.g.F8.k.C4', 'COH.A.delta.g.F8.l.T4', 'COH.A.delta.g.F8.m.T5', 'COH.A.delta.g.F8.n.P3', 'COH.A.delta.g.F8.o.Pz', 'COH.A.delta.g.F8.p.P4', 'COH.A.delta.g.F8.q.T6', 'COH.A.delta.g.F8.r.O1', 'COH.A.delta.g.F8.s.O2', 'COH.A.delta.h.T3.i.C3', 'COH.A.delta.h.T3.j.Cz', 'COH.A.delta.h.T3.k.C4', 'COH.A.delta.h.T3.l.T4', 'COH.A.delta.h.T3.m.T5', 'COH.A.delta.h.T3.n.P3', 'COH.A.delta.h.T3.o.Pz', 'COH.A.delta.h.T3.p.P4', 'COH.A.delta.h.T3.q.T6', 'COH.A.delta.h.T3.r.O1', 'COH.A.delta.h.T3.s.O2', 'COH.A.delta.i.C3.j.Cz', 'COH.A.delta.i.C3.k.C4', 'COH.A.delta.i.C3.l.T4', 'COH.A.delta.i.C3.m.T5', 'COH.A.delta.i.C3.n.P3', 'COH.A.delta.i.C3.o.Pz', 'COH.A.delta.i.C3.p.P4', 'COH.A.delta.i.C3.q.T6', 'COH.A.delta.i.C3.r.O1', 'COH.A.delta.i.C3.s.O2', 'COH.A.delta.j.Cz.k.C4', 'COH.A.delta.j.Cz.l.T4', 'COH.A.delta.j.Cz.m.T5', 'COH.A.delta.j.Cz.n.P3', 'COH.A.delta.j.Cz.o.Pz', 'COH.A.delta.j.Cz.p.P4', 'COH.A.delta.j.Cz.q.T6', 'COH.A.delta.j.Cz.r.O1', 'COH.A.delta.j.Cz.s.O2', 'COH.A.delta.k.C4.l.T4', 'COH.A.delta.k.C4.m.T5', 'COH.A.delta.k.C4.n.P3', 'COH.A.delta.k.C4.o.Pz', 'COH.A.delta.k.C4.p.P4', 'COH.A.delta.k.C4.q.T6', 'COH.A.delta.k.C4.r.O1', 'COH.A.delta.k.C4.s.O2', 'COH.A.delta.l.T4.m.T5', 'COH.A.delta.l.T4.n.P3', 'COH.A.delta.l.T4.o.Pz', 'COH.A.delta.l.T4.p.P4', 'COH.A.delta.l.T4.q.T6', 'COH.A.delta.l.T4.r.O1', 'COH.A.delta.l.T4.s.O2', 'COH.A.delta.m.T5.n.P3', 'COH.A.delta.m.T5.o.Pz', 'COH.A.delta.m.T5.p.P4', 'COH.A.delta.m.T5.q.T6', 'COH.A.delta.m.T5.r.O1', 'COH.A.delta.m.T5.s.O2', 'COH.A.delta.n.P3.o.Pz', 'COH.A.delta.n.P3.p.P4', 'COH.A.delta.n.P3.q.T6', 'COH.A.delta.n.P3.r.O1', 'COH.A.delta.n.P3.s.O2', 'COH.A.delta.o.Pz.p.P4', 'COH.A.delta.o.Pz.q.T6', 'COH.A.delta.o.Pz.r.O1', 'COH.A.delta.o.Pz.s.O2', 'COH.A.delta.p.P4.q.T6', 'COH.A.delta.p.P4.r.O1', 'COH.A.delta.p.P4.s.O2', 'COH.A.delta.q.T6.r.O1', 'COH.A.delta.q.T6.s.O2', 'COH.A.delta.r.O1.s.O2', 'COH.B.theta.a.FP1.b.FP2', 'COH.B.theta.a.FP1.c.F7', 'COH.B.theta.a.FP1.d.F3', 'COH.B.theta.a.FP1.e.Fz', 'COH.B.theta.a.FP1.f.F4', 'COH.B.theta.a.FP1.g.F8', 'COH.B.theta.a.FP1.h.T3', 'COH.B.theta.a.FP1.i.C3', 'COH.B.theta.a.FP1.j.Cz', 'COH.B.theta.a.FP1.k.C4', 'COH.B.theta.a.FP1.l.T4', 'COH.B.theta.a.FP1.m.T5', 'COH.B.theta.a.FP1.n.P3', 'COH.B.theta.a.FP1.o.Pz', 'COH.B.theta.a.FP1.p.P4', 'COH.B.theta.a.FP1.q.T6', 'COH.B.theta.a.FP1.r.O1', 'COH.B.theta.a.FP1.s.O2', 'COH.B.theta.b.FP2.c.F7', 'COH.B.theta.b.FP2.d.F3', 'COH.B.theta.b.FP2.e.Fz', 'COH.B.theta.b.FP2.f.F4', 'COH.B.theta.b.FP2.g.F8', 'COH.B.theta.b.FP2.h.T3', 'COH.B.theta.b.FP2.i.C3', 'COH.B.theta.b.FP2.j.Cz', 'COH.B.theta.b.FP2.k.C4', 'COH.B.theta.b.FP2.l.T4', 'COH.B.theta.b.FP2.m.T5', 'COH.B.theta.b.FP2.n.P3', 'COH.B.theta.b.FP2.o.Pz', 'COH.B.theta.b.FP2.p.P4', 'COH.B.theta.b.FP2.q.T6', 'COH.B.theta.b.FP2.r.O1', 'COH.B.theta.b.FP2.s.O2', 'COH.B.theta.c.F7.d.F3', 'COH.B.theta.c.F7.e.Fz', 'COH.B.theta.c.F7.f.F4', 'COH.B.theta.c.F7.g.F8', 'COH.B.theta.c.F7.h.T3', 'COH.B.theta.c.F7.i.C3', 'COH.B.theta.c.F7.j.Cz', 'COH.B.theta.c.F7.k.C4', 'COH.B.theta.c.F7.l.T4', 'COH.B.theta.c.F7.m.T5', 'COH.B.theta.c.F7.n.P3', 'COH.B.theta.c.F7.o.Pz', 'COH.B.theta.c.F7.p.P4', 'COH.B.theta.c.F7.q.T6', 'COH.B.theta.c.F7.r.O1', 'COH.B.theta.c.F7.s.O2', 'COH.B.theta.d.F3.e.Fz', 'COH.B.theta.d.F3.f.F4', 'COH.B.theta.d.F3.g.F8', 'COH.B.theta.d.F3.h.T3', 'COH.B.theta.d.F3.i.C3', 'COH.B.theta.d.F3.j.Cz', 'COH.B.theta.d.F3.k.C4', 'COH.B.theta.d.F3.l.T4', 'COH.B.theta.d.F3.m.T5', 'COH.B.theta.d.F3.n.P3', 'COH.B.theta.d.F3.o.Pz', 'COH.B.theta.d.F3.p.P4', 'COH.B.theta.d.F3.q.T6', 'COH.B.theta.d.F3.r.O1', 'COH.B.theta.d.F3.s.O2', 'COH.B.theta.e.Fz.f.F4', 'COH.B.theta.e.Fz.g.F8', 'COH.B.theta.e.Fz.h.T3', 'COH.B.theta.e.Fz.i.C3', 'COH.B.theta.e.Fz.j.Cz', 'COH.B.theta.e.Fz.k.C4', 'COH.B.theta.e.Fz.l.T4', 'COH.B.theta.e.Fz.m.T5', 'COH.B.theta.e.Fz.n.P3', 'COH.B.theta.e.Fz.o.Pz', 'COH.B.theta.e.Fz.p.P4', 'COH.B.theta.e.Fz.q.T6', 'COH.B.theta.e.Fz.r.O1', 'COH.B.theta.e.Fz.s.O2', 'COH.B.theta.f.F4.g.F8', 'COH.B.theta.f.F4.h.T3', 'COH.B.theta.f.F4.i.C3', 'COH.B.theta.f.F4.j.Cz', 'COH.B.theta.f.F4.k.C4', 'COH.B.theta.f.F4.l.T4', 'COH.B.theta.f.F4.m.T5', 'COH.B.theta.f.F4.n.P3', 'COH.B.theta.f.F4.o.Pz', 'COH.B.theta.f.F4.p.P4', 'COH.B.theta.f.F4.q.T6', 'COH.B.theta.f.F4.r.O1', 'COH.B.theta.f.F4.s.O2', 'COH.B.theta.g.F8.h.T3', 'COH.B.theta.g.F8.i.C3', 'COH.B.theta.g.F8.j.Cz', 'COH.B.theta.g.F8.k.C4', 'COH.B.theta.g.F8.l.T4', 'COH.B.theta.g.F8.m.T5', 'COH.B.theta.g.F8.n.P3', 'COH.B.theta.g.F8.o.Pz', 'COH.B.theta.g.F8.p.P4', 'COH.B.theta.g.F8.q.T6', 'COH.B.theta.g.F8.r.O1', 'COH.B.theta.g.F8.s.O2', 'COH.B.theta.h.T3.i.C3', 'COH.B.theta.h.T3.j.Cz', 'COH.B.theta.h.T3.k.C4', 'COH.B.theta.h.T3.l.T4', 'COH.B.theta.h.T3.m.T5', 'COH.B.theta.h.T3.n.P3', 'COH.B.theta.h.T3.o.Pz', 'COH.B.theta.h.T3.p.P4', 'COH.B.theta.h.T3.q.T6', 'COH.B.theta.h.T3.r.O1', 'COH.B.theta.h.T3.s.O2', 'COH.B.theta.i.C3.j.Cz', 'COH.B.theta.i.C3.k.C4', 'COH.B.theta.i.C3.l.T4', 'COH.B.theta.i.C3.m.T5', 'COH.B.theta.i.C3.n.P3', 'COH.B.theta.i.C3.o.Pz', 'COH.B.theta.i.C3.p.P4', 'COH.B.theta.i.C3.q.T6', 'COH.B.theta.i.C3.r.O1', 'COH.B.theta.i.C3.s.O2', 'COH.B.theta.j.Cz.k.C4', 'COH.B.theta.j.Cz.l.T4', 'COH.B.theta.j.Cz.m.T5', 'COH.B.theta.j.Cz.n.P3', 'COH.B.theta.j.Cz.o.Pz', 'COH.B.theta.j.Cz.p.P4', 'COH.B.theta.j.Cz.q.T6', 'COH.B.theta.j.Cz.r.O1', 'COH.B.theta.j.Cz.s.O2', 'COH.B.theta.k.C4.l.T4', 'COH.B.theta.k.C4.m.T5', 'COH.B.theta.k.C4.n.P3', 'COH.B.theta.k.C4.o.Pz', 'COH.B.theta.k.C4.p.P4', 'COH.B.theta.k.C4.q.T6', 'COH.B.theta.k.C4.r.O1', 'COH.B.theta.k.C4.s.O2', 'COH.B.theta.l.T4.m.T5', 'COH.B.theta.l.T4.n.P3', 'COH.B.theta.l.T4.o.Pz', 'COH.B.theta.l.T4.p.P4', 'COH.B.theta.l.T4.q.T6', 'COH.B.theta.l.T4.r.O1', 'COH.B.theta.l.T4.s.O2', 'COH.B.theta.m.T5.n.P3', 'COH.B.theta.m.T5.o.Pz', 'COH.B.theta.m.T5.p.P4', 'COH.B.theta.m.T5.q.T6', 'COH.B.theta.m.T5.r.O1', 'COH.B.theta.m.T5.s.O2', 'COH.B.theta.n.P3.o.Pz', 'COH.B.theta.n.P3.p.P4', 'COH.B.theta.n.P3.q.T6', 'COH.B.theta.n.P3.r.O1', 'COH.B.theta.n.P3.s.O2', 'COH.B.theta.o.Pz.p.P4', 'COH.B.theta.o.Pz.q.T6', 'COH.B.theta.o.Pz.r.O1', 'COH.B.theta.o.Pz.s.O2', 'COH.B.theta.p.P4.q.T6', 'COH.B.theta.p.P4.r.O1', 'COH.B.theta.p.P4.s.O2', 'COH.B.theta.q.T6.r.O1', 'COH.B.theta.q.T6.s.O2', 'COH.B.theta.r.O1.s.O2', 'COH.C.alpha.a.FP1.b.FP2', 'COH.C.alpha.a.FP1.c.F7', 'COH.C.alpha.a.FP1.d.F3', 'COH.C.alpha.a.FP1.e.Fz', 'COH.C.alpha.a.FP1.f.F4', 'COH.C.alpha.a.FP1.g.F8', 'COH.C.alpha.a.FP1.h.T3', 'COH.C.alpha.a.FP1.i.C3', 'COH.C.alpha.a.FP1.j.Cz', 'COH.C.alpha.a.FP1.k.C4', 'COH.C.alpha.a.FP1.l.T4', 'COH.C.alpha.a.FP1.m.T5', 'COH.C.alpha.a.FP1.n.P3', 'COH.C.alpha.a.FP1.o.Pz', 'COH.C.alpha.a.FP1.p.P4', 'COH.C.alpha.a.FP1.q.T6', 'COH.C.alpha.a.FP1.r.O1', 'COH.C.alpha.a.FP1.s.O2', 'COH.C.alpha.b.FP2.c.F7', 'COH.C.alpha.b.FP2.d.F3', 'COH.C.alpha.b.FP2.e.Fz', 'COH.C.alpha.b.FP2.f.F4', 'COH.C.alpha.b.FP2.g.F8', 'COH.C.alpha.b.FP2.h.T3', 'COH.C.alpha.b.FP2.i.C3', 'COH.C.alpha.b.FP2.j.Cz', 'COH.C.alpha.b.FP2.k.C4', 'COH.C.alpha.b.FP2.l.T4', 'COH.C.alpha.b.FP2.m.T5', 'COH.C.alpha.b.FP2.n.P3', 'COH.C.alpha.b.FP2.o.Pz', 'COH.C.alpha.b.FP2.p.P4', 'COH.C.alpha.b.FP2.q.T6', 'COH.C.alpha.b.FP2.r.O1', 'COH.C.alpha.b.FP2.s.O2', 'COH.C.alpha.c.F7.d.F3', 'COH.C.alpha.c.F7.e.Fz', 'COH.C.alpha.c.F7.f.F4', 'COH.C.alpha.c.F7.g.F8', 'COH.C.alpha.c.F7.h.T3', 'COH.C.alpha.c.F7.i.C3', 'COH.C.alpha.c.F7.j.Cz', 'COH.C.alpha.c.F7.k.C4', 'COH.C.alpha.c.F7.l.T4', 'COH.C.alpha.c.F7.m.T5', 'COH.C.alpha.c.F7.n.P3', 'COH.C.alpha.c.F7.o.Pz', 'COH.C.alpha.c.F7.p.P4', 'COH.C.alpha.c.F7.q.T6', 'COH.C.alpha.c.F7.r.O1', 'COH.C.alpha.c.F7.s.O2', 'COH.C.alpha.d.F3.e.Fz', 'COH.C.alpha.d.F3.f.F4', 'COH.C.alpha.d.F3.g.F8', 'COH.C.alpha.d.F3.h.T3', 'COH.C.alpha.d.F3.i.C3', 'COH.C.alpha.d.F3.j.Cz', 'COH.C.alpha.d.F3.k.C4', 'COH.C.alpha.d.F3.l.T4', 'COH.C.alpha.d.F3.m.T5', 'COH.C.alpha.d.F3.n.P3', 'COH.C.alpha.d.F3.o.Pz', 'COH.C.alpha.d.F3.p.P4', 'COH.C.alpha.d.F3.q.T6', 'COH.C.alpha.d.F3.r.O1', 'COH.C.alpha.d.F3.s.O2', 'COH.C.alpha.e.Fz.f.F4', 'COH.C.alpha.e.Fz.g.F8', 'COH.C.alpha.e.Fz.h.T3', 'COH.C.alpha.e.Fz.i.C3', 'COH.C.alpha.e.Fz.j.Cz', 'COH.C.alpha.e.Fz.k.C4', 'COH.C.alpha.e.Fz.l.T4', 'COH.C.alpha.e.Fz.m.T5', 'COH.C.alpha.e.Fz.n.P3', 'COH.C.alpha.e.Fz.o.Pz', 'COH.C.alpha.e.Fz.p.P4', 'COH.C.alpha.e.Fz.q.T6', 'COH.C.alpha.e.Fz.r.O1', 'COH.C.alpha.e.Fz.s.O2', 'COH.C.alpha.f.F4.g.F8', 'COH.C.alpha.f.F4.h.T3', 'COH.C.alpha.f.F4.i.C3', 'COH.C.alpha.f.F4.j.Cz', 'COH.C.alpha.f.F4.k.C4', 'COH.C.alpha.f.F4.l.T4', 'COH.C.alpha.f.F4.m.T5', 'COH.C.alpha.f.F4.n.P3', 'COH.C.alpha.f.F4.o.Pz', 'COH.C.alpha.f.F4.p.P4', 'COH.C.alpha.f.F4.q.T6', 'COH.C.alpha.f.F4.r.O1', 'COH.C.alpha.f.F4.s.O2', 'COH.C.alpha.g.F8.h.T3', 'COH.C.alpha.g.F8.i.C3', 'COH.C.alpha.g.F8.j.Cz', 'COH.C.alpha.g.F8.k.C4', 'COH.C.alpha.g.F8.l.T4', 'COH.C.alpha.g.F8.m.T5', 'COH.C.alpha.g.F8.n.P3', 'COH.C.alpha.g.F8.o.Pz', 'COH.C.alpha.g.F8.p.P4', 'COH.C.alpha.g.F8.q.T6', 'COH.C.alpha.g.F8.r.O1', 'COH.C.alpha.g.F8.s.O2', 'COH.C.alpha.h.T3.i.C3', 'COH.C.alpha.h.T3.j.Cz', 'COH.C.alpha.h.T3.k.C4', 'COH.C.alpha.h.T3.l.T4', 'COH.C.alpha.h.T3.m.T5', 'COH.C.alpha.h.T3.n.P3', 'COH.C.alpha.h.T3.o.Pz', 'COH.C.alpha.h.T3.p.P4', 'COH.C.alpha.h.T3.q.T6', 'COH.C.alpha.h.T3.r.O1', 'COH.C.alpha.h.T3.s.O2', 'COH.C.alpha.i.C3.j.Cz', 'COH.C.alpha.i.C3.k.C4', 'COH.C.alpha.i.C3.l.T4', 'COH.C.alpha.i.C3.m.T5', 'COH.C.alpha.i.C3.n.P3', 'COH.C.alpha.i.C3.o.Pz', 'COH.C.alpha.i.C3.p.P4', 'COH.C.alpha.i.C3.q.T6', 'COH.C.alpha.i.C3.r.O1', 'COH.C.alpha.i.C3.s.O2', 'COH.C.alpha.j.Cz.k.C4', 'COH.C.alpha.j.Cz.l.T4', 'COH.C.alpha.j.Cz.m.T5', 'COH.C.alpha.j.Cz.n.P3', 'COH.C.alpha.j.Cz.o.Pz', 'COH.C.alpha.j.Cz.p.P4', 'COH.C.alpha.j.Cz.q.T6', 'COH.C.alpha.j.Cz.r.O1', 'COH.C.alpha.j.Cz.s.O2', 'COH.C.alpha.k.C4.l.T4', 'COH.C.alpha.k.C4.m.T5', 'COH.C.alpha.k.C4.n.P3', 'COH.C.alpha.k.C4.o.Pz', 'COH.C.alpha.k.C4.p.P4', 'COH.C.alpha.k.C4.q.T6', 'COH.C.alpha.k.C4.r.O1', 'COH.C.alpha.k.C4.s.O2', 'COH.C.alpha.l.T4.m.T5', 'COH.C.alpha.l.T4.n.P3', 'COH.C.alpha.l.T4.o.Pz', 'COH.C.alpha.l.T4.p.P4', 'COH.C.alpha.l.T4.q.T6', 'COH.C.alpha.l.T4.r.O1', 'COH.C.alpha.l.T4.s.O2', 'COH.C.alpha.m.T5.n.P3', 'COH.C.alpha.m.T5.o.Pz', 'COH.C.alpha.m.T5.p.P4', 'COH.C.alpha.m.T5.q.T6', 'COH.C.alpha.m.T5.r.O1', 'COH.C.alpha.m.T5.s.O2', 'COH.C.alpha.n.P3.o.Pz', 'COH.C.alpha.n.P3.p.P4', 'COH.C.alpha.n.P3.q.T6', 'COH.C.alpha.n.P3.r.O1', 'COH.C.alpha.n.P3.s.O2', 'COH.C.alpha.o.Pz.p.P4', 'COH.C.alpha.o.Pz.q.T6', 'COH.C.alpha.o.Pz.r.O1', 'COH.C.alpha.o.Pz.s.O2', 'COH.C.alpha.p.P4.q.T6', 'COH.C.alpha.p.P4.r.O1', 'COH.C.alpha.p.P4.s.O2', 'COH.C.alpha.q.T6.r.O1', 'COH.C.alpha.q.T6.s.O2', 'COH.C.alpha.r.O1.s.O2', 'COH.D.beta.a.FP1.b.FP2', 'COH.D.beta.a.FP1.c.F7', 'COH.D.beta.a.FP1.d.F3', 'COH.D.beta.a.FP1.e.Fz', 'COH.D.beta.a.FP1.f.F4', 'COH.D.beta.a.FP1.g.F8', 'COH.D.beta.a.FP1.h.T3', 'COH.D.beta.a.FP1.i.C3', 'COH.D.beta.a.FP1.j.Cz', 'COH.D.beta.a.FP1.k.C4', 'COH.D.beta.a.FP1.l.T4', 'COH.D.beta.a.FP1.m.T5', 'COH.D.beta.a.FP1.n.P3', 'COH.D.beta.a.FP1.o.Pz', 'COH.D.beta.a.FP1.p.P4', 'COH.D.beta.a.FP1.q.T6', 'COH.D.beta.a.FP1.r.O1', 'COH.D.beta.a.FP1.s.O2', 'COH.D.beta.b.FP2.c.F7', 'COH.D.beta.b.FP2.d.F3', 'COH.D.beta.b.FP2.e.Fz', 'COH.D.beta.b.FP2.f.F4', 'COH.D.beta.b.FP2.g.F8', 'COH.D.beta.b.FP2.h.T3', 'COH.D.beta.b.FP2.i.C3', 'COH.D.beta.b.FP2.j.Cz', 'COH.D.beta.b.FP2.k.C4', 'COH.D.beta.b.FP2.l.T4', 'COH.D.beta.b.FP2.m.T5', 'COH.D.beta.b.FP2.n.P3', 'COH.D.beta.b.FP2.o.Pz', 'COH.D.beta.b.FP2.p.P4', 'COH.D.beta.b.FP2.q.T6', 'COH.D.beta.b.FP2.r.O1', 'COH.D.beta.b.FP2.s.O2', 'COH.D.beta.c.F7.d.F3', 'COH.D.beta.c.F7.e.Fz', 'COH.D.beta.c.F7.f.F4', 'COH.D.beta.c.F7.g.F8', 'COH.D.beta.c.F7.h.T3', 'COH.D.beta.c.F7.i.C3', 'COH.D.beta.c.F7.j.Cz', 'COH.D.beta.c.F7.k.C4', 'COH.D.beta.c.F7.l.T4', 'COH.D.beta.c.F7.m.T5', 'COH.D.beta.c.F7.n.P3', 'COH.D.beta.c.F7.o.Pz', 'COH.D.beta.c.F7.p.P4', 'COH.D.beta.c.F7.q.T6', 'COH.D.beta.c.F7.r.O1', 'COH.D.beta.c.F7.s.O2', 'COH.D.beta.d.F3.e.Fz', 'COH.D.beta.d.F3.f.F4', 'COH.D.beta.d.F3.g.F8', 'COH.D.beta.d.F3.h.T3', 'COH.D.beta.d.F3.i.C3', 'COH.D.beta.d.F3.j.Cz', 'COH.D.beta.d.F3.k.C4', 'COH.D.beta.d.F3.l.T4', 'COH.D.beta.d.F3.m.T5', 'COH.D.beta.d.F3.n.P3', 'COH.D.beta.d.F3.o.Pz', 'COH.D.beta.d.F3.p.P4', 'COH.D.beta.d.F3.q.T6', 'COH.D.beta.d.F3.r.O1', 'COH.D.beta.d.F3.s.O2', 'COH.D.beta.e.Fz.f.F4', 'COH.D.beta.e.Fz.g.F8', 'COH.D.beta.e.Fz.h.T3', 'COH.D.beta.e.Fz.i.C3', 'COH.D.beta.e.Fz.j.Cz', 'COH.D.beta.e.Fz.k.C4', 'COH.D.beta.e.Fz.l.T4', 'COH.D.beta.e.Fz.m.T5', 'COH.D.beta.e.Fz.n.P3', 'COH.D.beta.e.Fz.o.Pz', 'COH.D.beta.e.Fz.p.P4', 'COH.D.beta.e.Fz.q.T6', 'COH.D.beta.e.Fz.r.O1', 'COH.D.beta.e.Fz.s.O2', 'COH.D.beta.f.F4.g.F8', 'COH.D.beta.f.F4.h.T3', 'COH.D.beta.f.F4.i.C3', 'COH.D.beta.f.F4.j.Cz', 'COH.D.beta.f.F4.k.C4', 'COH.D.beta.f.F4.l.T4', 'COH.D.beta.f.F4.m.T5', 'COH.D.beta.f.F4.n.P3', 'COH.D.beta.f.F4.o.Pz', 'COH.D.beta.f.F4.p.P4', 'COH.D.beta.f.F4.q.T6', 'COH.D.beta.f.F4.r.O1', 'COH.D.beta.f.F4.s.O2', 'COH.D.beta.g.F8.h.T3', 'COH.D.beta.g.F8.i.C3', 'COH.D.beta.g.F8.j.Cz', 'COH.D.beta.g.F8.k.C4', 'COH.D.beta.g.F8.l.T4', 'COH.D.beta.g.F8.m.T5', 'COH.D.beta.g.F8.n.P3', 'COH.D.beta.g.F8.o.Pz', 'COH.D.beta.g.F8.p.P4', 'COH.D.beta.g.F8.q.T6', 'COH.D.beta.g.F8.r.O1', 'COH.D.beta.g.F8.s.O2', 'COH.D.beta.h.T3.i.C3', 'COH.D.beta.h.T3.j.Cz', 'COH.D.beta.h.T3.k.C4', 'COH.D.beta.h.T3.l.T4', 'COH.D.beta.h.T3.m.T5', 'COH.D.beta.h.T3.n.P3', 'COH.D.beta.h.T3.o.Pz', 'COH.D.beta.h.T3.p.P4', 'COH.D.beta.h.T3.q.T6', 'COH.D.beta.h.T3.r.O1', 'COH.D.beta.h.T3.s.O2', 'COH.D.beta.i.C3.j.Cz', 'COH.D.beta.i.C3.k.C4', 'COH.D.beta.i.C3.l.T4', 'COH.D.beta.i.C3.m.T5', 'COH.D.beta.i.C3.n.P3', 'COH.D.beta.i.C3.o.Pz', 'COH.D.beta.i.C3.p.P4', 'COH.D.beta.i.C3.q.T6', 'COH.D.beta.i.C3.r.O1', 'COH.D.beta.i.C3.s.O2', 'COH.D.beta.j.Cz.k.C4', 'COH.D.beta.j.Cz.l.T4', 'COH.D.beta.j.Cz.m.T5', 'COH.D.beta.j.Cz.n.P3', 'COH.D.beta.j.Cz.o.Pz', 'COH.D.beta.j.Cz.p.P4', 'COH.D.beta.j.Cz.q.T6', 'COH.D.beta.j.Cz.r.O1', 'COH.D.beta.j.Cz.s.O2', 'COH.D.beta.k.C4.l.T4', 'COH.D.beta.k.C4.m.T5', 'COH.D.beta.k.C4.n.P3', 'COH.D.beta.k.C4.o.Pz', 'COH.D.beta.k.C4.p.P4', 'COH.D.beta.k.C4.q.T6', 'COH.D.beta.k.C4.r.O1', 'COH.D.beta.k.C4.s.O2', 'COH.D.beta.l.T4.m.T5', 'COH.D.beta.l.T4.n.P3', 'COH.D.beta.l.T4.o.Pz', 'COH.D.beta.l.T4.p.P4', 'COH.D.beta.l.T4.q.T6', 'COH.D.beta.l.T4.r.O1', 'COH.D.beta.l.T4.s.O2', 'COH.D.beta.m.T5.n.P3', 'COH.D.beta.m.T5.o.Pz', 'COH.D.beta.m.T5.p.P4', 'COH.D.beta.m.T5.q.T6', 'COH.D.beta.m.T5.r.O1', 'COH.D.beta.m.T5.s.O2', 'COH.D.beta.n.P3.o.Pz', 'COH.D.beta.n.P3.p.P4', 'COH.D.beta.n.P3.q.T6', 'COH.D.beta.n.P3.r.O1', 'COH.D.beta.n.P3.s.O2', 'COH.D.beta.o.Pz.p.P4', 'COH.D.beta.o.Pz.q.T6', 'COH.D.beta.o.Pz.r.O1', 'COH.D.beta.o.Pz.s.O2', 'COH.D.beta.p.P4.q.T6', 'COH.D.beta.p.P4.r.O1', 'COH.D.beta.p.P4.s.O2', 'COH.D.beta.q.T6.r.O1', 'COH.D.beta.q.T6.s.O2', 'COH.D.beta.r.O1.s.O2', 'COH.E.highbeta.a.FP1.b.FP2', 'COH.E.highbeta.a.FP1.c.F7', 'COH.E.highbeta.a.FP1.d.F3', 'COH.E.highbeta.a.FP1.e.Fz', 'COH.E.highbeta.a.FP1.f.F4', 'COH.E.highbeta.a.FP1.g.F8', 'COH.E.highbeta.a.FP1.h.T3', 'COH.E.highbeta.a.FP1.i.C3', 'COH.E.highbeta.a.FP1.j.Cz', 'COH.E.highbeta.a.FP1.k.C4', 'COH.E.highbeta.a.FP1.l.T4', 'COH.E.highbeta.a.FP1.m.T5', 'COH.E.highbeta.a.FP1.n.P3', 'COH.E.highbeta.a.FP1.o.Pz', 'COH.E.highbeta.a.FP1.p.P4', 'COH.E.highbeta.a.FP1.q.T6', 'COH.E.highbeta.a.FP1.r.O1', 'COH.E.highbeta.a.FP1.s.O2', 'COH.E.highbeta.b.FP2.c.F7', 'COH.E.highbeta.b.FP2.d.F3', 'COH.E.highbeta.b.FP2.e.Fz', 'COH.E.highbeta.b.FP2.f.F4', 'COH.E.highbeta.b.FP2.g.F8', 'COH.E.highbeta.b.FP2.h.T3', 'COH.E.highbeta.b.FP2.i.C3', 'COH.E.highbeta.b.FP2.j.Cz', 'COH.E.highbeta.b.FP2.k.C4', 'COH.E.highbeta.b.FP2.l.T4', 'COH.E.highbeta.b.FP2.m.T5', 'COH.E.highbeta.b.FP2.n.P3', 'COH.E.highbeta.b.FP2.o.Pz', 'COH.E.highbeta.b.FP2.p.P4', 'COH.E.highbeta.b.FP2.q.T6', 'COH.E.highbeta.b.FP2.r.O1', 'COH.E.highbeta.b.FP2.s.O2', 'COH.E.highbeta.c.F7.d.F3', 'COH.E.highbeta.c.F7.e.Fz', 'COH.E.highbeta.c.F7.f.F4', 'COH.E.highbeta.c.F7.g.F8', 'COH.E.highbeta.c.F7.h.T3', 'COH.E.highbeta.c.F7.i.C3', 'COH.E.highbeta.c.F7.j.Cz', 'COH.E.highbeta.c.F7.k.C4', 'COH.E.highbeta.c.F7.l.T4', 'COH.E.highbeta.c.F7.m.T5', 'COH.E.highbeta.c.F7.n.P3', 'COH.E.highbeta.c.F7.o.Pz', 'COH.E.highbeta.c.F7.p.P4', 'COH.E.highbeta.c.F7.q.T6', 'COH.E.highbeta.c.F7.r.O1', 'COH.E.highbeta.c.F7.s.O2', 'COH.E.highbeta.d.F3.e.Fz', 'COH.E.highbeta.d.F3.f.F4', 'COH.E.highbeta.d.F3.g.F8', 'COH.E.highbeta.d.F3.h.T3', 'COH.E.highbeta.d.F3.i.C3', 'COH.E.highbeta.d.F3.j.Cz', 'COH.E.highbeta.d.F3.k.C4', 'COH.E.highbeta.d.F3.l.T4', 'COH.E.highbeta.d.F3.m.T5', 'COH.E.highbeta.d.F3.n.P3', 'COH.E.highbeta.d.F3.o.Pz', 'COH.E.highbeta.d.F3.p.P4', 'COH.E.highbeta.d.F3.q.T6', 'COH.E.highbeta.d.F3.r.O1', 'COH.E.highbeta.d.F3.s.O2', 'COH.E.highbeta.e.Fz.f.F4', 'COH.E.highbeta.e.Fz.g.F8', 'COH.E.highbeta.e.Fz.h.T3', 'COH.E.highbeta.e.Fz.i.C3', 'COH.E.highbeta.e.Fz.j.Cz', 'COH.E.highbeta.e.Fz.k.C4', 'COH.E.highbeta.e.Fz.l.T4', 'COH.E.highbeta.e.Fz.m.T5', 'COH.E.highbeta.e.Fz.n.P3', 'COH.E.highbeta.e.Fz.o.Pz', 'COH.E.highbeta.e.Fz.p.P4', 'COH.E.highbeta.e.Fz.q.T6', 'COH.E.highbeta.e.Fz.r.O1', 'COH.E.highbeta.e.Fz.s.O2', 'COH.E.highbeta.f.F4.g.F8', 'COH.E.highbeta.f.F4.h.T3', 'COH.E.highbeta.f.F4.i.C3', 'COH.E.highbeta.f.F4.j.Cz', 'COH.E.highbeta.f.F4.k.C4', 'COH.E.highbeta.f.F4.l.T4', 'COH.E.highbeta.f.F4.m.T5', 'COH.E.highbeta.f.F4.n.P3', 'COH.E.highbeta.f.F4.o.Pz', 'COH.E.highbeta.f.F4.p.P4', 'COH.E.highbeta.f.F4.q.T6', 'COH.E.highbeta.f.F4.r.O1', 'COH.E.highbeta.f.F4.s.O2', 'COH.E.highbeta.g.F8.h.T3', 'COH.E.highbeta.g.F8.i.C3', 'COH.E.highbeta.g.F8.j.Cz', 'COH.E.highbeta.g.F8.k.C4', 'COH.E.highbeta.g.F8.l.T4', 'COH.E.highbeta.g.F8.m.T5', 'COH.E.highbeta.g.F8.n.P3', 'COH.E.highbeta.g.F8.o.Pz', 'COH.E.highbeta.g.F8.p.P4', 'COH.E.highbeta.g.F8.q.T6', 'COH.E.highbeta.g.F8.r.O1', 'COH.E.highbeta.g.F8.s.O2', 'COH.E.highbeta.h.T3.i.C3', 'COH.E.highbeta.h.T3.j.Cz', 'COH.E.highbeta.h.T3.k.C4', 'COH.E.highbeta.h.T3.l.T4', 'COH.E.highbeta.h.T3.m.T5', 'COH.E.highbeta.h.T3.n.P3', 'COH.E.highbeta.h.T3.o.Pz', 'COH.E.highbeta.h.T3.p.P4', 'COH.E.highbeta.h.T3.q.T6', 'COH.E.highbeta.h.T3.r.O1', 'COH.E.highbeta.h.T3.s.O2', 'COH.E.highbeta.i.C3.j.Cz', 'COH.E.highbeta.i.C3.k.C4', 'COH.E.highbeta.i.C3.l.T4', 'COH.E.highbeta.i.C3.m.T5', 'COH.E.highbeta.i.C3.n.P3', 'COH.E.highbeta.i.C3.o.Pz', 'COH.E.highbeta.i.C3.p.P4', 'COH.E.highbeta.i.C3.q.T6', 'COH.E.highbeta.i.C3.r.O1', 'COH.E.highbeta.i.C3.s.O2', 'COH.E.highbeta.j.Cz.k.C4', 'COH.E.highbeta.j.Cz.l.T4', 'COH.E.highbeta.j.Cz.m.T5', 'COH.E.highbeta.j.Cz.n.P3', 'COH.E.highbeta.j.Cz.o.Pz', 'COH.E.highbeta.j.Cz.p.P4', 'COH.E.highbeta.j.Cz.q.T6', 'COH.E.highbeta.j.Cz.r.O1', 'COH.E.highbeta.j.Cz.s.O2', 'COH.E.highbeta.k.C4.l.T4', 'COH.E.highbeta.k.C4.m.T5', 'COH.E.highbeta.k.C4.n.P3', 'COH.E.highbeta.k.C4.o.Pz', 'COH.E.highbeta.k.C4.p.P4', 'COH.E.highbeta.k.C4.q.T6', 'COH.E.highbeta.k.C4.r.O1', 'COH.E.highbeta.k.C4.s.O2', 'COH.E.highbeta.l.T4.m.T5', 'COH.E.highbeta.l.T4.n.P3', 'COH.E.highbeta.l.T4.o.Pz', 'COH.E.highbeta.l.T4.p.P4', 'COH.E.highbeta.l.T4.q.T6', 'COH.E.highbeta.l.T4.r.O1', 'COH.E.highbeta.l.T4.s.O2', 'COH.E.highbeta.m.T5.n.P3', 'COH.E.highbeta.m.T5.o.Pz', 'COH.E.highbeta.m.T5.p.P4', 'COH.E.highbeta.m.T5.q.T6', 'COH.E.highbeta.m.T5.r.O1', 'COH.E.highbeta.m.T5.s.O2', 'COH.E.highbeta.n.P3.o.Pz', 'COH.E.highbeta.n.P3.p.P4', 'COH.E.highbeta.n.P3.q.T6', 'COH.E.highbeta.n.P3.r.O1', 'COH.E.highbeta.n.P3.s.O2', 'COH.E.highbeta.o.Pz.p.P4', 'COH.E.highbeta.o.Pz.q.T6', 'COH.E.highbeta.o.Pz.r.O1', 'COH.E.highbeta.o.Pz.s.O2', 'COH.E.highbeta.p.P4.q.T6', 'COH.E.highbeta.p.P4.r.O1', 'COH.E.highbeta.p.P4.s.O2', 'COH.E.highbeta.q.T6.r.O1', 'COH.E.highbeta.q.T6.s.O2', 'COH.E.highbeta.r.O1.s.O2', 'COH.F.gamma.a.FP1.b.FP2', 'COH.F.gamma.a.FP1.c.F7', 'COH.F.gamma.a.FP1.d.F3', 'COH.F.gamma.a.FP1.e.Fz', 'COH.F.gamma.a.FP1.f.F4', 'COH.F.gamma.a.FP1.g.F8', 'COH.F.gamma.a.FP1.h.T3', 'COH.F.gamma.a.FP1.i.C3', 'COH.F.gamma.a.FP1.j.Cz', 'COH.F.gamma.a.FP1.k.C4', 'COH.F.gamma.a.FP1.l.T4', 'COH.F.gamma.a.FP1.m.T5', 'COH.F.gamma.a.FP1.n.P3', 'COH.F.gamma.a.FP1.o.Pz', 'COH.F.gamma.a.FP1.p.P4', 'COH.F.gamma.a.FP1.q.T6', 'COH.F.gamma.a.FP1.r.O1', 'COH.F.gamma.a.FP1.s.O2', 'COH.F.gamma.b.FP2.c.F7', 'COH.F.gamma.b.FP2.d.F3', 'COH.F.gamma.b.FP2.e.Fz', 'COH.F.gamma.b.FP2.f.F4', 'COH.F.gamma.b.FP2.g.F8', 'COH.F.gamma.b.FP2.h.T3', 'COH.F.gamma.b.FP2.i.C3', 'COH.F.gamma.b.FP2.j.Cz', 'COH.F.gamma.b.FP2.k.C4', 'COH.F.gamma.b.FP2.l.T4', 'COH.F.gamma.b.FP2.m.T5', 'COH.F.gamma.b.FP2.n.P3', 'COH.F.gamma.b.FP2.o.Pz', 'COH.F.gamma.b.FP2.p.P4', 'COH.F.gamma.b.FP2.q.T6', 'COH.F.gamma.b.FP2.r.O1', 'COH.F.gamma.b.FP2.s.O2', 'COH.F.gamma.c.F7.d.F3', 'COH.F.gamma.c.F7.e.Fz', 'COH.F.gamma.c.F7.f.F4', 'COH.F.gamma.c.F7.g.F8', 'COH.F.gamma.c.F7.h.T3', 'COH.F.gamma.c.F7.i.C3', 'COH.F.gamma.c.F7.j.Cz', 'COH.F.gamma.c.F7.k.C4', 'COH.F.gamma.c.F7.l.T4', 'COH.F.gamma.c.F7.m.T5', 'COH.F.gamma.c.F7.n.P3', 'COH.F.gamma.c.F7.o.Pz', 'COH.F.gamma.c.F7.p.P4', 'COH.F.gamma.c.F7.q.T6', 'COH.F.gamma.c.F7.r.O1', 'COH.F.gamma.c.F7.s.O2', 'COH.F.gamma.d.F3.e.Fz', 'COH.F.gamma.d.F3.f.F4', 'COH.F.gamma.d.F3.g.F8', 'COH.F.gamma.d.F3.h.T3', 'COH.F.gamma.d.F3.i.C3', 'COH.F.gamma.d.F3.j.Cz', 'COH.F.gamma.d.F3.k.C4', 'COH.F.gamma.d.F3.l.T4', 'COH.F.gamma.d.F3.m.T5', 'COH.F.gamma.d.F3.n.P3', 'COH.F.gamma.d.F3.o.Pz', 'COH.F.gamma.d.F3.p.P4', 'COH.F.gamma.d.F3.q.T6', 'COH.F.gamma.d.F3.r.O1', 'COH.F.gamma.d.F3.s.O2', 'COH.F.gamma.e.Fz.f.F4', 'COH.F.gamma.e.Fz.g.F8', 'COH.F.gamma.e.Fz.h.T3', 'COH.F.gamma.e.Fz.i.C3', 'COH.F.gamma.e.Fz.j.Cz', 'COH.F.gamma.e.Fz.k.C4', 'COH.F.gamma.e.Fz.l.T4', 'COH.F.gamma.e.Fz.m.T5', 'COH.F.gamma.e.Fz.n.P3', 'COH.F.gamma.e.Fz.o.Pz', 'COH.F.gamma.e.Fz.p.P4', 'COH.F.gamma.e.Fz.q.T6', 'COH.F.gamma.e.Fz.r.O1', 'COH.F.gamma.e.Fz.s.O2', 'COH.F.gamma.f.F4.g.F8', 'COH.F.gamma.f.F4.h.T3', 'COH.F.gamma.f.F4.i.C3', 'COH.F.gamma.f.F4.j.Cz', 'COH.F.gamma.f.F4.k.C4', 'COH.F.gamma.f.F4.l.T4', 'COH.F.gamma.f.F4.m.T5', 'COH.F.gamma.f.F4.n.P3', 'COH.F.gamma.f.F4.o.Pz', 'COH.F.gamma.f.F4.p.P4', 'COH.F.gamma.f.F4.q.T6', 'COH.F.gamma.f.F4.r.O1', 'COH.F.gamma.f.F4.s.O2', 'COH.F.gamma.g.F8.h.T3', 'COH.F.gamma.g.F8.i.C3', 'COH.F.gamma.g.F8.j.Cz', 'COH.F.gamma.g.F8.k.C4', 'COH.F.gamma.g.F8.l.T4', 'COH.F.gamma.g.F8.m.T5', 'COH.F.gamma.g.F8.n.P3', 'COH.F.gamma.g.F8.o.Pz', 'COH.F.gamma.g.F8.p.P4', 'COH.F.gamma.g.F8.q.T6', 'COH.F.gamma.g.F8.r.O1', 'COH.F.gamma.g.F8.s.O2', 'COH.F.gamma.h.T3.i.C3', 'COH.F.gamma.h.T3.j.Cz', 'COH.F.gamma.h.T3.k.C4', 'COH.F.gamma.h.T3.l.T4', 'COH.F.gamma.h.T3.m.T5', 'COH.F.gamma.h.T3.n.P3', 'COH.F.gamma.h.T3.o.Pz', 'COH.F.gamma.h.T3.p.P4', 'COH.F.gamma.h.T3.q.T6', 'COH.F.gamma.h.T3.r.O1', 'COH.F.gamma.h.T3.s.O2', 'COH.F.gamma.i.C3.j.Cz', 'COH.F.gamma.i.C3.k.C4', 'COH.F.gamma.i.C3.l.T4', 'COH.F.gamma.i.C3.m.T5', 'COH.F.gamma.i.C3.n.P3', 'COH.F.gamma.i.C3.o.Pz', 'COH.F.gamma.i.C3.p.P4', 'COH.F.gamma.i.C3.q.T6', 'COH.F.gamma.i.C3.r.O1', 'COH.F.gamma.i.C3.s.O2', 'COH.F.gamma.j.Cz.k.C4', 'COH.F.gamma.j.Cz.l.T4', 'COH.F.gamma.j.Cz.m.T5', 'COH.F.gamma.j.Cz.n.P3', 'COH.F.gamma.j.Cz.o.Pz', 'COH.F.gamma.j.Cz.p.P4', 'COH.F.gamma.j.Cz.q.T6', 'COH.F.gamma.j.Cz.r.O1', 'COH.F.gamma.j.Cz.s.O2', 'COH.F.gamma.k.C4.l.T4', 'COH.F.gamma.k.C4.m.T5', 'COH.F.gamma.k.C4.n.P3', 'COH.F.gamma.k.C4.o.Pz', 'COH.F.gamma.k.C4.p.P4', 'COH.F.gamma.k.C4.q.T6', 'COH.F.gamma.k.C4.r.O1', 'COH.F.gamma.k.C4.s.O2', 'COH.F.gamma.l.T4.m.T5', 'COH.F.gamma.l.T4.n.P3', 'COH.F.gamma.l.T4.o.Pz', 'COH.F.gamma.l.T4.p.P4', 'COH.F.gamma.l.T4.q.T6', 'COH.F.gamma.l.T4.r.O1', 'COH.F.gamma.l.T4.s.O2', 'COH.F.gamma.m.T5.n.P3', 'COH.F.gamma.m.T5.o.Pz', 'COH.F.gamma.m.T5.p.P4', 'COH.F.gamma.m.T5.q.T6', 'COH.F.gamma.m.T5.r.O1', 'COH.F.gamma.m.T5.s.O2', 'COH.F.gamma.n.P3.o.Pz', 'COH.F.gamma.n.P3.p.P4', 'COH.F.gamma.n.P3.q.T6', 'COH.F.gamma.n.P3.r.O1', 'COH.F.gamma.n.P3.s.O2', 'COH.F.gamma.o.Pz.p.P4', 'COH.F.gamma.o.Pz.q.T6', 'COH.F.gamma.o.Pz.r.O1', 'COH.F.gamma.o.Pz.s.O2', 'COH.F.gamma.p.P4.q.T6', 'COH.F.gamma.p.P4.r.O1', 'COH.F.gamma.p.P4.s.O2', 'COH.F.gamma.q.T6.r.O1', 'COH.F.gamma.q.T6.s.O2', 'COH.F.gamma.r.O1.s.O2']\n",
    "for i in arr3:\n",
    "     fig=sm.qqplot(numeric_data1[i],line='45',xlabel=\"Theoretical \"+i,ylabel=i+\" feature value in the dataset\") \n",
    "     plt.show()"
   ]
  },
  {
   "cell_type": "markdown",
   "id": "a7f84bde",
   "metadata": {},
   "source": [
    "### Label encoding"
   ]
  },
  {
   "cell_type": "code",
   "execution_count": null,
   "id": "e907195f",
   "metadata": {},
   "outputs": [],
   "source": [
    "enc = LabelEncoder()\n",
    "# Iterate over each column in the categorical data in order to convert it to numeric data\n",
    "for i in categorical_data.columns:\n",
    "    enc.fit(categorical_data[i])\n",
    "    categorical_data[i] = enc.transform(categorical_data[i])\n",
    "    print(categorical_data[i]) "
   ]
  },
  {
   "cell_type": "markdown",
   "id": "842f1cc9",
   "metadata": {},
   "source": [
    "X"
   ]
  },
  {
   "cell_type": "markdown",
   "id": "b5b2aa96",
   "metadata": {},
   "source": [
    "y"
   ]
  },
  {
   "cell_type": "code",
   "execution_count": null,
   "id": "328cbf68",
   "metadata": {},
   "outputs": [],
   "source": [
    "print(df8.columns.tolist())"
   ]
  },
  {
   "cell_type": "markdown",
   "id": "3bc1029f",
   "metadata": {},
   "source": [
    "### Correlation"
   ]
  },
  {
   "cell_type": "code",
   "execution_count": null,
   "id": "d39781aa",
   "metadata": {},
   "outputs": [],
   "source": [
    "df8"
   ]
  },
  {
   "cell_type": "code",
   "execution_count": null,
   "id": "35eb0fbe",
   "metadata": {},
   "outputs": [],
   "source": [
    "# Finding correlation as a part of inferential statistics using the corr() in the form of correlation matrix\n",
    "\n",
    "corr = df8.corr()\n",
    "fig = plt.figure()\n",
    "ax = fig.add_subplot(111)\n",
    "cax = ax.matshow(corr,cmap='coolwarm', vmin=-1, vmax=1)           # Plotting the correlation matrix through heatmap\n",
    "fig.colorbar(cax)\n",
    "ticks = np.arange(0,len(df8.columns),1)\n",
    "plt.xticks(rotation=90)\n",
    "ax.set_xticklabels(df8.columns)\n",
    "ax.set_yticklabels(df8.columns)\n",
    "plt.show()"
   ]
  },
  {
   "cell_type": "code",
   "execution_count": null,
   "id": "20fbdd0f",
   "metadata": {},
   "outputs": [],
   "source": [
    "corrMatrix=df8.corr().abs()\n",
    "\n",
    "upperMatrix = corrMatrix.where(np.triu(np.ones(corrMatrix.shape), k=1).astype(np.bool))\n",
    "\n",
    "# Find index of feature columns with correlation greater than 0.90\n",
    "corrFutures = [column for column in upperMatrix.columns if any(upperMatrix[column] > 0.9)]\n",
    "\n",
    "df8.drop(columns=corrFutures, inplace = True)   # Dropping columns having correlation more than 0.90"
   ]
  },
  {
   "cell_type": "code",
   "execution_count": null,
   "id": "8178a39d",
   "metadata": {},
   "outputs": [],
   "source": [
    "df8"
   ]
  },
  {
   "cell_type": "code",
   "execution_count": null,
   "id": "09ddfa7a",
   "metadata": {},
   "outputs": [],
   "source": [
    "correlation = df8.corr()      # Plotting heatmap after dropping highly correlated columns\n",
    "fig = plt.figure()\n",
    "ax = fig.add_subplot(111)\n",
    "cax = ax.matshow(correlation,cmap='coolwarm', vmin=-1, vmax=1)\n",
    "fig.colorbar(cax)\n",
    "ticks = np.arange(0,len(df8.columns),1)\n",
    "ax.set_xticks(ticks)\n",
    "plt.xticks(rotation=90)\n",
    "ax.set_yticks(ticks)\n",
    "ax.set_xticklabels(df8.columns)\n",
    "ax.set_yticklabels(df8.columns)\n",
    "plt.show()"
   ]
  },
  {
   "cell_type": "code",
   "execution_count": null,
   "id": "a46e798a",
   "metadata": {},
   "outputs": [],
   "source": [
    "print(df8.columns.tolist())"
   ]
  },
  {
   "cell_type": "code",
   "execution_count": null,
   "id": "a34b9049",
   "metadata": {},
   "outputs": [],
   "source": [
    "df8"
   ]
  },
  {
   "cell_type": "markdown",
   "id": "21ba4459",
   "metadata": {},
   "source": [
    "### Standardisation done for PCA and K-means clustering"
   ]
  },
  {
   "cell_type": "code",
   "execution_count": null,
   "id": "6db93682",
   "metadata": {},
   "outputs": [],
   "source": [
    "# Storing values of dataframe in an array\n",
    "df8_feat = df8[['AB.A.delta.a.FP1', 'AB.A.delta.b.FP2', 'AB.A.delta.c.F7', 'AB.A.delta.d.F3', 'AB.A.delta.e.Fz', 'AB.A.delta.f.F4', 'AB.A.delta.g.F8', 'AB.A.delta.h.T3', 'AB.A.delta.i.C3', 'AB.A.delta.j.Cz', 'AB.A.delta.k.C4', 'AB.A.delta.l.T4', 'AB.A.delta.m.T5', 'AB.A.delta.n.P3', 'AB.A.delta.o.Pz', 'AB.A.delta.p.P4', 'AB.A.delta.q.T6', 'AB.A.delta.r.O1', 'AB.A.delta.s.O2', 'AB.B.theta.a.FP1', 'AB.B.theta.c.F7', 'AB.B.theta.d.F3', 'AB.B.theta.e.Fz', 'AB.B.theta.g.F8', 'AB.B.theta.h.T3', 'AB.B.theta.i.C3', 'AB.B.theta.j.Cz', 'AB.B.theta.k.C4', 'AB.B.theta.l.T4', 'AB.B.theta.m.T5', 'AB.B.theta.n.P3', 'AB.B.theta.q.T6', 'AB.B.theta.r.O1', 'AB.B.theta.s.O2', 'AB.C.alpha.a.FP1', 'AB.C.alpha.c.F7', 'AB.C.alpha.g.F8', 'AB.C.alpha.h.T3', 'AB.C.alpha.i.C3', 'AB.C.alpha.j.Cz', 'AB.C.alpha.k.C4', 'AB.C.alpha.l.T4', 'AB.C.alpha.m.T5', 'AB.C.alpha.n.P3', 'AB.C.alpha.o.Pz', 'AB.C.alpha.p.P4', 'AB.C.alpha.q.T6', 'AB.C.alpha.r.O1', 'AB.C.alpha.s.O2', 'AB.D.beta.a.FP1', 'AB.D.beta.c.F7', 'AB.D.beta.g.F8', 'AB.D.beta.h.T3', 'AB.D.beta.i.C3', 'AB.D.beta.j.Cz', 'AB.D.beta.l.T4', 'AB.D.beta.m.T5', 'AB.D.beta.n.P3', 'AB.D.beta.o.Pz', 'AB.D.beta.q.T6', 'AB.D.beta.r.O1', 'AB.D.beta.s.O2', 'AB.E.highbeta.a.FP1', 'AB.E.highbeta.b.FP2', 'AB.E.highbeta.c.F7', 'AB.E.highbeta.d.F3', 'AB.E.highbeta.g.F8', 'AB.E.highbeta.h.T3', 'AB.E.highbeta.i.C3', 'AB.E.highbeta.j.Cz', 'AB.E.highbeta.k.C4', 'AB.E.highbeta.l.T4', 'AB.E.highbeta.m.T5', 'AB.E.highbeta.n.P3', 'AB.E.highbeta.o.Pz', 'AB.E.highbeta.p.P4', 'AB.E.highbeta.q.T6', 'AB.E.highbeta.r.O1', 'AB.E.highbeta.s.O2', 'AB.F.gamma.a.FP1', 'AB.F.gamma.b.FP2', 'AB.F.gamma.c.F7', 'AB.F.gamma.d.F3', 'AB.F.gamma.e.Fz', 'AB.F.gamma.f.F4', 'AB.F.gamma.g.F8', 'AB.F.gamma.h.T3', 'AB.F.gamma.i.C3', 'AB.F.gamma.j.Cz', 'AB.F.gamma.k.C4', 'AB.F.gamma.l.T4', 'AB.F.gamma.m.T5', 'AB.F.gamma.n.P3', 'AB.F.gamma.o.Pz', 'AB.F.gamma.p.P4', 'AB.F.gamma.q.T6', 'AB.F.gamma.r.O1', 'AB.F.gamma.s.O2', 'COH.A.delta.a.FP1.b.FP2', 'COH.A.delta.a.FP1.c.F7', 'COH.A.delta.a.FP1.d.F3', 'COH.A.delta.a.FP1.e.Fz', 'COH.A.delta.a.FP1.f.F4', 'COH.A.delta.a.FP1.g.F8', 'COH.A.delta.a.FP1.h.T3', 'COH.A.delta.a.FP1.i.C3', 'COH.A.delta.a.FP1.j.Cz', 'COH.A.delta.a.FP1.k.C4', 'COH.A.delta.a.FP1.l.T4', 'COH.A.delta.a.FP1.m.T5', 'COH.A.delta.a.FP1.n.P3', 'COH.A.delta.a.FP1.o.Pz', 'COH.A.delta.a.FP1.p.P4', 'COH.A.delta.a.FP1.q.T6', 'COH.A.delta.a.FP1.r.O1', 'COH.A.delta.a.FP1.s.O2', 'COH.A.delta.b.FP2.c.F7', 'COH.A.delta.b.FP2.d.F3', 'COH.A.delta.b.FP2.e.Fz', 'COH.A.delta.b.FP2.f.F4', 'COH.A.delta.b.FP2.g.F8', 'COH.A.delta.b.FP2.h.T3', 'COH.A.delta.b.FP2.i.C3', 'COH.A.delta.b.FP2.j.Cz', 'COH.A.delta.b.FP2.k.C4', 'COH.A.delta.b.FP2.l.T4', 'COH.A.delta.b.FP2.m.T5', 'COH.A.delta.b.FP2.n.P3', 'COH.A.delta.b.FP2.o.Pz', 'COH.A.delta.b.FP2.p.P4', 'COH.A.delta.b.FP2.q.T6', 'COH.A.delta.b.FP2.r.O1', 'COH.A.delta.b.FP2.s.O2', 'COH.A.delta.c.F7.d.F3', 'COH.A.delta.c.F7.e.Fz', 'COH.A.delta.c.F7.f.F4', 'COH.A.delta.c.F7.g.F8', 'COH.A.delta.c.F7.h.T3', 'COH.A.delta.c.F7.i.C3', 'COH.A.delta.c.F7.j.Cz', 'COH.A.delta.c.F7.k.C4', 'COH.A.delta.c.F7.l.T4', 'COH.A.delta.c.F7.m.T5', 'COH.A.delta.c.F7.n.P3', 'COH.A.delta.c.F7.o.Pz', 'COH.A.delta.c.F7.p.P4', 'COH.A.delta.c.F7.q.T6', 'COH.A.delta.c.F7.r.O1', 'COH.A.delta.c.F7.s.O2', 'COH.A.delta.d.F3.e.Fz', 'COH.A.delta.d.F3.f.F4', 'COH.A.delta.d.F3.g.F8', 'COH.A.delta.d.F3.h.T3', 'COH.A.delta.d.F3.i.C3', 'COH.A.delta.d.F3.j.Cz', 'COH.A.delta.d.F3.k.C4', 'COH.A.delta.d.F3.l.T4', 'COH.A.delta.d.F3.m.T5', 'COH.A.delta.d.F3.n.P3', 'COH.A.delta.d.F3.o.Pz', 'COH.A.delta.d.F3.p.P4', 'COH.A.delta.d.F3.q.T6', 'COH.A.delta.d.F3.r.O1', 'COH.A.delta.d.F3.s.O2', 'COH.A.delta.e.Fz.f.F4', 'COH.A.delta.e.Fz.g.F8', 'COH.A.delta.e.Fz.h.T3', 'COH.A.delta.e.Fz.i.C3', 'COH.A.delta.e.Fz.j.Cz', 'COH.A.delta.e.Fz.k.C4', 'COH.A.delta.e.Fz.l.T4', 'COH.A.delta.e.Fz.m.T5', 'COH.A.delta.e.Fz.n.P3', 'COH.A.delta.e.Fz.o.Pz', 'COH.A.delta.e.Fz.p.P4', 'COH.A.delta.e.Fz.q.T6', 'COH.A.delta.e.Fz.r.O1', 'COH.A.delta.e.Fz.s.O2', 'COH.A.delta.f.F4.g.F8', 'COH.A.delta.f.F4.h.T3', 'COH.A.delta.f.F4.i.C3', 'COH.A.delta.f.F4.j.Cz', 'COH.A.delta.f.F4.k.C4', 'COH.A.delta.f.F4.l.T4', 'COH.A.delta.f.F4.m.T5', 'COH.A.delta.f.F4.n.P3', 'COH.A.delta.f.F4.o.Pz', 'COH.A.delta.f.F4.q.T6', 'COH.A.delta.f.F4.r.O1', 'COH.A.delta.f.F4.s.O2', 'COH.A.delta.g.F8.h.T3', 'COH.A.delta.g.F8.i.C3', 'COH.A.delta.g.F8.j.Cz', 'COH.A.delta.g.F8.k.C4', 'COH.A.delta.g.F8.l.T4', 'COH.A.delta.g.F8.m.T5', 'COH.A.delta.g.F8.n.P3', 'COH.A.delta.g.F8.o.Pz', 'COH.A.delta.g.F8.p.P4', 'COH.A.delta.g.F8.q.T6', 'COH.A.delta.g.F8.r.O1', 'COH.A.delta.g.F8.s.O2', 'COH.A.delta.h.T3.i.C3', 'COH.A.delta.h.T3.j.Cz', 'COH.A.delta.h.T3.k.C4', 'COH.A.delta.h.T3.l.T4', 'COH.A.delta.h.T3.m.T5', 'COH.A.delta.h.T3.n.P3', 'COH.A.delta.h.T3.o.Pz', 'COH.A.delta.h.T3.p.P4', 'COH.A.delta.h.T3.q.T6', 'COH.A.delta.h.T3.r.O1', 'COH.A.delta.h.T3.s.O2', 'COH.A.delta.i.C3.j.Cz', 'COH.A.delta.i.C3.k.C4', 'COH.A.delta.i.C3.l.T4', 'COH.A.delta.i.C3.m.T5', 'COH.A.delta.i.C3.n.P3', 'COH.A.delta.i.C3.o.Pz', 'COH.A.delta.i.C3.p.P4', 'COH.A.delta.i.C3.q.T6', 'COH.A.delta.i.C3.r.O1', 'COH.A.delta.i.C3.s.O2', 'COH.A.delta.j.Cz.k.C4', 'COH.A.delta.j.Cz.l.T4', 'COH.A.delta.j.Cz.m.T5', 'COH.A.delta.j.Cz.n.P3', 'COH.A.delta.j.Cz.o.Pz', 'COH.A.delta.j.Cz.p.P4', 'COH.A.delta.j.Cz.q.T6', 'COH.A.delta.j.Cz.r.O1', 'COH.A.delta.j.Cz.s.O2', 'COH.A.delta.k.C4.l.T4', 'COH.A.delta.k.C4.m.T5', 'COH.A.delta.k.C4.n.P3', 'COH.A.delta.k.C4.o.Pz', 'COH.A.delta.k.C4.p.P4', 'COH.A.delta.k.C4.q.T6', 'COH.A.delta.k.C4.r.O1', 'COH.A.delta.k.C4.s.O2', 'COH.A.delta.l.T4.m.T5', 'COH.A.delta.l.T4.n.P3', 'COH.A.delta.l.T4.o.Pz', 'COH.A.delta.l.T4.p.P4', 'COH.A.delta.l.T4.q.T6', 'COH.A.delta.l.T4.r.O1', 'COH.A.delta.l.T4.s.O2', 'COH.A.delta.m.T5.n.P3', 'COH.A.delta.m.T5.o.Pz', 'COH.A.delta.m.T5.p.P4', 'COH.A.delta.m.T5.q.T6', 'COH.A.delta.m.T5.r.O1', 'COH.A.delta.m.T5.s.O2', 'COH.A.delta.n.P3.o.Pz', 'COH.A.delta.n.P3.p.P4', 'COH.A.delta.n.P3.q.T6', 'COH.A.delta.n.P3.r.O1', 'COH.A.delta.n.P3.s.O2', 'COH.A.delta.o.Pz.p.P4', 'COH.A.delta.o.Pz.q.T6', 'COH.A.delta.o.Pz.r.O1', 'COH.A.delta.o.Pz.s.O2', 'COH.A.delta.p.P4.q.T6', 'COH.A.delta.p.P4.r.O1', 'COH.A.delta.p.P4.s.O2', 'COH.A.delta.q.T6.r.O1', 'COH.A.delta.q.T6.s.O2', 'COH.A.delta.r.O1.s.O2', 'COH.B.theta.a.FP1.b.FP2', 'COH.B.theta.a.FP1.c.F7', 'COH.B.theta.a.FP1.d.F3', 'COH.B.theta.a.FP1.e.Fz', 'COH.B.theta.a.FP1.f.F4', 'COH.B.theta.a.FP1.g.F8', 'COH.B.theta.a.FP1.h.T3', 'COH.B.theta.a.FP1.i.C3', 'COH.B.theta.a.FP1.j.Cz', 'COH.B.theta.a.FP1.k.C4', 'COH.B.theta.a.FP1.l.T4', 'COH.B.theta.a.FP1.m.T5', 'COH.B.theta.a.FP1.n.P3', 'COH.B.theta.a.FP1.o.Pz', 'COH.B.theta.a.FP1.p.P4', 'COH.B.theta.a.FP1.q.T6', 'COH.B.theta.a.FP1.r.O1', 'COH.B.theta.a.FP1.s.O2', 'COH.B.theta.b.FP2.c.F7', 'COH.B.theta.b.FP2.d.F3', 'COH.B.theta.b.FP2.e.Fz', 'COH.B.theta.b.FP2.f.F4', 'COH.B.theta.b.FP2.g.F8', 'COH.B.theta.b.FP2.h.T3', 'COH.B.theta.b.FP2.i.C3', 'COH.B.theta.b.FP2.j.Cz', 'COH.B.theta.b.FP2.k.C4', 'COH.B.theta.b.FP2.l.T4', 'COH.B.theta.b.FP2.m.T5', 'COH.B.theta.b.FP2.n.P3', 'COH.B.theta.b.FP2.o.Pz', 'COH.B.theta.b.FP2.p.P4', 'COH.B.theta.b.FP2.q.T6', 'COH.B.theta.b.FP2.r.O1', 'COH.B.theta.b.FP2.s.O2', 'COH.B.theta.c.F7.d.F3', 'COH.B.theta.c.F7.e.Fz', 'COH.B.theta.c.F7.f.F4', 'COH.B.theta.c.F7.g.F8', 'COH.B.theta.c.F7.h.T3', 'COH.B.theta.c.F7.i.C3', 'COH.B.theta.c.F7.j.Cz', 'COH.B.theta.c.F7.k.C4', 'COH.B.theta.c.F7.l.T4', 'COH.B.theta.c.F7.m.T5', 'COH.B.theta.c.F7.n.P3', 'COH.B.theta.c.F7.o.Pz', 'COH.B.theta.c.F7.p.P4', 'COH.B.theta.c.F7.q.T6', 'COH.B.theta.c.F7.r.O1', 'COH.B.theta.c.F7.s.O2', 'COH.B.theta.d.F3.e.Fz', 'COH.B.theta.d.F3.f.F4', 'COH.B.theta.d.F3.g.F8', 'COH.B.theta.d.F3.h.T3', 'COH.B.theta.d.F3.i.C3', 'COH.B.theta.d.F3.j.Cz', 'COH.B.theta.d.F3.k.C4', 'COH.B.theta.d.F3.l.T4', 'COH.B.theta.d.F3.n.P3', 'COH.B.theta.d.F3.o.Pz', 'COH.B.theta.d.F3.p.P4', 'COH.B.theta.d.F3.q.T6', 'COH.B.theta.d.F3.r.O1', 'COH.B.theta.e.Fz.f.F4', 'COH.B.theta.e.Fz.g.F8', 'COH.B.theta.e.Fz.h.T3', 'COH.B.theta.e.Fz.i.C3', 'COH.B.theta.e.Fz.j.Cz', 'COH.B.theta.e.Fz.k.C4', 'COH.B.theta.e.Fz.l.T4', 'COH.B.theta.e.Fz.o.Pz', 'COH.B.theta.e.Fz.q.T6', 'COH.B.theta.e.Fz.r.O1', 'COH.B.theta.e.Fz.s.O2', 'COH.B.theta.f.F4.g.F8', 'COH.B.theta.f.F4.h.T3', 'COH.B.theta.f.F4.i.C3', 'COH.B.theta.f.F4.j.Cz', 'COH.B.theta.f.F4.k.C4', 'COH.B.theta.f.F4.l.T4', 'COH.B.theta.f.F4.m.T5', 'COH.B.theta.f.F4.n.P3', 'COH.B.theta.f.F4.o.Pz', 'COH.B.theta.f.F4.q.T6', 'COH.B.theta.f.F4.r.O1', 'COH.B.theta.f.F4.s.O2', 'COH.B.theta.g.F8.h.T3', 'COH.B.theta.g.F8.i.C3', 'COH.B.theta.g.F8.j.Cz', 'COH.B.theta.g.F8.k.C4', 'COH.B.theta.g.F8.l.T4', 'COH.B.theta.g.F8.m.T5', 'COH.B.theta.g.F8.n.P3', 'COH.B.theta.g.F8.o.Pz', 'COH.B.theta.g.F8.p.P4', 'COH.B.theta.g.F8.q.T6', 'COH.B.theta.g.F8.r.O1', 'COH.B.theta.g.F8.s.O2', 'COH.B.theta.h.T3.i.C3', 'COH.B.theta.h.T3.j.Cz', 'COH.B.theta.h.T3.k.C4', 'COH.B.theta.h.T3.l.T4', 'COH.B.theta.h.T3.m.T5', 'COH.B.theta.h.T3.n.P3', 'COH.B.theta.h.T3.o.Pz', 'COH.B.theta.h.T3.p.P4', 'COH.B.theta.h.T3.q.T6', 'COH.B.theta.h.T3.r.O1', 'COH.B.theta.h.T3.s.O2', 'COH.B.theta.i.C3.j.Cz', 'COH.B.theta.i.C3.k.C4', 'COH.B.theta.i.C3.l.T4', 'COH.B.theta.i.C3.m.T5', 'COH.B.theta.i.C3.n.P3', 'COH.B.theta.i.C3.o.Pz', 'COH.B.theta.i.C3.p.P4', 'COH.B.theta.i.C3.r.O1', 'COH.B.theta.j.Cz.k.C4', 'COH.B.theta.j.Cz.l.T4', 'COH.B.theta.j.Cz.m.T5', 'COH.B.theta.j.Cz.n.P3', 'COH.B.theta.j.Cz.o.Pz', 'COH.B.theta.j.Cz.p.P4', 'COH.B.theta.j.Cz.q.T6', 'COH.B.theta.j.Cz.r.O1', 'COH.B.theta.j.Cz.s.O2', 'COH.B.theta.k.C4.l.T4', 'COH.B.theta.k.C4.m.T5', 'COH.B.theta.k.C4.n.P3', 'COH.B.theta.k.C4.o.Pz', 'COH.B.theta.k.C4.p.P4', 'COH.B.theta.k.C4.q.T6', 'COH.B.theta.k.C4.r.O1', 'COH.B.theta.k.C4.s.O2', 'COH.B.theta.l.T4.m.T5', 'COH.B.theta.l.T4.n.P3', 'COH.B.theta.l.T4.o.Pz', 'COH.B.theta.l.T4.p.P4', 'COH.B.theta.l.T4.q.T6', 'COH.B.theta.l.T4.r.O1', 'COH.B.theta.l.T4.s.O2', 'COH.B.theta.m.T5.n.P3', 'COH.B.theta.m.T5.o.Pz', 'COH.B.theta.m.T5.p.P4', 'COH.B.theta.m.T5.q.T6', 'COH.B.theta.m.T5.r.O1', 'COH.B.theta.m.T5.s.O2', 'COH.B.theta.n.P3.o.Pz', 'COH.B.theta.n.P3.p.P4', 'COH.B.theta.n.P3.q.T6', 'COH.B.theta.n.P3.r.O1', 'COH.B.theta.n.P3.s.O2', 'COH.B.theta.o.Pz.p.P4', 'COH.B.theta.o.Pz.q.T6', 'COH.B.theta.o.Pz.r.O1', 'COH.B.theta.o.Pz.s.O2', 'COH.B.theta.p.P4.q.T6', 'COH.B.theta.p.P4.r.O1', 'COH.B.theta.p.P4.s.O2', 'COH.B.theta.q.T6.r.O1', 'COH.B.theta.q.T6.s.O2', 'COH.B.theta.r.O1.s.O2', 'COH.C.alpha.a.FP1.b.FP2', 'COH.C.alpha.a.FP1.c.F7', 'COH.C.alpha.a.FP1.d.F3', 'COH.C.alpha.a.FP1.e.Fz', 'COH.C.alpha.a.FP1.f.F4', 'COH.C.alpha.a.FP1.g.F8', 'COH.C.alpha.a.FP1.h.T3', 'COH.C.alpha.a.FP1.i.C3', 'COH.C.alpha.a.FP1.j.Cz', 'COH.C.alpha.a.FP1.k.C4', 'COH.C.alpha.a.FP1.l.T4', 'COH.C.alpha.a.FP1.m.T5', 'COH.C.alpha.a.FP1.n.P3', 'COH.C.alpha.a.FP1.o.Pz', 'COH.C.alpha.a.FP1.p.P4', 'COH.C.alpha.a.FP1.q.T6', 'COH.C.alpha.a.FP1.r.O1', 'COH.C.alpha.a.FP1.s.O2', 'COH.C.alpha.b.FP2.c.F7', 'COH.C.alpha.b.FP2.d.F3', 'COH.C.alpha.b.FP2.f.F4', 'COH.C.alpha.b.FP2.g.F8', 'COH.C.alpha.b.FP2.m.T5', 'COH.C.alpha.b.FP2.s.O2', 'COH.C.alpha.c.F7.d.F3', 'COH.C.alpha.c.F7.h.T3', 'COH.C.alpha.c.F7.i.C3', 'COH.C.alpha.c.F7.j.Cz', 'COH.C.alpha.c.F7.m.T5', 'COH.C.alpha.c.F7.n.P3', 'COH.C.alpha.c.F7.q.T6', 'COH.C.alpha.c.F7.r.O1', 'COH.C.alpha.d.F3.e.Fz', 'COH.C.alpha.d.F3.f.F4', 'COH.C.alpha.d.F3.i.C3', 'COH.C.alpha.d.F3.j.Cz', 'COH.C.alpha.e.Fz.f.F4', 'COH.C.alpha.f.F4.m.T5', 'COH.C.alpha.f.F4.q.T6', 'COH.C.alpha.f.F4.r.O1', 'COH.C.alpha.f.F4.s.O2', 'COH.C.alpha.g.F8.k.C4', 'COH.C.alpha.g.F8.l.T4', 'COH.C.alpha.g.F8.m.T5', 'COH.C.alpha.g.F8.n.P3', 'COH.C.alpha.g.F8.q.T6', 'COH.C.alpha.g.F8.r.O1', 'COH.C.alpha.g.F8.s.O2', 'COH.C.alpha.h.T3.i.C3', 'COH.C.alpha.h.T3.l.T4', 'COH.C.alpha.h.T3.m.T5', 'COH.C.alpha.h.T3.n.P3', 'COH.C.alpha.h.T3.o.Pz', 'COH.C.alpha.h.T3.p.P4', 'COH.C.alpha.h.T3.q.T6', 'COH.C.alpha.h.T3.r.O1', 'COH.C.alpha.h.T3.s.O2', 'COH.C.alpha.i.C3.j.Cz', 'COH.C.alpha.i.C3.k.C4', 'COH.C.alpha.i.C3.m.T5', 'COH.C.alpha.i.C3.n.P3', 'COH.C.alpha.i.C3.o.Pz', 'COH.C.alpha.i.C3.q.T6', 'COH.C.alpha.i.C3.r.O1', 'COH.C.alpha.i.C3.s.O2', 'COH.C.alpha.j.Cz.k.C4', 'COH.C.alpha.j.Cz.m.T5', 'COH.C.alpha.j.Cz.n.P3', 'COH.C.alpha.j.Cz.o.Pz', 'COH.C.alpha.j.Cz.q.T6', 'COH.C.alpha.j.Cz.r.O1', 'COH.C.alpha.j.Cz.s.O2', 'COH.C.alpha.k.C4.l.T4', 'COH.C.alpha.k.C4.m.T5', 'COH.C.alpha.k.C4.n.P3', 'COH.C.alpha.k.C4.o.Pz', 'COH.C.alpha.k.C4.p.P4', 'COH.C.alpha.k.C4.q.T6', 'COH.C.alpha.k.C4.r.O1', 'COH.C.alpha.k.C4.s.O2', 'COH.C.alpha.l.T4.m.T5', 'COH.C.alpha.l.T4.n.P3', 'COH.C.alpha.l.T4.o.Pz', 'COH.C.alpha.l.T4.p.P4', 'COH.C.alpha.l.T4.q.T6', 'COH.C.alpha.l.T4.r.O1', 'COH.C.alpha.l.T4.s.O2', 'COH.C.alpha.m.T5.n.P3', 'COH.C.alpha.m.T5.o.Pz', 'COH.C.alpha.m.T5.p.P4', 'COH.C.alpha.m.T5.q.T6', 'COH.C.alpha.m.T5.r.O1', 'COH.C.alpha.m.T5.s.O2', 'COH.C.alpha.n.P3.o.Pz', 'COH.C.alpha.n.P3.p.P4', 'COH.C.alpha.n.P3.q.T6', 'COH.C.alpha.n.P3.r.O1', 'COH.C.alpha.n.P3.s.O2', 'COH.C.alpha.o.Pz.p.P4', 'COH.C.alpha.o.Pz.q.T6', 'COH.C.alpha.o.Pz.r.O1', 'COH.C.alpha.o.Pz.s.O2', 'COH.C.alpha.p.P4.q.T6', 'COH.C.alpha.p.P4.r.O1', 'COH.C.alpha.p.P4.s.O2', 'COH.C.alpha.q.T6.r.O1', 'COH.C.alpha.q.T6.s.O2', 'COH.C.alpha.r.O1.s.O2', 'COH.D.beta.a.FP1.b.FP2', 'COH.D.beta.a.FP1.c.F7', 'COH.D.beta.a.FP1.d.F3', 'COH.D.beta.a.FP1.e.Fz', 'COH.D.beta.a.FP1.f.F4', 'COH.D.beta.a.FP1.g.F8', 'COH.D.beta.a.FP1.h.T3', 'COH.D.beta.a.FP1.i.C3', 'COH.D.beta.a.FP1.j.Cz', 'COH.D.beta.a.FP1.k.C4', 'COH.D.beta.a.FP1.l.T4', 'COH.D.beta.a.FP1.m.T5', 'COH.D.beta.a.FP1.n.P3', 'COH.D.beta.a.FP1.o.Pz', 'COH.D.beta.a.FP1.p.P4', 'COH.D.beta.a.FP1.q.T6', 'COH.D.beta.a.FP1.r.O1', 'COH.D.beta.a.FP1.s.O2', 'COH.D.beta.b.FP2.c.F7', 'COH.D.beta.b.FP2.d.F3', 'COH.D.beta.b.FP2.e.Fz', 'COH.D.beta.b.FP2.f.F4', 'COH.D.beta.b.FP2.g.F8', 'COH.D.beta.b.FP2.h.T3', 'COH.D.beta.b.FP2.i.C3', 'COH.D.beta.b.FP2.j.Cz', 'COH.D.beta.b.FP2.k.C4', 'COH.D.beta.b.FP2.l.T4', 'COH.D.beta.b.FP2.m.T5', 'COH.D.beta.b.FP2.n.P3', 'COH.D.beta.b.FP2.o.Pz', 'COH.D.beta.b.FP2.p.P4', 'COH.D.beta.b.FP2.q.T6', 'COH.D.beta.b.FP2.r.O1', 'COH.D.beta.b.FP2.s.O2', 'COH.D.beta.c.F7.d.F3', 'COH.D.beta.c.F7.e.Fz', 'COH.D.beta.c.F7.f.F4', 'COH.D.beta.c.F7.g.F8', 'COH.D.beta.c.F7.h.T3', 'COH.D.beta.c.F7.i.C3', 'COH.D.beta.c.F7.j.Cz', 'COH.D.beta.c.F7.k.C4', 'COH.D.beta.c.F7.l.T4', 'COH.D.beta.c.F7.m.T5', 'COH.D.beta.c.F7.n.P3', 'COH.D.beta.c.F7.o.Pz', 'COH.D.beta.c.F7.q.T6', 'COH.D.beta.c.F7.r.O1', 'COH.D.beta.c.F7.s.O2', 'COH.D.beta.d.F3.e.Fz', 'COH.D.beta.d.F3.f.F4', 'COH.D.beta.d.F3.g.F8', 'COH.D.beta.d.F3.h.T3', 'COH.D.beta.d.F3.i.C3', 'COH.D.beta.d.F3.j.Cz', 'COH.D.beta.d.F3.k.C4', 'COH.D.beta.d.F3.n.P3', 'COH.D.beta.d.F3.o.Pz', 'COH.D.beta.e.Fz.f.F4', 'COH.D.beta.e.Fz.g.F8', 'COH.D.beta.e.Fz.h.T3', 'COH.D.beta.e.Fz.i.C3', 'COH.D.beta.e.Fz.j.Cz', 'COH.D.beta.e.Fz.k.C4', 'COH.D.beta.f.F4.g.F8', 'COH.D.beta.f.F4.h.T3', 'COH.D.beta.f.F4.i.C3', 'COH.D.beta.f.F4.j.Cz', 'COH.D.beta.f.F4.k.C4', 'COH.D.beta.f.F4.l.T4', 'COH.D.beta.f.F4.m.T5', 'COH.D.beta.f.F4.n.P3', 'COH.D.beta.f.F4.p.P4', 'COH.D.beta.f.F4.q.T6', 'COH.D.beta.f.F4.r.O1', 'COH.D.beta.f.F4.s.O2', 'COH.D.beta.g.F8.h.T3', 'COH.D.beta.g.F8.i.C3', 'COH.D.beta.g.F8.j.Cz', 'COH.D.beta.g.F8.k.C4', 'COH.D.beta.g.F8.l.T4', 'COH.D.beta.g.F8.n.P3', 'COH.D.beta.g.F8.o.Pz', 'COH.D.beta.g.F8.p.P4', 'COH.D.beta.g.F8.q.T6', 'COH.D.beta.h.T3.i.C3', 'COH.D.beta.h.T3.j.Cz', 'COH.D.beta.h.T3.k.C4', 'COH.D.beta.h.T3.l.T4', 'COH.D.beta.h.T3.m.T5', 'COH.D.beta.h.T3.n.P3', 'COH.D.beta.h.T3.o.Pz', 'COH.D.beta.h.T3.p.P4', 'COH.D.beta.h.T3.q.T6', 'COH.D.beta.h.T3.r.O1', 'COH.D.beta.h.T3.s.O2', 'COH.D.beta.i.C3.j.Cz', 'COH.D.beta.i.C3.k.C4', 'COH.D.beta.i.C3.l.T4', 'COH.D.beta.i.C3.m.T5', 'COH.D.beta.i.C3.n.P3', 'COH.D.beta.i.C3.o.Pz', 'COH.D.beta.i.C3.p.P4', 'COH.D.beta.i.C3.r.O1', 'COH.D.beta.i.C3.s.O2', 'COH.D.beta.j.Cz.k.C4', 'COH.D.beta.j.Cz.l.T4', 'COH.D.beta.j.Cz.m.T5', 'COH.D.beta.j.Cz.n.P3', 'COH.D.beta.j.Cz.o.Pz', 'COH.D.beta.j.Cz.p.P4', 'COH.D.beta.j.Cz.q.T6', 'COH.D.beta.j.Cz.r.O1', 'COH.D.beta.j.Cz.s.O2', 'COH.D.beta.k.C4.l.T4', 'COH.D.beta.k.C4.m.T5', 'COH.D.beta.k.C4.n.P3', 'COH.D.beta.k.C4.o.Pz', 'COH.D.beta.k.C4.p.P4', 'COH.D.beta.k.C4.q.T6', 'COH.D.beta.k.C4.r.O1', 'COH.D.beta.k.C4.s.O2', 'COH.D.beta.l.T4.m.T5', 'COH.D.beta.l.T4.n.P3', 'COH.D.beta.l.T4.o.Pz', 'COH.D.beta.l.T4.p.P4', 'COH.D.beta.l.T4.q.T6', 'COH.D.beta.l.T4.r.O1', 'COH.D.beta.l.T4.s.O2', 'COH.D.beta.m.T5.n.P3', 'COH.D.beta.m.T5.o.Pz', 'COH.D.beta.m.T5.p.P4', 'COH.D.beta.m.T5.q.T6', 'COH.D.beta.m.T5.r.O1', 'COH.D.beta.m.T5.s.O2', 'COH.D.beta.n.P3.o.Pz', 'COH.D.beta.n.P3.p.P4', 'COH.D.beta.n.P3.q.T6', 'COH.D.beta.n.P3.r.O1', 'COH.D.beta.n.P3.s.O2', 'COH.D.beta.o.Pz.p.P4', 'COH.D.beta.o.Pz.q.T6', 'COH.D.beta.o.Pz.r.O1', 'COH.D.beta.o.Pz.s.O2', 'COH.D.beta.p.P4.q.T6', 'COH.D.beta.p.P4.r.O1', 'COH.D.beta.p.P4.s.O2', 'COH.D.beta.q.T6.r.O1', 'COH.D.beta.q.T6.s.O2', 'COH.D.beta.r.O1.s.O2', 'COH.E.highbeta.a.FP1.b.FP2', 'COH.E.highbeta.a.FP1.c.F7', 'COH.E.highbeta.a.FP1.d.F3', 'COH.E.highbeta.a.FP1.e.Fz', 'COH.E.highbeta.a.FP1.f.F4', 'COH.E.highbeta.a.FP1.g.F8', 'COH.E.highbeta.a.FP1.h.T3', 'COH.E.highbeta.a.FP1.i.C3', 'COH.E.highbeta.a.FP1.j.Cz', 'COH.E.highbeta.a.FP1.k.C4', 'COH.E.highbeta.a.FP1.l.T4', 'COH.E.highbeta.a.FP1.m.T5', 'COH.E.highbeta.a.FP1.n.P3', 'COH.E.highbeta.a.FP1.o.Pz', 'COH.E.highbeta.a.FP1.p.P4', 'COH.E.highbeta.a.FP1.q.T6', 'COH.E.highbeta.a.FP1.r.O1', 'COH.E.highbeta.a.FP1.s.O2', 'COH.E.highbeta.b.FP2.c.F7', 'COH.E.highbeta.b.FP2.d.F3', 'COH.E.highbeta.b.FP2.e.Fz', 'COH.E.highbeta.b.FP2.f.F4', 'COH.E.highbeta.b.FP2.g.F8', 'COH.E.highbeta.b.FP2.h.T3', 'COH.E.highbeta.b.FP2.i.C3', 'COH.E.highbeta.b.FP2.j.Cz', 'COH.E.highbeta.b.FP2.k.C4', 'COH.E.highbeta.b.FP2.l.T4', 'COH.E.highbeta.b.FP2.m.T5', 'COH.E.highbeta.b.FP2.n.P3', 'COH.E.highbeta.b.FP2.q.T6', 'COH.E.highbeta.b.FP2.r.O1', 'COH.E.highbeta.c.F7.d.F3', 'COH.E.highbeta.c.F7.e.Fz', 'COH.E.highbeta.c.F7.f.F4', 'COH.E.highbeta.c.F7.g.F8', 'COH.E.highbeta.c.F7.h.T3', 'COH.E.highbeta.c.F7.i.C3', 'COH.E.highbeta.c.F7.j.Cz', 'COH.E.highbeta.c.F7.k.C4', 'COH.E.highbeta.c.F7.l.T4', 'COH.E.highbeta.c.F7.m.T5', 'COH.E.highbeta.c.F7.n.P3', 'COH.E.highbeta.c.F7.r.O1', 'COH.E.highbeta.d.F3.e.Fz', 'COH.E.highbeta.d.F3.f.F4', 'COH.E.highbeta.d.F3.g.F8', 'COH.E.highbeta.d.F3.h.T3', 'COH.E.highbeta.d.F3.i.C3', 'COH.E.highbeta.d.F3.j.Cz', 'COH.E.highbeta.d.F3.k.C4', 'COH.E.highbeta.d.F3.n.P3', 'COH.E.highbeta.e.Fz.f.F4', 'COH.E.highbeta.e.Fz.g.F8', 'COH.E.highbeta.e.Fz.h.T3', 'COH.E.highbeta.e.Fz.i.C3', 'COH.E.highbeta.e.Fz.j.Cz', 'COH.E.highbeta.e.Fz.k.C4', 'COH.E.highbeta.e.Fz.l.T4', 'COH.E.highbeta.e.Fz.m.T5', 'COH.E.highbeta.e.Fz.r.O1', 'COH.E.highbeta.f.F4.g.F8', 'COH.E.highbeta.f.F4.h.T3', 'COH.E.highbeta.f.F4.i.C3', 'COH.E.highbeta.f.F4.j.Cz', 'COH.E.highbeta.f.F4.k.C4', 'COH.E.highbeta.f.F4.m.T5', 'COH.E.highbeta.f.F4.n.P3', 'COH.E.highbeta.f.F4.q.T6', 'COH.E.highbeta.f.F4.s.O2', 'COH.E.highbeta.g.F8.h.T3', 'COH.E.highbeta.g.F8.i.C3', 'COH.E.highbeta.g.F8.j.Cz', 'COH.E.highbeta.g.F8.k.C4', 'COH.E.highbeta.g.F8.l.T4', 'COH.E.highbeta.g.F8.m.T5', 'COH.E.highbeta.g.F8.n.P3', 'COH.E.highbeta.g.F8.o.Pz', 'COH.E.highbeta.g.F8.q.T6', 'COH.E.highbeta.g.F8.r.O1', 'COH.E.highbeta.g.F8.s.O2', 'COH.E.highbeta.h.T3.i.C3', 'COH.E.highbeta.h.T3.j.Cz', 'COH.E.highbeta.h.T3.l.T4', 'COH.E.highbeta.h.T3.m.T5', 'COH.E.highbeta.h.T3.n.P3', 'COH.E.highbeta.h.T3.o.Pz', 'COH.E.highbeta.h.T3.p.P4', 'COH.E.highbeta.h.T3.q.T6', 'COH.E.highbeta.h.T3.r.O1', 'COH.E.highbeta.h.T3.s.O2', 'COH.E.highbeta.i.C3.j.Cz', 'COH.E.highbeta.i.C3.k.C4', 'COH.E.highbeta.i.C3.l.T4', 'COH.E.highbeta.i.C3.m.T5', 'COH.E.highbeta.i.C3.n.P3', 'COH.E.highbeta.i.C3.o.Pz', 'COH.E.highbeta.i.C3.p.P4', 'COH.E.highbeta.i.C3.r.O1', 'COH.E.highbeta.j.Cz.k.C4', 'COH.E.highbeta.j.Cz.m.T5', 'COH.E.highbeta.j.Cz.n.P3', 'COH.E.highbeta.j.Cz.o.Pz', 'COH.E.highbeta.j.Cz.p.P4', 'COH.E.highbeta.j.Cz.q.T6', 'COH.E.highbeta.j.Cz.r.O1', 'COH.E.highbeta.j.Cz.s.O2', 'COH.E.highbeta.k.C4.l.T4', 'COH.E.highbeta.k.C4.m.T5', 'COH.E.highbeta.k.C4.n.P3', 'COH.E.highbeta.k.C4.o.Pz', 'COH.E.highbeta.k.C4.p.P4', 'COH.E.highbeta.k.C4.q.T6', 'COH.E.highbeta.k.C4.r.O1', 'COH.E.highbeta.k.C4.s.O2', 'COH.E.highbeta.l.T4.m.T5', 'COH.E.highbeta.l.T4.n.P3', 'COH.E.highbeta.l.T4.p.P4', 'COH.E.highbeta.l.T4.q.T6', 'COH.E.highbeta.l.T4.r.O1', 'COH.E.highbeta.l.T4.s.O2', 'COH.E.highbeta.m.T5.n.P3', 'COH.E.highbeta.m.T5.o.Pz', 'COH.E.highbeta.m.T5.p.P4', 'COH.E.highbeta.m.T5.q.T6', 'COH.E.highbeta.m.T5.r.O1', 'COH.E.highbeta.m.T5.s.O2', 'COH.E.highbeta.n.P3.o.Pz', 'COH.E.highbeta.n.P3.p.P4', 'COH.E.highbeta.n.P3.q.T6', 'COH.E.highbeta.n.P3.r.O1', 'COH.E.highbeta.n.P3.s.O2', 'COH.E.highbeta.o.Pz.p.P4', 'COH.E.highbeta.o.Pz.q.T6', 'COH.E.highbeta.o.Pz.r.O1', 'COH.E.highbeta.o.Pz.s.O2', 'COH.E.highbeta.p.P4.q.T6', 'COH.E.highbeta.p.P4.r.O1', 'COH.E.highbeta.p.P4.s.O2', 'COH.E.highbeta.q.T6.r.O1', 'COH.E.highbeta.q.T6.s.O2', 'COH.E.highbeta.r.O1.s.O2', 'COH.F.gamma.a.FP1.g.F8', 'COH.F.gamma.a.FP1.h.T3', 'COH.F.gamma.a.FP1.i.C3', 'COH.F.gamma.a.FP1.l.T4', 'COH.F.gamma.a.FP1.m.T5', 'COH.F.gamma.a.FP1.n.P3', 'COH.F.gamma.a.FP1.r.O1', 'COH.F.gamma.a.FP1.s.O2', 'COH.F.gamma.b.FP2.c.F7', 'COH.F.gamma.b.FP2.h.T3', 'COH.F.gamma.b.FP2.i.C3', 'COH.F.gamma.b.FP2.m.T5', 'COH.F.gamma.c.F7.e.Fz', 'COH.F.gamma.c.F7.l.T4', 'COH.F.gamma.d.F3.g.F8', 'COH.F.gamma.g.F8.h.T3', 'COH.F.gamma.g.F8.m.T5', 'COH.F.gamma.g.F8.n.P3', 'COH.F.gamma.g.F8.r.O1', 'COH.F.gamma.g.F8.s.O2', 'COH.F.gamma.h.T3.l.T4', 'COH.F.gamma.h.T3.r.O1', 'COH.F.gamma.h.T3.s.O2', 'COH.F.gamma.i.C3.m.T5', 'COH.F.gamma.i.C3.r.O1', 'COH.F.gamma.l.T4.m.T5', 'COH.F.gamma.l.T4.r.O1']]\n"
   ]
  },
  {
   "cell_type": "code",
   "execution_count": null,
   "id": "962015e4",
   "metadata": {},
   "outputs": [],
   "source": [
    "df8_feat.shape   # Displaying the size of df8_feat"
   ]
  },
  {
   "cell_type": "code",
   "execution_count": null,
   "id": "6be01ca6",
   "metadata": {},
   "outputs": [],
   "source": [
    "# Standardisation\n",
    "\n",
    "from sklearn.preprocessing import StandardScaler\n",
    "##Standardising the numerical data in order to get a normal scale \n",
    "df_st =  StandardScaler().fit_transform(df8_feat)  \n",
    "#Storing the normalised data in another dataframe\n",
    "\n",
    "df_n = pd.DataFrame(df_st,columns = ['AB.A.delta.a.FP1', 'AB.A.delta.b.FP2', 'AB.A.delta.c.F7', 'AB.A.delta.d.F3', 'AB.A.delta.e.Fz', 'AB.A.delta.f.F4', 'AB.A.delta.g.F8', 'AB.A.delta.h.T3', 'AB.A.delta.i.C3', 'AB.A.delta.j.Cz', 'AB.A.delta.k.C4', 'AB.A.delta.l.T4', 'AB.A.delta.m.T5', 'AB.A.delta.n.P3', 'AB.A.delta.o.Pz', 'AB.A.delta.p.P4', 'AB.A.delta.q.T6', 'AB.A.delta.r.O1', 'AB.A.delta.s.O2', 'AB.B.theta.a.FP1', 'AB.B.theta.c.F7', 'AB.B.theta.d.F3', 'AB.B.theta.e.Fz', 'AB.B.theta.g.F8', 'AB.B.theta.h.T3', 'AB.B.theta.i.C3', 'AB.B.theta.j.Cz', 'AB.B.theta.k.C4', 'AB.B.theta.l.T4', 'AB.B.theta.m.T5', 'AB.B.theta.n.P3', 'AB.B.theta.q.T6', 'AB.B.theta.r.O1', 'AB.B.theta.s.O2', 'AB.C.alpha.a.FP1', 'AB.C.alpha.c.F7', 'AB.C.alpha.g.F8', 'AB.C.alpha.h.T3', 'AB.C.alpha.i.C3', 'AB.C.alpha.j.Cz', 'AB.C.alpha.k.C4', 'AB.C.alpha.l.T4', 'AB.C.alpha.m.T5', 'AB.C.alpha.n.P3', 'AB.C.alpha.o.Pz', 'AB.C.alpha.p.P4', 'AB.C.alpha.q.T6', 'AB.C.alpha.r.O1', 'AB.C.alpha.s.O2', 'AB.D.beta.a.FP1', 'AB.D.beta.c.F7', 'AB.D.beta.g.F8', 'AB.D.beta.h.T3', 'AB.D.beta.i.C3', 'AB.D.beta.j.Cz', 'AB.D.beta.l.T4', 'AB.D.beta.m.T5', 'AB.D.beta.n.P3', 'AB.D.beta.o.Pz', 'AB.D.beta.q.T6', 'AB.D.beta.r.O1', 'AB.D.beta.s.O2', 'AB.E.highbeta.a.FP1', 'AB.E.highbeta.b.FP2', 'AB.E.highbeta.c.F7', 'AB.E.highbeta.d.F3', 'AB.E.highbeta.g.F8', 'AB.E.highbeta.h.T3', 'AB.E.highbeta.i.C3', 'AB.E.highbeta.j.Cz', 'AB.E.highbeta.k.C4', 'AB.E.highbeta.l.T4', 'AB.E.highbeta.m.T5', 'AB.E.highbeta.n.P3', 'AB.E.highbeta.o.Pz', 'AB.E.highbeta.p.P4', 'AB.E.highbeta.q.T6', 'AB.E.highbeta.r.O1', 'AB.E.highbeta.s.O2', 'AB.F.gamma.a.FP1', 'AB.F.gamma.b.FP2', 'AB.F.gamma.c.F7', 'AB.F.gamma.d.F3', 'AB.F.gamma.e.Fz', 'AB.F.gamma.f.F4', 'AB.F.gamma.g.F8', 'AB.F.gamma.h.T3', 'AB.F.gamma.i.C3', 'AB.F.gamma.j.Cz', 'AB.F.gamma.k.C4', 'AB.F.gamma.l.T4', 'AB.F.gamma.m.T5', 'AB.F.gamma.n.P3', 'AB.F.gamma.o.Pz', 'AB.F.gamma.p.P4', 'AB.F.gamma.q.T6', 'AB.F.gamma.r.O1', 'AB.F.gamma.s.O2', 'COH.A.delta.a.FP1.b.FP2', 'COH.A.delta.a.FP1.c.F7', 'COH.A.delta.a.FP1.d.F3', 'COH.A.delta.a.FP1.e.Fz', 'COH.A.delta.a.FP1.f.F4', 'COH.A.delta.a.FP1.g.F8', 'COH.A.delta.a.FP1.h.T3', 'COH.A.delta.a.FP1.i.C3', 'COH.A.delta.a.FP1.j.Cz', 'COH.A.delta.a.FP1.k.C4', 'COH.A.delta.a.FP1.l.T4', 'COH.A.delta.a.FP1.m.T5', 'COH.A.delta.a.FP1.n.P3', 'COH.A.delta.a.FP1.o.Pz', 'COH.A.delta.a.FP1.p.P4', 'COH.A.delta.a.FP1.q.T6', 'COH.A.delta.a.FP1.r.O1', 'COH.A.delta.a.FP1.s.O2', 'COH.A.delta.b.FP2.c.F7', 'COH.A.delta.b.FP2.d.F3', 'COH.A.delta.b.FP2.e.Fz', 'COH.A.delta.b.FP2.f.F4', 'COH.A.delta.b.FP2.g.F8', 'COH.A.delta.b.FP2.h.T3', 'COH.A.delta.b.FP2.i.C3', 'COH.A.delta.b.FP2.j.Cz', 'COH.A.delta.b.FP2.k.C4', 'COH.A.delta.b.FP2.l.T4', 'COH.A.delta.b.FP2.m.T5', 'COH.A.delta.b.FP2.n.P3', 'COH.A.delta.b.FP2.o.Pz', 'COH.A.delta.b.FP2.p.P4', 'COH.A.delta.b.FP2.q.T6', 'COH.A.delta.b.FP2.r.O1', 'COH.A.delta.b.FP2.s.O2', 'COH.A.delta.c.F7.d.F3', 'COH.A.delta.c.F7.e.Fz', 'COH.A.delta.c.F7.f.F4', 'COH.A.delta.c.F7.g.F8', 'COH.A.delta.c.F7.h.T3', 'COH.A.delta.c.F7.i.C3', 'COH.A.delta.c.F7.j.Cz', 'COH.A.delta.c.F7.k.C4', 'COH.A.delta.c.F7.l.T4', 'COH.A.delta.c.F7.m.T5', 'COH.A.delta.c.F7.n.P3', 'COH.A.delta.c.F7.o.Pz', 'COH.A.delta.c.F7.p.P4', 'COH.A.delta.c.F7.q.T6', 'COH.A.delta.c.F7.r.O1', 'COH.A.delta.c.F7.s.O2', 'COH.A.delta.d.F3.e.Fz', 'COH.A.delta.d.F3.f.F4', 'COH.A.delta.d.F3.g.F8', 'COH.A.delta.d.F3.h.T3', 'COH.A.delta.d.F3.i.C3', 'COH.A.delta.d.F3.j.Cz', 'COH.A.delta.d.F3.k.C4', 'COH.A.delta.d.F3.l.T4', 'COH.A.delta.d.F3.m.T5', 'COH.A.delta.d.F3.n.P3', 'COH.A.delta.d.F3.o.Pz', 'COH.A.delta.d.F3.p.P4', 'COH.A.delta.d.F3.q.T6', 'COH.A.delta.d.F3.r.O1', 'COH.A.delta.d.F3.s.O2', 'COH.A.delta.e.Fz.f.F4', 'COH.A.delta.e.Fz.g.F8', 'COH.A.delta.e.Fz.h.T3', 'COH.A.delta.e.Fz.i.C3', 'COH.A.delta.e.Fz.j.Cz', 'COH.A.delta.e.Fz.k.C4', 'COH.A.delta.e.Fz.l.T4', 'COH.A.delta.e.Fz.m.T5', 'COH.A.delta.e.Fz.n.P3', 'COH.A.delta.e.Fz.o.Pz', 'COH.A.delta.e.Fz.p.P4', 'COH.A.delta.e.Fz.q.T6', 'COH.A.delta.e.Fz.r.O1', 'COH.A.delta.e.Fz.s.O2', 'COH.A.delta.f.F4.g.F8', 'COH.A.delta.f.F4.h.T3', 'COH.A.delta.f.F4.i.C3', 'COH.A.delta.f.F4.j.Cz', 'COH.A.delta.f.F4.k.C4', 'COH.A.delta.f.F4.l.T4', 'COH.A.delta.f.F4.m.T5', 'COH.A.delta.f.F4.n.P3', 'COH.A.delta.f.F4.o.Pz', 'COH.A.delta.f.F4.q.T6', 'COH.A.delta.f.F4.r.O1', 'COH.A.delta.f.F4.s.O2', 'COH.A.delta.g.F8.h.T3', 'COH.A.delta.g.F8.i.C3', 'COH.A.delta.g.F8.j.Cz', 'COH.A.delta.g.F8.k.C4', 'COH.A.delta.g.F8.l.T4', 'COH.A.delta.g.F8.m.T5', 'COH.A.delta.g.F8.n.P3', 'COH.A.delta.g.F8.o.Pz', 'COH.A.delta.g.F8.p.P4', 'COH.A.delta.g.F8.q.T6', 'COH.A.delta.g.F8.r.O1', 'COH.A.delta.g.F8.s.O2', 'COH.A.delta.h.T3.i.C3', 'COH.A.delta.h.T3.j.Cz', 'COH.A.delta.h.T3.k.C4', 'COH.A.delta.h.T3.l.T4', 'COH.A.delta.h.T3.m.T5', 'COH.A.delta.h.T3.n.P3', 'COH.A.delta.h.T3.o.Pz', 'COH.A.delta.h.T3.p.P4', 'COH.A.delta.h.T3.q.T6', 'COH.A.delta.h.T3.r.O1', 'COH.A.delta.h.T3.s.O2', 'COH.A.delta.i.C3.j.Cz', 'COH.A.delta.i.C3.k.C4', 'COH.A.delta.i.C3.l.T4', 'COH.A.delta.i.C3.m.T5', 'COH.A.delta.i.C3.n.P3', 'COH.A.delta.i.C3.o.Pz', 'COH.A.delta.i.C3.p.P4', 'COH.A.delta.i.C3.q.T6', 'COH.A.delta.i.C3.r.O1', 'COH.A.delta.i.C3.s.O2', 'COH.A.delta.j.Cz.k.C4', 'COH.A.delta.j.Cz.l.T4', 'COH.A.delta.j.Cz.m.T5', 'COH.A.delta.j.Cz.n.P3', 'COH.A.delta.j.Cz.o.Pz', 'COH.A.delta.j.Cz.p.P4', 'COH.A.delta.j.Cz.q.T6', 'COH.A.delta.j.Cz.r.O1', 'COH.A.delta.j.Cz.s.O2', 'COH.A.delta.k.C4.l.T4', 'COH.A.delta.k.C4.m.T5', 'COH.A.delta.k.C4.n.P3', 'COH.A.delta.k.C4.o.Pz', 'COH.A.delta.k.C4.p.P4', 'COH.A.delta.k.C4.q.T6', 'COH.A.delta.k.C4.r.O1', 'COH.A.delta.k.C4.s.O2', 'COH.A.delta.l.T4.m.T5', 'COH.A.delta.l.T4.n.P3', 'COH.A.delta.l.T4.o.Pz', 'COH.A.delta.l.T4.p.P4', 'COH.A.delta.l.T4.q.T6', 'COH.A.delta.l.T4.r.O1', 'COH.A.delta.l.T4.s.O2', 'COH.A.delta.m.T5.n.P3', 'COH.A.delta.m.T5.o.Pz', 'COH.A.delta.m.T5.p.P4', 'COH.A.delta.m.T5.q.T6', 'COH.A.delta.m.T5.r.O1', 'COH.A.delta.m.T5.s.O2', 'COH.A.delta.n.P3.o.Pz', 'COH.A.delta.n.P3.p.P4', 'COH.A.delta.n.P3.q.T6', 'COH.A.delta.n.P3.r.O1', 'COH.A.delta.n.P3.s.O2', 'COH.A.delta.o.Pz.p.P4', 'COH.A.delta.o.Pz.q.T6', 'COH.A.delta.o.Pz.r.O1', 'COH.A.delta.o.Pz.s.O2', 'COH.A.delta.p.P4.q.T6', 'COH.A.delta.p.P4.r.O1', 'COH.A.delta.p.P4.s.O2', 'COH.A.delta.q.T6.r.O1', 'COH.A.delta.q.T6.s.O2', 'COH.A.delta.r.O1.s.O2', 'COH.B.theta.a.FP1.b.FP2', 'COH.B.theta.a.FP1.c.F7', 'COH.B.theta.a.FP1.d.F3', 'COH.B.theta.a.FP1.e.Fz', 'COH.B.theta.a.FP1.f.F4', 'COH.B.theta.a.FP1.g.F8', 'COH.B.theta.a.FP1.h.T3', 'COH.B.theta.a.FP1.i.C3', 'COH.B.theta.a.FP1.j.Cz', 'COH.B.theta.a.FP1.k.C4', 'COH.B.theta.a.FP1.l.T4', 'COH.B.theta.a.FP1.m.T5', 'COH.B.theta.a.FP1.n.P3', 'COH.B.theta.a.FP1.o.Pz', 'COH.B.theta.a.FP1.p.P4', 'COH.B.theta.a.FP1.q.T6', 'COH.B.theta.a.FP1.r.O1', 'COH.B.theta.a.FP1.s.O2', 'COH.B.theta.b.FP2.c.F7', 'COH.B.theta.b.FP2.d.F3', 'COH.B.theta.b.FP2.e.Fz', 'COH.B.theta.b.FP2.f.F4', 'COH.B.theta.b.FP2.g.F8', 'COH.B.theta.b.FP2.h.T3', 'COH.B.theta.b.FP2.i.C3', 'COH.B.theta.b.FP2.j.Cz', 'COH.B.theta.b.FP2.k.C4', 'COH.B.theta.b.FP2.l.T4', 'COH.B.theta.b.FP2.m.T5', 'COH.B.theta.b.FP2.n.P3', 'COH.B.theta.b.FP2.o.Pz', 'COH.B.theta.b.FP2.p.P4', 'COH.B.theta.b.FP2.q.T6', 'COH.B.theta.b.FP2.r.O1', 'COH.B.theta.b.FP2.s.O2', 'COH.B.theta.c.F7.d.F3', 'COH.B.theta.c.F7.e.Fz', 'COH.B.theta.c.F7.f.F4', 'COH.B.theta.c.F7.g.F8', 'COH.B.theta.c.F7.h.T3', 'COH.B.theta.c.F7.i.C3', 'COH.B.theta.c.F7.j.Cz', 'COH.B.theta.c.F7.k.C4', 'COH.B.theta.c.F7.l.T4', 'COH.B.theta.c.F7.m.T5', 'COH.B.theta.c.F7.n.P3', 'COH.B.theta.c.F7.o.Pz', 'COH.B.theta.c.F7.p.P4', 'COH.B.theta.c.F7.q.T6', 'COH.B.theta.c.F7.r.O1', 'COH.B.theta.c.F7.s.O2', 'COH.B.theta.d.F3.e.Fz', 'COH.B.theta.d.F3.f.F4', 'COH.B.theta.d.F3.g.F8', 'COH.B.theta.d.F3.h.T3', 'COH.B.theta.d.F3.i.C3', 'COH.B.theta.d.F3.j.Cz', 'COH.B.theta.d.F3.k.C4', 'COH.B.theta.d.F3.l.T4', 'COH.B.theta.d.F3.n.P3', 'COH.B.theta.d.F3.o.Pz', 'COH.B.theta.d.F3.p.P4', 'COH.B.theta.d.F3.q.T6', 'COH.B.theta.d.F3.r.O1', 'COH.B.theta.e.Fz.f.F4', 'COH.B.theta.e.Fz.g.F8', 'COH.B.theta.e.Fz.h.T3', 'COH.B.theta.e.Fz.i.C3', 'COH.B.theta.e.Fz.j.Cz', 'COH.B.theta.e.Fz.k.C4', 'COH.B.theta.e.Fz.l.T4', 'COH.B.theta.e.Fz.o.Pz', 'COH.B.theta.e.Fz.q.T6', 'COH.B.theta.e.Fz.r.O1', 'COH.B.theta.e.Fz.s.O2', 'COH.B.theta.f.F4.g.F8', 'COH.B.theta.f.F4.h.T3', 'COH.B.theta.f.F4.i.C3', 'COH.B.theta.f.F4.j.Cz', 'COH.B.theta.f.F4.k.C4', 'COH.B.theta.f.F4.l.T4', 'COH.B.theta.f.F4.m.T5', 'COH.B.theta.f.F4.n.P3', 'COH.B.theta.f.F4.o.Pz', 'COH.B.theta.f.F4.q.T6', 'COH.B.theta.f.F4.r.O1', 'COH.B.theta.f.F4.s.O2', 'COH.B.theta.g.F8.h.T3', 'COH.B.theta.g.F8.i.C3', 'COH.B.theta.g.F8.j.Cz', 'COH.B.theta.g.F8.k.C4', 'COH.B.theta.g.F8.l.T4', 'COH.B.theta.g.F8.m.T5', 'COH.B.theta.g.F8.n.P3', 'COH.B.theta.g.F8.o.Pz', 'COH.B.theta.g.F8.p.P4', 'COH.B.theta.g.F8.q.T6', 'COH.B.theta.g.F8.r.O1', 'COH.B.theta.g.F8.s.O2', 'COH.B.theta.h.T3.i.C3', 'COH.B.theta.h.T3.j.Cz', 'COH.B.theta.h.T3.k.C4', 'COH.B.theta.h.T3.l.T4', 'COH.B.theta.h.T3.m.T5', 'COH.B.theta.h.T3.n.P3', 'COH.B.theta.h.T3.o.Pz', 'COH.B.theta.h.T3.p.P4', 'COH.B.theta.h.T3.q.T6', 'COH.B.theta.h.T3.r.O1', 'COH.B.theta.h.T3.s.O2', 'COH.B.theta.i.C3.j.Cz', 'COH.B.theta.i.C3.k.C4', 'COH.B.theta.i.C3.l.T4', 'COH.B.theta.i.C3.m.T5', 'COH.B.theta.i.C3.n.P3', 'COH.B.theta.i.C3.o.Pz', 'COH.B.theta.i.C3.p.P4', 'COH.B.theta.i.C3.r.O1', 'COH.B.theta.j.Cz.k.C4', 'COH.B.theta.j.Cz.l.T4', 'COH.B.theta.j.Cz.m.T5', 'COH.B.theta.j.Cz.n.P3', 'COH.B.theta.j.Cz.o.Pz', 'COH.B.theta.j.Cz.p.P4', 'COH.B.theta.j.Cz.q.T6', 'COH.B.theta.j.Cz.r.O1', 'COH.B.theta.j.Cz.s.O2', 'COH.B.theta.k.C4.l.T4', 'COH.B.theta.k.C4.m.T5', 'COH.B.theta.k.C4.n.P3', 'COH.B.theta.k.C4.o.Pz', 'COH.B.theta.k.C4.p.P4', 'COH.B.theta.k.C4.q.T6', 'COH.B.theta.k.C4.r.O1', 'COH.B.theta.k.C4.s.O2', 'COH.B.theta.l.T4.m.T5', 'COH.B.theta.l.T4.n.P3', 'COH.B.theta.l.T4.o.Pz', 'COH.B.theta.l.T4.p.P4', 'COH.B.theta.l.T4.q.T6', 'COH.B.theta.l.T4.r.O1', 'COH.B.theta.l.T4.s.O2', 'COH.B.theta.m.T5.n.P3', 'COH.B.theta.m.T5.o.Pz', 'COH.B.theta.m.T5.p.P4', 'COH.B.theta.m.T5.q.T6', 'COH.B.theta.m.T5.r.O1', 'COH.B.theta.m.T5.s.O2', 'COH.B.theta.n.P3.o.Pz', 'COH.B.theta.n.P3.p.P4', 'COH.B.theta.n.P3.q.T6', 'COH.B.theta.n.P3.r.O1', 'COH.B.theta.n.P3.s.O2', 'COH.B.theta.o.Pz.p.P4', 'COH.B.theta.o.Pz.q.T6', 'COH.B.theta.o.Pz.r.O1', 'COH.B.theta.o.Pz.s.O2', 'COH.B.theta.p.P4.q.T6', 'COH.B.theta.p.P4.r.O1', 'COH.B.theta.p.P4.s.O2', 'COH.B.theta.q.T6.r.O1', 'COH.B.theta.q.T6.s.O2', 'COH.B.theta.r.O1.s.O2', 'COH.C.alpha.a.FP1.b.FP2', 'COH.C.alpha.a.FP1.c.F7', 'COH.C.alpha.a.FP1.d.F3', 'COH.C.alpha.a.FP1.e.Fz', 'COH.C.alpha.a.FP1.f.F4', 'COH.C.alpha.a.FP1.g.F8', 'COH.C.alpha.a.FP1.h.T3', 'COH.C.alpha.a.FP1.i.C3', 'COH.C.alpha.a.FP1.j.Cz', 'COH.C.alpha.a.FP1.k.C4', 'COH.C.alpha.a.FP1.l.T4', 'COH.C.alpha.a.FP1.m.T5', 'COH.C.alpha.a.FP1.n.P3', 'COH.C.alpha.a.FP1.o.Pz', 'COH.C.alpha.a.FP1.p.P4', 'COH.C.alpha.a.FP1.q.T6', 'COH.C.alpha.a.FP1.r.O1', 'COH.C.alpha.a.FP1.s.O2', 'COH.C.alpha.b.FP2.c.F7', 'COH.C.alpha.b.FP2.d.F3', 'COH.C.alpha.b.FP2.f.F4', 'COH.C.alpha.b.FP2.g.F8', 'COH.C.alpha.b.FP2.m.T5', 'COH.C.alpha.b.FP2.s.O2', 'COH.C.alpha.c.F7.d.F3', 'COH.C.alpha.c.F7.h.T3', 'COH.C.alpha.c.F7.i.C3', 'COH.C.alpha.c.F7.j.Cz', 'COH.C.alpha.c.F7.m.T5', 'COH.C.alpha.c.F7.n.P3', 'COH.C.alpha.c.F7.q.T6', 'COH.C.alpha.c.F7.r.O1', 'COH.C.alpha.d.F3.e.Fz', 'COH.C.alpha.d.F3.f.F4', 'COH.C.alpha.d.F3.i.C3', 'COH.C.alpha.d.F3.j.Cz', 'COH.C.alpha.e.Fz.f.F4', 'COH.C.alpha.f.F4.m.T5', 'COH.C.alpha.f.F4.q.T6', 'COH.C.alpha.f.F4.r.O1', 'COH.C.alpha.f.F4.s.O2', 'COH.C.alpha.g.F8.k.C4', 'COH.C.alpha.g.F8.l.T4', 'COH.C.alpha.g.F8.m.T5', 'COH.C.alpha.g.F8.n.P3', 'COH.C.alpha.g.F8.q.T6', 'COH.C.alpha.g.F8.r.O1', 'COH.C.alpha.g.F8.s.O2', 'COH.C.alpha.h.T3.i.C3', 'COH.C.alpha.h.T3.l.T4', 'COH.C.alpha.h.T3.m.T5', 'COH.C.alpha.h.T3.n.P3', 'COH.C.alpha.h.T3.o.Pz', 'COH.C.alpha.h.T3.p.P4', 'COH.C.alpha.h.T3.q.T6', 'COH.C.alpha.h.T3.r.O1', 'COH.C.alpha.h.T3.s.O2', 'COH.C.alpha.i.C3.j.Cz', 'COH.C.alpha.i.C3.k.C4', 'COH.C.alpha.i.C3.m.T5', 'COH.C.alpha.i.C3.n.P3', 'COH.C.alpha.i.C3.o.Pz', 'COH.C.alpha.i.C3.q.T6', 'COH.C.alpha.i.C3.r.O1', 'COH.C.alpha.i.C3.s.O2', 'COH.C.alpha.j.Cz.k.C4', 'COH.C.alpha.j.Cz.m.T5', 'COH.C.alpha.j.Cz.n.P3', 'COH.C.alpha.j.Cz.o.Pz', 'COH.C.alpha.j.Cz.q.T6', 'COH.C.alpha.j.Cz.r.O1', 'COH.C.alpha.j.Cz.s.O2', 'COH.C.alpha.k.C4.l.T4', 'COH.C.alpha.k.C4.m.T5', 'COH.C.alpha.k.C4.n.P3', 'COH.C.alpha.k.C4.o.Pz', 'COH.C.alpha.k.C4.p.P4', 'COH.C.alpha.k.C4.q.T6', 'COH.C.alpha.k.C4.r.O1', 'COH.C.alpha.k.C4.s.O2', 'COH.C.alpha.l.T4.m.T5', 'COH.C.alpha.l.T4.n.P3', 'COH.C.alpha.l.T4.o.Pz', 'COH.C.alpha.l.T4.p.P4', 'COH.C.alpha.l.T4.q.T6', 'COH.C.alpha.l.T4.r.O1', 'COH.C.alpha.l.T4.s.O2', 'COH.C.alpha.m.T5.n.P3', 'COH.C.alpha.m.T5.o.Pz', 'COH.C.alpha.m.T5.p.P4', 'COH.C.alpha.m.T5.q.T6', 'COH.C.alpha.m.T5.r.O1', 'COH.C.alpha.m.T5.s.O2', 'COH.C.alpha.n.P3.o.Pz', 'COH.C.alpha.n.P3.p.P4', 'COH.C.alpha.n.P3.q.T6', 'COH.C.alpha.n.P3.r.O1', 'COH.C.alpha.n.P3.s.O2', 'COH.C.alpha.o.Pz.p.P4', 'COH.C.alpha.o.Pz.q.T6', 'COH.C.alpha.o.Pz.r.O1', 'COH.C.alpha.o.Pz.s.O2', 'COH.C.alpha.p.P4.q.T6', 'COH.C.alpha.p.P4.r.O1', 'COH.C.alpha.p.P4.s.O2', 'COH.C.alpha.q.T6.r.O1', 'COH.C.alpha.q.T6.s.O2', 'COH.C.alpha.r.O1.s.O2', 'COH.D.beta.a.FP1.b.FP2', 'COH.D.beta.a.FP1.c.F7', 'COH.D.beta.a.FP1.d.F3', 'COH.D.beta.a.FP1.e.Fz', 'COH.D.beta.a.FP1.f.F4', 'COH.D.beta.a.FP1.g.F8', 'COH.D.beta.a.FP1.h.T3', 'COH.D.beta.a.FP1.i.C3', 'COH.D.beta.a.FP1.j.Cz', 'COH.D.beta.a.FP1.k.C4', 'COH.D.beta.a.FP1.l.T4', 'COH.D.beta.a.FP1.m.T5', 'COH.D.beta.a.FP1.n.P3', 'COH.D.beta.a.FP1.o.Pz', 'COH.D.beta.a.FP1.p.P4', 'COH.D.beta.a.FP1.q.T6', 'COH.D.beta.a.FP1.r.O1', 'COH.D.beta.a.FP1.s.O2', 'COH.D.beta.b.FP2.c.F7', 'COH.D.beta.b.FP2.d.F3', 'COH.D.beta.b.FP2.e.Fz', 'COH.D.beta.b.FP2.f.F4', 'COH.D.beta.b.FP2.g.F8', 'COH.D.beta.b.FP2.h.T3', 'COH.D.beta.b.FP2.i.C3', 'COH.D.beta.b.FP2.j.Cz', 'COH.D.beta.b.FP2.k.C4', 'COH.D.beta.b.FP2.l.T4', 'COH.D.beta.b.FP2.m.T5', 'COH.D.beta.b.FP2.n.P3', 'COH.D.beta.b.FP2.o.Pz', 'COH.D.beta.b.FP2.p.P4', 'COH.D.beta.b.FP2.q.T6', 'COH.D.beta.b.FP2.r.O1', 'COH.D.beta.b.FP2.s.O2', 'COH.D.beta.c.F7.d.F3', 'COH.D.beta.c.F7.e.Fz', 'COH.D.beta.c.F7.f.F4', 'COH.D.beta.c.F7.g.F8', 'COH.D.beta.c.F7.h.T3', 'COH.D.beta.c.F7.i.C3', 'COH.D.beta.c.F7.j.Cz', 'COH.D.beta.c.F7.k.C4', 'COH.D.beta.c.F7.l.T4', 'COH.D.beta.c.F7.m.T5', 'COH.D.beta.c.F7.n.P3', 'COH.D.beta.c.F7.o.Pz', 'COH.D.beta.c.F7.q.T6', 'COH.D.beta.c.F7.r.O1', 'COH.D.beta.c.F7.s.O2', 'COH.D.beta.d.F3.e.Fz', 'COH.D.beta.d.F3.f.F4', 'COH.D.beta.d.F3.g.F8', 'COH.D.beta.d.F3.h.T3', 'COH.D.beta.d.F3.i.C3', 'COH.D.beta.d.F3.j.Cz', 'COH.D.beta.d.F3.k.C4', 'COH.D.beta.d.F3.n.P3', 'COH.D.beta.d.F3.o.Pz', 'COH.D.beta.e.Fz.f.F4', 'COH.D.beta.e.Fz.g.F8', 'COH.D.beta.e.Fz.h.T3', 'COH.D.beta.e.Fz.i.C3', 'COH.D.beta.e.Fz.j.Cz', 'COH.D.beta.e.Fz.k.C4', 'COH.D.beta.f.F4.g.F8', 'COH.D.beta.f.F4.h.T3', 'COH.D.beta.f.F4.i.C3', 'COH.D.beta.f.F4.j.Cz', 'COH.D.beta.f.F4.k.C4', 'COH.D.beta.f.F4.l.T4', 'COH.D.beta.f.F4.m.T5', 'COH.D.beta.f.F4.n.P3', 'COH.D.beta.f.F4.p.P4', 'COH.D.beta.f.F4.q.T6', 'COH.D.beta.f.F4.r.O1', 'COH.D.beta.f.F4.s.O2', 'COH.D.beta.g.F8.h.T3', 'COH.D.beta.g.F8.i.C3', 'COH.D.beta.g.F8.j.Cz', 'COH.D.beta.g.F8.k.C4', 'COH.D.beta.g.F8.l.T4', 'COH.D.beta.g.F8.n.P3', 'COH.D.beta.g.F8.o.Pz', 'COH.D.beta.g.F8.p.P4', 'COH.D.beta.g.F8.q.T6', 'COH.D.beta.h.T3.i.C3', 'COH.D.beta.h.T3.j.Cz', 'COH.D.beta.h.T3.k.C4', 'COH.D.beta.h.T3.l.T4', 'COH.D.beta.h.T3.m.T5', 'COH.D.beta.h.T3.n.P3', 'COH.D.beta.h.T3.o.Pz', 'COH.D.beta.h.T3.p.P4', 'COH.D.beta.h.T3.q.T6', 'COH.D.beta.h.T3.r.O1', 'COH.D.beta.h.T3.s.O2', 'COH.D.beta.i.C3.j.Cz', 'COH.D.beta.i.C3.k.C4', 'COH.D.beta.i.C3.l.T4', 'COH.D.beta.i.C3.m.T5', 'COH.D.beta.i.C3.n.P3', 'COH.D.beta.i.C3.o.Pz', 'COH.D.beta.i.C3.p.P4', 'COH.D.beta.i.C3.r.O1', 'COH.D.beta.i.C3.s.O2', 'COH.D.beta.j.Cz.k.C4', 'COH.D.beta.j.Cz.l.T4', 'COH.D.beta.j.Cz.m.T5', 'COH.D.beta.j.Cz.n.P3', 'COH.D.beta.j.Cz.o.Pz', 'COH.D.beta.j.Cz.p.P4', 'COH.D.beta.j.Cz.q.T6', 'COH.D.beta.j.Cz.r.O1', 'COH.D.beta.j.Cz.s.O2', 'COH.D.beta.k.C4.l.T4', 'COH.D.beta.k.C4.m.T5', 'COH.D.beta.k.C4.n.P3', 'COH.D.beta.k.C4.o.Pz', 'COH.D.beta.k.C4.p.P4', 'COH.D.beta.k.C4.q.T6', 'COH.D.beta.k.C4.r.O1', 'COH.D.beta.k.C4.s.O2', 'COH.D.beta.l.T4.m.T5', 'COH.D.beta.l.T4.n.P3', 'COH.D.beta.l.T4.o.Pz', 'COH.D.beta.l.T4.p.P4', 'COH.D.beta.l.T4.q.T6', 'COH.D.beta.l.T4.r.O1', 'COH.D.beta.l.T4.s.O2', 'COH.D.beta.m.T5.n.P3', 'COH.D.beta.m.T5.o.Pz', 'COH.D.beta.m.T5.p.P4', 'COH.D.beta.m.T5.q.T6', 'COH.D.beta.m.T5.r.O1', 'COH.D.beta.m.T5.s.O2', 'COH.D.beta.n.P3.o.Pz', 'COH.D.beta.n.P3.p.P4', 'COH.D.beta.n.P3.q.T6', 'COH.D.beta.n.P3.r.O1', 'COH.D.beta.n.P3.s.O2', 'COH.D.beta.o.Pz.p.P4', 'COH.D.beta.o.Pz.q.T6', 'COH.D.beta.o.Pz.r.O1', 'COH.D.beta.o.Pz.s.O2', 'COH.D.beta.p.P4.q.T6', 'COH.D.beta.p.P4.r.O1', 'COH.D.beta.p.P4.s.O2', 'COH.D.beta.q.T6.r.O1', 'COH.D.beta.q.T6.s.O2', 'COH.D.beta.r.O1.s.O2', 'COH.E.highbeta.a.FP1.b.FP2', 'COH.E.highbeta.a.FP1.c.F7', 'COH.E.highbeta.a.FP1.d.F3', 'COH.E.highbeta.a.FP1.e.Fz', 'COH.E.highbeta.a.FP1.f.F4', 'COH.E.highbeta.a.FP1.g.F8', 'COH.E.highbeta.a.FP1.h.T3', 'COH.E.highbeta.a.FP1.i.C3', 'COH.E.highbeta.a.FP1.j.Cz', 'COH.E.highbeta.a.FP1.k.C4', 'COH.E.highbeta.a.FP1.l.T4', 'COH.E.highbeta.a.FP1.m.T5', 'COH.E.highbeta.a.FP1.n.P3', 'COH.E.highbeta.a.FP1.o.Pz', 'COH.E.highbeta.a.FP1.p.P4', 'COH.E.highbeta.a.FP1.q.T6', 'COH.E.highbeta.a.FP1.r.O1', 'COH.E.highbeta.a.FP1.s.O2', 'COH.E.highbeta.b.FP2.c.F7', 'COH.E.highbeta.b.FP2.d.F3', 'COH.E.highbeta.b.FP2.e.Fz', 'COH.E.highbeta.b.FP2.f.F4', 'COH.E.highbeta.b.FP2.g.F8', 'COH.E.highbeta.b.FP2.h.T3', 'COH.E.highbeta.b.FP2.i.C3', 'COH.E.highbeta.b.FP2.j.Cz', 'COH.E.highbeta.b.FP2.k.C4', 'COH.E.highbeta.b.FP2.l.T4', 'COH.E.highbeta.b.FP2.m.T5', 'COH.E.highbeta.b.FP2.n.P3', 'COH.E.highbeta.b.FP2.q.T6', 'COH.E.highbeta.b.FP2.r.O1', 'COH.E.highbeta.c.F7.d.F3', 'COH.E.highbeta.c.F7.e.Fz', 'COH.E.highbeta.c.F7.f.F4', 'COH.E.highbeta.c.F7.g.F8', 'COH.E.highbeta.c.F7.h.T3', 'COH.E.highbeta.c.F7.i.C3', 'COH.E.highbeta.c.F7.j.Cz', 'COH.E.highbeta.c.F7.k.C4', 'COH.E.highbeta.c.F7.l.T4', 'COH.E.highbeta.c.F7.m.T5', 'COH.E.highbeta.c.F7.n.P3', 'COH.E.highbeta.c.F7.r.O1', 'COH.E.highbeta.d.F3.e.Fz', 'COH.E.highbeta.d.F3.f.F4', 'COH.E.highbeta.d.F3.g.F8', 'COH.E.highbeta.d.F3.h.T3', 'COH.E.highbeta.d.F3.i.C3', 'COH.E.highbeta.d.F3.j.Cz', 'COH.E.highbeta.d.F3.k.C4', 'COH.E.highbeta.d.F3.n.P3', 'COH.E.highbeta.e.Fz.f.F4', 'COH.E.highbeta.e.Fz.g.F8', 'COH.E.highbeta.e.Fz.h.T3', 'COH.E.highbeta.e.Fz.i.C3', 'COH.E.highbeta.e.Fz.j.Cz', 'COH.E.highbeta.e.Fz.k.C4', 'COH.E.highbeta.e.Fz.l.T4', 'COH.E.highbeta.e.Fz.m.T5', 'COH.E.highbeta.e.Fz.r.O1', 'COH.E.highbeta.f.F4.g.F8', 'COH.E.highbeta.f.F4.h.T3', 'COH.E.highbeta.f.F4.i.C3', 'COH.E.highbeta.f.F4.j.Cz', 'COH.E.highbeta.f.F4.k.C4', 'COH.E.highbeta.f.F4.m.T5', 'COH.E.highbeta.f.F4.n.P3', 'COH.E.highbeta.f.F4.q.T6', 'COH.E.highbeta.f.F4.s.O2', 'COH.E.highbeta.g.F8.h.T3', 'COH.E.highbeta.g.F8.i.C3', 'COH.E.highbeta.g.F8.j.Cz', 'COH.E.highbeta.g.F8.k.C4', 'COH.E.highbeta.g.F8.l.T4', 'COH.E.highbeta.g.F8.m.T5', 'COH.E.highbeta.g.F8.n.P3', 'COH.E.highbeta.g.F8.o.Pz', 'COH.E.highbeta.g.F8.q.T6', 'COH.E.highbeta.g.F8.r.O1', 'COH.E.highbeta.g.F8.s.O2', 'COH.E.highbeta.h.T3.i.C3', 'COH.E.highbeta.h.T3.j.Cz', 'COH.E.highbeta.h.T3.l.T4', 'COH.E.highbeta.h.T3.m.T5', 'COH.E.highbeta.h.T3.n.P3', 'COH.E.highbeta.h.T3.o.Pz', 'COH.E.highbeta.h.T3.p.P4', 'COH.E.highbeta.h.T3.q.T6', 'COH.E.highbeta.h.T3.r.O1', 'COH.E.highbeta.h.T3.s.O2', 'COH.E.highbeta.i.C3.j.Cz', 'COH.E.highbeta.i.C3.k.C4', 'COH.E.highbeta.i.C3.l.T4', 'COH.E.highbeta.i.C3.m.T5', 'COH.E.highbeta.i.C3.n.P3', 'COH.E.highbeta.i.C3.o.Pz', 'COH.E.highbeta.i.C3.p.P4', 'COH.E.highbeta.i.C3.r.O1', 'COH.E.highbeta.j.Cz.k.C4', 'COH.E.highbeta.j.Cz.m.T5', 'COH.E.highbeta.j.Cz.n.P3', 'COH.E.highbeta.j.Cz.o.Pz', 'COH.E.highbeta.j.Cz.p.P4', 'COH.E.highbeta.j.Cz.q.T6', 'COH.E.highbeta.j.Cz.r.O1', 'COH.E.highbeta.j.Cz.s.O2', 'COH.E.highbeta.k.C4.l.T4', 'COH.E.highbeta.k.C4.m.T5', 'COH.E.highbeta.k.C4.n.P3', 'COH.E.highbeta.k.C4.o.Pz', 'COH.E.highbeta.k.C4.p.P4', 'COH.E.highbeta.k.C4.q.T6', 'COH.E.highbeta.k.C4.r.O1', 'COH.E.highbeta.k.C4.s.O2', 'COH.E.highbeta.l.T4.m.T5', 'COH.E.highbeta.l.T4.n.P3', 'COH.E.highbeta.l.T4.p.P4', 'COH.E.highbeta.l.T4.q.T6', 'COH.E.highbeta.l.T4.r.O1', 'COH.E.highbeta.l.T4.s.O2', 'COH.E.highbeta.m.T5.n.P3', 'COH.E.highbeta.m.T5.o.Pz', 'COH.E.highbeta.m.T5.p.P4', 'COH.E.highbeta.m.T5.q.T6', 'COH.E.highbeta.m.T5.r.O1', 'COH.E.highbeta.m.T5.s.O2', 'COH.E.highbeta.n.P3.o.Pz', 'COH.E.highbeta.n.P3.p.P4', 'COH.E.highbeta.n.P3.q.T6', 'COH.E.highbeta.n.P3.r.O1', 'COH.E.highbeta.n.P3.s.O2', 'COH.E.highbeta.o.Pz.p.P4', 'COH.E.highbeta.o.Pz.q.T6', 'COH.E.highbeta.o.Pz.r.O1', 'COH.E.highbeta.o.Pz.s.O2', 'COH.E.highbeta.p.P4.q.T6', 'COH.E.highbeta.p.P4.r.O1', 'COH.E.highbeta.p.P4.s.O2', 'COH.E.highbeta.q.T6.r.O1', 'COH.E.highbeta.q.T6.s.O2', 'COH.E.highbeta.r.O1.s.O2', 'COH.F.gamma.a.FP1.g.F8', 'COH.F.gamma.a.FP1.h.T3', 'COH.F.gamma.a.FP1.i.C3', 'COH.F.gamma.a.FP1.l.T4', 'COH.F.gamma.a.FP1.m.T5', 'COH.F.gamma.a.FP1.n.P3', 'COH.F.gamma.a.FP1.r.O1', 'COH.F.gamma.a.FP1.s.O2', 'COH.F.gamma.b.FP2.c.F7', 'COH.F.gamma.b.FP2.h.T3', 'COH.F.gamma.b.FP2.i.C3', 'COH.F.gamma.b.FP2.m.T5', 'COH.F.gamma.c.F7.e.Fz', 'COH.F.gamma.c.F7.l.T4', 'COH.F.gamma.d.F3.g.F8', 'COH.F.gamma.g.F8.h.T3', 'COH.F.gamma.g.F8.m.T5', 'COH.F.gamma.g.F8.n.P3', 'COH.F.gamma.g.F8.r.O1', 'COH.F.gamma.g.F8.s.O2', 'COH.F.gamma.h.T3.l.T4', 'COH.F.gamma.h.T3.r.O1', 'COH.F.gamma.h.T3.s.O2', 'COH.F.gamma.i.C3.m.T5', 'COH.F.gamma.i.C3.r.O1', 'COH.F.gamma.l.T4.m.T5', 'COH.F.gamma.l.T4.r.O1'])\n",
    "                    \n",
    "df_n.head()                "
   ]
  },
  {
   "cell_type": "markdown",
   "id": "671c19bb",
   "metadata": {},
   "source": [
    "### Normalisation"
   ]
  },
  {
   "cell_type": "code",
   "execution_count": null,
   "id": "56bb75cb",
   "metadata": {},
   "outputs": [],
   "source": [
    "df8.shape"
   ]
  },
  {
   "cell_type": "code",
   "execution_count": null,
   "id": "c3998c1b",
   "metadata": {},
   "outputs": [],
   "source": [
    "# Creating a variable X that contains all the features\n",
    "X = df8.iloc[:, df8.columns != 'disorder'].values\n",
    "\n",
    "# Creating a variable y that contains the target\n",
    "y = df8.disorder.values\n",
    "\n",
    "# Using MinMaxScaler in order to Normalise and Standarise the values of the X\n",
    "scaler = MinMaxScaler(feature_range=(0, 1))\n",
    "X = scaler.fit_transform(X)"
   ]
  },
  {
   "cell_type": "markdown",
   "id": "242c8704",
   "metadata": {},
   "source": [
    "### PCA"
   ]
  },
  {
   "cell_type": "code",
   "execution_count": null,
   "id": "ed0f5803",
   "metadata": {},
   "outputs": [],
   "source": [
    "from sklearn.decomposition import PCA                        # Importing the required libraries for Principal component analysis\n",
    "from sklearn.decomposition import PCA as RandomizedPCA\n",
    "import seaborn as sns"
   ]
  },
  {
   "cell_type": "code",
   "execution_count": null,
   "id": "204ec7a8",
   "metadata": {},
   "outputs": [],
   "source": [
    "##Applying PCA to find PCA's components \n",
    "pca_n = PCA().fit(df_n)\n",
    "components = pca_n.transform(df_n)"
   ]
  },
  {
   "cell_type": "code",
   "execution_count": null,
   "id": "3f439621",
   "metadata": {},
   "outputs": [],
   "source": [
    "##Calculating the component variance \n",
    "pca_n.explained_variance_ratio_"
   ]
  },
  {
   "cell_type": "code",
   "execution_count": null,
   "id": "b6fda962",
   "metadata": {},
   "outputs": [],
   "source": [
    "## Caluclation of cumulative proportion of variance\n",
    "np.cumsum(pca_n.explained_variance_ratio_)"
   ]
  },
  {
   "cell_type": "code",
   "execution_count": null,
   "id": "936dcdb3",
   "metadata": {},
   "outputs": [],
   "source": [
    "##Loadings of each PCA components \n",
    "loadings = pd.DataFrame(pca_n.components_.T,\n",
    "columns=['PC%s' % _ for _ in range(len(df_n.columns))],\n",
    "index=df_n.columns)\n",
    "print(loadings)"
   ]
  },
  {
   "cell_type": "code",
   "execution_count": null,
   "id": "d4cc085d",
   "metadata": {},
   "outputs": [],
   "source": [
    "##Plotting Cumalative values of PCs and adding a 85% threshold line.\n",
    "plt.plot(np.cumsum(pca_n.explained_variance_ratio_), marker='o', linestyle='--', color='r',)\n",
    "plt.xlabel('number of components')\n",
    "plt.ylabel('cumulative explained variance')\n",
    "\n",
    "plt.xlim(0,529)\n",
    "plt.hlines(y=0.85, xmin=0, xmax=68)\n",
    "plt.vlines(x=68, ymin=0, ymax=0.85)"
   ]
  },
  {
   "cell_type": "code",
   "execution_count": null,
   "id": "ea502060",
   "metadata": {},
   "outputs": [],
   "source": [
    "# Displaying the variances carried by different PCs\n",
    "import matplotlib.pyplot as plt\n",
    "pd.DataFrame(pca_n.explained_variance_ratio_).plot.bar(width=4)\n",
    "plt.legend('')\n",
    "plt.xlabel('Principal Components')\n",
    "plt.ylabel('Explained Varience');\n",
    "plt.rcParams[\"figure.figsize\"] = (10,5)"
   ]
  },
  {
   "cell_type": "code",
   "execution_count": null,
   "id": "394a59a4",
   "metadata": {},
   "outputs": [],
   "source": [
    "##Heatmap of PCs (Principal components)\n",
    "\n",
    "ax = sns.heatmap(loadings, cmap=\"PiYG\")\n",
    "plt.title('Heatmap of PCs')\n",
    "plt.show()\n"
   ]
  },
  {
   "cell_type": "code",
   "execution_count": null,
   "id": "9a443228",
   "metadata": {},
   "outputs": [],
   "source": [
    "##Screeplot of PCs\n",
    "PC_values = np.arange(pca_n.n_components_) + 1\n",
    "plt.plot(PC_values, pca_n.explained_variance_ratio_, 'o-', linewidth=2, color='blue')\n",
    "plt.title('Scree Plot')\n",
    "plt.xlabel('Principal Component')\n",
    "plt.ylabel('Variance Explained')\n",
    "plt.show()"
   ]
  },
  {
   "cell_type": "markdown",
   "id": "0b3c3999",
   "metadata": {},
   "source": [
    "### K-means clustering"
   ]
  },
  {
   "cell_type": "code",
   "execution_count": null,
   "id": "00dcb7ea",
   "metadata": {},
   "outputs": [],
   "source": [
    "from sklearn.cluster import KMeans            # Importing the required libraries for k-means clustering\n",
    "from sklearn.metrics import silhouette_score\n",
    "import seaborn as sb    # for seeing visually how the data distribution"
   ]
  },
  {
   "cell_type": "code",
   "execution_count": null,
   "id": "1f8f7653",
   "metadata": {},
   "outputs": [],
   "source": [
    "#Using For Loop to get the Silhoette Score at different values of n_clusters\n",
    "n = [2,3,4,5,6]\n",
    "silhouette_sco = []\n",
    "max_score = 0\n",
    "max_n = 0\n",
    "for i in n:\n",
    "    kmeans = KMeans(n_clusters = i, random_state = 45)\n",
    "    kmeans.fit(df_n)\n",
    "    y_kmeans = kmeans.predict(df_n)\n",
    "    val = silhouette_score(df_n, y_kmeans)\n",
    "    silhouette_sco.append(val)  "
   ]
  },
  {
   "cell_type": "code",
   "execution_count": null,
   "id": "7fa96f6a",
   "metadata": {
    "scrolled": false
   },
   "outputs": [],
   "source": [
    "#Plotting the n_clusters value against Silhoette Score\n",
    "fig=plt.figure()\n",
    "ax = fig.add_axes([0,0,1,1])\n",
    "ax.bar(n,silhouette_sco)\n",
    "plt.title('Comparison of Number of Clusters on the basis of Silhoette Score')\n",
    "plt.xlabel('Number of Clusters')\n",
    "plt.ylabel('Silhoette Score')\n",
    "plt.show()"
   ]
  },
  {
   "cell_type": "code",
   "execution_count": null,
   "id": "3fd21634",
   "metadata": {
    "scrolled": true
   },
   "outputs": [],
   "source": [
    "#Using KMeans for Number of Clusters value =2\n",
    "\n",
    "arr=['AB.A.delta.a.FP1', 'AB.A.delta.b.FP2', 'AB.A.delta.c.F7', 'AB.A.delta.d.F3', 'AB.A.delta.e.Fz', 'AB.A.delta.f.F4', 'AB.A.delta.g.F8', 'AB.A.delta.h.T3', 'AB.A.delta.i.C3', 'AB.A.delta.j.Cz', 'AB.A.delta.k.C4', 'AB.A.delta.l.T4', 'AB.A.delta.m.T5', 'AB.A.delta.n.P3', 'AB.A.delta.o.Pz', 'AB.A.delta.p.P4', 'AB.A.delta.q.T6', 'AB.A.delta.r.O1', 'AB.A.delta.s.O2', 'AB.B.theta.a.FP1', 'AB.B.theta.c.F7', 'AB.B.theta.d.F3', 'AB.B.theta.e.Fz', 'AB.B.theta.g.F8', 'AB.B.theta.h.T3', 'AB.B.theta.i.C3', 'AB.B.theta.j.Cz', 'AB.B.theta.k.C4', 'AB.B.theta.l.T4', 'AB.B.theta.m.T5', 'AB.B.theta.n.P3', 'AB.B.theta.q.T6', 'AB.B.theta.r.O1', 'AB.B.theta.s.O2', 'AB.C.alpha.a.FP1', 'AB.C.alpha.c.F7', 'AB.C.alpha.g.F8', 'AB.C.alpha.h.T3', 'AB.C.alpha.i.C3', 'AB.C.alpha.j.Cz', 'AB.C.alpha.k.C4', 'AB.C.alpha.l.T4', 'AB.C.alpha.m.T5', 'AB.C.alpha.n.P3', 'AB.C.alpha.o.Pz', 'AB.C.alpha.p.P4', 'AB.C.alpha.q.T6', 'AB.C.alpha.r.O1', 'AB.C.alpha.s.O2', 'AB.D.beta.a.FP1', 'AB.D.beta.c.F7', 'AB.D.beta.g.F8', 'AB.D.beta.h.T3', 'AB.D.beta.i.C3', 'AB.D.beta.j.Cz', 'AB.D.beta.l.T4', 'AB.D.beta.m.T5', 'AB.D.beta.n.P3', 'AB.D.beta.o.Pz', 'AB.D.beta.q.T6', 'AB.D.beta.r.O1', 'AB.D.beta.s.O2', 'AB.E.highbeta.a.FP1', 'AB.E.highbeta.b.FP2', 'AB.E.highbeta.c.F7', 'AB.E.highbeta.d.F3', 'AB.E.highbeta.g.F8', 'AB.E.highbeta.h.T3', 'AB.E.highbeta.i.C3', 'AB.E.highbeta.j.Cz', 'AB.E.highbeta.k.C4', 'AB.E.highbeta.l.T4', 'AB.E.highbeta.m.T5', 'AB.E.highbeta.n.P3', 'AB.E.highbeta.o.Pz', 'AB.E.highbeta.p.P4', 'AB.E.highbeta.q.T6', 'AB.E.highbeta.r.O1', 'AB.E.highbeta.s.O2', 'AB.F.gamma.a.FP1', 'AB.F.gamma.b.FP2', 'AB.F.gamma.c.F7', 'AB.F.gamma.d.F3', 'AB.F.gamma.e.Fz', 'AB.F.gamma.f.F4', 'AB.F.gamma.g.F8', 'AB.F.gamma.h.T3', 'AB.F.gamma.i.C3', 'AB.F.gamma.j.Cz', 'AB.F.gamma.k.C4', 'AB.F.gamma.l.T4', 'AB.F.gamma.m.T5', 'AB.F.gamma.n.P3', 'AB.F.gamma.o.Pz', 'AB.F.gamma.p.P4', 'AB.F.gamma.q.T6', 'AB.F.gamma.r.O1', 'AB.F.gamma.s.O2', 'COH.A.delta.a.FP1.b.FP2', 'COH.A.delta.a.FP1.c.F7', 'COH.A.delta.a.FP1.d.F3', 'COH.A.delta.a.FP1.e.Fz', 'COH.A.delta.a.FP1.f.F4', 'COH.A.delta.a.FP1.g.F8', 'COH.A.delta.a.FP1.h.T3', 'COH.A.delta.a.FP1.i.C3', 'COH.A.delta.a.FP1.j.Cz', 'COH.A.delta.a.FP1.k.C4', 'COH.A.delta.a.FP1.l.T4', 'COH.A.delta.a.FP1.m.T5', 'COH.A.delta.a.FP1.n.P3', 'COH.A.delta.a.FP1.o.Pz', 'COH.A.delta.a.FP1.p.P4', 'COH.A.delta.a.FP1.q.T6', 'COH.A.delta.a.FP1.r.O1', 'COH.A.delta.a.FP1.s.O2', 'COH.A.delta.b.FP2.c.F7', 'COH.A.delta.b.FP2.d.F3', 'COH.A.delta.b.FP2.e.Fz', 'COH.A.delta.b.FP2.f.F4', 'COH.A.delta.b.FP2.g.F8', 'COH.A.delta.b.FP2.h.T3', 'COH.A.delta.b.FP2.i.C3', 'COH.A.delta.b.FP2.j.Cz', 'COH.A.delta.b.FP2.k.C4', 'COH.A.delta.b.FP2.l.T4', 'COH.A.delta.b.FP2.m.T5', 'COH.A.delta.b.FP2.n.P3', 'COH.A.delta.b.FP2.o.Pz', 'COH.A.delta.b.FP2.p.P4', 'COH.A.delta.b.FP2.q.T6', 'COH.A.delta.b.FP2.r.O1', 'COH.A.delta.b.FP2.s.O2', 'COH.A.delta.c.F7.d.F3', 'COH.A.delta.c.F7.e.Fz', 'COH.A.delta.c.F7.f.F4', 'COH.A.delta.c.F7.g.F8', 'COH.A.delta.c.F7.h.T3', 'COH.A.delta.c.F7.i.C3', 'COH.A.delta.c.F7.j.Cz', 'COH.A.delta.c.F7.k.C4', 'COH.A.delta.c.F7.l.T4', 'COH.A.delta.c.F7.m.T5', 'COH.A.delta.c.F7.n.P3', 'COH.A.delta.c.F7.o.Pz', 'COH.A.delta.c.F7.p.P4', 'COH.A.delta.c.F7.q.T6', 'COH.A.delta.c.F7.r.O1', 'COH.A.delta.c.F7.s.O2', 'COH.A.delta.d.F3.e.Fz', 'COH.A.delta.d.F3.f.F4', 'COH.A.delta.d.F3.g.F8', 'COH.A.delta.d.F3.h.T3', 'COH.A.delta.d.F3.i.C3', 'COH.A.delta.d.F3.j.Cz', 'COH.A.delta.d.F3.k.C4', 'COH.A.delta.d.F3.l.T4', 'COH.A.delta.d.F3.m.T5', 'COH.A.delta.d.F3.n.P3', 'COH.A.delta.d.F3.o.Pz', 'COH.A.delta.d.F3.p.P4', 'COH.A.delta.d.F3.q.T6', 'COH.A.delta.d.F3.r.O1', 'COH.A.delta.d.F3.s.O2', 'COH.A.delta.e.Fz.f.F4', 'COH.A.delta.e.Fz.g.F8', 'COH.A.delta.e.Fz.h.T3', 'COH.A.delta.e.Fz.i.C3', 'COH.A.delta.e.Fz.j.Cz', 'COH.A.delta.e.Fz.k.C4', 'COH.A.delta.e.Fz.l.T4', 'COH.A.delta.e.Fz.m.T5', 'COH.A.delta.e.Fz.n.P3', 'COH.A.delta.e.Fz.o.Pz', 'COH.A.delta.e.Fz.p.P4', 'COH.A.delta.e.Fz.q.T6', 'COH.A.delta.e.Fz.r.O1', 'COH.A.delta.e.Fz.s.O2', 'COH.A.delta.f.F4.g.F8', 'COH.A.delta.f.F4.h.T3', 'COH.A.delta.f.F4.i.C3', 'COH.A.delta.f.F4.j.Cz', 'COH.A.delta.f.F4.k.C4', 'COH.A.delta.f.F4.l.T4', 'COH.A.delta.f.F4.m.T5', 'COH.A.delta.f.F4.n.P3', 'COH.A.delta.f.F4.o.Pz', 'COH.A.delta.f.F4.q.T6', 'COH.A.delta.f.F4.r.O1', 'COH.A.delta.f.F4.s.O2', 'COH.A.delta.g.F8.h.T3', 'COH.A.delta.g.F8.i.C3', 'COH.A.delta.g.F8.j.Cz', 'COH.A.delta.g.F8.k.C4', 'COH.A.delta.g.F8.l.T4', 'COH.A.delta.g.F8.m.T5', 'COH.A.delta.g.F8.n.P3', 'COH.A.delta.g.F8.o.Pz', 'COH.A.delta.g.F8.p.P4', 'COH.A.delta.g.F8.q.T6', 'COH.A.delta.g.F8.r.O1', 'COH.A.delta.g.F8.s.O2', 'COH.A.delta.h.T3.i.C3', 'COH.A.delta.h.T3.j.Cz', 'COH.A.delta.h.T3.k.C4', 'COH.A.delta.h.T3.l.T4', 'COH.A.delta.h.T3.m.T5', 'COH.A.delta.h.T3.n.P3', 'COH.A.delta.h.T3.o.Pz', 'COH.A.delta.h.T3.p.P4', 'COH.A.delta.h.T3.q.T6', 'COH.A.delta.h.T3.r.O1', 'COH.A.delta.h.T3.s.O2', 'COH.A.delta.i.C3.j.Cz', 'COH.A.delta.i.C3.k.C4', 'COH.A.delta.i.C3.l.T4', 'COH.A.delta.i.C3.m.T5', 'COH.A.delta.i.C3.n.P3', 'COH.A.delta.i.C3.o.Pz', 'COH.A.delta.i.C3.p.P4', 'COH.A.delta.i.C3.q.T6', 'COH.A.delta.i.C3.r.O1', 'COH.A.delta.i.C3.s.O2', 'COH.A.delta.j.Cz.k.C4', 'COH.A.delta.j.Cz.l.T4', 'COH.A.delta.j.Cz.m.T5', 'COH.A.delta.j.Cz.n.P3', 'COH.A.delta.j.Cz.o.Pz', 'COH.A.delta.j.Cz.p.P4', 'COH.A.delta.j.Cz.q.T6', 'COH.A.delta.j.Cz.r.O1', 'COH.A.delta.j.Cz.s.O2', 'COH.A.delta.k.C4.l.T4', 'COH.A.delta.k.C4.m.T5', 'COH.A.delta.k.C4.n.P3', 'COH.A.delta.k.C4.o.Pz', 'COH.A.delta.k.C4.p.P4', 'COH.A.delta.k.C4.q.T6', 'COH.A.delta.k.C4.r.O1', 'COH.A.delta.k.C4.s.O2', 'COH.A.delta.l.T4.m.T5', 'COH.A.delta.l.T4.n.P3', 'COH.A.delta.l.T4.o.Pz', 'COH.A.delta.l.T4.p.P4', 'COH.A.delta.l.T4.q.T6', 'COH.A.delta.l.T4.r.O1', 'COH.A.delta.l.T4.s.O2', 'COH.A.delta.m.T5.n.P3', 'COH.A.delta.m.T5.o.Pz', 'COH.A.delta.m.T5.p.P4', 'COH.A.delta.m.T5.q.T6', 'COH.A.delta.m.T5.r.O1', 'COH.A.delta.m.T5.s.O2', 'COH.A.delta.n.P3.o.Pz', 'COH.A.delta.n.P3.p.P4', 'COH.A.delta.n.P3.q.T6', 'COH.A.delta.n.P3.r.O1', 'COH.A.delta.n.P3.s.O2', 'COH.A.delta.o.Pz.p.P4', 'COH.A.delta.o.Pz.q.T6', 'COH.A.delta.o.Pz.r.O1', 'COH.A.delta.o.Pz.s.O2', 'COH.A.delta.p.P4.q.T6', 'COH.A.delta.p.P4.r.O1', 'COH.A.delta.p.P4.s.O2', 'COH.A.delta.q.T6.r.O1', 'COH.A.delta.q.T6.s.O2', 'COH.A.delta.r.O1.s.O2', 'COH.B.theta.a.FP1.b.FP2', 'COH.B.theta.a.FP1.c.F7', 'COH.B.theta.a.FP1.d.F3', 'COH.B.theta.a.FP1.e.Fz', 'COH.B.theta.a.FP1.f.F4', 'COH.B.theta.a.FP1.g.F8', 'COH.B.theta.a.FP1.h.T3', 'COH.B.theta.a.FP1.i.C3', 'COH.B.theta.a.FP1.j.Cz', 'COH.B.theta.a.FP1.k.C4', 'COH.B.theta.a.FP1.l.T4', 'COH.B.theta.a.FP1.m.T5', 'COH.B.theta.a.FP1.n.P3', 'COH.B.theta.a.FP1.o.Pz', 'COH.B.theta.a.FP1.p.P4', 'COH.B.theta.a.FP1.q.T6', 'COH.B.theta.a.FP1.r.O1', 'COH.B.theta.a.FP1.s.O2', 'COH.B.theta.b.FP2.c.F7', 'COH.B.theta.b.FP2.d.F3', 'COH.B.theta.b.FP2.e.Fz', 'COH.B.theta.b.FP2.f.F4', 'COH.B.theta.b.FP2.g.F8', 'COH.B.theta.b.FP2.h.T3', 'COH.B.theta.b.FP2.i.C3', 'COH.B.theta.b.FP2.j.Cz', 'COH.B.theta.b.FP2.k.C4', 'COH.B.theta.b.FP2.l.T4', 'COH.B.theta.b.FP2.m.T5', 'COH.B.theta.b.FP2.n.P3', 'COH.B.theta.b.FP2.o.Pz', 'COH.B.theta.b.FP2.p.P4', 'COH.B.theta.b.FP2.q.T6', 'COH.B.theta.b.FP2.r.O1', 'COH.B.theta.b.FP2.s.O2', 'COH.B.theta.c.F7.d.F3', 'COH.B.theta.c.F7.e.Fz', 'COH.B.theta.c.F7.f.F4', 'COH.B.theta.c.F7.g.F8', 'COH.B.theta.c.F7.h.T3', 'COH.B.theta.c.F7.i.C3', 'COH.B.theta.c.F7.j.Cz', 'COH.B.theta.c.F7.k.C4', 'COH.B.theta.c.F7.l.T4', 'COH.B.theta.c.F7.m.T5', 'COH.B.theta.c.F7.n.P3', 'COH.B.theta.c.F7.o.Pz', 'COH.B.theta.c.F7.p.P4', 'COH.B.theta.c.F7.q.T6', 'COH.B.theta.c.F7.r.O1', 'COH.B.theta.c.F7.s.O2', 'COH.B.theta.d.F3.e.Fz', 'COH.B.theta.d.F3.f.F4', 'COH.B.theta.d.F3.g.F8', 'COH.B.theta.d.F3.h.T3', 'COH.B.theta.d.F3.i.C3', 'COH.B.theta.d.F3.j.Cz', 'COH.B.theta.d.F3.k.C4', 'COH.B.theta.d.F3.l.T4', 'COH.B.theta.d.F3.n.P3', 'COH.B.theta.d.F3.o.Pz', 'COH.B.theta.d.F3.p.P4', 'COH.B.theta.d.F3.q.T6', 'COH.B.theta.d.F3.r.O1', 'COH.B.theta.e.Fz.f.F4', 'COH.B.theta.e.Fz.g.F8', 'COH.B.theta.e.Fz.h.T3', 'COH.B.theta.e.Fz.i.C3', 'COH.B.theta.e.Fz.j.Cz', 'COH.B.theta.e.Fz.k.C4', 'COH.B.theta.e.Fz.l.T4', 'COH.B.theta.e.Fz.o.Pz', 'COH.B.theta.e.Fz.q.T6', 'COH.B.theta.e.Fz.r.O1', 'COH.B.theta.e.Fz.s.O2', 'COH.B.theta.f.F4.g.F8', 'COH.B.theta.f.F4.h.T3', 'COH.B.theta.f.F4.i.C3', 'COH.B.theta.f.F4.j.Cz', 'COH.B.theta.f.F4.k.C4', 'COH.B.theta.f.F4.l.T4', 'COH.B.theta.f.F4.m.T5', 'COH.B.theta.f.F4.n.P3', 'COH.B.theta.f.F4.o.Pz', 'COH.B.theta.f.F4.q.T6', 'COH.B.theta.f.F4.r.O1', 'COH.B.theta.f.F4.s.O2', 'COH.B.theta.g.F8.h.T3', 'COH.B.theta.g.F8.i.C3', 'COH.B.theta.g.F8.j.Cz', 'COH.B.theta.g.F8.k.C4', 'COH.B.theta.g.F8.l.T4', 'COH.B.theta.g.F8.m.T5', 'COH.B.theta.g.F8.n.P3', 'COH.B.theta.g.F8.o.Pz', 'COH.B.theta.g.F8.p.P4', 'COH.B.theta.g.F8.q.T6', 'COH.B.theta.g.F8.r.O1', 'COH.B.theta.g.F8.s.O2', 'COH.B.theta.h.T3.i.C3', 'COH.B.theta.h.T3.j.Cz', 'COH.B.theta.h.T3.k.C4', 'COH.B.theta.h.T3.l.T4', 'COH.B.theta.h.T3.m.T5', 'COH.B.theta.h.T3.n.P3', 'COH.B.theta.h.T3.o.Pz', 'COH.B.theta.h.T3.p.P4', 'COH.B.theta.h.T3.q.T6', 'COH.B.theta.h.T3.r.O1', 'COH.B.theta.h.T3.s.O2', 'COH.B.theta.i.C3.j.Cz', 'COH.B.theta.i.C3.k.C4', 'COH.B.theta.i.C3.l.T4', 'COH.B.theta.i.C3.m.T5', 'COH.B.theta.i.C3.n.P3', 'COH.B.theta.i.C3.o.Pz', 'COH.B.theta.i.C3.p.P4', 'COH.B.theta.i.C3.r.O1', 'COH.B.theta.j.Cz.k.C4', 'COH.B.theta.j.Cz.l.T4', 'COH.B.theta.j.Cz.m.T5', 'COH.B.theta.j.Cz.n.P3', 'COH.B.theta.j.Cz.o.Pz', 'COH.B.theta.j.Cz.p.P4', 'COH.B.theta.j.Cz.q.T6', 'COH.B.theta.j.Cz.r.O1', 'COH.B.theta.j.Cz.s.O2', 'COH.B.theta.k.C4.l.T4', 'COH.B.theta.k.C4.m.T5', 'COH.B.theta.k.C4.n.P3', 'COH.B.theta.k.C4.o.Pz', 'COH.B.theta.k.C4.p.P4', 'COH.B.theta.k.C4.q.T6', 'COH.B.theta.k.C4.r.O1', 'COH.B.theta.k.C4.s.O2', 'COH.B.theta.l.T4.m.T5', 'COH.B.theta.l.T4.n.P3', 'COH.B.theta.l.T4.o.Pz', 'COH.B.theta.l.T4.p.P4', 'COH.B.theta.l.T4.q.T6', 'COH.B.theta.l.T4.r.O1', 'COH.B.theta.l.T4.s.O2', 'COH.B.theta.m.T5.n.P3', 'COH.B.theta.m.T5.o.Pz', 'COH.B.theta.m.T5.p.P4', 'COH.B.theta.m.T5.q.T6', 'COH.B.theta.m.T5.r.O1', 'COH.B.theta.m.T5.s.O2', 'COH.B.theta.n.P3.o.Pz', 'COH.B.theta.n.P3.p.P4', 'COH.B.theta.n.P3.q.T6', 'COH.B.theta.n.P3.r.O1', 'COH.B.theta.n.P3.s.O2', 'COH.B.theta.o.Pz.p.P4', 'COH.B.theta.o.Pz.q.T6', 'COH.B.theta.o.Pz.r.O1', 'COH.B.theta.o.Pz.s.O2', 'COH.B.theta.p.P4.q.T6', 'COH.B.theta.p.P4.r.O1', 'COH.B.theta.p.P4.s.O2', 'COH.B.theta.q.T6.r.O1', 'COH.B.theta.q.T6.s.O2', 'COH.B.theta.r.O1.s.O2', 'COH.C.alpha.a.FP1.b.FP2', 'COH.C.alpha.a.FP1.c.F7', 'COH.C.alpha.a.FP1.d.F3', 'COH.C.alpha.a.FP1.e.Fz', 'COH.C.alpha.a.FP1.f.F4', 'COH.C.alpha.a.FP1.g.F8', 'COH.C.alpha.a.FP1.h.T3', 'COH.C.alpha.a.FP1.i.C3', 'COH.C.alpha.a.FP1.j.Cz', 'COH.C.alpha.a.FP1.k.C4', 'COH.C.alpha.a.FP1.l.T4', 'COH.C.alpha.a.FP1.m.T5', 'COH.C.alpha.a.FP1.n.P3', 'COH.C.alpha.a.FP1.o.Pz', 'COH.C.alpha.a.FP1.p.P4', 'COH.C.alpha.a.FP1.q.T6', 'COH.C.alpha.a.FP1.r.O1', 'COH.C.alpha.a.FP1.s.O2', 'COH.C.alpha.b.FP2.c.F7', 'COH.C.alpha.b.FP2.d.F3', 'COH.C.alpha.b.FP2.f.F4', 'COH.C.alpha.b.FP2.g.F8', 'COH.C.alpha.b.FP2.m.T5', 'COH.C.alpha.b.FP2.s.O2', 'COH.C.alpha.c.F7.d.F3', 'COH.C.alpha.c.F7.h.T3', 'COH.C.alpha.c.F7.i.C3', 'COH.C.alpha.c.F7.j.Cz', 'COH.C.alpha.c.F7.m.T5', 'COH.C.alpha.c.F7.n.P3', 'COH.C.alpha.c.F7.q.T6', 'COH.C.alpha.c.F7.r.O1', 'COH.C.alpha.d.F3.e.Fz', 'COH.C.alpha.d.F3.f.F4', 'COH.C.alpha.d.F3.i.C3', 'COH.C.alpha.d.F3.j.Cz', 'COH.C.alpha.e.Fz.f.F4', 'COH.C.alpha.f.F4.m.T5', 'COH.C.alpha.f.F4.q.T6', 'COH.C.alpha.f.F4.r.O1', 'COH.C.alpha.f.F4.s.O2', 'COH.C.alpha.g.F8.k.C4', 'COH.C.alpha.g.F8.l.T4', 'COH.C.alpha.g.F8.m.T5', 'COH.C.alpha.g.F8.n.P3', 'COH.C.alpha.g.F8.q.T6', 'COH.C.alpha.g.F8.r.O1', 'COH.C.alpha.g.F8.s.O2', 'COH.C.alpha.h.T3.i.C3', 'COH.C.alpha.h.T3.l.T4', 'COH.C.alpha.h.T3.m.T5', 'COH.C.alpha.h.T3.n.P3', 'COH.C.alpha.h.T3.o.Pz', 'COH.C.alpha.h.T3.p.P4', 'COH.C.alpha.h.T3.q.T6', 'COH.C.alpha.h.T3.r.O1', 'COH.C.alpha.h.T3.s.O2', 'COH.C.alpha.i.C3.j.Cz', 'COH.C.alpha.i.C3.k.C4', 'COH.C.alpha.i.C3.m.T5', 'COH.C.alpha.i.C3.n.P3', 'COH.C.alpha.i.C3.o.Pz', 'COH.C.alpha.i.C3.q.T6', 'COH.C.alpha.i.C3.r.O1', 'COH.C.alpha.i.C3.s.O2', 'COH.C.alpha.j.Cz.k.C4', 'COH.C.alpha.j.Cz.m.T5', 'COH.C.alpha.j.Cz.n.P3', 'COH.C.alpha.j.Cz.o.Pz', 'COH.C.alpha.j.Cz.q.T6', 'COH.C.alpha.j.Cz.r.O1', 'COH.C.alpha.j.Cz.s.O2', 'COH.C.alpha.k.C4.l.T4', 'COH.C.alpha.k.C4.m.T5', 'COH.C.alpha.k.C4.n.P3', 'COH.C.alpha.k.C4.o.Pz', 'COH.C.alpha.k.C4.p.P4', 'COH.C.alpha.k.C4.q.T6', 'COH.C.alpha.k.C4.r.O1', 'COH.C.alpha.k.C4.s.O2', 'COH.C.alpha.l.T4.m.T5', 'COH.C.alpha.l.T4.n.P3', 'COH.C.alpha.l.T4.o.Pz', 'COH.C.alpha.l.T4.p.P4', 'COH.C.alpha.l.T4.q.T6', 'COH.C.alpha.l.T4.r.O1', 'COH.C.alpha.l.T4.s.O2', 'COH.C.alpha.m.T5.n.P3', 'COH.C.alpha.m.T5.o.Pz', 'COH.C.alpha.m.T5.p.P4', 'COH.C.alpha.m.T5.q.T6', 'COH.C.alpha.m.T5.r.O1', 'COH.C.alpha.m.T5.s.O2', 'COH.C.alpha.n.P3.o.Pz', 'COH.C.alpha.n.P3.p.P4', 'COH.C.alpha.n.P3.q.T6', 'COH.C.alpha.n.P3.r.O1', 'COH.C.alpha.n.P3.s.O2', 'COH.C.alpha.o.Pz.p.P4', 'COH.C.alpha.o.Pz.q.T6', 'COH.C.alpha.o.Pz.r.O1', 'COH.C.alpha.o.Pz.s.O2', 'COH.C.alpha.p.P4.q.T6', 'COH.C.alpha.p.P4.r.O1', 'COH.C.alpha.p.P4.s.O2', 'COH.C.alpha.q.T6.r.O1', 'COH.C.alpha.q.T6.s.O2', 'COH.C.alpha.r.O1.s.O2', 'COH.D.beta.a.FP1.b.FP2', 'COH.D.beta.a.FP1.c.F7', 'COH.D.beta.a.FP1.d.F3', 'COH.D.beta.a.FP1.e.Fz', 'COH.D.beta.a.FP1.f.F4', 'COH.D.beta.a.FP1.g.F8', 'COH.D.beta.a.FP1.h.T3', 'COH.D.beta.a.FP1.i.C3', 'COH.D.beta.a.FP1.j.Cz', 'COH.D.beta.a.FP1.k.C4', 'COH.D.beta.a.FP1.l.T4', 'COH.D.beta.a.FP1.m.T5', 'COH.D.beta.a.FP1.n.P3', 'COH.D.beta.a.FP1.o.Pz', 'COH.D.beta.a.FP1.p.P4', 'COH.D.beta.a.FP1.q.T6', 'COH.D.beta.a.FP1.r.O1', 'COH.D.beta.a.FP1.s.O2', 'COH.D.beta.b.FP2.c.F7', 'COH.D.beta.b.FP2.d.F3', 'COH.D.beta.b.FP2.e.Fz', 'COH.D.beta.b.FP2.f.F4', 'COH.D.beta.b.FP2.g.F8', 'COH.D.beta.b.FP2.h.T3', 'COH.D.beta.b.FP2.i.C3', 'COH.D.beta.b.FP2.j.Cz', 'COH.D.beta.b.FP2.k.C4', 'COH.D.beta.b.FP2.l.T4', 'COH.D.beta.b.FP2.m.T5', 'COH.D.beta.b.FP2.n.P3', 'COH.D.beta.b.FP2.o.Pz', 'COH.D.beta.b.FP2.p.P4', 'COH.D.beta.b.FP2.q.T6', 'COH.D.beta.b.FP2.r.O1', 'COH.D.beta.b.FP2.s.O2', 'COH.D.beta.c.F7.d.F3', 'COH.D.beta.c.F7.e.Fz', 'COH.D.beta.c.F7.f.F4', 'COH.D.beta.c.F7.g.F8', 'COH.D.beta.c.F7.h.T3', 'COH.D.beta.c.F7.i.C3', 'COH.D.beta.c.F7.j.Cz', 'COH.D.beta.c.F7.k.C4', 'COH.D.beta.c.F7.l.T4', 'COH.D.beta.c.F7.m.T5', 'COH.D.beta.c.F7.n.P3', 'COH.D.beta.c.F7.o.Pz', 'COH.D.beta.c.F7.q.T6', 'COH.D.beta.c.F7.r.O1', 'COH.D.beta.c.F7.s.O2', 'COH.D.beta.d.F3.e.Fz', 'COH.D.beta.d.F3.f.F4', 'COH.D.beta.d.F3.g.F8', 'COH.D.beta.d.F3.h.T3', 'COH.D.beta.d.F3.i.C3', 'COH.D.beta.d.F3.j.Cz', 'COH.D.beta.d.F3.k.C4', 'COH.D.beta.d.F3.n.P3', 'COH.D.beta.d.F3.o.Pz', 'COH.D.beta.e.Fz.f.F4', 'COH.D.beta.e.Fz.g.F8', 'COH.D.beta.e.Fz.h.T3', 'COH.D.beta.e.Fz.i.C3', 'COH.D.beta.e.Fz.j.Cz', 'COH.D.beta.e.Fz.k.C4', 'COH.D.beta.f.F4.g.F8', 'COH.D.beta.f.F4.h.T3', 'COH.D.beta.f.F4.i.C3', 'COH.D.beta.f.F4.j.Cz', 'COH.D.beta.f.F4.k.C4', 'COH.D.beta.f.F4.l.T4', 'COH.D.beta.f.F4.m.T5', 'COH.D.beta.f.F4.n.P3', 'COH.D.beta.f.F4.p.P4', 'COH.D.beta.f.F4.q.T6', 'COH.D.beta.f.F4.r.O1', 'COH.D.beta.f.F4.s.O2', 'COH.D.beta.g.F8.h.T3', 'COH.D.beta.g.F8.i.C3', 'COH.D.beta.g.F8.j.Cz', 'COH.D.beta.g.F8.k.C4', 'COH.D.beta.g.F8.l.T4', 'COH.D.beta.g.F8.n.P3', 'COH.D.beta.g.F8.o.Pz', 'COH.D.beta.g.F8.p.P4', 'COH.D.beta.g.F8.q.T6', 'COH.D.beta.h.T3.i.C3', 'COH.D.beta.h.T3.j.Cz', 'COH.D.beta.h.T3.k.C4', 'COH.D.beta.h.T3.l.T4', 'COH.D.beta.h.T3.m.T5', 'COH.D.beta.h.T3.n.P3', 'COH.D.beta.h.T3.o.Pz', 'COH.D.beta.h.T3.p.P4', 'COH.D.beta.h.T3.q.T6', 'COH.D.beta.h.T3.r.O1', 'COH.D.beta.h.T3.s.O2', 'COH.D.beta.i.C3.j.Cz', 'COH.D.beta.i.C3.k.C4', 'COH.D.beta.i.C3.l.T4', 'COH.D.beta.i.C3.m.T5', 'COH.D.beta.i.C3.n.P3', 'COH.D.beta.i.C3.o.Pz', 'COH.D.beta.i.C3.p.P4', 'COH.D.beta.i.C3.r.O1', 'COH.D.beta.i.C3.s.O2', 'COH.D.beta.j.Cz.k.C4', 'COH.D.beta.j.Cz.l.T4', 'COH.D.beta.j.Cz.m.T5', 'COH.D.beta.j.Cz.n.P3', 'COH.D.beta.j.Cz.o.Pz', 'COH.D.beta.j.Cz.p.P4', 'COH.D.beta.j.Cz.q.T6', 'COH.D.beta.j.Cz.r.O1', 'COH.D.beta.j.Cz.s.O2', 'COH.D.beta.k.C4.l.T4', 'COH.D.beta.k.C4.m.T5', 'COH.D.beta.k.C4.n.P3', 'COH.D.beta.k.C4.o.Pz', 'COH.D.beta.k.C4.p.P4', 'COH.D.beta.k.C4.q.T6', 'COH.D.beta.k.C4.r.O1', 'COH.D.beta.k.C4.s.O2', 'COH.D.beta.l.T4.m.T5', 'COH.D.beta.l.T4.n.P3', 'COH.D.beta.l.T4.o.Pz', 'COH.D.beta.l.T4.p.P4', 'COH.D.beta.l.T4.q.T6', 'COH.D.beta.l.T4.r.O1', 'COH.D.beta.l.T4.s.O2', 'COH.D.beta.m.T5.n.P3', 'COH.D.beta.m.T5.o.Pz', 'COH.D.beta.m.T5.p.P4', 'COH.D.beta.m.T5.q.T6', 'COH.D.beta.m.T5.r.O1', 'COH.D.beta.m.T5.s.O2', 'COH.D.beta.n.P3.o.Pz', 'COH.D.beta.n.P3.p.P4', 'COH.D.beta.n.P3.q.T6', 'COH.D.beta.n.P3.r.O1', 'COH.D.beta.n.P3.s.O2', 'COH.D.beta.o.Pz.p.P4', 'COH.D.beta.o.Pz.q.T6', 'COH.D.beta.o.Pz.r.O1', 'COH.D.beta.o.Pz.s.O2', 'COH.D.beta.p.P4.q.T6', 'COH.D.beta.p.P4.r.O1', 'COH.D.beta.p.P4.s.O2', 'COH.D.beta.q.T6.r.O1', 'COH.D.beta.q.T6.s.O2', 'COH.D.beta.r.O1.s.O2', 'COH.E.highbeta.a.FP1.b.FP2', 'COH.E.highbeta.a.FP1.c.F7', 'COH.E.highbeta.a.FP1.d.F3', 'COH.E.highbeta.a.FP1.e.Fz', 'COH.E.highbeta.a.FP1.f.F4', 'COH.E.highbeta.a.FP1.g.F8', 'COH.E.highbeta.a.FP1.h.T3', 'COH.E.highbeta.a.FP1.i.C3', 'COH.E.highbeta.a.FP1.j.Cz', 'COH.E.highbeta.a.FP1.k.C4', 'COH.E.highbeta.a.FP1.l.T4', 'COH.E.highbeta.a.FP1.m.T5', 'COH.E.highbeta.a.FP1.n.P3', 'COH.E.highbeta.a.FP1.o.Pz', 'COH.E.highbeta.a.FP1.p.P4', 'COH.E.highbeta.a.FP1.q.T6', 'COH.E.highbeta.a.FP1.r.O1', 'COH.E.highbeta.a.FP1.s.O2', 'COH.E.highbeta.b.FP2.c.F7', 'COH.E.highbeta.b.FP2.d.F3', 'COH.E.highbeta.b.FP2.e.Fz', 'COH.E.highbeta.b.FP2.f.F4', 'COH.E.highbeta.b.FP2.g.F8', 'COH.E.highbeta.b.FP2.h.T3', 'COH.E.highbeta.b.FP2.i.C3', 'COH.E.highbeta.b.FP2.j.Cz', 'COH.E.highbeta.b.FP2.k.C4', 'COH.E.highbeta.b.FP2.l.T4', 'COH.E.highbeta.b.FP2.m.T5', 'COH.E.highbeta.b.FP2.n.P3', 'COH.E.highbeta.b.FP2.q.T6', 'COH.E.highbeta.b.FP2.r.O1', 'COH.E.highbeta.c.F7.d.F3', 'COH.E.highbeta.c.F7.e.Fz', 'COH.E.highbeta.c.F7.f.F4', 'COH.E.highbeta.c.F7.g.F8', 'COH.E.highbeta.c.F7.h.T3', 'COH.E.highbeta.c.F7.i.C3', 'COH.E.highbeta.c.F7.j.Cz', 'COH.E.highbeta.c.F7.k.C4', 'COH.E.highbeta.c.F7.l.T4', 'COH.E.highbeta.c.F7.m.T5', 'COH.E.highbeta.c.F7.n.P3', 'COH.E.highbeta.c.F7.r.O1', 'COH.E.highbeta.d.F3.e.Fz', 'COH.E.highbeta.d.F3.f.F4', 'COH.E.highbeta.d.F3.g.F8', 'COH.E.highbeta.d.F3.h.T3', 'COH.E.highbeta.d.F3.i.C3', 'COH.E.highbeta.d.F3.j.Cz', 'COH.E.highbeta.d.F3.k.C4', 'COH.E.highbeta.d.F3.n.P3', 'COH.E.highbeta.e.Fz.f.F4', 'COH.E.highbeta.e.Fz.g.F8', 'COH.E.highbeta.e.Fz.h.T3', 'COH.E.highbeta.e.Fz.i.C3', 'COH.E.highbeta.e.Fz.j.Cz', 'COH.E.highbeta.e.Fz.k.C4', 'COH.E.highbeta.e.Fz.l.T4', 'COH.E.highbeta.e.Fz.m.T5', 'COH.E.highbeta.e.Fz.r.O1', 'COH.E.highbeta.f.F4.g.F8', 'COH.E.highbeta.f.F4.h.T3', 'COH.E.highbeta.f.F4.i.C3', 'COH.E.highbeta.f.F4.j.Cz', 'COH.E.highbeta.f.F4.k.C4', 'COH.E.highbeta.f.F4.m.T5', 'COH.E.highbeta.f.F4.n.P3', 'COH.E.highbeta.f.F4.q.T6', 'COH.E.highbeta.f.F4.s.O2', 'COH.E.highbeta.g.F8.h.T3', 'COH.E.highbeta.g.F8.i.C3', 'COH.E.highbeta.g.F8.j.Cz', 'COH.E.highbeta.g.F8.k.C4', 'COH.E.highbeta.g.F8.l.T4', 'COH.E.highbeta.g.F8.m.T5', 'COH.E.highbeta.g.F8.n.P3', 'COH.E.highbeta.g.F8.o.Pz', 'COH.E.highbeta.g.F8.q.T6', 'COH.E.highbeta.g.F8.r.O1', 'COH.E.highbeta.g.F8.s.O2', 'COH.E.highbeta.h.T3.i.C3', 'COH.E.highbeta.h.T3.j.Cz', 'COH.E.highbeta.h.T3.l.T4', 'COH.E.highbeta.h.T3.m.T5', 'COH.E.highbeta.h.T3.n.P3', 'COH.E.highbeta.h.T3.o.Pz', 'COH.E.highbeta.h.T3.p.P4', 'COH.E.highbeta.h.T3.q.T6', 'COH.E.highbeta.h.T3.r.O1', 'COH.E.highbeta.h.T3.s.O2', 'COH.E.highbeta.i.C3.j.Cz', 'COH.E.highbeta.i.C3.k.C4', 'COH.E.highbeta.i.C3.l.T4', 'COH.E.highbeta.i.C3.m.T5', 'COH.E.highbeta.i.C3.n.P3', 'COH.E.highbeta.i.C3.o.Pz', 'COH.E.highbeta.i.C3.p.P4', 'COH.E.highbeta.i.C3.r.O1', 'COH.E.highbeta.j.Cz.k.C4', 'COH.E.highbeta.j.Cz.m.T5', 'COH.E.highbeta.j.Cz.n.P3', 'COH.E.highbeta.j.Cz.o.Pz', 'COH.E.highbeta.j.Cz.p.P4', 'COH.E.highbeta.j.Cz.q.T6', 'COH.E.highbeta.j.Cz.r.O1', 'COH.E.highbeta.j.Cz.s.O2', 'COH.E.highbeta.k.C4.l.T4', 'COH.E.highbeta.k.C4.m.T5', 'COH.E.highbeta.k.C4.n.P3', 'COH.E.highbeta.k.C4.o.Pz', 'COH.E.highbeta.k.C4.p.P4', 'COH.E.highbeta.k.C4.q.T6', 'COH.E.highbeta.k.C4.r.O1', 'COH.E.highbeta.k.C4.s.O2', 'COH.E.highbeta.l.T4.m.T5', 'COH.E.highbeta.l.T4.n.P3', 'COH.E.highbeta.l.T4.p.P4', 'COH.E.highbeta.l.T4.q.T6', 'COH.E.highbeta.l.T4.r.O1', 'COH.E.highbeta.l.T4.s.O2', 'COH.E.highbeta.m.T5.n.P3', 'COH.E.highbeta.m.T5.o.Pz', 'COH.E.highbeta.m.T5.p.P4', 'COH.E.highbeta.m.T5.q.T6', 'COH.E.highbeta.m.T5.r.O1', 'COH.E.highbeta.m.T5.s.O2', 'COH.E.highbeta.n.P3.o.Pz', 'COH.E.highbeta.n.P3.p.P4', 'COH.E.highbeta.n.P3.q.T6', 'COH.E.highbeta.n.P3.r.O1', 'COH.E.highbeta.n.P3.s.O2', 'COH.E.highbeta.o.Pz.p.P4', 'COH.E.highbeta.o.Pz.q.T6', 'COH.E.highbeta.o.Pz.r.O1', 'COH.E.highbeta.o.Pz.s.O2', 'COH.E.highbeta.p.P4.q.T6', 'COH.E.highbeta.p.P4.r.O1', 'COH.E.highbeta.p.P4.s.O2', 'COH.E.highbeta.q.T6.r.O1', 'COH.E.highbeta.q.T6.s.O2', 'COH.E.highbeta.r.O1.s.O2', 'COH.F.gamma.a.FP1.g.F8', 'COH.F.gamma.a.FP1.h.T3', 'COH.F.gamma.a.FP1.i.C3', 'COH.F.gamma.a.FP1.l.T4', 'COH.F.gamma.a.FP1.m.T5', 'COH.F.gamma.a.FP1.n.P3', 'COH.F.gamma.a.FP1.r.O1', 'COH.F.gamma.a.FP1.s.O2', 'COH.F.gamma.b.FP2.c.F7', 'COH.F.gamma.b.FP2.h.T3', 'COH.F.gamma.b.FP2.i.C3', 'COH.F.gamma.b.FP2.m.T5', 'COH.F.gamma.c.F7.e.Fz', 'COH.F.gamma.c.F7.l.T4', 'COH.F.gamma.d.F3.g.F8', 'COH.F.gamma.g.F8.h.T3', 'COH.F.gamma.g.F8.m.T5', 'COH.F.gamma.g.F8.n.P3', 'COH.F.gamma.g.F8.r.O1', 'COH.F.gamma.g.F8.s.O2', 'COH.F.gamma.h.T3.l.T4', 'COH.F.gamma.h.T3.r.O1', 'COH.F.gamma.h.T3.s.O2', 'COH.F.gamma.i.C3.m.T5', 'COH.F.gamma.i.C3.r.O1', 'COH.F.gamma.l.T4.m.T5', 'COH.F.gamma.l.T4.r.O1']\n",
    "\n",
    "\n",
    "for i in range(len(arr)-1):                            # taking into consideration all the variables for clustering\n",
    "    kmeans = KMeans(n_clusters = 2, random_state = 45)\n",
    "    df_n['cluster'] = kmeans.fit_predict(df_n[[arr[i],arr[i+1]]])\n",
    "#Getting the centroids\n",
    "    centroids = kmeans.cluster_centers_\n",
    "    cen_x = [i[0] for i in centroids] \n",
    "    cen_y = [i[1] for i in centroids]\n",
    "    \n",
    "    #Plotting the total numbers of elements in each cluster\n",
    "    count = df_n['cluster'].value_counts()\n",
    "    fig = plt.figure()\n",
    "    ax = fig.add_axes([1,1,1,1])\n",
    "    ax.bar(count.index,count)\n",
    "    plt.xticks(count.index, color='black', fontweight='bold', fontsize='10', horizontalalignment='right')\n",
    "    plt.xlabel('Clusters')\n",
    "    plt.ylabel('Counts')\n",
    "    plt.title('Cluster Counts')\n",
    "    plt.show()\n",
    " #Adding the centroids to the dataframe\n",
    "    df_n['cen_x'] = df_n.cluster.map({0:cen_x[0], 1:cen_x[1]})\n",
    "    df_n['cen_y'] = df_n.cluster.map({0:cen_y[0], 1:cen_y[1]})\n",
    "    #Defining the colur map\n",
    "    colors = ['#DF2020', '#81DF20']\n",
    "    df_n['c'] = df_n.cluster.map({0:colors[0], 1:colors[1]}) \n",
    "    #Plotting the scatter plot\n",
    "    plt.scatter(df_n[arr[i]], df_n[arr[i+1]], c=df_n.c, alpha = 0.6, s=10)\n",
    "    plt.title(\"scatter plot\")\n",
    "    plt.xlabel(arr[i])\n",
    "    plt.ylabel(arr[i+1])"
   ]
  },
  {
   "cell_type": "markdown",
   "id": "37f0a0c0",
   "metadata": {},
   "source": [
    "### Machine learning modelling"
   ]
  },
  {
   "cell_type": "code",
   "execution_count": null,
   "id": "2aaf06cd",
   "metadata": {},
   "outputs": [],
   "source": [
    "# Splitting the data into X_train, X_test, y_train and y_test using SciKit-learn with test size as 20%\n",
    "X_train, X_test, y_train, y_test = train_test_split(X, y, test_size=0.20, random_state=30)"
   ]
  },
  {
   "cell_type": "markdown",
   "id": "8f3ecd7c",
   "metadata": {},
   "source": [
    "### K-Nearest Neighbour classifier"
   ]
  },
  {
   "cell_type": "code",
   "execution_count": null,
   "id": "cd8e192f",
   "metadata": {},
   "outputs": [],
   "source": [
    "# Importing the required libararies for Cross Validation\n",
    "from sklearn.datasets import make_classification\n",
    "from sklearn.model_selection import KFold\n",
    "from sklearn.model_selection import cross_val_score"
   ]
  },
  {
   "cell_type": "code",
   "execution_count": null,
   "id": "f295b480",
   "metadata": {},
   "outputs": [],
   "source": [
    "# With the help of 10-Fold Cross Validation building k-nearest neighbors classifier with shuffled data\n",
    "cv = KFold(n_splits=10, random_state=1, shuffle=True)\n",
    "model = KNeighborsClassifier()\n",
    "\n",
    "# Predicting accuracy for each of the Cross Validation\n",
    "scores1 = cross_val_score(model, X, y, scoring='accuracy', cv=cv, n_jobs=-1)\n",
    "print(\"Accuracy of the model with 10 K-Fold Cross Validation:\")\n",
    "print(scores1)"
   ]
  },
  {
   "cell_type": "markdown",
   "id": "dff28d48",
   "metadata": {},
   "source": [
    "##### CALCULATING THE FIRST PERFORMANCE METRIC i.e. RECALL"
   ]
  },
  {
   "cell_type": "code",
   "execution_count": null,
   "id": "8fd59184",
   "metadata": {},
   "outputs": [],
   "source": [
    "# Calculating first performance metric i.e recall\n",
    "\n",
    "scores1_recall = cross_val_score(model, X, y, scoring='recall_weighted', cv=cv, n_jobs=-1)\n",
    "print(\"Recall for the model with 10 K-Fold Cross Validation:\")\n",
    "print(scores1_recall)"
   ]
  },
  {
   "cell_type": "markdown",
   "id": "df44640b",
   "metadata": {},
   "source": [
    "##### CALCULATING THE SECOND PERFORMANCE METRIC i.e. ACCURACY ALONG WITH CONFUSION MATRIX"
   ]
  },
  {
   "cell_type": "code",
   "execution_count": null,
   "id": "8ce6f005",
   "metadata": {},
   "outputs": [],
   "source": [
    "# Creating an object for the classifier\n",
    "knn = KNeighborsClassifier()\n",
    "\n",
    "# Fitting the model\n",
    "knn.fit(X_train, y_train)\n",
    "prediction_train=knn.predict(X_train)\n",
    "# Predicting the output\n",
    "prediction = knn.predict(X_test)\n",
    "\n",
    "# Calling the required library for outputting the accuracy, confusion matrix and classification report\n",
    "from sklearn.metrics import confusion_matrix, classification_report\n",
    "from sklearn.metrics import accuracy_score\n",
    "\n",
    "# Outputting the first performance metric i.e. Accuracy\n",
    "print(\"First Performance Metric\")\n",
    "print(\"Accuracy of the K-Nearest Neighbors Classifier using train data:\", accuracy_score(y_train, prediction_train), \"\\n\")\n",
    "print(\"Accuracy of the K-Nearest Neighbors Classifier:\", accuracy_score(y_test, prediction), \"\\n\")\n",
    "\n",
    "# Outputting the second performance metric i.e. Confusion Matrix\n",
    "print(\"Second Performance Metric\")\n",
    "print(\"Confusion Matrix:\\n\", confusion_matrix(y_test, prediction), \"\\n\")\n",
    "\n",
    "# Outputting classification report containing Recall and Precision\n",
    "print(\"Classification Report:\\n\", classification_report(y_test, prediction))"
   ]
  },
  {
   "cell_type": "markdown",
   "id": "84d72274",
   "metadata": {},
   "source": [
    "### Random Forest classifier"
   ]
  },
  {
   "cell_type": "code",
   "execution_count": null,
   "id": "c390b6e3",
   "metadata": {},
   "outputs": [],
   "source": [
    "# With the help of 10-Fold Cross Validation building random forest classifier with shuffled data\n",
    "cv = KFold(n_splits=10, random_state=1, shuffle=True)\n",
    "model = RandomForestClassifier()\n",
    "\n",
    "# Predicting accuracy for each of the Cross Validation\n",
    "scores2 = cross_val_score(model, X, y, scoring='accuracy', cv=cv, n_jobs=-1)\n",
    "print(\"Accuracy of the model with 10 K-Fold Cross Validation:\")\n",
    "print(scores2)"
   ]
  },
  {
   "cell_type": "markdown",
   "id": "00771617",
   "metadata": {},
   "source": [
    "##### CALCULATING THE FIRST PERFORMANCE METRIC i.e. RECALL"
   ]
  },
  {
   "cell_type": "code",
   "execution_count": null,
   "id": "99120507",
   "metadata": {},
   "outputs": [],
   "source": [
    "#Calculating first performance metric i.e. Recall\n",
    "\n",
    "scores2_recall = cross_val_score(model, X, y, scoring='recall_weighted', cv=cv, n_jobs=-1)\n",
    "print(\"Recall for the model with 10 K-Fold Cross Validation:\")\n",
    "print(scores2_recall)"
   ]
  },
  {
   "cell_type": "markdown",
   "id": "f1e6c154",
   "metadata": {},
   "source": [
    "##### CALCULATING THE SECOND PERFORMANCE METRIC i.e. ACCURACY ALONG WITH CONFUSION MATRIX"
   ]
  },
  {
   "cell_type": "code",
   "execution_count": null,
   "id": "ac2817b0",
   "metadata": {},
   "outputs": [],
   "source": [
    "# Creating an object for the classifier\n",
    "rand_forest = RandomForestClassifier()\n",
    "\n",
    "# Fitting the model\n",
    "rand_forest.fit(X_train, y_train)\n",
    "prediction_train = rand_forest.predict(X_train)\n",
    "# Predicting the output\n",
    "prediction = rand_forest.predict(X_test)\n",
    "\n",
    "# Outputting the first performance metric i.e. Accuracy\n",
    "print(\"First Performance Metric\")\n",
    "accuracy1 = accuracy_score(y_train, prediction_train)\n",
    "accuracy = accuracy_score(y_test, prediction)\n",
    "print(\"Accuracy of the Random Forest Classifier using train data:\", accuracy1, \"\\n\")\n",
    "print(\"Accuracy of the Random Forest Classifier:\", accuracy, \"\\n\")\n",
    "\n",
    "# Outputting the second performance metric i.e. Confusion Matrix\n",
    "print(\"Second Performance Metric\")\n",
    "print(\"Confusion Matrix:\\n\", confusion_matrix(y_test, prediction), \"\\n\")\n",
    "\n",
    "# Outputting classification report containing Recall and Precision\n",
    "print(\"Classification Report:\\n\", classification_report(y_test, prediction))"
   ]
  },
  {
   "cell_type": "markdown",
   "id": "d2407872",
   "metadata": {},
   "source": [
    "##### IMPROVISATION IN RANDOM FOREST CLASSIFIER IN ORDER TO IMPROVE ACCURACY"
   ]
  },
  {
   "cell_type": "code",
   "execution_count": null,
   "id": "d43b3d1d",
   "metadata": {},
   "outputs": [],
   "source": [
    "from sklearn.model_selection import RandomizedSearchCV\n",
    "# Number of trees in random forest\n",
    "n_estimators = [int(x) for x in np.linspace(start = 50, stop = 500, num = 10)]\n",
    "# Number of features to consider at every split\n",
    "max_features = ['auto', 'sqrt']\n",
    "# Maximum number of levels in tree\n",
    "max_depth = [int(x) for x in np.linspace(10, 110, num = 11)]\n",
    "max_depth.append(None)\n",
    "# Minimum number of samples required to split a node\n",
    "min_samples_split = [2, 5, 10]\n",
    "# Minimum number of samples required at each leaf node\n",
    "min_samples_leaf = [1, 2, 4]\n",
    "# Method of selecting samples for training each tree\n",
    "bootstrap = [True, False]\n",
    "\n",
    "# Create the random grid\n",
    "random_grid = {'n_estimators': n_estimators,\n",
    "               'max_features': max_features,\n",
    "               'max_depth': max_depth,\n",
    "               'min_samples_split': min_samples_split,\n",
    "               'min_samples_leaf': min_samples_leaf,\n",
    "               'bootstrap': bootstrap}\n",
    "print(random_grid)"
   ]
  },
  {
   "cell_type": "code",
   "execution_count": null,
   "id": "920d01cc",
   "metadata": {},
   "outputs": [],
   "source": [
    "# Use the random grid to search for best hyperparameters\n",
    "# First create the base model to tune\n",
    "rf = RandomForestClassifier()\n",
    "# Random search of parameters, using 3-fold cross validation, \n",
    "# search across 100 different combinations, and use all available cores\n",
    "rf_random = RandomizedSearchCV(estimator = rf, param_distributions = random_grid, n_iter = 100, cv = 3, verbose=2, random_state=1, n_jobs = -1)\n",
    "# Fit the random search model\n",
    "rf_random.fit(X_train, y_train)\n",
    "# Get the best parameters\n",
    "rf_random.best_params_"
   ]
  },
  {
   "cell_type": "code",
   "execution_count": null,
   "id": "300c3d13",
   "metadata": {},
   "outputs": [],
   "source": [
    "# Get the Random Forest Classifier with best parameters and store in an object\n",
    "sum = 0 \n",
    "best_random = rf_random.best_estimator_\n",
    "cv = KFold(n_splits=10, random_state=1, shuffle=True)\n",
    "\n",
    "# Predicting accuracy for each of the Cross Validation\n",
    "scores2_new = cross_val_score(best_random, X, y, scoring='accuracy', cv=cv, n_jobs=-1)\n",
    "# Displays the accuracy of the Random Forest Classifier with the best parameters using RandomisedSearchCV\n",
    "# Moreover, using 10-fold model validation along with the above\n",
    "sum = sum + scores2_new\n",
    "print(scores2_new, \"\\n\")\n",
    "print(sum/10)"
   ]
  },
  {
   "cell_type": "markdown",
   "id": "852046cd",
   "metadata": {},
   "source": [
    "### SVM classifier"
   ]
  },
  {
   "cell_type": "code",
   "execution_count": null,
   "id": "ffc85450",
   "metadata": {},
   "outputs": [],
   "source": [
    "from sklearn.svm import SVC\n",
    "from sklearn import metrics\n",
    "#train SVM model\n",
    "from sklearn import svm\n",
    "# With the help of 10-Fold Cross Validation building random forest classifier with shuffled data\n",
    "cv = KFold(n_splits=10, random_state=1, shuffle=True)\n",
    "model = svm.SVC(kernel = 'linear')\n",
    "\n",
    "# Predicting accuracy for each of the Cross Validation\n",
    "scores2 = cross_val_score(model, X, y, scoring='accuracy', cv=cv, n_jobs=-1)\n",
    "print(\"Accuracy of the model with 10 K-Fold Cross Validation:\")\n",
    "print(scores2)"
   ]
  },
  {
   "cell_type": "code",
   "execution_count": null,
   "id": "ea59e47c",
   "metadata": {},
   "outputs": [],
   "source": [
    "# CALCULATING THE FIRST PERFORMANCE METRIC i.e. RECALL\n",
    "scores2_recall = cross_val_score(model, X, y, scoring='recall_weighted', cv=cv, n_jobs=-1)\n",
    "print(\"Recall for the model with 10 K-Fold Cross Validation:\")\n",
    "print(scores2_recall)"
   ]
  },
  {
   "cell_type": "code",
   "execution_count": null,
   "id": "0fcfa3f2",
   "metadata": {},
   "outputs": [],
   "source": [
    "# Calculating accuracy\n",
    "\n",
    "from sklearn.svm import SVC\n",
    "from sklearn import metrics\n",
    "#train SVM model\n",
    "from sklearn import svm\n",
    "clf = svm.SVC(kernel = 'linear')\n",
    "clf.fit(X_train, y_train)\n",
    "#store predictions and ground truth\n",
    "y_pred = clf.predict(X_train)\n",
    "y_true = y_train\n",
    "\n",
    "#assess the performance of the SVM with linear kernel on Training data\n",
    "print('linear kernel Accuracy with train : ', metrics.accuracy_score(y_true, y_pred))\n",
    "\n",
    "#Now, use the SVM model to predict Test data\n",
    "y_pred = clf.predict(X_test)\n",
    "y_true = y_test\n",
    "\n",
    "#assess the performance of the SVM with linear kernel on Testing data\n",
    "print('linear kernel Accuracy with test : ', metrics.accuracy_score(y_true, y_pred))"
   ]
  },
  {
   "cell_type": "code",
   "execution_count": null,
   "id": "e0d8c076",
   "metadata": {},
   "outputs": [],
   "source": [
    "from sklearn.svm import SVC\n",
    "from sklearn import metrics\n",
    "#train SVM model\n",
    "from sklearn import svm\n",
    "# With the help of 10-Fold Cross Validation building random forest classifier with shuffled data\n",
    "cv = KFold(n_splits=10, random_state=1, shuffle=True)\n",
    "model = svm.SVC(kernel = 'rbf')\n",
    "\n",
    "# Predicting accuracy for each of the Cross Validation\n",
    "scores2 = cross_val_score(model, X, y, scoring='accuracy', cv=cv, n_jobs=-1)\n",
    "print(\"Accuracy of the model with 10 K-Fold Cross Validation:\")\n",
    "print(scores2)"
   ]
  },
  {
   "cell_type": "code",
   "execution_count": null,
   "id": "026ddb8a",
   "metadata": {},
   "outputs": [],
   "source": [
    "# CALCULATING THE FIRST PERFORMANCE METRIC i.e. RECALL\n",
    "scores2_recall = cross_val_score(model, X, y, scoring='recall_weighted', cv=cv, n_jobs=-1)\n",
    "print(\"Recall for the model with 10 K-Fold Cross Validation:\")\n",
    "print(scores2_recall)"
   ]
  },
  {
   "cell_type": "code",
   "execution_count": null,
   "id": "a54ced4c",
   "metadata": {},
   "outputs": [],
   "source": [
    "#Train a SVM using RBF kernel\n",
    "clf = svm.SVC(kernel = 'rbf')\n",
    "clf.fit(X_train, y_train)\n",
    "\n",
    "#store predictions and ground truth\n",
    "y_pred = clf.predict(X_train)\n",
    "y_true = y_train\n",
    "\n",
    "#assess the performance of the SVM with linear kernel on Training data\n",
    "print('RBF Accuracy with train data : ', metrics.accuracy_score(y_true, y_pred))\n",
    "\n",
    "#Now, use the SVM model to predict Test data\n",
    "y_pred = clf.predict(X_test)\n",
    "y_true = y_test\n",
    "\n",
    "#assess the performance of the SVM with linear kernel on Testing data\n",
    "print('RBF Accuracy with test : ', metrics.accuracy_score(y_true, y_pred))"
   ]
  },
  {
   "cell_type": "code",
   "execution_count": null,
   "id": "5ecd71c1",
   "metadata": {},
   "outputs": [],
   "source": []
  }
 ],
 "metadata": {
  "kernelspec": {
   "display_name": "Python 3 (ipykernel)",
   "language": "python",
   "name": "python3"
  },
  "language_info": {
   "codemirror_mode": {
    "name": "ipython",
    "version": 3
   },
   "file_extension": ".py",
   "mimetype": "text/x-python",
   "name": "python",
   "nbconvert_exporter": "python",
   "pygments_lexer": "ipython3",
   "version": "3.9.13"
  }
 },
 "nbformat": 4,
 "nbformat_minor": 5
}
